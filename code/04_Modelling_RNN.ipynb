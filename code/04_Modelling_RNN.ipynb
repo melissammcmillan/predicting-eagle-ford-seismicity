{
 "cells": [
  {
   "cell_type": "markdown",
   "metadata": {},
   "source": [
    "### Notebook 4 of Capstone Project: Modelling Using Recurrent Neural Networks!"
   ]
  },
  {
   "cell_type": "markdown",
   "metadata": {},
   "source": [
    "Summary of this notebook: \n",
    "\n",
    "Like the SARIMA modelling, I divided the Reccurrent Neural Network modelling up into 3 parts, one for each catalog. I did quite a bit of experimenting with model architecture and different features for each catalog, but here is just the high-level summary to give you an idea of which models showed promise for each catalog. For more detailed modelling, please see the equivalent notebook in the 'old_code' folder. I have many more RNN models in that notebook if you'd like to see more of my thought process. In summary though, I found the best models to have GRU layers and dropout in them, and the catalog/dataset that performed the best was the Mega dataset. My hypothesis for why the Mega dataset performed the best is because that dataset contained the biggest time range, therefore there were more data to train on. It actually performed pretty well using most of the activity level and completion parameter features. If you'd like to skip to those models, they can be found at the very end of this notebook. Enjoy!"
   ]
  },
  {
   "cell_type": "markdown",
   "metadata": {},
   "source": [
    "Import the needed libraries here:"
   ]
  },
  {
   "cell_type": "code",
   "execution_count": 1,
   "metadata": {},
   "outputs": [],
   "source": [
    "#the standard usual\n",
    "import pandas as pd\n",
    "import numpy as np\n",
    "import matplotlib.pyplot as plt\n",
    "import seaborn as sns\n",
    "\n",
    "#sklearn imports\n",
    "from sklearn.model_selection import train_test_split\n",
    "from sklearn.preprocessing import StandardScaler\n",
    "from sklearn.metrics import mean_squared_error\n",
    "\n",
    "#keras imports\n",
    "from keras.preprocessing.sequence import TimeseriesGenerator\n",
    "from keras.models import Sequential\n",
    "from keras.layers import SimpleRNN, LSTM, GRU, Dense\n",
    "from keras.layers import Bidirectional\n",
    "from keras.layers import Conv1D, MaxPooling1D, GlobalMaxPooling1D"
   ]
  },
  {
   "cell_type": "markdown",
   "metadata": {},
   "source": [
    "#### Part 1: Modelling the TexNet/USGS catalog to start with."
   ]
  },
  {
   "cell_type": "code",
   "execution_count": 2,
   "metadata": {},
   "outputs": [
    {
     "data": {
      "text/html": [
       "<div>\n",
       "<style scoped>\n",
       "    .dataframe tbody tr th:only-of-type {\n",
       "        vertical-align: middle;\n",
       "    }\n",
       "\n",
       "    .dataframe tbody tr th {\n",
       "        vertical-align: top;\n",
       "    }\n",
       "\n",
       "    .dataframe thead th {\n",
       "        text-align: right;\n",
       "    }\n",
       "</style>\n",
       "<table border=\"1\" class=\"dataframe\">\n",
       "  <thead>\n",
       "    <tr style=\"text-align: right;\">\n",
       "      <th></th>\n",
       "      <th>Daily_Avg</th>\n",
       "      <th>Daily_Sum</th>\n",
       "      <th>Daily_Count</th>\n",
       "      <th>Dly_Cnt_Diff</th>\n",
       "      <th>Rig_Count</th>\n",
       "      <th>WTI_Spot_Price</th>\n",
       "      <th>Brent_Spot_Price</th>\n",
       "      <th>fracs_per_day</th>\n",
       "      <th>volume_per_day</th>\n",
       "      <th>avg_volh2o_per_ft</th>\n",
       "    </tr>\n",
       "  </thead>\n",
       "  <tbody>\n",
       "    <tr>\n",
       "      <th>2016-01-01</th>\n",
       "      <td>0.0</td>\n",
       "      <td>0.0</td>\n",
       "      <td>0</td>\n",
       "      <td>NaN</td>\n",
       "      <td>33.0</td>\n",
       "      <td>37.13</td>\n",
       "      <td>36.61</td>\n",
       "      <td>9.0</td>\n",
       "      <td>5.080098e+06</td>\n",
       "      <td>1088.829502</td>\n",
       "    </tr>\n",
       "    <tr>\n",
       "      <th>2016-01-02</th>\n",
       "      <td>0.0</td>\n",
       "      <td>0.0</td>\n",
       "      <td>0</td>\n",
       "      <td>0.0</td>\n",
       "      <td>33.0</td>\n",
       "      <td>37.13</td>\n",
       "      <td>36.61</td>\n",
       "      <td>11.0</td>\n",
       "      <td>5.892634e+06</td>\n",
       "      <td>1044.749861</td>\n",
       "    </tr>\n",
       "    <tr>\n",
       "      <th>2016-01-03</th>\n",
       "      <td>0.0</td>\n",
       "      <td>0.0</td>\n",
       "      <td>0</td>\n",
       "      <td>0.0</td>\n",
       "      <td>33.0</td>\n",
       "      <td>37.13</td>\n",
       "      <td>36.61</td>\n",
       "      <td>9.0</td>\n",
       "      <td>4.539134e+06</td>\n",
       "      <td>1125.551135</td>\n",
       "    </tr>\n",
       "    <tr>\n",
       "      <th>2016-01-04</th>\n",
       "      <td>0.0</td>\n",
       "      <td>0.0</td>\n",
       "      <td>0</td>\n",
       "      <td>0.0</td>\n",
       "      <td>33.0</td>\n",
       "      <td>36.81</td>\n",
       "      <td>36.28</td>\n",
       "      <td>26.0</td>\n",
       "      <td>1.135010e+07</td>\n",
       "      <td>848.112281</td>\n",
       "    </tr>\n",
       "    <tr>\n",
       "      <th>2016-01-05</th>\n",
       "      <td>0.0</td>\n",
       "      <td>0.0</td>\n",
       "      <td>0</td>\n",
       "      <td>0.0</td>\n",
       "      <td>33.0</td>\n",
       "      <td>35.97</td>\n",
       "      <td>35.56</td>\n",
       "      <td>26.0</td>\n",
       "      <td>1.135010e+07</td>\n",
       "      <td>848.112281</td>\n",
       "    </tr>\n",
       "  </tbody>\n",
       "</table>\n",
       "</div>"
      ],
      "text/plain": [
       "            Daily_Avg  Daily_Sum  Daily_Count  Dly_Cnt_Diff  Rig_Count  \\\n",
       "2016-01-01        0.0        0.0            0           NaN       33.0   \n",
       "2016-01-02        0.0        0.0            0           0.0       33.0   \n",
       "2016-01-03        0.0        0.0            0           0.0       33.0   \n",
       "2016-01-04        0.0        0.0            0           0.0       33.0   \n",
       "2016-01-05        0.0        0.0            0           0.0       33.0   \n",
       "\n",
       "            WTI_Spot_Price  Brent_Spot_Price  fracs_per_day  volume_per_day  \\\n",
       "2016-01-01           37.13             36.61            9.0    5.080098e+06   \n",
       "2016-01-02           37.13             36.61           11.0    5.892634e+06   \n",
       "2016-01-03           37.13             36.61            9.0    4.539134e+06   \n",
       "2016-01-04           36.81             36.28           26.0    1.135010e+07   \n",
       "2016-01-05           35.97             35.56           26.0    1.135010e+07   \n",
       "\n",
       "            avg_volh2o_per_ft  \n",
       "2016-01-01        1088.829502  \n",
       "2016-01-02        1044.749861  \n",
       "2016-01-03        1125.551135  \n",
       "2016-01-04         848.112281  \n",
       "2016-01-05         848.112281  "
      ]
     },
     "execution_count": 2,
     "metadata": {},
     "output_type": "execute_result"
    }
   ],
   "source": [
    "data = pd.read_csv('../oil_and_gas_data/data_for_modelling/data_ready_for_modelling.csv', index_col=0)\n",
    "data.head()"
   ]
  },
  {
   "cell_type": "code",
   "execution_count": 3,
   "metadata": {},
   "outputs": [
    {
     "name": "stdout",
     "output_type": "stream",
     "text": [
      "<class 'pandas.core.frame.DataFrame'>\n",
      "DatetimeIndex: 1859 entries, 2016-01-01 to 2021-02-01\n",
      "Data columns (total 10 columns):\n",
      " #   Column             Non-Null Count  Dtype  \n",
      "---  ------             --------------  -----  \n",
      " 0   Daily_Avg          1859 non-null   float64\n",
      " 1   Daily_Sum          1859 non-null   float64\n",
      " 2   Daily_Count        1859 non-null   int64  \n",
      " 3   Dly_Cnt_Diff       1858 non-null   float64\n",
      " 4   Rig_Count          1760 non-null   float64\n",
      " 5   WTI_Spot_Price     1859 non-null   float64\n",
      " 6   Brent_Spot_Price   1859 non-null   float64\n",
      " 7   fracs_per_day      1801 non-null   float64\n",
      " 8   volume_per_day     1801 non-null   float64\n",
      " 9   avg_volh2o_per_ft  1695 non-null   float64\n",
      "dtypes: float64(9), int64(1)\n",
      "memory usage: 159.8 KB\n"
     ]
    }
   ],
   "source": [
    "data.index = pd.to_datetime(data.index)\n",
    "data.info()"
   ]
  },
  {
   "cell_type": "code",
   "execution_count": 4,
   "metadata": {},
   "outputs": [
    {
     "data": {
      "text/html": [
       "<div>\n",
       "<style scoped>\n",
       "    .dataframe tbody tr th:only-of-type {\n",
       "        vertical-align: middle;\n",
       "    }\n",
       "\n",
       "    .dataframe tbody tr th {\n",
       "        vertical-align: top;\n",
       "    }\n",
       "\n",
       "    .dataframe thead th {\n",
       "        text-align: right;\n",
       "    }\n",
       "</style>\n",
       "<table border=\"1\" class=\"dataframe\">\n",
       "  <thead>\n",
       "    <tr style=\"text-align: right;\">\n",
       "      <th></th>\n",
       "      <th>Daily_Avg</th>\n",
       "      <th>Daily_Sum</th>\n",
       "      <th>Daily_Count</th>\n",
       "      <th>Dly_Cnt_Diff</th>\n",
       "      <th>Rig_Count</th>\n",
       "      <th>WTI_Spot_Price</th>\n",
       "      <th>Brent_Spot_Price</th>\n",
       "      <th>fracs_per_day</th>\n",
       "      <th>volume_per_day</th>\n",
       "      <th>avg_volh2o_per_ft</th>\n",
       "    </tr>\n",
       "  </thead>\n",
       "  <tbody>\n",
       "    <tr>\n",
       "      <th>2016-01-02</th>\n",
       "      <td>0.0</td>\n",
       "      <td>0.0</td>\n",
       "      <td>0</td>\n",
       "      <td>0.0</td>\n",
       "      <td>33.0</td>\n",
       "      <td>37.13</td>\n",
       "      <td>36.61</td>\n",
       "      <td>11.0</td>\n",
       "      <td>5.892634e+06</td>\n",
       "      <td>1044.749861</td>\n",
       "    </tr>\n",
       "    <tr>\n",
       "      <th>2016-01-03</th>\n",
       "      <td>0.0</td>\n",
       "      <td>0.0</td>\n",
       "      <td>0</td>\n",
       "      <td>0.0</td>\n",
       "      <td>33.0</td>\n",
       "      <td>37.13</td>\n",
       "      <td>36.61</td>\n",
       "      <td>9.0</td>\n",
       "      <td>4.539134e+06</td>\n",
       "      <td>1125.551135</td>\n",
       "    </tr>\n",
       "    <tr>\n",
       "      <th>2016-01-04</th>\n",
       "      <td>0.0</td>\n",
       "      <td>0.0</td>\n",
       "      <td>0</td>\n",
       "      <td>0.0</td>\n",
       "      <td>33.0</td>\n",
       "      <td>36.81</td>\n",
       "      <td>36.28</td>\n",
       "      <td>26.0</td>\n",
       "      <td>1.135010e+07</td>\n",
       "      <td>848.112281</td>\n",
       "    </tr>\n",
       "    <tr>\n",
       "      <th>2016-01-05</th>\n",
       "      <td>0.0</td>\n",
       "      <td>0.0</td>\n",
       "      <td>0</td>\n",
       "      <td>0.0</td>\n",
       "      <td>33.0</td>\n",
       "      <td>35.97</td>\n",
       "      <td>35.56</td>\n",
       "      <td>26.0</td>\n",
       "      <td>1.135010e+07</td>\n",
       "      <td>848.112281</td>\n",
       "    </tr>\n",
       "    <tr>\n",
       "      <th>2016-01-06</th>\n",
       "      <td>0.0</td>\n",
       "      <td>0.0</td>\n",
       "      <td>0</td>\n",
       "      <td>0.0</td>\n",
       "      <td>33.0</td>\n",
       "      <td>33.97</td>\n",
       "      <td>33.89</td>\n",
       "      <td>26.0</td>\n",
       "      <td>1.195583e+07</td>\n",
       "      <td>813.047953</td>\n",
       "    </tr>\n",
       "  </tbody>\n",
       "</table>\n",
       "</div>"
      ],
      "text/plain": [
       "            Daily_Avg  Daily_Sum  Daily_Count  Dly_Cnt_Diff  Rig_Count  \\\n",
       "2016-01-02        0.0        0.0            0           0.0       33.0   \n",
       "2016-01-03        0.0        0.0            0           0.0       33.0   \n",
       "2016-01-04        0.0        0.0            0           0.0       33.0   \n",
       "2016-01-05        0.0        0.0            0           0.0       33.0   \n",
       "2016-01-06        0.0        0.0            0           0.0       33.0   \n",
       "\n",
       "            WTI_Spot_Price  Brent_Spot_Price  fracs_per_day  volume_per_day  \\\n",
       "2016-01-02           37.13             36.61           11.0    5.892634e+06   \n",
       "2016-01-03           37.13             36.61            9.0    4.539134e+06   \n",
       "2016-01-04           36.81             36.28           26.0    1.135010e+07   \n",
       "2016-01-05           35.97             35.56           26.0    1.135010e+07   \n",
       "2016-01-06           33.97             33.89           26.0    1.195583e+07   \n",
       "\n",
       "            avg_volh2o_per_ft  \n",
       "2016-01-02        1044.749861  \n",
       "2016-01-03        1125.551135  \n",
       "2016-01-04         848.112281  \n",
       "2016-01-05         848.112281  \n",
       "2016-01-06         813.047953  "
      ]
     },
     "execution_count": 4,
     "metadata": {},
     "output_type": "execute_result"
    }
   ],
   "source": [
    "#drop the Nan's from the data\n",
    "data_model = data.dropna()\n",
    "data_model.head()"
   ]
  },
  {
   "cell_type": "markdown",
   "metadata": {},
   "source": [
    "I will set up a regression model here, trying Daily_Count_Difference as the target and using fracs_per_day as my first feature to test."
   ]
  },
  {
   "cell_type": "code",
   "execution_count": 5,
   "metadata": {},
   "outputs": [],
   "source": [
    "#I'll redefine X and y here\n",
    "#x is the same\n",
    "X = data_model[['fracs_per_day']]\n",
    "#y will just be the Dly_Cnt_Diff column\n",
    "y = data_model['Dly_Cnt_Diff']"
   ]
  },
  {
   "cell_type": "code",
   "execution_count": 6,
   "metadata": {},
   "outputs": [],
   "source": [
    "#splitting into train and test sets; remember to use shuffle=False\n",
    "X_train, X_test, y_train, y_test = train_test_split(X, y, shuffle=False)"
   ]
  },
  {
   "cell_type": "code",
   "execution_count": 7,
   "metadata": {},
   "outputs": [],
   "source": [
    "#now need to scale the data\n",
    "sscaler = StandardScaler()"
   ]
  },
  {
   "cell_type": "code",
   "execution_count": 8,
   "metadata": {},
   "outputs": [],
   "source": [
    "X_train_sc = sscaler.fit_transform(X_train)\n",
    "X_test_sc = sscaler.transform(X_test)"
   ]
  },
  {
   "cell_type": "code",
   "execution_count": 9,
   "metadata": {},
   "outputs": [],
   "source": [
    "train_sequences = TimeseriesGenerator(X_train_sc, y_train, length=7, batch_size=64)\n",
    "test_sequences = TimeseriesGenerator(X_test_sc, y_test, length=7, batch_size=64)"
   ]
  },
  {
   "cell_type": "code",
   "execution_count": 10,
   "metadata": {},
   "outputs": [],
   "source": [
    "batch_x, batch_y = train_sequences[0]"
   ]
  },
  {
   "cell_type": "code",
   "execution_count": 11,
   "metadata": {},
   "outputs": [
    {
     "data": {
      "text/plain": [
       "(64, 7, 1)"
      ]
     },
     "execution_count": 11,
     "metadata": {},
     "output_type": "execute_result"
    }
   ],
   "source": [
    "batch_x.shape"
   ]
  },
  {
   "cell_type": "code",
   "execution_count": 12,
   "metadata": {},
   "outputs": [],
   "source": [
    "#I'm going to use a simple RNN to start\n",
    "model2 = Sequential()\n",
    "model2.add(SimpleRNN(8, input_shape = (7,1)))\n",
    "model2.add(Dense(20, activation = 'relu'))\n",
    "model2.add(Dense(1))"
   ]
  },
  {
   "cell_type": "code",
   "execution_count": 13,
   "metadata": {},
   "outputs": [],
   "source": [
    "model2.compile(loss='mae', optimizer = 'adam', metrics=['acc', 'mse'])"
   ]
  },
  {
   "cell_type": "code",
   "execution_count": 14,
   "metadata": {},
   "outputs": [],
   "source": [
    "history2 = model2.fit(train_sequences, validation_data=test_sequences, epochs=30, verbose=0)"
   ]
  },
  {
   "cell_type": "code",
   "execution_count": 15,
   "metadata": {},
   "outputs": [
    {
     "data": {
      "text/plain": [
       "[<matplotlib.lines.Line2D at 0x7f8630586190>]"
      ]
     },
     "execution_count": 15,
     "metadata": {},
     "output_type": "execute_result"
    },
    {
     "data": {
      "image/png": "[encoded data removed]",
      "text/plain": [
       "<Figure size 432x288 with 1 Axes>"
      ]
     },
     "metadata": {
      "needs_background": "light"
     },
     "output_type": "display_data"
    }
   ],
   "source": [
    "#let's look at our accuracy\n",
    "plt.plot(history2.history['acc'], label='accuracy')\n",
    "plt.plot(history2.history['val_acc'], label = 'val_accuracy')"
   ]
  },
  {
   "cell_type": "code",
   "execution_count": 16,
   "metadata": {},
   "outputs": [
    {
     "data": {
      "image/png": "[encoded data removed]",
      "text/plain": [
       "<Figure size 432x288 with 1 Axes>"
      ]
     },
     "metadata": {
      "needs_background": "light"
     },
     "output_type": "display_data"
    }
   ],
   "source": [
    "#let's look at our loss/mse\n",
    "plt.plot(history2.history['mse'], label='mse')\n",
    "plt.plot(history2.history['val_mse'], label='val_mse')\n",
    "plt.legend();"
   ]
  },
  {
   "cell_type": "markdown",
   "metadata": {},
   "source": [
    "This is doing about as good as our simple mean rmse that we ran prior to doing the ARIMA model. Recall that our rmse using the simple mean was 0.4. "
   ]
  },
  {
   "cell_type": "markdown",
   "metadata": {},
   "source": [
    "For this catalog, I tested single and multiple GRU layers, dropout, Bidirectional, LSTM, using all of the features together, etc and never really did better than the null model. And they all used the same target, Daily_Count_Diff. So, my next step with that catalog was to cut the time range down a little more, and then change to the Daily_Sum target. That's what I did next here."
   ]
  },
  {
   "cell_type": "code",
   "execution_count": 17,
   "metadata": {},
   "outputs": [],
   "source": [
    "data_small = data_model.loc['10-1-2017':'3-31-2020',]"
   ]
  },
  {
   "cell_type": "code",
   "execution_count": 18,
   "metadata": {},
   "outputs": [
    {
     "data": {
      "text/html": [
       "<div>\n",
       "<style scoped>\n",
       "    .dataframe tbody tr th:only-of-type {\n",
       "        vertical-align: middle;\n",
       "    }\n",
       "\n",
       "    .dataframe tbody tr th {\n",
       "        vertical-align: top;\n",
       "    }\n",
       "\n",
       "    .dataframe thead th {\n",
       "        text-align: right;\n",
       "    }\n",
       "</style>\n",
       "<table border=\"1\" class=\"dataframe\">\n",
       "  <thead>\n",
       "    <tr style=\"text-align: right;\">\n",
       "      <th></th>\n",
       "      <th>Daily_Avg</th>\n",
       "      <th>Daily_Sum</th>\n",
       "      <th>Daily_Count</th>\n",
       "      <th>Dly_Cnt_Diff</th>\n",
       "      <th>Rig_Count</th>\n",
       "      <th>WTI_Spot_Price</th>\n",
       "      <th>Brent_Spot_Price</th>\n",
       "      <th>fracs_per_day</th>\n",
       "      <th>volume_per_day</th>\n",
       "      <th>avg_volh2o_per_ft</th>\n",
       "    </tr>\n",
       "  </thead>\n",
       "  <tbody>\n",
       "    <tr>\n",
       "      <th>2017-10-01</th>\n",
       "      <td>0.0</td>\n",
       "      <td>0.0</td>\n",
       "      <td>0</td>\n",
       "      <td>0.0</td>\n",
       "      <td>27.0</td>\n",
       "      <td>51.67</td>\n",
       "      <td>57.02</td>\n",
       "      <td>47.0</td>\n",
       "      <td>2.651121e+07</td>\n",
       "      <td>2057.055001</td>\n",
       "    </tr>\n",
       "    <tr>\n",
       "      <th>2017-10-02</th>\n",
       "      <td>0.0</td>\n",
       "      <td>0.0</td>\n",
       "      <td>0</td>\n",
       "      <td>0.0</td>\n",
       "      <td>27.0</td>\n",
       "      <td>50.59</td>\n",
       "      <td>55.67</td>\n",
       "      <td>46.0</td>\n",
       "      <td>2.490001e+07</td>\n",
       "      <td>2055.337718</td>\n",
       "    </tr>\n",
       "    <tr>\n",
       "      <th>2017-10-03</th>\n",
       "      <td>0.0</td>\n",
       "      <td>0.0</td>\n",
       "      <td>0</td>\n",
       "      <td>0.0</td>\n",
       "      <td>27.0</td>\n",
       "      <td>50.44</td>\n",
       "      <td>56.12</td>\n",
       "      <td>46.0</td>\n",
       "      <td>2.490001e+07</td>\n",
       "      <td>2055.337718</td>\n",
       "    </tr>\n",
       "    <tr>\n",
       "      <th>2017-10-04</th>\n",
       "      <td>0.0</td>\n",
       "      <td>0.0</td>\n",
       "      <td>0</td>\n",
       "      <td>0.0</td>\n",
       "      <td>27.0</td>\n",
       "      <td>50.00</td>\n",
       "      <td>56.00</td>\n",
       "      <td>23.0</td>\n",
       "      <td>1.212874e+07</td>\n",
       "      <td>1868.106876</td>\n",
       "    </tr>\n",
       "    <tr>\n",
       "      <th>2017-10-05</th>\n",
       "      <td>0.0</td>\n",
       "      <td>0.0</td>\n",
       "      <td>0</td>\n",
       "      <td>0.0</td>\n",
       "      <td>27.0</td>\n",
       "      <td>50.79</td>\n",
       "      <td>57.09</td>\n",
       "      <td>19.0</td>\n",
       "      <td>1.072558e+07</td>\n",
       "      <td>1911.134559</td>\n",
       "    </tr>\n",
       "    <tr>\n",
       "      <th>...</th>\n",
       "      <td>...</td>\n",
       "      <td>...</td>\n",
       "      <td>...</td>\n",
       "      <td>...</td>\n",
       "      <td>...</td>\n",
       "      <td>...</td>\n",
       "      <td>...</td>\n",
       "      <td>...</td>\n",
       "      <td>...</td>\n",
       "      <td>...</td>\n",
       "    </tr>\n",
       "    <tr>\n",
       "      <th>2020-03-27</th>\n",
       "      <td>0.0</td>\n",
       "      <td>0.0</td>\n",
       "      <td>0</td>\n",
       "      <td>-1.0</td>\n",
       "      <td>33.0</td>\n",
       "      <td>15.48</td>\n",
       "      <td>22.39</td>\n",
       "      <td>33.0</td>\n",
       "      <td>1.874334e+07</td>\n",
       "      <td>2329.799570</td>\n",
       "    </tr>\n",
       "    <tr>\n",
       "      <th>2020-03-28</th>\n",
       "      <td>0.0</td>\n",
       "      <td>0.0</td>\n",
       "      <td>0</td>\n",
       "      <td>0.0</td>\n",
       "      <td>30.0</td>\n",
       "      <td>15.48</td>\n",
       "      <td>22.39</td>\n",
       "      <td>33.0</td>\n",
       "      <td>1.874334e+07</td>\n",
       "      <td>2329.799570</td>\n",
       "    </tr>\n",
       "    <tr>\n",
       "      <th>2020-03-29</th>\n",
       "      <td>0.0</td>\n",
       "      <td>0.0</td>\n",
       "      <td>0</td>\n",
       "      <td>0.0</td>\n",
       "      <td>30.0</td>\n",
       "      <td>15.48</td>\n",
       "      <td>22.39</td>\n",
       "      <td>33.0</td>\n",
       "      <td>1.874334e+07</td>\n",
       "      <td>2329.799570</td>\n",
       "    </tr>\n",
       "    <tr>\n",
       "      <th>2020-03-30</th>\n",
       "      <td>0.0</td>\n",
       "      <td>0.0</td>\n",
       "      <td>0</td>\n",
       "      <td>0.0</td>\n",
       "      <td>30.0</td>\n",
       "      <td>14.10</td>\n",
       "      <td>19.19</td>\n",
       "      <td>33.0</td>\n",
       "      <td>1.874334e+07</td>\n",
       "      <td>2329.799570</td>\n",
       "    </tr>\n",
       "    <tr>\n",
       "      <th>2020-03-31</th>\n",
       "      <td>0.0</td>\n",
       "      <td>0.0</td>\n",
       "      <td>0</td>\n",
       "      <td>0.0</td>\n",
       "      <td>30.0</td>\n",
       "      <td>20.51</td>\n",
       "      <td>14.85</td>\n",
       "      <td>32.0</td>\n",
       "      <td>1.814802e+07</td>\n",
       "      <td>2335.660695</td>\n",
       "    </tr>\n",
       "  </tbody>\n",
       "</table>\n",
       "<p>871 rows × 10 columns</p>\n",
       "</div>"
      ],
      "text/plain": [
       "            Daily_Avg  Daily_Sum  Daily_Count  Dly_Cnt_Diff  Rig_Count  \\\n",
       "2017-10-01        0.0        0.0            0           0.0       27.0   \n",
       "2017-10-02        0.0        0.0            0           0.0       27.0   \n",
       "2017-10-03        0.0        0.0            0           0.0       27.0   \n",
       "2017-10-04        0.0        0.0            0           0.0       27.0   \n",
       "2017-10-05        0.0        0.0            0           0.0       27.0   \n",
       "...               ...        ...          ...           ...        ...   \n",
       "2020-03-27        0.0        0.0            0          -1.0       33.0   \n",
       "2020-03-28        0.0        0.0            0           0.0       30.0   \n",
       "2020-03-29        0.0        0.0            0           0.0       30.0   \n",
       "2020-03-30        0.0        0.0            0           0.0       30.0   \n",
       "2020-03-31        0.0        0.0            0           0.0       30.0   \n",
       "\n",
       "            WTI_Spot_Price  Brent_Spot_Price  fracs_per_day  volume_per_day  \\\n",
       "2017-10-01           51.67             57.02           47.0    2.651121e+07   \n",
       "2017-10-02           50.59             55.67           46.0    2.490001e+07   \n",
       "2017-10-03           50.44             56.12           46.0    2.490001e+07   \n",
       "2017-10-04           50.00             56.00           23.0    1.212874e+07   \n",
       "2017-10-05           50.79             57.09           19.0    1.072558e+07   \n",
       "...                    ...               ...            ...             ...   \n",
       "2020-03-27           15.48             22.39           33.0    1.874334e+07   \n",
       "2020-03-28           15.48             22.39           33.0    1.874334e+07   \n",
       "2020-03-29           15.48             22.39           33.0    1.874334e+07   \n",
       "2020-03-30           14.10             19.19           33.0    1.874334e+07   \n",
       "2020-03-31           20.51             14.85           32.0    1.814802e+07   \n",
       "\n",
       "            avg_volh2o_per_ft  \n",
       "2017-10-01        2057.055001  \n",
       "2017-10-02        2055.337718  \n",
       "2017-10-03        2055.337718  \n",
       "2017-10-04        1868.106876  \n",
       "2017-10-05        1911.134559  \n",
       "...                       ...  \n",
       "2020-03-27        2329.799570  \n",
       "2020-03-28        2329.799570  \n",
       "2020-03-29        2329.799570  \n",
       "2020-03-30        2329.799570  \n",
       "2020-03-31        2335.660695  \n",
       "\n",
       "[871 rows x 10 columns]"
      ]
     },
     "execution_count": 18,
     "metadata": {},
     "output_type": "execute_result"
    }
   ],
   "source": [
    "data_small"
   ]
  },
  {
   "cell_type": "code",
   "execution_count": 19,
   "metadata": {},
   "outputs": [],
   "source": [
    "X = data_small[['Rig_Count', 'WTI_Spot_Price', 'volume_per_day', 'avg_volh2o_per_ft']]\n",
    "#y will be the daily_sum column\n",
    "y = data_small['Daily_Sum']"
   ]
  },
  {
   "cell_type": "code",
   "execution_count": 20,
   "metadata": {},
   "outputs": [],
   "source": [
    "#split into train and test data\n",
    "X_train, X_test, y_train, y_test = train_test_split(X, y, shuffle=False)"
   ]
  },
  {
   "cell_type": "code",
   "execution_count": 21,
   "metadata": {},
   "outputs": [],
   "source": [
    "sscaler = StandardScaler()\n",
    "X_train_sc = sscaler.fit_transform(X_train)\n",
    "X_test_sc = sscaler.transform(X_test)"
   ]
  },
  {
   "cell_type": "code",
   "execution_count": 22,
   "metadata": {},
   "outputs": [],
   "source": [
    "#break up the data into 3-day stacks\n",
    "train_sequences = TimeseriesGenerator(X_train_sc, y_train, length=3, batch_size=64)"
   ]
  },
  {
   "cell_type": "code",
   "execution_count": 23,
   "metadata": {},
   "outputs": [
    {
     "data": {
      "text/plain": [
       "(64, 3, 4)"
      ]
     },
     "execution_count": 23,
     "metadata": {},
     "output_type": "execute_result"
    }
   ],
   "source": [
    "batch_x, batch_y = train_sequences[0]\n",
    "batch_x.shape"
   ]
  },
  {
   "cell_type": "code",
   "execution_count": 24,
   "metadata": {},
   "outputs": [],
   "source": [
    "test_sequences = TimeseriesGenerator(X_test_sc, y_test, length=3, batch_size=64)"
   ]
  },
  {
   "cell_type": "code",
   "execution_count": 25,
   "metadata": {},
   "outputs": [],
   "source": [
    "#I'm going to use multiple GRUs\n",
    "model11 = Sequential()\n",
    "model11.add(GRU(10, input_shape = (3,4), return_sequences=True))\n",
    "model11.add(GRU(50, return_sequences=True))\n",
    "model11.add(GRU(100))\n",
    "model11.add(Dense(20, activation = 'relu'))\n",
    "model11.add(Dense(1))\n",
    "\n",
    "model11.compile(loss='mae', optimizer = 'adam', metrics=['acc', 'mse'])\n",
    "history11 = model11.fit(train_sequences, validation_data=test_sequences, epochs=30, verbose=0)"
   ]
  },
  {
   "cell_type": "code",
   "execution_count": 26,
   "metadata": {},
   "outputs": [
    {
     "data": {
      "image/png": "[encoded data removed]",
      "text/plain": [
       "<Figure size 432x288 with 1 Axes>"
      ]
     },
     "metadata": {
      "needs_background": "light"
     },
     "output_type": "display_data"
    }
   ],
   "source": [
    "#let's look at our accuracy\n",
    "plt.plot(history11.history['acc'], label='accuracy')\n",
    "plt.plot(history11.history['val_acc'], label = 'val_accuracy')\n",
    "plt.legend();"
   ]
  },
  {
   "cell_type": "code",
   "execution_count": 27,
   "metadata": {},
   "outputs": [
    {
     "data": {
      "image/png": "[encoded data removed]",
      "text/plain": [
       "<Figure size 432x288 with 1 Axes>"
      ]
     },
     "metadata": {
      "needs_background": "light"
     },
     "output_type": "display_data"
    }
   ],
   "source": [
    "#let's look at our loss/mse\n",
    "plt.plot(history11.history['mse'], label='mse')\n",
    "plt.plot(history11.history['val_mse'], label='val_mse')\n",
    "plt.legend();"
   ]
  },
  {
   "cell_type": "markdown",
   "metadata": {},
   "source": [
    "The result overall is that using the Daily_Sum target gave a little bit better results. Still around the null, but better than the first target. Using this same catalog, I then resampled the data to weekly, and then remodelled. It did a little bit better than the null, see here below."
   ]
  },
  {
   "cell_type": "code",
   "execution_count": 28,
   "metadata": {},
   "outputs": [
    {
     "data": {
      "text/html": [
       "<div>\n",
       "<style scoped>\n",
       "    .dataframe tbody tr th:only-of-type {\n",
       "        vertical-align: middle;\n",
       "    }\n",
       "\n",
       "    .dataframe tbody tr th {\n",
       "        vertical-align: top;\n",
       "    }\n",
       "\n",
       "    .dataframe thead th {\n",
       "        text-align: right;\n",
       "    }\n",
       "</style>\n",
       "<table border=\"1\" class=\"dataframe\">\n",
       "  <thead>\n",
       "    <tr style=\"text-align: right;\">\n",
       "      <th></th>\n",
       "      <th>Daily_Avg</th>\n",
       "      <th>Daily_Sum</th>\n",
       "      <th>Daily_Count</th>\n",
       "      <th>Dly_Cnt_Diff</th>\n",
       "      <th>Rig_Count</th>\n",
       "      <th>WTI_Spot_Price</th>\n",
       "      <th>Brent_Spot_Price</th>\n",
       "      <th>fracs_per_day</th>\n",
       "      <th>volume_per_day</th>\n",
       "      <th>avg_volh2o_per_ft</th>\n",
       "    </tr>\n",
       "  </thead>\n",
       "  <tbody>\n",
       "    <tr>\n",
       "      <th>2017-10-01</th>\n",
       "      <td>0.000000</td>\n",
       "      <td>0.000000</td>\n",
       "      <td>0.000000</td>\n",
       "      <td>0.0</td>\n",
       "      <td>27.000000</td>\n",
       "      <td>51.670000</td>\n",
       "      <td>57.020000</td>\n",
       "      <td>47.000000</td>\n",
       "      <td>2.651121e+07</td>\n",
       "      <td>2057.055001</td>\n",
       "    </tr>\n",
       "    <tr>\n",
       "      <th>2017-10-08</th>\n",
       "      <td>0.000000</td>\n",
       "      <td>0.000000</td>\n",
       "      <td>0.000000</td>\n",
       "      <td>0.0</td>\n",
       "      <td>27.571429</td>\n",
       "      <td>49.977143</td>\n",
       "      <td>55.911429</td>\n",
       "      <td>27.142857</td>\n",
       "      <td>1.480486e+07</td>\n",
       "      <td>1940.390559</td>\n",
       "    </tr>\n",
       "    <tr>\n",
       "      <th>2017-10-15</th>\n",
       "      <td>0.000000</td>\n",
       "      <td>0.000000</td>\n",
       "      <td>0.000000</td>\n",
       "      <td>0.0</td>\n",
       "      <td>29.857143</td>\n",
       "      <td>50.958571</td>\n",
       "      <td>56.392857</td>\n",
       "      <td>16.142857</td>\n",
       "      <td>9.249819e+06</td>\n",
       "      <td>1928.475138</td>\n",
       "    </tr>\n",
       "    <tr>\n",
       "      <th>2017-10-22</th>\n",
       "      <td>0.000000</td>\n",
       "      <td>0.000000</td>\n",
       "      <td>0.000000</td>\n",
       "      <td>0.0</td>\n",
       "      <td>32.285714</td>\n",
       "      <td>51.708571</td>\n",
       "      <td>57.808571</td>\n",
       "      <td>14.714286</td>\n",
       "      <td>7.058174e+06</td>\n",
       "      <td>2132.500242</td>\n",
       "    </tr>\n",
       "    <tr>\n",
       "      <th>2017-10-29</th>\n",
       "      <td>0.000000</td>\n",
       "      <td>0.000000</td>\n",
       "      <td>0.000000</td>\n",
       "      <td>0.0</td>\n",
       "      <td>33.857143</td>\n",
       "      <td>52.910000</td>\n",
       "      <td>59.025714</td>\n",
       "      <td>13.142857</td>\n",
       "      <td>6.712036e+06</td>\n",
       "      <td>2241.499288</td>\n",
       "    </tr>\n",
       "    <tr>\n",
       "      <th>...</th>\n",
       "      <td>...</td>\n",
       "      <td>...</td>\n",
       "      <td>...</td>\n",
       "      <td>...</td>\n",
       "      <td>...</td>\n",
       "      <td>...</td>\n",
       "      <td>...</td>\n",
       "      <td>...</td>\n",
       "      <td>...</td>\n",
       "      <td>...</td>\n",
       "    </tr>\n",
       "    <tr>\n",
       "      <th>2020-03-08</th>\n",
       "      <td>0.000000</td>\n",
       "      <td>0.000000</td>\n",
       "      <td>0.000000</td>\n",
       "      <td>0.0</td>\n",
       "      <td>32.714286</td>\n",
       "      <td>44.307143</td>\n",
       "      <td>49.244286</td>\n",
       "      <td>28.000000</td>\n",
       "      <td>2.196417e+07</td>\n",
       "      <td>2541.374936</td>\n",
       "    </tr>\n",
       "    <tr>\n",
       "      <th>2020-03-15</th>\n",
       "      <td>0.000000</td>\n",
       "      <td>0.000000</td>\n",
       "      <td>0.000000</td>\n",
       "      <td>0.0</td>\n",
       "      <td>32.000000</td>\n",
       "      <td>32.195714</td>\n",
       "      <td>33.302857</td>\n",
       "      <td>30.571429</td>\n",
       "      <td>2.360722e+07</td>\n",
       "      <td>2545.060663</td>\n",
       "    </tr>\n",
       "    <tr>\n",
       "      <th>2020-03-22</th>\n",
       "      <td>0.000000</td>\n",
       "      <td>0.000000</td>\n",
       "      <td>0.000000</td>\n",
       "      <td>0.0</td>\n",
       "      <td>32.285714</td>\n",
       "      <td>22.847143</td>\n",
       "      <td>25.624286</td>\n",
       "      <td>32.000000</td>\n",
       "      <td>2.262417e+07</td>\n",
       "      <td>2586.057358</td>\n",
       "    </tr>\n",
       "    <tr>\n",
       "      <th>2020-03-29</th>\n",
       "      <td>0.271429</td>\n",
       "      <td>0.271429</td>\n",
       "      <td>0.142857</td>\n",
       "      <td>0.0</td>\n",
       "      <td>32.142857</td>\n",
       "      <td>18.307143</td>\n",
       "      <td>23.512857</td>\n",
       "      <td>33.000000</td>\n",
       "      <td>1.900354e+07</td>\n",
       "      <td>2374.692438</td>\n",
       "    </tr>\n",
       "    <tr>\n",
       "      <th>2020-04-05</th>\n",
       "      <td>0.000000</td>\n",
       "      <td>0.000000</td>\n",
       "      <td>0.000000</td>\n",
       "      <td>0.0</td>\n",
       "      <td>30.000000</td>\n",
       "      <td>17.305000</td>\n",
       "      <td>17.020000</td>\n",
       "      <td>32.500000</td>\n",
       "      <td>1.844568e+07</td>\n",
       "      <td>2332.730132</td>\n",
       "    </tr>\n",
       "  </tbody>\n",
       "</table>\n",
       "<p>132 rows × 10 columns</p>\n",
       "</div>"
      ],
      "text/plain": [
       "            Daily_Avg  Daily_Sum  Daily_Count  Dly_Cnt_Diff  Rig_Count  \\\n",
       "2017-10-01   0.000000   0.000000     0.000000           0.0  27.000000   \n",
       "2017-10-08   0.000000   0.000000     0.000000           0.0  27.571429   \n",
       "2017-10-15   0.000000   0.000000     0.000000           0.0  29.857143   \n",
       "2017-10-22   0.000000   0.000000     0.000000           0.0  32.285714   \n",
       "2017-10-29   0.000000   0.000000     0.000000           0.0  33.857143   \n",
       "...               ...        ...          ...           ...        ...   \n",
       "2020-03-08   0.000000   0.000000     0.000000           0.0  32.714286   \n",
       "2020-03-15   0.000000   0.000000     0.000000           0.0  32.000000   \n",
       "2020-03-22   0.000000   0.000000     0.000000           0.0  32.285714   \n",
       "2020-03-29   0.271429   0.271429     0.142857           0.0  32.142857   \n",
       "2020-04-05   0.000000   0.000000     0.000000           0.0  30.000000   \n",
       "\n",
       "            WTI_Spot_Price  Brent_Spot_Price  fracs_per_day  volume_per_day  \\\n",
       "2017-10-01       51.670000         57.020000      47.000000    2.651121e+07   \n",
       "2017-10-08       49.977143         55.911429      27.142857    1.480486e+07   \n",
       "2017-10-15       50.958571         56.392857      16.142857    9.249819e+06   \n",
       "2017-10-22       51.708571         57.808571      14.714286    7.058174e+06   \n",
       "2017-10-29       52.910000         59.025714      13.142857    6.712036e+06   \n",
       "...                    ...               ...            ...             ...   \n",
       "2020-03-08       44.307143         49.244286      28.000000    2.196417e+07   \n",
       "2020-03-15       32.195714         33.302857      30.571429    2.360722e+07   \n",
       "2020-03-22       22.847143         25.624286      32.000000    2.262417e+07   \n",
       "2020-03-29       18.307143         23.512857      33.000000    1.900354e+07   \n",
       "2020-04-05       17.305000         17.020000      32.500000    1.844568e+07   \n",
       "\n",
       "            avg_volh2o_per_ft  \n",
       "2017-10-01        2057.055001  \n",
       "2017-10-08        1940.390559  \n",
       "2017-10-15        1928.475138  \n",
       "2017-10-22        2132.500242  \n",
       "2017-10-29        2241.499288  \n",
       "...                       ...  \n",
       "2020-03-08        2541.374936  \n",
       "2020-03-15        2545.060663  \n",
       "2020-03-22        2586.057358  \n",
       "2020-03-29        2374.692438  \n",
       "2020-04-05        2332.730132  \n",
       "\n",
       "[132 rows x 10 columns]"
      ]
     },
     "execution_count": 28,
     "metadata": {},
     "output_type": "execute_result"
    }
   ],
   "source": [
    "weekly_data_small = data_small.resample('W').mean()\n",
    "weekly_data_small"
   ]
  },
  {
   "cell_type": "code",
   "execution_count": 29,
   "metadata": {},
   "outputs": [],
   "source": [
    "X = weekly_data_small[['Rig_Count', 'WTI_Spot_Price', 'volume_per_day', 'avg_volh2o_per_ft']]\n",
    "#y will be the daily_sum column\n",
    "y = weekly_data_small['Daily_Sum']"
   ]
  },
  {
   "cell_type": "code",
   "execution_count": 30,
   "metadata": {},
   "outputs": [],
   "source": [
    "#split into train and test data\n",
    "X_train, X_test, y_train, y_test = train_test_split(X, y, shuffle=False)"
   ]
  },
  {
   "cell_type": "code",
   "execution_count": 31,
   "metadata": {},
   "outputs": [
    {
     "data": {
      "text/plain": [
       "1.1714938470277203"
      ]
     },
     "execution_count": 31,
     "metadata": {},
     "output_type": "execute_result"
    }
   ],
   "source": [
    "#make a baseline model to compare against\n",
    "mean_y_train_array = np.full_like(y_train, y_train.mean())\n",
    "mean_squared_error(y_train, mean_y_train_array, squared=False)"
   ]
  },
  {
   "cell_type": "code",
   "execution_count": 32,
   "metadata": {},
   "outputs": [
    {
     "data": {
      "text/plain": [
       "0.38621267862288555"
      ]
     },
     "execution_count": 32,
     "metadata": {},
     "output_type": "execute_result"
    }
   ],
   "source": [
    "mean_y_test_array = np.full_like(y_test, y_test.mean())\n",
    "mean_squared_error(y_test, mean_y_test_array, squared=False)"
   ]
  },
  {
   "cell_type": "code",
   "execution_count": 33,
   "metadata": {},
   "outputs": [],
   "source": [
    "#now set up the RNN\n",
    "sscaler = StandardScaler()\n",
    "X_train_sc = sscaler.fit_transform(X_train)\n",
    "X_test_sc = sscaler.transform(X_test)"
   ]
  },
  {
   "cell_type": "code",
   "execution_count": 34,
   "metadata": {},
   "outputs": [
    {
     "data": {
      "text/plain": [
       "(64, 3, 4)"
      ]
     },
     "execution_count": 34,
     "metadata": {},
     "output_type": "execute_result"
    }
   ],
   "source": [
    "#break up the data into 3-day stacks\n",
    "train_sequences = TimeseriesGenerator(X_train_sc, y_train, length=3, batch_size=64)\n",
    "batch_x, batch_y = train_sequences[0]\n",
    "batch_x.shape"
   ]
  },
  {
   "cell_type": "code",
   "execution_count": 35,
   "metadata": {},
   "outputs": [],
   "source": [
    "test_sequences = TimeseriesGenerator(X_test_sc, y_test, length=3, batch_size=64)"
   ]
  },
  {
   "cell_type": "code",
   "execution_count": 36,
   "metadata": {},
   "outputs": [],
   "source": [
    "#I'm going to use multiple GRUs\n",
    "model13 = Sequential()\n",
    "model13.add(GRU(10, input_shape = (3,4), return_sequences=True))\n",
    "model13.add(GRU(50, return_sequences=True, dropout=0.2, recurrent_dropout=0.2))\n",
    "model13.add(GRU(100, dropout=0.2, recurrent_dropout=0.2))\n",
    "model13.add(Dense(20, activation = 'relu'))\n",
    "model13.add(Dense(1))\n",
    "\n",
    "model13.compile(loss='mae', optimizer = 'adam', metrics=['acc', 'mse'])\n",
    "history13 = model13.fit(train_sequences, validation_data=test_sequences, epochs=50, verbose=0)"
   ]
  },
  {
   "cell_type": "code",
   "execution_count": 37,
   "metadata": {},
   "outputs": [
    {
     "data": {
      "image/png": "[encoded data removed]",
      "text/plain": [
       "<Figure size 432x288 with 1 Axes>"
      ]
     },
     "metadata": {
      "needs_background": "light"
     },
     "output_type": "display_data"
    }
   ],
   "source": [
    "#let's look at our accuracy\n",
    "plt.plot(history13.history['acc'], label='accuracy')\n",
    "plt.plot(history13.history['val_acc'], label = 'val_accuracy')\n",
    "plt.legend();"
   ]
  },
  {
   "cell_type": "code",
   "execution_count": 38,
   "metadata": {},
   "outputs": [
    {
     "data": {
      "image/png": "[encoded data removed]",
      "text/plain": [
       "<Figure size 432x288 with 1 Axes>"
      ]
     },
     "metadata": {
      "needs_background": "light"
     },
     "output_type": "display_data"
    }
   ],
   "source": [
    "#let's look at our loss/mse\n",
    "plt.plot(history13.history['mse'], label='mse')\n",
    "plt.plot(history13.history['val_mse'], label='val_mse')\n",
    "plt.legend();"
   ]
  },
  {
   "cell_type": "markdown",
   "metadata": {},
   "source": [
    "This was likely my best model with the TexNet/USGS dataset. With more time, I would have liked to do some modelling using the Daily_Average target. That will have to go under future work."
   ]
  },
  {
   "cell_type": "markdown",
   "metadata": {},
   "source": [
    "#### Part 2: Modelling the Fasola catalog/dataset"
   ]
  },
  {
   "cell_type": "code",
   "execution_count": 40,
   "metadata": {},
   "outputs": [
    {
     "data": {
      "text/html": [
       "<div>\n",
       "<style scoped>\n",
       "    .dataframe tbody tr th:only-of-type {\n",
       "        vertical-align: middle;\n",
       "    }\n",
       "\n",
       "    .dataframe tbody tr th {\n",
       "        vertical-align: top;\n",
       "    }\n",
       "\n",
       "    .dataframe thead th {\n",
       "        text-align: right;\n",
       "    }\n",
       "</style>\n",
       "<table border=\"1\" class=\"dataframe\">\n",
       "  <thead>\n",
       "    <tr style=\"text-align: right;\">\n",
       "      <th></th>\n",
       "      <th>Daily_Avg</th>\n",
       "      <th>Daily_Sum</th>\n",
       "      <th>Daily_Count</th>\n",
       "      <th>Rig_Count</th>\n",
       "      <th>WTI_Spot_Price</th>\n",
       "      <th>Brent_Spot_Price</th>\n",
       "      <th>fracs_per_day</th>\n",
       "      <th>volume_per_day</th>\n",
       "      <th>avg_volh2o_per_ft</th>\n",
       "      <th>APIs</th>\n",
       "    </tr>\n",
       "  </thead>\n",
       "  <tbody>\n",
       "    <tr>\n",
       "      <th>2016-01-01</th>\n",
       "      <td>0.0</td>\n",
       "      <td>0.0</td>\n",
       "      <td>0</td>\n",
       "      <td>33.0</td>\n",
       "      <td>37.13</td>\n",
       "      <td>36.61</td>\n",
       "      <td>9.0</td>\n",
       "      <td>5.080098e+06</td>\n",
       "      <td>1088.829502</td>\n",
       "      <td>[42255346090000, 42255346080000, 4225534610000...</td>\n",
       "    </tr>\n",
       "    <tr>\n",
       "      <th>2016-01-02</th>\n",
       "      <td>0.0</td>\n",
       "      <td>0.0</td>\n",
       "      <td>0</td>\n",
       "      <td>33.0</td>\n",
       "      <td>37.13</td>\n",
       "      <td>36.61</td>\n",
       "      <td>11.0</td>\n",
       "      <td>5.892634e+06</td>\n",
       "      <td>1044.749861</td>\n",
       "      <td>[42255346090000, 42255346080000, 4225534610000...</td>\n",
       "    </tr>\n",
       "    <tr>\n",
       "      <th>2016-01-03</th>\n",
       "      <td>0.0</td>\n",
       "      <td>0.0</td>\n",
       "      <td>0</td>\n",
       "      <td>33.0</td>\n",
       "      <td>37.13</td>\n",
       "      <td>36.61</td>\n",
       "      <td>9.0</td>\n",
       "      <td>4.539134e+06</td>\n",
       "      <td>1125.551135</td>\n",
       "      <td>[42255346090000, 42255346080000, 4225534610000...</td>\n",
       "    </tr>\n",
       "    <tr>\n",
       "      <th>2016-01-04</th>\n",
       "      <td>0.0</td>\n",
       "      <td>0.0</td>\n",
       "      <td>0</td>\n",
       "      <td>33.0</td>\n",
       "      <td>36.81</td>\n",
       "      <td>36.28</td>\n",
       "      <td>26.0</td>\n",
       "      <td>1.135010e+07</td>\n",
       "      <td>848.112281</td>\n",
       "      <td>[42255346090000, 42255346080000, 4225534610000...</td>\n",
       "    </tr>\n",
       "    <tr>\n",
       "      <th>2016-01-05</th>\n",
       "      <td>0.0</td>\n",
       "      <td>0.0</td>\n",
       "      <td>0</td>\n",
       "      <td>33.0</td>\n",
       "      <td>35.97</td>\n",
       "      <td>35.56</td>\n",
       "      <td>26.0</td>\n",
       "      <td>1.135010e+07</td>\n",
       "      <td>848.112281</td>\n",
       "      <td>[42255346090000, 42255346080000, 4225534610000...</td>\n",
       "    </tr>\n",
       "  </tbody>\n",
       "</table>\n",
       "</div>"
      ],
      "text/plain": [
       "            Daily_Avg  Daily_Sum  Daily_Count  Rig_Count  WTI_Spot_Price  \\\n",
       "2016-01-01        0.0        0.0            0       33.0           37.13   \n",
       "2016-01-02        0.0        0.0            0       33.0           37.13   \n",
       "2016-01-03        0.0        0.0            0       33.0           37.13   \n",
       "2016-01-04        0.0        0.0            0       33.0           36.81   \n",
       "2016-01-05        0.0        0.0            0       33.0           35.97   \n",
       "\n",
       "            Brent_Spot_Price  fracs_per_day  volume_per_day  \\\n",
       "2016-01-01             36.61            9.0    5.080098e+06   \n",
       "2016-01-02             36.61           11.0    5.892634e+06   \n",
       "2016-01-03             36.61            9.0    4.539134e+06   \n",
       "2016-01-04             36.28           26.0    1.135010e+07   \n",
       "2016-01-05             35.56           26.0    1.135010e+07   \n",
       "\n",
       "            avg_volh2o_per_ft  \\\n",
       "2016-01-01        1088.829502   \n",
       "2016-01-02        1044.749861   \n",
       "2016-01-03        1125.551135   \n",
       "2016-01-04         848.112281   \n",
       "2016-01-05         848.112281   \n",
       "\n",
       "                                                         APIs  \n",
       "2016-01-01  [42255346090000, 42255346080000, 4225534610000...  \n",
       "2016-01-02  [42255346090000, 42255346080000, 4225534610000...  \n",
       "2016-01-03  [42255346090000, 42255346080000, 4225534610000...  \n",
       "2016-01-04  [42255346090000, 42255346080000, 4225534610000...  \n",
       "2016-01-05  [42255346090000, 42255346080000, 4225534610000...  "
      ]
     },
     "execution_count": 40,
     "metadata": {},
     "output_type": "execute_result"
    }
   ],
   "source": [
    "fasola = pd.read_csv('../oil_and_gas_data/data_for_modelling/fasola_data_ready_for_modelling.csv', index_col=0)\n",
    "fasola.head()"
   ]
  },
  {
   "cell_type": "code",
   "execution_count": 41,
   "metadata": {},
   "outputs": [
    {
     "name": "stdout",
     "output_type": "stream",
     "text": [
      "<class 'pandas.core.frame.DataFrame'>\n",
      "DatetimeIndex: 1859 entries, 2016-01-01 to 2021-02-01\n",
      "Data columns (total 10 columns):\n",
      " #   Column             Non-Null Count  Dtype  \n",
      "---  ------             --------------  -----  \n",
      " 0   Daily_Avg          1859 non-null   float64\n",
      " 1   Daily_Sum          1859 non-null   float64\n",
      " 2   Daily_Count        1859 non-null   int64  \n",
      " 3   Rig_Count          1760 non-null   float64\n",
      " 4   WTI_Spot_Price     1859 non-null   float64\n",
      " 5   Brent_Spot_Price   1859 non-null   float64\n",
      " 6   fracs_per_day      1801 non-null   float64\n",
      " 7   volume_per_day     1801 non-null   float64\n",
      " 8   avg_volh2o_per_ft  1695 non-null   float64\n",
      " 9   APIs               1801 non-null   object \n",
      "dtypes: float64(8), int64(1), object(1)\n",
      "memory usage: 159.8+ KB\n"
     ]
    }
   ],
   "source": [
    "fasola.index = pd.to_datetime(fasola.index)\n",
    "fasola.info()"
   ]
  },
  {
   "cell_type": "code",
   "execution_count": 47,
   "metadata": {},
   "outputs": [
    {
     "data": {
      "text/html": [
       "<div>\n",
       "<style scoped>\n",
       "    .dataframe tbody tr th:only-of-type {\n",
       "        vertical-align: middle;\n",
       "    }\n",
       "\n",
       "    .dataframe tbody tr th {\n",
       "        vertical-align: top;\n",
       "    }\n",
       "\n",
       "    .dataframe thead th {\n",
       "        text-align: right;\n",
       "    }\n",
       "</style>\n",
       "<table border=\"1\" class=\"dataframe\">\n",
       "  <thead>\n",
       "    <tr style=\"text-align: right;\">\n",
       "      <th></th>\n",
       "      <th>Daily_Avg</th>\n",
       "      <th>Daily_Sum</th>\n",
       "      <th>Daily_Count</th>\n",
       "      <th>Rig_Count</th>\n",
       "      <th>WTI_Spot_Price</th>\n",
       "      <th>Brent_Spot_Price</th>\n",
       "      <th>fracs_per_day</th>\n",
       "      <th>volume_per_day</th>\n",
       "      <th>avg_volh2o_per_ft</th>\n",
       "      <th>APIs</th>\n",
       "    </tr>\n",
       "  </thead>\n",
       "  <tbody>\n",
       "    <tr>\n",
       "      <th>2016-01-01</th>\n",
       "      <td>0.0</td>\n",
       "      <td>0.0</td>\n",
       "      <td>0</td>\n",
       "      <td>33.0</td>\n",
       "      <td>37.13</td>\n",
       "      <td>36.61</td>\n",
       "      <td>9.0</td>\n",
       "      <td>5.080098e+06</td>\n",
       "      <td>1088.829502</td>\n",
       "      <td>[42255346090000, 42255346080000, 4225534610000...</td>\n",
       "    </tr>\n",
       "    <tr>\n",
       "      <th>2016-01-02</th>\n",
       "      <td>0.0</td>\n",
       "      <td>0.0</td>\n",
       "      <td>0</td>\n",
       "      <td>33.0</td>\n",
       "      <td>37.13</td>\n",
       "      <td>36.61</td>\n",
       "      <td>11.0</td>\n",
       "      <td>5.892634e+06</td>\n",
       "      <td>1044.749861</td>\n",
       "      <td>[42255346090000, 42255346080000, 4225534610000...</td>\n",
       "    </tr>\n",
       "    <tr>\n",
       "      <th>2016-01-03</th>\n",
       "      <td>0.0</td>\n",
       "      <td>0.0</td>\n",
       "      <td>0</td>\n",
       "      <td>33.0</td>\n",
       "      <td>37.13</td>\n",
       "      <td>36.61</td>\n",
       "      <td>9.0</td>\n",
       "      <td>4.539134e+06</td>\n",
       "      <td>1125.551135</td>\n",
       "      <td>[42255346090000, 42255346080000, 4225534610000...</td>\n",
       "    </tr>\n",
       "    <tr>\n",
       "      <th>2016-01-04</th>\n",
       "      <td>0.0</td>\n",
       "      <td>0.0</td>\n",
       "      <td>0</td>\n",
       "      <td>33.0</td>\n",
       "      <td>36.81</td>\n",
       "      <td>36.28</td>\n",
       "      <td>26.0</td>\n",
       "      <td>1.135010e+07</td>\n",
       "      <td>848.112281</td>\n",
       "      <td>[42255346090000, 42255346080000, 4225534610000...</td>\n",
       "    </tr>\n",
       "    <tr>\n",
       "      <th>2016-01-05</th>\n",
       "      <td>0.0</td>\n",
       "      <td>0.0</td>\n",
       "      <td>0</td>\n",
       "      <td>33.0</td>\n",
       "      <td>35.97</td>\n",
       "      <td>35.56</td>\n",
       "      <td>26.0</td>\n",
       "      <td>1.135010e+07</td>\n",
       "      <td>848.112281</td>\n",
       "      <td>[42255346090000, 42255346080000, 4225534610000...</td>\n",
       "    </tr>\n",
       "  </tbody>\n",
       "</table>\n",
       "</div>"
      ],
      "text/plain": [
       "            Daily_Avg  Daily_Sum  Daily_Count  Rig_Count  WTI_Spot_Price  \\\n",
       "2016-01-01        0.0        0.0            0       33.0           37.13   \n",
       "2016-01-02        0.0        0.0            0       33.0           37.13   \n",
       "2016-01-03        0.0        0.0            0       33.0           37.13   \n",
       "2016-01-04        0.0        0.0            0       33.0           36.81   \n",
       "2016-01-05        0.0        0.0            0       33.0           35.97   \n",
       "\n",
       "            Brent_Spot_Price  fracs_per_day  volume_per_day  \\\n",
       "2016-01-01             36.61            9.0    5.080098e+06   \n",
       "2016-01-02             36.61           11.0    5.892634e+06   \n",
       "2016-01-03             36.61            9.0    4.539134e+06   \n",
       "2016-01-04             36.28           26.0    1.135010e+07   \n",
       "2016-01-05             35.56           26.0    1.135010e+07   \n",
       "\n",
       "            avg_volh2o_per_ft  \\\n",
       "2016-01-01        1088.829502   \n",
       "2016-01-02        1044.749861   \n",
       "2016-01-03        1125.551135   \n",
       "2016-01-04         848.112281   \n",
       "2016-01-05         848.112281   \n",
       "\n",
       "                                                         APIs  \n",
       "2016-01-01  [42255346090000, 42255346080000, 4225534610000...  \n",
       "2016-01-02  [42255346090000, 42255346080000, 4225534610000...  \n",
       "2016-01-03  [42255346090000, 42255346080000, 4225534610000...  \n",
       "2016-01-04  [42255346090000, 42255346080000, 4225534610000...  \n",
       "2016-01-05  [42255346090000, 42255346080000, 4225534610000...  "
      ]
     },
     "execution_count": 47,
     "metadata": {},
     "output_type": "execute_result"
    }
   ],
   "source": [
    "#drop the Nan's from the data\n",
    "fasola_model = fasola.dropna()\n",
    "fasola_model.head()"
   ]
  },
  {
   "cell_type": "code",
   "execution_count": 48,
   "metadata": {},
   "outputs": [
    {
     "data": {
      "text/html": [
       "<div>\n",
       "<style scoped>\n",
       "    .dataframe tbody tr th:only-of-type {\n",
       "        vertical-align: middle;\n",
       "    }\n",
       "\n",
       "    .dataframe tbody tr th {\n",
       "        vertical-align: top;\n",
       "    }\n",
       "\n",
       "    .dataframe thead th {\n",
       "        text-align: right;\n",
       "    }\n",
       "</style>\n",
       "<table border=\"1\" class=\"dataframe\">\n",
       "  <thead>\n",
       "    <tr style=\"text-align: right;\">\n",
       "      <th></th>\n",
       "      <th>Daily_Avg</th>\n",
       "      <th>Daily_Sum</th>\n",
       "      <th>Daily_Count</th>\n",
       "      <th>Rig_Count</th>\n",
       "      <th>WTI_Spot_Price</th>\n",
       "      <th>Brent_Spot_Price</th>\n",
       "      <th>fracs_per_day</th>\n",
       "      <th>volume_per_day</th>\n",
       "      <th>avg_volh2o_per_ft</th>\n",
       "      <th>APIs</th>\n",
       "    </tr>\n",
       "  </thead>\n",
       "  <tbody>\n",
       "    <tr>\n",
       "      <th>2017-01-01</th>\n",
       "      <td>0.000000</td>\n",
       "      <td>0.000000</td>\n",
       "      <td>0</td>\n",
       "      <td>24.0</td>\n",
       "      <td>53.75</td>\n",
       "      <td>54.96</td>\n",
       "      <td>9.0</td>\n",
       "      <td>7.562982e+06</td>\n",
       "      <td>1793.684306</td>\n",
       "      <td>[42255343990000, 42255344150000, 4225535062000...</td>\n",
       "    </tr>\n",
       "    <tr>\n",
       "      <th>2017-01-02</th>\n",
       "      <td>0.766226</td>\n",
       "      <td>2.298677</td>\n",
       "      <td>3</td>\n",
       "      <td>24.0</td>\n",
       "      <td>53.75</td>\n",
       "      <td>54.96</td>\n",
       "      <td>9.0</td>\n",
       "      <td>7.942106e+06</td>\n",
       "      <td>1721.140972</td>\n",
       "      <td>[42255343990000, 42255344150000, 4225535062000...</td>\n",
       "    </tr>\n",
       "    <tr>\n",
       "      <th>2017-01-03</th>\n",
       "      <td>0.792245</td>\n",
       "      <td>34.066545</td>\n",
       "      <td>43</td>\n",
       "      <td>24.0</td>\n",
       "      <td>52.36</td>\n",
       "      <td>55.05</td>\n",
       "      <td>9.0</td>\n",
       "      <td>7.942106e+06</td>\n",
       "      <td>1721.140972</td>\n",
       "      <td>[42255343990000, 42255344150000, 4225535062000...</td>\n",
       "    </tr>\n",
       "    <tr>\n",
       "      <th>2017-01-04</th>\n",
       "      <td>1.025187</td>\n",
       "      <td>10.251870</td>\n",
       "      <td>10</td>\n",
       "      <td>24.0</td>\n",
       "      <td>53.26</td>\n",
       "      <td>54.57</td>\n",
       "      <td>9.0</td>\n",
       "      <td>7.942106e+06</td>\n",
       "      <td>1721.140972</td>\n",
       "      <td>[42255343990000, 42255344150000, 4225535062000...</td>\n",
       "    </tr>\n",
       "    <tr>\n",
       "      <th>2017-01-05</th>\n",
       "      <td>1.600100</td>\n",
       "      <td>1.600100</td>\n",
       "      <td>1</td>\n",
       "      <td>24.0</td>\n",
       "      <td>53.77</td>\n",
       "      <td>54.99</td>\n",
       "      <td>9.0</td>\n",
       "      <td>7.942106e+06</td>\n",
       "      <td>1721.140972</td>\n",
       "      <td>[42255343990000, 42255344150000, 4225535062000...</td>\n",
       "    </tr>\n",
       "    <tr>\n",
       "      <th>...</th>\n",
       "      <td>...</td>\n",
       "      <td>...</td>\n",
       "      <td>...</td>\n",
       "      <td>...</td>\n",
       "      <td>...</td>\n",
       "      <td>...</td>\n",
       "      <td>...</td>\n",
       "      <td>...</td>\n",
       "      <td>...</td>\n",
       "      <td>...</td>\n",
       "    </tr>\n",
       "    <tr>\n",
       "      <th>2020-01-27</th>\n",
       "      <td>0.000000</td>\n",
       "      <td>0.000000</td>\n",
       "      <td>0</td>\n",
       "      <td>33.0</td>\n",
       "      <td>53.09</td>\n",
       "      <td>58.54</td>\n",
       "      <td>45.0</td>\n",
       "      <td>4.278683e+07</td>\n",
       "      <td>1642.821249</td>\n",
       "      <td>[42255361860000, 42255361850000, 4225536569000...</td>\n",
       "    </tr>\n",
       "    <tr>\n",
       "      <th>2020-01-28</th>\n",
       "      <td>1.900000</td>\n",
       "      <td>1.900000</td>\n",
       "      <td>1</td>\n",
       "      <td>33.0</td>\n",
       "      <td>53.33</td>\n",
       "      <td>59.37</td>\n",
       "      <td>46.0</td>\n",
       "      <td>4.433917e+07</td>\n",
       "      <td>1658.283946</td>\n",
       "      <td>[42255361860000, 42255361850000, 4225536569000...</td>\n",
       "    </tr>\n",
       "    <tr>\n",
       "      <th>2020-01-29</th>\n",
       "      <td>0.000000</td>\n",
       "      <td>0.000000</td>\n",
       "      <td>0</td>\n",
       "      <td>33.0</td>\n",
       "      <td>53.29</td>\n",
       "      <td>59.46</td>\n",
       "      <td>44.0</td>\n",
       "      <td>4.293038e+07</td>\n",
       "      <td>1624.508496</td>\n",
       "      <td>[42255361860000, 42255361850000, 4225536569000...</td>\n",
       "    </tr>\n",
       "    <tr>\n",
       "      <th>2020-01-30</th>\n",
       "      <td>0.000000</td>\n",
       "      <td>0.000000</td>\n",
       "      <td>0</td>\n",
       "      <td>33.0</td>\n",
       "      <td>52.19</td>\n",
       "      <td>57.72</td>\n",
       "      <td>46.0</td>\n",
       "      <td>4.500210e+07</td>\n",
       "      <td>1624.812672</td>\n",
       "      <td>[42255361860000, 42255361850000, 4225536556000...</td>\n",
       "    </tr>\n",
       "    <tr>\n",
       "      <th>2020-01-31</th>\n",
       "      <td>0.000000</td>\n",
       "      <td>0.000000</td>\n",
       "      <td>0</td>\n",
       "      <td>33.0</td>\n",
       "      <td>51.58</td>\n",
       "      <td>57.77</td>\n",
       "      <td>46.0</td>\n",
       "      <td>4.500210e+07</td>\n",
       "      <td>1624.812672</td>\n",
       "      <td>[42255361860000, 42255361850000, 4225536556000...</td>\n",
       "    </tr>\n",
       "  </tbody>\n",
       "</table>\n",
       "<p>1077 rows × 10 columns</p>\n",
       "</div>"
      ],
      "text/plain": [
       "            Daily_Avg  Daily_Sum  Daily_Count  Rig_Count  WTI_Spot_Price  \\\n",
       "2017-01-01   0.000000   0.000000            0       24.0           53.75   \n",
       "2017-01-02   0.766226   2.298677            3       24.0           53.75   \n",
       "2017-01-03   0.792245  34.066545           43       24.0           52.36   \n",
       "2017-01-04   1.025187  10.251870           10       24.0           53.26   \n",
       "2017-01-05   1.600100   1.600100            1       24.0           53.77   \n",
       "...               ...        ...          ...        ...             ...   \n",
       "2020-01-27   0.000000   0.000000            0       33.0           53.09   \n",
       "2020-01-28   1.900000   1.900000            1       33.0           53.33   \n",
       "2020-01-29   0.000000   0.000000            0       33.0           53.29   \n",
       "2020-01-30   0.000000   0.000000            0       33.0           52.19   \n",
       "2020-01-31   0.000000   0.000000            0       33.0           51.58   \n",
       "\n",
       "            Brent_Spot_Price  fracs_per_day  volume_per_day  \\\n",
       "2017-01-01             54.96            9.0    7.562982e+06   \n",
       "2017-01-02             54.96            9.0    7.942106e+06   \n",
       "2017-01-03             55.05            9.0    7.942106e+06   \n",
       "2017-01-04             54.57            9.0    7.942106e+06   \n",
       "2017-01-05             54.99            9.0    7.942106e+06   \n",
       "...                      ...            ...             ...   \n",
       "2020-01-27             58.54           45.0    4.278683e+07   \n",
       "2020-01-28             59.37           46.0    4.433917e+07   \n",
       "2020-01-29             59.46           44.0    4.293038e+07   \n",
       "2020-01-30             57.72           46.0    4.500210e+07   \n",
       "2020-01-31             57.77           46.0    4.500210e+07   \n",
       "\n",
       "            avg_volh2o_per_ft  \\\n",
       "2017-01-01        1793.684306   \n",
       "2017-01-02        1721.140972   \n",
       "2017-01-03        1721.140972   \n",
       "2017-01-04        1721.140972   \n",
       "2017-01-05        1721.140972   \n",
       "...                       ...   \n",
       "2020-01-27        1642.821249   \n",
       "2020-01-28        1658.283946   \n",
       "2020-01-29        1624.508496   \n",
       "2020-01-30        1624.812672   \n",
       "2020-01-31        1624.812672   \n",
       "\n",
       "                                                         APIs  \n",
       "2017-01-01  [42255343990000, 42255344150000, 4225535062000...  \n",
       "2017-01-02  [42255343990000, 42255344150000, 4225535062000...  \n",
       "2017-01-03  [42255343990000, 42255344150000, 4225535062000...  \n",
       "2017-01-04  [42255343990000, 42255344150000, 4225535062000...  \n",
       "2017-01-05  [42255343990000, 42255344150000, 4225535062000...  \n",
       "...                                                       ...  \n",
       "2020-01-27  [42255361860000, 42255361850000, 4225536569000...  \n",
       "2020-01-28  [42255361860000, 42255361850000, 4225536569000...  \n",
       "2020-01-29  [42255361860000, 42255361850000, 4225536569000...  \n",
       "2020-01-30  [42255361860000, 42255361850000, 4225536556000...  \n",
       "2020-01-31  [42255361860000, 42255361850000, 4225536556000...  \n",
       "\n",
       "[1077 rows x 10 columns]"
      ]
     },
     "execution_count": 48,
     "metadata": {},
     "output_type": "execute_result"
    }
   ],
   "source": [
    "#I'm going to model a large time range since these models tend to run fast\n",
    "#the Jan 31, 2020 cutoff is the last meaningful data before COVID started to impact activity\n",
    "fasola_model = fasola_model.loc['1-1-2017':'1-31-2020']\n",
    "fasola_model"
   ]
  },
  {
   "cell_type": "code",
   "execution_count": 49,
   "metadata": {},
   "outputs": [],
   "source": [
    "X = fasola_model[['fracs_per_day','volume_per_day','avg_volh2o_per_ft']]\n",
    "#y will be the daily_sum column\n",
    "y = fasola_model['Daily_Sum']"
   ]
  },
  {
   "cell_type": "code",
   "execution_count": 50,
   "metadata": {},
   "outputs": [],
   "source": [
    "#split into train and test data; remember default is 75/25\n",
    "X_train, X_test, y_train, y_test = train_test_split(X, y, shuffle=False)"
   ]
  },
  {
   "cell_type": "code",
   "execution_count": 51,
   "metadata": {},
   "outputs": [
    {
     "data": {
      "text/plain": [
       "6.721847536786381"
      ]
     },
     "execution_count": 51,
     "metadata": {},
     "output_type": "execute_result"
    }
   ],
   "source": [
    "#set up our null model\n",
    "mean_y_train_array = np.full_like(y_train, y_train.mean())\n",
    "mean_squared_error(y_train, mean_y_train_array, squared=False)"
   ]
  },
  {
   "cell_type": "code",
   "execution_count": 52,
   "metadata": {},
   "outputs": [
    {
     "data": {
      "text/plain": [
       "1.3249649424665666"
      ]
     },
     "execution_count": 52,
     "metadata": {},
     "output_type": "execute_result"
    }
   ],
   "source": [
    "mean_y_test_array = np.full_like(y_test, y_test.mean())\n",
    "mean_squared_error(y_test, mean_y_test_array, squared=False)"
   ]
  },
  {
   "cell_type": "code",
   "execution_count": 53,
   "metadata": {},
   "outputs": [],
   "source": [
    "sscaler = StandardScaler()\n",
    "X_train_sc = sscaler.fit_transform(X_train)\n",
    "X_test_sc = sscaler.transform(X_test)"
   ]
  },
  {
   "cell_type": "code",
   "execution_count": 54,
   "metadata": {},
   "outputs": [],
   "source": [
    "#break up the data into 7-day stacks\n",
    "train_sequences = TimeseriesGenerator(X_train_sc, y_train, length=7, batch_size=64)"
   ]
  },
  {
   "cell_type": "code",
   "execution_count": 55,
   "metadata": {},
   "outputs": [
    {
     "data": {
      "text/plain": [
       "(64, 7, 3)"
      ]
     },
     "execution_count": 55,
     "metadata": {},
     "output_type": "execute_result"
    }
   ],
   "source": [
    "batch_x, batch_y = train_sequences[0]\n",
    "batch_x.shape"
   ]
  },
  {
   "cell_type": "code",
   "execution_count": 56,
   "metadata": {},
   "outputs": [],
   "source": [
    "test_sequences = TimeseriesGenerator(X_test_sc, y_test, length=7, batch_size=64)"
   ]
  },
  {
   "cell_type": "code",
   "execution_count": 57,
   "metadata": {},
   "outputs": [],
   "source": [
    "#I'm going to use dropout with the multiple GRUs\n",
    "modelf2 = Sequential()\n",
    "modelf2.add(GRU(10, input_shape = (7,3), return_sequences=True))\n",
    "modelf2.add(GRU(50, return_sequences=True, dropout=0.2, recurrent_dropout=0.2))\n",
    "modelf2.add(GRU(100, dropout=0.2, recurrent_dropout=0.2))\n",
    "modelf2.add(Dense(20, activation = 'relu'))\n",
    "modelf2.add(Dense(1))\n",
    "\n",
    "modelf2.compile(loss='mae', optimizer = 'adam', metrics=['acc', 'mse'])\n",
    "historyf2 = modelf2.fit(train_sequences, validation_data=test_sequences, epochs=50, verbose=0)"
   ]
  },
  {
   "cell_type": "code",
   "execution_count": 58,
   "metadata": {},
   "outputs": [
    {
     "data": {
      "image/png": "[encoded data removed]",
      "text/plain": [
       "<Figure size 432x288 with 1 Axes>"
      ]
     },
     "metadata": {
      "needs_background": "light"
     },
     "output_type": "display_data"
    }
   ],
   "source": [
    "#let's look at our accuracy\n",
    "plt.plot(historyf2.history['acc'], label='accuracy')\n",
    "plt.plot(historyf2.history['val_acc'], label = 'val_accuracy')\n",
    "plt.legend();"
   ]
  },
  {
   "cell_type": "code",
   "execution_count": 59,
   "metadata": {},
   "outputs": [
    {
     "data": {
      "image/png": "[encoded data removed]",
      "text/plain": [
       "<Figure size 432x288 with 1 Axes>"
      ]
     },
     "metadata": {
      "needs_background": "light"
     },
     "output_type": "display_data"
    }
   ],
   "source": [
    "#let's look at our loss/mse\n",
    "plt.plot(historyf2.history['mse'], label='mse')\n",
    "plt.plot(historyf2.history['val_mse'], label='val_mse')\n",
    "plt.legend();"
   ]
  },
  {
   "cell_type": "markdown",
   "metadata": {},
   "source": [
    "For the Fasola dataset, I only ran two models, one without dropout and one with. Neither really did better than the null model. Again, with more time, I'd like to experiment more with the Daily_Average target, but I didn't discover it was the best target to use until later on my project. So, I'll have to add this to the future work list."
   ]
  },
  {
   "cell_type": "markdown",
   "metadata": {},
   "source": [
    "#### Part 3: Modelling the Mega Catalog/Dataset"
   ]
  },
  {
   "cell_type": "markdown",
   "metadata": {},
   "source": [
    "Modelling the Mega Dataset using Daily Average as the target. I also resmapled this dataset to the Weekly Average because it is composed of all three catalogs and goes back to 2012 (that's why it's called Mega!)."
   ]
  },
  {
   "cell_type": "code",
   "execution_count": 60,
   "metadata": {},
   "outputs": [],
   "source": [
    "mega_df = pd.read_csv('oil_and_gas_data/data_for_modelling/mega_data_ready_for_modelling.csv', index_col=0)"
   ]
  },
  {
   "cell_type": "code",
   "execution_count": 61,
   "metadata": {},
   "outputs": [
    {
     "name": "stdout",
     "output_type": "stream",
     "text": [
      "<class 'pandas.core.frame.DataFrame'>\n",
      "Index: 2863 entries, 2012-03-02 to 2020-12-05\n",
      "Data columns (total 10 columns):\n",
      " #   Column             Non-Null Count  Dtype  \n",
      "---  ------             --------------  -----  \n",
      " 0   Daily_Sum          2863 non-null   float64\n",
      " 1   Daily_Avg          2863 non-null   float64\n",
      " 2   Daily_Count        2863 non-null   int64  \n",
      " 3   Rig_Count          2863 non-null   float64\n",
      " 4   WTI_Spot_Price     2863 non-null   float64\n",
      " 5   Brent_Spot_Price   2863 non-null   float64\n",
      " 6   fracs_per_day      2863 non-null   float64\n",
      " 7   volume_per_day     2863 non-null   float64\n",
      " 8   avg_volh2o_per_ft  2863 non-null   float64\n",
      " 9   APIs               2863 non-null   object \n",
      "dtypes: float64(8), int64(1), object(1)\n",
      "memory usage: 246.0+ KB\n"
     ]
    }
   ],
   "source": [
    "#first thing to do is drop na values\n",
    "mega_df = mega_df.dropna()\n",
    "mega_df.info()"
   ]
  },
  {
   "cell_type": "code",
   "execution_count": 62,
   "metadata": {},
   "outputs": [
    {
     "data": {
      "text/html": [
       "<div>\n",
       "<style scoped>\n",
       "    .dataframe tbody tr th:only-of-type {\n",
       "        vertical-align: middle;\n",
       "    }\n",
       "\n",
       "    .dataframe tbody tr th {\n",
       "        vertical-align: top;\n",
       "    }\n",
       "\n",
       "    .dataframe thead th {\n",
       "        text-align: right;\n",
       "    }\n",
       "</style>\n",
       "<table border=\"1\" class=\"dataframe\">\n",
       "  <thead>\n",
       "    <tr style=\"text-align: right;\">\n",
       "      <th></th>\n",
       "      <th>Daily_Sum</th>\n",
       "      <th>Daily_Avg</th>\n",
       "      <th>Daily_Count</th>\n",
       "      <th>Rig_Count</th>\n",
       "      <th>WTI_Spot_Price</th>\n",
       "      <th>Brent_Spot_Price</th>\n",
       "      <th>fracs_per_day</th>\n",
       "      <th>volume_per_day</th>\n",
       "      <th>avg_volh2o_per_ft</th>\n",
       "      <th>APIs</th>\n",
       "    </tr>\n",
       "  </thead>\n",
       "  <tbody>\n",
       "    <tr>\n",
       "      <th>2020-01-27</th>\n",
       "      <td>0.0</td>\n",
       "      <td>0.0</td>\n",
       "      <td>0</td>\n",
       "      <td>33.0</td>\n",
       "      <td>53.09</td>\n",
       "      <td>58.54</td>\n",
       "      <td>45.0</td>\n",
       "      <td>4.278683e+07</td>\n",
       "      <td>1642.821249</td>\n",
       "      <td>[42255361850000, 42255361860000, 4225536568000...</td>\n",
       "    </tr>\n",
       "    <tr>\n",
       "      <th>2020-01-28</th>\n",
       "      <td>1.9</td>\n",
       "      <td>1.9</td>\n",
       "      <td>1</td>\n",
       "      <td>33.0</td>\n",
       "      <td>53.33</td>\n",
       "      <td>59.37</td>\n",
       "      <td>46.0</td>\n",
       "      <td>4.433917e+07</td>\n",
       "      <td>1658.283946</td>\n",
       "      <td>[42255361850000, 42255361860000, 4225536568000...</td>\n",
       "    </tr>\n",
       "    <tr>\n",
       "      <th>2020-01-29</th>\n",
       "      <td>0.0</td>\n",
       "      <td>0.0</td>\n",
       "      <td>0</td>\n",
       "      <td>33.0</td>\n",
       "      <td>53.29</td>\n",
       "      <td>59.46</td>\n",
       "      <td>44.0</td>\n",
       "      <td>4.293038e+07</td>\n",
       "      <td>1624.508496</td>\n",
       "      <td>[42255361850000, 42255361860000, 4225536569000...</td>\n",
       "    </tr>\n",
       "    <tr>\n",
       "      <th>2020-01-30</th>\n",
       "      <td>0.0</td>\n",
       "      <td>0.0</td>\n",
       "      <td>0</td>\n",
       "      <td>33.0</td>\n",
       "      <td>52.19</td>\n",
       "      <td>57.72</td>\n",
       "      <td>46.0</td>\n",
       "      <td>4.500210e+07</td>\n",
       "      <td>1624.812672</td>\n",
       "      <td>[42255361850000, 42255361860000, 4225536559000...</td>\n",
       "    </tr>\n",
       "    <tr>\n",
       "      <th>2020-01-31</th>\n",
       "      <td>0.0</td>\n",
       "      <td>0.0</td>\n",
       "      <td>0</td>\n",
       "      <td>33.0</td>\n",
       "      <td>51.58</td>\n",
       "      <td>57.77</td>\n",
       "      <td>46.0</td>\n",
       "      <td>4.500210e+07</td>\n",
       "      <td>1624.812672</td>\n",
       "      <td>[42255361850000, 42255361860000, 4225536559000...</td>\n",
       "    </tr>\n",
       "  </tbody>\n",
       "</table>\n",
       "</div>"
      ],
      "text/plain": [
       "            Daily_Sum  Daily_Avg  Daily_Count  Rig_Count  WTI_Spot_Price  \\\n",
       "2020-01-27        0.0        0.0            0       33.0           53.09   \n",
       "2020-01-28        1.9        1.9            1       33.0           53.33   \n",
       "2020-01-29        0.0        0.0            0       33.0           53.29   \n",
       "2020-01-30        0.0        0.0            0       33.0           52.19   \n",
       "2020-01-31        0.0        0.0            0       33.0           51.58   \n",
       "\n",
       "            Brent_Spot_Price  fracs_per_day  volume_per_day  \\\n",
       "2020-01-27             58.54           45.0    4.278683e+07   \n",
       "2020-01-28             59.37           46.0    4.433917e+07   \n",
       "2020-01-29             59.46           44.0    4.293038e+07   \n",
       "2020-01-30             57.72           46.0    4.500210e+07   \n",
       "2020-01-31             57.77           46.0    4.500210e+07   \n",
       "\n",
       "            avg_volh2o_per_ft  \\\n",
       "2020-01-27        1642.821249   \n",
       "2020-01-28        1658.283946   \n",
       "2020-01-29        1624.508496   \n",
       "2020-01-30        1624.812672   \n",
       "2020-01-31        1624.812672   \n",
       "\n",
       "                                                         APIs  \n",
       "2020-01-27  [42255361850000, 42255361860000, 4225536568000...  \n",
       "2020-01-28  [42255361850000, 42255361860000, 4225536568000...  \n",
       "2020-01-29  [42255361850000, 42255361860000, 4225536569000...  \n",
       "2020-01-30  [42255361850000, 42255361860000, 4225536559000...  \n",
       "2020-01-31  [42255361850000, 42255361860000, 4225536559000...  "
      ]
     },
     "execution_count": 62,
     "metadata": {},
     "output_type": "execute_result"
    }
   ],
   "source": [
    "mega_df.index = pd.to_datetime(mega_df.index)\n",
    "mega_df = mega_df.loc[:'1-31-2020',]\n",
    "mega_df.tail()"
   ]
  },
  {
   "cell_type": "code",
   "execution_count": 63,
   "metadata": {},
   "outputs": [
    {
     "data": {
      "text/html": [
       "<div>\n",
       "<style scoped>\n",
       "    .dataframe tbody tr th:only-of-type {\n",
       "        vertical-align: middle;\n",
       "    }\n",
       "\n",
       "    .dataframe tbody tr th {\n",
       "        vertical-align: top;\n",
       "    }\n",
       "\n",
       "    .dataframe thead th {\n",
       "        text-align: right;\n",
       "    }\n",
       "</style>\n",
       "<table border=\"1\" class=\"dataframe\">\n",
       "  <thead>\n",
       "    <tr style=\"text-align: right;\">\n",
       "      <th></th>\n",
       "      <th>Daily_Sum</th>\n",
       "      <th>Daily_Avg</th>\n",
       "      <th>Daily_Count</th>\n",
       "      <th>Rig_Count</th>\n",
       "      <th>WTI_Spot_Price</th>\n",
       "      <th>Brent_Spot_Price</th>\n",
       "      <th>fracs_per_day</th>\n",
       "      <th>volume_per_day</th>\n",
       "      <th>avg_volh2o_per_ft</th>\n",
       "    </tr>\n",
       "  </thead>\n",
       "  <tbody>\n",
       "    <tr>\n",
       "      <th>2012-03-04</th>\n",
       "      <td>0.0</td>\n",
       "      <td>0.0</td>\n",
       "      <td>0.0</td>\n",
       "      <td>101.000000</td>\n",
       "      <td>106.680000</td>\n",
       "      <td>125.930000</td>\n",
       "      <td>8.0</td>\n",
       "      <td>6.358212e+06</td>\n",
       "      <td>602.103409</td>\n",
       "    </tr>\n",
       "    <tr>\n",
       "      <th>2012-03-11</th>\n",
       "      <td>0.0</td>\n",
       "      <td>0.0</td>\n",
       "      <td>0.0</td>\n",
       "      <td>101.000000</td>\n",
       "      <td>105.705000</td>\n",
       "      <td>125.855000</td>\n",
       "      <td>8.0</td>\n",
       "      <td>6.358212e+06</td>\n",
       "      <td>602.103409</td>\n",
       "    </tr>\n",
       "    <tr>\n",
       "      <th>2012-03-25</th>\n",
       "      <td>0.0</td>\n",
       "      <td>0.0</td>\n",
       "      <td>0.0</td>\n",
       "      <td>101.000000</td>\n",
       "      <td>106.430000</td>\n",
       "      <td>125.210000</td>\n",
       "      <td>1.0</td>\n",
       "      <td>9.870840e+05</td>\n",
       "      <td>373.895455</td>\n",
       "    </tr>\n",
       "    <tr>\n",
       "      <th>2012-04-01</th>\n",
       "      <td>0.0</td>\n",
       "      <td>0.0</td>\n",
       "      <td>0.0</td>\n",
       "      <td>101.000000</td>\n",
       "      <td>107.070000</td>\n",
       "      <td>125.850000</td>\n",
       "      <td>1.0</td>\n",
       "      <td>9.870840e+05</td>\n",
       "      <td>373.895455</td>\n",
       "    </tr>\n",
       "    <tr>\n",
       "      <th>2012-06-03</th>\n",
       "      <td>0.0</td>\n",
       "      <td>0.0</td>\n",
       "      <td>0.0</td>\n",
       "      <td>98.666667</td>\n",
       "      <td>85.761667</td>\n",
       "      <td>101.858333</td>\n",
       "      <td>1.0</td>\n",
       "      <td>8.432639e+05</td>\n",
       "      <td>1117.963447</td>\n",
       "    </tr>\n",
       "  </tbody>\n",
       "</table>\n",
       "</div>"
      ],
      "text/plain": [
       "            Daily_Sum  Daily_Avg  Daily_Count   Rig_Count  WTI_Spot_Price  \\\n",
       "2012-03-04        0.0        0.0          0.0  101.000000      106.680000   \n",
       "2012-03-11        0.0        0.0          0.0  101.000000      105.705000   \n",
       "2012-03-25        0.0        0.0          0.0  101.000000      106.430000   \n",
       "2012-04-01        0.0        0.0          0.0  101.000000      107.070000   \n",
       "2012-06-03        0.0        0.0          0.0   98.666667       85.761667   \n",
       "\n",
       "            Brent_Spot_Price  fracs_per_day  volume_per_day  avg_volh2o_per_ft  \n",
       "2012-03-04        125.930000            8.0    6.358212e+06         602.103409  \n",
       "2012-03-11        125.855000            8.0    6.358212e+06         602.103409  \n",
       "2012-03-25        125.210000            1.0    9.870840e+05         373.895455  \n",
       "2012-04-01        125.850000            1.0    9.870840e+05         373.895455  \n",
       "2012-06-03        101.858333            1.0    8.432639e+05        1117.963447  "
      ]
     },
     "execution_count": 63,
     "metadata": {},
     "output_type": "execute_result"
    }
   ],
   "source": [
    "#time to resample to Weekly averages\n",
    "mega_df_weekly = mega_df.resample('W').mean()\n",
    "mega_df_weekly.dropna(inplace=True)\n",
    "mega_df_weekly.head()"
   ]
  },
  {
   "cell_type": "code",
   "execution_count": 64,
   "metadata": {},
   "outputs": [],
   "source": [
    "#define my X and y \n",
    "X = mega_df_weekly[['avg_volh2o_per_ft']]\n",
    "y = mega_df_weekly['Daily_Avg']"
   ]
  },
  {
   "cell_type": "code",
   "execution_count": 65,
   "metadata": {},
   "outputs": [],
   "source": [
    "#splitting into train and test sets; remember to use shuffle=False\n",
    "X_train, X_test, y_train, y_test = train_test_split(X, y, shuffle=False)"
   ]
  },
  {
   "cell_type": "code",
   "execution_count": 66,
   "metadata": {},
   "outputs": [],
   "source": [
    "#now need to scale the data\n",
    "sscaler = StandardScaler()\n",
    "X_train_sc = sscaler.fit_transform(X_train)\n",
    "X_test_sc = sscaler.transform(X_test)"
   ]
  },
  {
   "cell_type": "code",
   "execution_count": 67,
   "metadata": {},
   "outputs": [],
   "source": [
    "train_sequences = TimeseriesGenerator(X_train_sc, y_train, length=7, batch_size=64)\n",
    "test_sequences = TimeseriesGenerator(X_test_sc, y_test, length=7, batch_size=64)"
   ]
  },
  {
   "cell_type": "code",
   "execution_count": 68,
   "metadata": {},
   "outputs": [
    {
     "data": {
      "text/plain": [
       "(289, 1)"
      ]
     },
     "execution_count": 68,
     "metadata": {},
     "output_type": "execute_result"
    }
   ],
   "source": [
    "X_train_sc.shape"
   ]
  },
  {
   "cell_type": "code",
   "execution_count": 69,
   "metadata": {},
   "outputs": [
    {
     "data": {
      "text/plain": [
       "(64, 7, 1)"
      ]
     },
     "execution_count": 69,
     "metadata": {},
     "output_type": "execute_result"
    }
   ],
   "source": [
    "batch_x, batch_y = train_sequences[0]\n",
    "batch_x.shape"
   ]
  },
  {
   "cell_type": "code",
   "execution_count": 70,
   "metadata": {},
   "outputs": [],
   "source": [
    "#I'm going to use multiple GRUs\n",
    "modelm1 = Sequential()\n",
    "modelm1.add(GRU(10, input_shape = (7,1), return_sequences=True))\n",
    "modelm1.add(GRU(50, return_sequences=True, dropout=0.2, recurrent_dropout=0.2))\n",
    "modelm1.add(GRU(100, dropout=0.2, recurrent_dropout=0.2))\n",
    "modelm1.add(Dense(20, activation = 'relu'))\n",
    "modelm1.add(Dense(1))\n",
    "\n",
    "modelm1.compile(loss='mae', optimizer = 'adam', metrics=['acc', 'mse'])\n",
    "historym1 = modelm1.fit(train_sequences, validation_data=test_sequences, epochs=50, verbose=0)"
   ]
  },
  {
   "cell_type": "code",
   "execution_count": 71,
   "metadata": {},
   "outputs": [
    {
     "data": {
      "image/png": "[encoded data removed]",
      "text/plain": [
       "<Figure size 432x288 with 1 Axes>"
      ]
     },
     "metadata": {
      "needs_background": "light"
     },
     "output_type": "display_data"
    }
   ],
   "source": [
    "#let's look at our accuracy\n",
    "plt.plot(historym1.history['acc'], label='accuracy')\n",
    "plt.plot(historym1.history['val_acc'], label = 'val_accuracy')\n",
    "plt.legend();"
   ]
  },
  {
   "cell_type": "code",
   "execution_count": 72,
   "metadata": {},
   "outputs": [
    {
     "data": {
      "image/png": "[encoded data removed]",
      "text/plain": [
       "<Figure size 432x288 with 1 Axes>"
      ]
     },
     "metadata": {
      "needs_background": "light"
     },
     "output_type": "display_data"
    }
   ],
   "source": [
    "#let's look at our mse\n",
    "plt.plot(historym1.history['mse'], label='mse')\n",
    "plt.plot(historym1.history['val_mse'], label='val_mse')\n",
    "plt.legend();"
   ]
  },
  {
   "cell_type": "code",
   "execution_count": 73,
   "metadata": {},
   "outputs": [
    {
     "data": {
      "text/plain": [
       "0.24662795519027217"
      ]
     },
     "execution_count": 73,
     "metadata": {},
     "output_type": "execute_result"
    }
   ],
   "source": [
    "#I need to set up a null/baseline model to compare to\n",
    "mean_y_train_array = np.full_like(y_train, y_train.mean())\n",
    "mean_squared_error(y_train, mean_y_train_array, squared=False)"
   ]
  },
  {
   "cell_type": "code",
   "execution_count": 74,
   "metadata": {},
   "outputs": [
    {
     "data": {
      "text/plain": [
       "0.3379607320070323"
      ]
     },
     "execution_count": 74,
     "metadata": {},
     "output_type": "execute_result"
    }
   ],
   "source": [
    "mean_y_test_array = np.full_like(y_test, y_test.mean())\n",
    "mean_squared_error(y_test, mean_y_test_array, squared=False)"
   ]
  },
  {
   "cell_type": "markdown",
   "metadata": {},
   "source": [
    "I think I have a model that beat the nulls! The accuracy isn't great, but the rmse values look really good! "
   ]
  },
  {
   "cell_type": "markdown",
   "metadata": {},
   "source": [
    "Now I'd like to add in the fracs_per_day data with the other features and see how that does."
   ]
  },
  {
   "cell_type": "code",
   "execution_count": 75,
   "metadata": {},
   "outputs": [],
   "source": [
    "#define my X and y \n",
    "X = mega_df_weekly[['fracs_per_day','volume_per_day','avg_volh2o_per_ft']]\n",
    "y = mega_df_weekly['Daily_Avg']"
   ]
  },
  {
   "cell_type": "code",
   "execution_count": 76,
   "metadata": {},
   "outputs": [],
   "source": [
    "#splitting into train and test sets; remember to use shuffle=False\n",
    "X_train, X_test, y_train, y_test = train_test_split(X, y, shuffle=False)"
   ]
  },
  {
   "cell_type": "code",
   "execution_count": 77,
   "metadata": {},
   "outputs": [],
   "source": [
    "#now need to scale the data\n",
    "sscaler = StandardScaler()\n",
    "X_train_sc = sscaler.fit_transform(X_train)\n",
    "X_test_sc = sscaler.transform(X_test)"
   ]
  },
  {
   "cell_type": "code",
   "execution_count": 78,
   "metadata": {},
   "outputs": [],
   "source": [
    "train_sequences = TimeseriesGenerator(X_train_sc, y_train, length=7, batch_size=64)\n",
    "test_sequences = TimeseriesGenerator(X_test_sc, y_test, length=7, batch_size=64)"
   ]
  },
  {
   "cell_type": "code",
   "execution_count": 79,
   "metadata": {},
   "outputs": [
    {
     "data": {
      "text/plain": [
       "(64, 7, 3)"
      ]
     },
     "execution_count": 79,
     "metadata": {},
     "output_type": "execute_result"
    }
   ],
   "source": [
    "batch_x, batch_y = train_sequences[0]\n",
    "batch_x.shape"
   ]
  },
  {
   "cell_type": "code",
   "execution_count": 80,
   "metadata": {},
   "outputs": [],
   "source": [
    "#I'm going to use multiple GRUs like before, but I want to try more epochs\n",
    "modelm4 = Sequential()\n",
    "modelm4.add(GRU(10, input_shape = (7,3), return_sequences=True))\n",
    "modelm4.add(GRU(50, return_sequences=True, dropout=0.2, recurrent_dropout=0.2))\n",
    "modelm4.add(GRU(100, dropout=0.2, recurrent_dropout=0.2))\n",
    "modelm4.add(Dense(20, activation = 'relu'))\n",
    "modelm4.add(Dense(1))\n",
    "\n",
    "modelm4.compile(loss='mae', optimizer = 'adam', metrics=['acc', 'mse'])\n",
    "historym4 = modelm4.fit(train_sequences, validation_data=test_sequences, epochs=60, verbose=0)"
   ]
  },
  {
   "cell_type": "code",
   "execution_count": 81,
   "metadata": {},
   "outputs": [
    {
     "data": {
      "image/png": "[encoded data removed]",
      "text/plain": [
       "<Figure size 432x288 with 1 Axes>"
      ]
     },
     "metadata": {
      "needs_background": "light"
     },
     "output_type": "display_data"
    }
   ],
   "source": [
    "#let's look at our accuracy\n",
    "plt.plot(historym4.history['acc'], label='accuracy')\n",
    "plt.plot(historym4.history['val_acc'], label = 'val_accuracy')\n",
    "plt.legend();"
   ]
  },
  {
   "cell_type": "code",
   "execution_count": 82,
   "metadata": {},
   "outputs": [
    {
     "data": {
      "image/png": "[encoded data removed]",
      "text/plain": [
       "<Figure size 432x288 with 1 Axes>"
      ]
     },
     "metadata": {
      "needs_background": "light"
     },
     "output_type": "display_data"
    }
   ],
   "source": [
    "#let's look at our mse\n",
    "plt.plot(historym4.history['mse'], label='mse')\n",
    "plt.plot(historym4.history['val_mse'], label='val_mse')\n",
    "plt.legend();"
   ]
  },
  {
   "cell_type": "markdown",
   "metadata": {},
   "source": [
    "I think this model actually got down to a lower val rmse (down to ~0.15), which is the best yet. The extra epochs didn't really help though."
   ]
  },
  {
   "cell_type": "markdown",
   "metadata": {},
   "source": [
    "Since we seem to be improving with each feature, I added the last two in there, which are the WTI and Brent Spot Prices. It did not do as well, so I took the Brent Price out and moved forward to acheive my best model."
   ]
  },
  {
   "cell_type": "code",
   "execution_count": 163,
   "metadata": {},
   "outputs": [],
   "source": [
    "#define my X and y \n",
    "X = mega_df_weekly[['fracs_per_day','volume_per_day','avg_volh2o_per_ft', 'Rig_Count', 'WTI_Spot_Price']]\n",
    "y = mega_df_weekly['Daily_Avg']"
   ]
  },
  {
   "cell_type": "code",
   "execution_count": 164,
   "metadata": {},
   "outputs": [],
   "source": [
    "#splitting into train and test sets; remember to use shuffle=False\n",
    "X_train, X_test, y_train, y_test = train_test_split(X, y, shuffle=False)"
   ]
  },
  {
   "cell_type": "code",
   "execution_count": 193,
   "metadata": {},
   "outputs": [
    {
     "data": {
      "text/plain": [
       "2018-04-01    0.000000\n",
       "2018-04-08    0.000000\n",
       "2018-04-15    0.223663\n",
       "2018-04-22    0.528247\n",
       "2018-04-29    0.620691\n",
       "                ...   \n",
       "2020-01-05    0.571429\n",
       "2020-01-12    0.635714\n",
       "2020-01-19    0.607143\n",
       "2020-01-26    0.928571\n",
       "2020-02-02    0.380000\n",
       "Name: Daily_Avg, Length: 97, dtype: float64"
      ]
     },
     "execution_count": 193,
     "metadata": {},
     "output_type": "execute_result"
    }
   ],
   "source": [
    "y_test"
   ]
  },
  {
   "cell_type": "code",
   "execution_count": 166,
   "metadata": {},
   "outputs": [],
   "source": [
    "#now need to scale the data\n",
    "sscaler = StandardScaler()\n",
    "X_train_sc = sscaler.fit_transform(X_train)\n",
    "X_test_sc = sscaler.transform(X_test)"
   ]
  },
  {
   "cell_type": "code",
   "execution_count": 167,
   "metadata": {},
   "outputs": [],
   "source": [
    "train_sequences = TimeseriesGenerator(X_train_sc, y_train, length=7, batch_size=64)\n",
    "test_sequences = TimeseriesGenerator(X_test_sc, y_test, length=7, batch_size=64)"
   ]
  },
  {
   "cell_type": "code",
   "execution_count": 174,
   "metadata": {},
   "outputs": [
    {
     "data": {
      "text/plain": [
       "(64, 7, 5)"
      ]
     },
     "execution_count": 174,
     "metadata": {},
     "output_type": "execute_result"
    }
   ],
   "source": [
    "batch_x0, batch_y0 = train_sequences[0]\n",
    "batch_x0.shape"
   ]
  },
  {
   "cell_type": "code",
   "execution_count": 88,
   "metadata": {},
   "outputs": [],
   "source": [
    "#I'm going to use multiple GRUs like before, but I want to try more epochs\n",
    "modelm7 = Sequential()\n",
    "modelm7.add(GRU(10, input_shape = (7,5), return_sequences=True))\n",
    "modelm7.add(GRU(50, return_sequences=True, dropout=0.2, recurrent_dropout=0.2))\n",
    "modelm7.add(GRU(100, dropout=0.2, recurrent_dropout=0.2))\n",
    "modelm7.add(Dense(20, activation = 'relu'))\n",
    "modelm7.add(Dense(1))\n",
    "\n",
    "modelm7.compile(loss='mae', optimizer = 'adam', metrics=['acc', 'mse'])\n",
    "historym7 = modelm7.fit(train_sequences, validation_data=test_sequences, epochs=50, verbose=0)"
   ]
  },
  {
   "cell_type": "code",
   "execution_count": 89,
   "metadata": {},
   "outputs": [
    {
     "data": {
      "image/png": "[encoded data removed]",
      "text/plain": [
       "<Figure size 432x288 with 1 Axes>"
      ]
     },
     "metadata": {
      "needs_background": "light"
     },
     "output_type": "display_data"
    }
   ],
   "source": [
    "#let's look at our accuracy\n",
    "plt.plot(historym7.history['acc'], label='accuracy')\n",
    "plt.plot(historym7.history['val_acc'], label = 'val_accuracy')\n",
    "plt.legend();"
   ]
  },
  {
   "cell_type": "code",
   "execution_count": 90,
   "metadata": {},
   "outputs": [
    {
     "data": {
      "image/png": "[encoded data removed]",
      "text/plain": [
       "<Figure size 432x288 with 1 Axes>"
      ]
     },
     "metadata": {
      "needs_background": "light"
     },
     "output_type": "display_data"
    }
   ],
   "source": [
    "#let's look at our mse\n",
    "plt.plot(historym7.history['mse'], label='mse')\n",
    "plt.plot(historym7.history['val_mse'], label='val_mse')\n",
    "plt.legend();"
   ]
  },
  {
   "cell_type": "markdown",
   "metadata": {},
   "source": [
    "This was my best model because it had the lowest rmse scores for train and test sets. I then went on to try out a Convo1D and MaxPooling layer, but it did not do as well. "
   ]
  },
  {
   "cell_type": "markdown",
   "metadata": {},
   "source": [
    "I think can conclude that my best models so far are these last few. The rmse's are the lowest I've seen with the RNN. I think this is a combination of using all of my data (a much bigger time range than before) and using the best target: Daily Average Magnitude. From this last bit of modelling, I've also found that the most important features to use for predicting are Total Volume injected/day, Avg Volume of water injected/ft of lateral, the # of fracs going on per day, and the WTI Spot Price (a key indicator of activity level). "
   ]
  },
  {
   "cell_type": "code",
   "execution_count": null,
   "metadata": {},
   "outputs": [],
   "source": []
  },
  {
   "cell_type": "code",
   "execution_count": null,
   "metadata": {},
   "outputs": [],
   "source": []
  }
 ],
 "metadata": {
  "kernelspec": {
   "display_name": "Python 3",
   "language": "python",
   "name": "python3"
  },
  "language_info": {
   "codemirror_mode": {
    "name": "ipython",
    "version": 3
   },
   "file_extension": ".py",
   "mimetype": "text/x-python",
   "name": "python",
   "nbconvert_exporter": "python",
   "pygments_lexer": "ipython3",
   "version": "3.8.3"
  }
 },
 "nbformat": 4,
 "nbformat_minor": 5
}
