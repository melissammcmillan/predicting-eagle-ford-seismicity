{
 "cells": [
  {
   "cell_type": "markdown",
   "id": "controlled-citizenship",
   "metadata": {},
   "source": [
    "### Notebook 4 of Capstone Project: Modelling Using Recurrent Neural Networks!"
   ]
  },
  {
   "cell_type": "code",
   "execution_count": null,
   "id": "respective-telescope",
   "metadata": {},
   "outputs": [],
   "source": []
  },
  {
   "cell_type": "code",
   "execution_count": null,
   "id": "recovered-capitol",
   "metadata": {},
   "outputs": [],
   "source": []
  },
  {
   "cell_type": "markdown",
   "id": "quarterly-level",
   "metadata": {},
   "source": [
    "Import the needed libraries here:"
   ]
  },
  {
   "cell_type": "code",
   "execution_count": 1,
   "id": "stuffed-philosophy",
   "metadata": {},
   "outputs": [],
   "source": [
    "#the standard usual\n",
    "import pandas as pd\n",
    "import numpy as np\n",
    "import matplotlib.pyplot as plt\n",
    "import seaborn as sns\n",
    "\n",
    "#sklearn imports\n",
    "from sklearn.model_selection import train_test_split\n",
    "from sklearn.preprocessing import StandardScaler\n",
    "from sklearn.metrics import mean_squared_error\n",
    "\n",
    "#keras imports\n",
    "from keras.preprocessing.sequence import TimeseriesGenerator\n",
    "from keras.models import Sequential\n",
    "from keras.layers import SimpleRNN, LSTM, GRU, Dense\n",
    "from keras.layers import Bidirectional\n",
    "from keras.layers import Conv1D, MaxPooling1D, GlobalMaxPooling1D"
   ]
  },
  {
   "cell_type": "code",
   "execution_count": 2,
   "id": "cognitive-potential",
   "metadata": {},
   "outputs": [
    {
     "data": {
      "text/html": [
       "<div>\n",
       "<style scoped>\n",
       "    .dataframe tbody tr th:only-of-type {\n",
       "        vertical-align: middle;\n",
       "    }\n",
       "\n",
       "    .dataframe tbody tr th {\n",
       "        vertical-align: top;\n",
       "    }\n",
       "\n",
       "    .dataframe thead th {\n",
       "        text-align: right;\n",
       "    }\n",
       "</style>\n",
       "<table border=\"1\" class=\"dataframe\">\n",
       "  <thead>\n",
       "    <tr style=\"text-align: right;\">\n",
       "      <th></th>\n",
       "      <th>Daily_Avg</th>\n",
       "      <th>Daily_Sum</th>\n",
       "      <th>Daily_Count</th>\n",
       "      <th>Dly_Cnt_Diff</th>\n",
       "      <th>Rig_Count</th>\n",
       "      <th>WTI_Spot_Price</th>\n",
       "      <th>Brent_Spot_Price</th>\n",
       "      <th>fracs_per_day</th>\n",
       "      <th>volume_per_day</th>\n",
       "      <th>avg_volh2o_per_ft</th>\n",
       "    </tr>\n",
       "  </thead>\n",
       "  <tbody>\n",
       "    <tr>\n",
       "      <th>2016-01-01</th>\n",
       "      <td>0.0</td>\n",
       "      <td>0.0</td>\n",
       "      <td>0</td>\n",
       "      <td>NaN</td>\n",
       "      <td>33.0</td>\n",
       "      <td>37.13</td>\n",
       "      <td>36.61</td>\n",
       "      <td>9.0</td>\n",
       "      <td>5.080098e+06</td>\n",
       "      <td>1088.829502</td>\n",
       "    </tr>\n",
       "    <tr>\n",
       "      <th>2016-01-02</th>\n",
       "      <td>0.0</td>\n",
       "      <td>0.0</td>\n",
       "      <td>0</td>\n",
       "      <td>0.0</td>\n",
       "      <td>33.0</td>\n",
       "      <td>37.13</td>\n",
       "      <td>36.61</td>\n",
       "      <td>11.0</td>\n",
       "      <td>5.892634e+06</td>\n",
       "      <td>1044.749861</td>\n",
       "    </tr>\n",
       "    <tr>\n",
       "      <th>2016-01-03</th>\n",
       "      <td>0.0</td>\n",
       "      <td>0.0</td>\n",
       "      <td>0</td>\n",
       "      <td>0.0</td>\n",
       "      <td>33.0</td>\n",
       "      <td>37.13</td>\n",
       "      <td>36.61</td>\n",
       "      <td>9.0</td>\n",
       "      <td>4.539134e+06</td>\n",
       "      <td>1125.551135</td>\n",
       "    </tr>\n",
       "    <tr>\n",
       "      <th>2016-01-04</th>\n",
       "      <td>0.0</td>\n",
       "      <td>0.0</td>\n",
       "      <td>0</td>\n",
       "      <td>0.0</td>\n",
       "      <td>33.0</td>\n",
       "      <td>36.81</td>\n",
       "      <td>36.28</td>\n",
       "      <td>26.0</td>\n",
       "      <td>1.135010e+07</td>\n",
       "      <td>848.112281</td>\n",
       "    </tr>\n",
       "    <tr>\n",
       "      <th>2016-01-05</th>\n",
       "      <td>0.0</td>\n",
       "      <td>0.0</td>\n",
       "      <td>0</td>\n",
       "      <td>0.0</td>\n",
       "      <td>33.0</td>\n",
       "      <td>35.97</td>\n",
       "      <td>35.56</td>\n",
       "      <td>26.0</td>\n",
       "      <td>1.135010e+07</td>\n",
       "      <td>848.112281</td>\n",
       "    </tr>\n",
       "  </tbody>\n",
       "</table>\n",
       "</div>"
      ],
      "text/plain": [
       "            Daily_Avg  Daily_Sum  Daily_Count  Dly_Cnt_Diff  Rig_Count  \\\n",
       "2016-01-01        0.0        0.0            0           NaN       33.0   \n",
       "2016-01-02        0.0        0.0            0           0.0       33.0   \n",
       "2016-01-03        0.0        0.0            0           0.0       33.0   \n",
       "2016-01-04        0.0        0.0            0           0.0       33.0   \n",
       "2016-01-05        0.0        0.0            0           0.0       33.0   \n",
       "\n",
       "            WTI_Spot_Price  Brent_Spot_Price  fracs_per_day  volume_per_day  \\\n",
       "2016-01-01           37.13             36.61            9.0    5.080098e+06   \n",
       "2016-01-02           37.13             36.61           11.0    5.892634e+06   \n",
       "2016-01-03           37.13             36.61            9.0    4.539134e+06   \n",
       "2016-01-04           36.81             36.28           26.0    1.135010e+07   \n",
       "2016-01-05           35.97             35.56           26.0    1.135010e+07   \n",
       "\n",
       "            avg_volh2o_per_ft  \n",
       "2016-01-01        1088.829502  \n",
       "2016-01-02        1044.749861  \n",
       "2016-01-03        1125.551135  \n",
       "2016-01-04         848.112281  \n",
       "2016-01-05         848.112281  "
      ]
     },
     "execution_count": 2,
     "metadata": {},
     "output_type": "execute_result"
    }
   ],
   "source": [
    "data = pd.read_csv('oil_and_gas_data/data_for_modelling/data_ready_for_modelling.csv', index_col=0)\n",
    "data.head()"
   ]
  },
  {
   "cell_type": "code",
   "execution_count": 3,
   "id": "handy-bundle",
   "metadata": {},
   "outputs": [
    {
     "name": "stdout",
     "output_type": "stream",
     "text": [
      "<class 'pandas.core.frame.DataFrame'>\n",
      "DatetimeIndex: 1859 entries, 2016-01-01 to 2021-02-01\n",
      "Data columns (total 10 columns):\n",
      " #   Column             Non-Null Count  Dtype  \n",
      "---  ------             --------------  -----  \n",
      " 0   Daily_Avg          1859 non-null   float64\n",
      " 1   Daily_Sum          1859 non-null   float64\n",
      " 2   Daily_Count        1859 non-null   int64  \n",
      " 3   Dly_Cnt_Diff       1858 non-null   float64\n",
      " 4   Rig_Count          1760 non-null   float64\n",
      " 5   WTI_Spot_Price     1859 non-null   float64\n",
      " 6   Brent_Spot_Price   1859 non-null   float64\n",
      " 7   fracs_per_day      1801 non-null   float64\n",
      " 8   volume_per_day     1801 non-null   float64\n",
      " 9   avg_volh2o_per_ft  1695 non-null   float64\n",
      "dtypes: float64(9), int64(1)\n",
      "memory usage: 159.8 KB\n"
     ]
    }
   ],
   "source": [
    "data.index = pd.to_datetime(data.index)\n",
    "data.info()"
   ]
  },
  {
   "cell_type": "markdown",
   "id": "settled-spine",
   "metadata": {},
   "source": [
    "The first model I want to try will be a classification problem where I try to predict if the daily seismicity goes up or down (I'm going to lump staying the same with going down). I'm also going to start with just one feature, the fracs per day column, and then build from there."
   ]
  },
  {
   "cell_type": "code",
   "execution_count": 4,
   "id": "higher-myanmar",
   "metadata": {},
   "outputs": [
    {
     "data": {
      "text/html": [
       "<div>\n",
       "<style scoped>\n",
       "    .dataframe tbody tr th:only-of-type {\n",
       "        vertical-align: middle;\n",
       "    }\n",
       "\n",
       "    .dataframe tbody tr th {\n",
       "        vertical-align: top;\n",
       "    }\n",
       "\n",
       "    .dataframe thead th {\n",
       "        text-align: right;\n",
       "    }\n",
       "</style>\n",
       "<table border=\"1\" class=\"dataframe\">\n",
       "  <thead>\n",
       "    <tr style=\"text-align: right;\">\n",
       "      <th></th>\n",
       "      <th>Daily_Avg</th>\n",
       "      <th>Daily_Sum</th>\n",
       "      <th>Daily_Count</th>\n",
       "      <th>Dly_Cnt_Diff</th>\n",
       "      <th>Rig_Count</th>\n",
       "      <th>WTI_Spot_Price</th>\n",
       "      <th>Brent_Spot_Price</th>\n",
       "      <th>fracs_per_day</th>\n",
       "      <th>volume_per_day</th>\n",
       "      <th>avg_volh2o_per_ft</th>\n",
       "    </tr>\n",
       "  </thead>\n",
       "  <tbody>\n",
       "    <tr>\n",
       "      <th>2016-01-02</th>\n",
       "      <td>0.0</td>\n",
       "      <td>0.0</td>\n",
       "      <td>0</td>\n",
       "      <td>0.0</td>\n",
       "      <td>33.0</td>\n",
       "      <td>37.13</td>\n",
       "      <td>36.61</td>\n",
       "      <td>11.0</td>\n",
       "      <td>5.892634e+06</td>\n",
       "      <td>1044.749861</td>\n",
       "    </tr>\n",
       "    <tr>\n",
       "      <th>2016-01-03</th>\n",
       "      <td>0.0</td>\n",
       "      <td>0.0</td>\n",
       "      <td>0</td>\n",
       "      <td>0.0</td>\n",
       "      <td>33.0</td>\n",
       "      <td>37.13</td>\n",
       "      <td>36.61</td>\n",
       "      <td>9.0</td>\n",
       "      <td>4.539134e+06</td>\n",
       "      <td>1125.551135</td>\n",
       "    </tr>\n",
       "    <tr>\n",
       "      <th>2016-01-04</th>\n",
       "      <td>0.0</td>\n",
       "      <td>0.0</td>\n",
       "      <td>0</td>\n",
       "      <td>0.0</td>\n",
       "      <td>33.0</td>\n",
       "      <td>36.81</td>\n",
       "      <td>36.28</td>\n",
       "      <td>26.0</td>\n",
       "      <td>1.135010e+07</td>\n",
       "      <td>848.112281</td>\n",
       "    </tr>\n",
       "    <tr>\n",
       "      <th>2016-01-05</th>\n",
       "      <td>0.0</td>\n",
       "      <td>0.0</td>\n",
       "      <td>0</td>\n",
       "      <td>0.0</td>\n",
       "      <td>33.0</td>\n",
       "      <td>35.97</td>\n",
       "      <td>35.56</td>\n",
       "      <td>26.0</td>\n",
       "      <td>1.135010e+07</td>\n",
       "      <td>848.112281</td>\n",
       "    </tr>\n",
       "    <tr>\n",
       "      <th>2016-01-06</th>\n",
       "      <td>0.0</td>\n",
       "      <td>0.0</td>\n",
       "      <td>0</td>\n",
       "      <td>0.0</td>\n",
       "      <td>33.0</td>\n",
       "      <td>33.97</td>\n",
       "      <td>33.89</td>\n",
       "      <td>26.0</td>\n",
       "      <td>1.195583e+07</td>\n",
       "      <td>813.047953</td>\n",
       "    </tr>\n",
       "  </tbody>\n",
       "</table>\n",
       "</div>"
      ],
      "text/plain": [
       "            Daily_Avg  Daily_Sum  Daily_Count  Dly_Cnt_Diff  Rig_Count  \\\n",
       "2016-01-02        0.0        0.0            0           0.0       33.0   \n",
       "2016-01-03        0.0        0.0            0           0.0       33.0   \n",
       "2016-01-04        0.0        0.0            0           0.0       33.0   \n",
       "2016-01-05        0.0        0.0            0           0.0       33.0   \n",
       "2016-01-06        0.0        0.0            0           0.0       33.0   \n",
       "\n",
       "            WTI_Spot_Price  Brent_Spot_Price  fracs_per_day  volume_per_day  \\\n",
       "2016-01-02           37.13             36.61           11.0    5.892634e+06   \n",
       "2016-01-03           37.13             36.61            9.0    4.539134e+06   \n",
       "2016-01-04           36.81             36.28           26.0    1.135010e+07   \n",
       "2016-01-05           35.97             35.56           26.0    1.135010e+07   \n",
       "2016-01-06           33.97             33.89           26.0    1.195583e+07   \n",
       "\n",
       "            avg_volh2o_per_ft  \n",
       "2016-01-02        1044.749861  \n",
       "2016-01-03        1125.551135  \n",
       "2016-01-04         848.112281  \n",
       "2016-01-05         848.112281  \n",
       "2016-01-06         813.047953  "
      ]
     },
     "execution_count": 4,
     "metadata": {},
     "output_type": "execute_result"
    }
   ],
   "source": [
    "#drop the Nan's from the data\n",
    "data_model = data.dropna()\n",
    "data_model.head()"
   ]
  },
  {
   "cell_type": "code",
   "execution_count": 5,
   "id": "southern-transsexual",
   "metadata": {},
   "outputs": [],
   "source": [
    "#define our X and y\n",
    "X = data_model[['fracs_per_day']]\n",
    "y = np.where(data_model['Dly_Cnt_Diff'] > 0, 1, 0)"
   ]
  },
  {
   "cell_type": "code",
   "execution_count": 6,
   "id": "overhead-thompson",
   "metadata": {},
   "outputs": [
    {
     "data": {
      "text/plain": [
       " 0.0     1410\n",
       "-1.0       71\n",
       " 1.0       58\n",
       " 2.0       22\n",
       "-2.0       20\n",
       "-3.0        7\n",
       " 5.0        5\n",
       " 3.0        4\n",
       " 4.0        4\n",
       "-4.0        3\n",
       "-5.0        1\n",
       "-24.0       1\n",
       " 12.0       1\n",
       " 11.0       1\n",
       " 6.0        1\n",
       "-6.0        1\n",
       "Name: Dly_Cnt_Diff, dtype: int64"
      ]
     },
     "execution_count": 6,
     "metadata": {},
     "output_type": "execute_result"
    }
   ],
   "source": [
    "data_model['Dly_Cnt_Diff'].value_counts()"
   ]
  },
  {
   "cell_type": "markdown",
   "id": "floppy-battery",
   "metadata": {},
   "source": [
    "We definitely have an inbalanced class issue here. For the way I've lumped the target column, I have 1515 0's and 96 1's, which is a 94%/6% ratio. That's not good. Let's just run this model to get our feet wet and see how it goes. We can run a different model next. "
   ]
  },
  {
   "cell_type": "code",
   "execution_count": 7,
   "id": "spread-celebrity",
   "metadata": {},
   "outputs": [],
   "source": [
    "#splitting into train and test sets; remember to use shuffle=False\n",
    "X_train, X_test, y_train, y_test = train_test_split(X, y, shuffle=False)"
   ]
  },
  {
   "cell_type": "code",
   "execution_count": 8,
   "id": "optional-operations",
   "metadata": {},
   "outputs": [
    {
     "data": {
      "text/html": [
       "<div>\n",
       "<style scoped>\n",
       "    .dataframe tbody tr th:only-of-type {\n",
       "        vertical-align: middle;\n",
       "    }\n",
       "\n",
       "    .dataframe tbody tr th {\n",
       "        vertical-align: top;\n",
       "    }\n",
       "\n",
       "    .dataframe thead th {\n",
       "        text-align: right;\n",
       "    }\n",
       "</style>\n",
       "<table border=\"1\" class=\"dataframe\">\n",
       "  <thead>\n",
       "    <tr style=\"text-align: right;\">\n",
       "      <th></th>\n",
       "      <th>fracs_per_day</th>\n",
       "    </tr>\n",
       "  </thead>\n",
       "  <tbody>\n",
       "    <tr>\n",
       "      <th>2016-01-02</th>\n",
       "      <td>11.0</td>\n",
       "    </tr>\n",
       "    <tr>\n",
       "      <th>2016-01-03</th>\n",
       "      <td>9.0</td>\n",
       "    </tr>\n",
       "    <tr>\n",
       "      <th>2016-01-04</th>\n",
       "      <td>26.0</td>\n",
       "    </tr>\n",
       "    <tr>\n",
       "      <th>2016-01-05</th>\n",
       "      <td>26.0</td>\n",
       "    </tr>\n",
       "    <tr>\n",
       "      <th>2016-01-06</th>\n",
       "      <td>26.0</td>\n",
       "    </tr>\n",
       "  </tbody>\n",
       "</table>\n",
       "</div>"
      ],
      "text/plain": [
       "            fracs_per_day\n",
       "2016-01-02           11.0\n",
       "2016-01-03            9.0\n",
       "2016-01-04           26.0\n",
       "2016-01-05           26.0\n",
       "2016-01-06           26.0"
      ]
     },
     "execution_count": 8,
     "metadata": {},
     "output_type": "execute_result"
    }
   ],
   "source": [
    "X_train.head()"
   ]
  },
  {
   "cell_type": "code",
   "execution_count": 9,
   "id": "tender-cable",
   "metadata": {},
   "outputs": [],
   "source": [
    "#now need to scale the data\n",
    "sscaler = StandardScaler()"
   ]
  },
  {
   "cell_type": "code",
   "execution_count": 10,
   "id": "several-generic",
   "metadata": {},
   "outputs": [],
   "source": [
    "X_train_sc = sscaler.fit_transform(X_train)\n",
    "X_test_sc = sscaler.transform(X_test)"
   ]
  },
  {
   "cell_type": "code",
   "execution_count": 11,
   "id": "convertible-dylan",
   "metadata": {},
   "outputs": [
    {
     "data": {
      "text/plain": [
       "(1207, 1)"
      ]
     },
     "execution_count": 11,
     "metadata": {},
     "output_type": "execute_result"
    }
   ],
   "source": [
    "X_train_sc.shape"
   ]
  },
  {
   "cell_type": "code",
   "execution_count": 12,
   "id": "approximate-photograph",
   "metadata": {},
   "outputs": [],
   "source": [
    "#we have quite a bit of data in here, we'll need to make sure we generate stacks of this data"
   ]
  },
  {
   "cell_type": "code",
   "execution_count": 13,
   "id": "ahead-wrapping",
   "metadata": {},
   "outputs": [],
   "source": [
    "#break up the data into 7-day stacks\n",
    "train_sequences = TimeseriesGenerator(X_train_sc, y_train, length=7, batch_size=64)"
   ]
  },
  {
   "cell_type": "code",
   "execution_count": 14,
   "id": "intimate-campbell",
   "metadata": {},
   "outputs": [],
   "source": [
    "batch_x, batch_y = train_sequences[0]"
   ]
  },
  {
   "cell_type": "code",
   "execution_count": 15,
   "id": "related-jimmy",
   "metadata": {},
   "outputs": [
    {
     "data": {
      "text/plain": [
       "array([[[-0.44622721],\n",
       "        [-0.59640043],\n",
       "        [ 0.68007192],\n",
       "        [ 0.68007192],\n",
       "        [ 0.68007192],\n",
       "        [ 0.75515852],\n",
       "        [ 0.75515852]],\n",
       "\n",
       "       [[-0.59640043],\n",
       "        [ 0.68007192],\n",
       "        [ 0.68007192],\n",
       "        [ 0.68007192],\n",
       "        [ 0.75515852],\n",
       "        [ 0.75515852],\n",
       "        [ 0.75515852]],\n",
       "\n",
       "       [[ 0.68007192],\n",
       "        [ 0.68007192],\n",
       "        [ 0.68007192],\n",
       "        [ 0.75515852],\n",
       "        [ 0.75515852],\n",
       "        [ 0.75515852],\n",
       "        [ 0.75515852]]])"
      ]
     },
     "execution_count": 15,
     "metadata": {},
     "output_type": "execute_result"
    }
   ],
   "source": [
    "batch_x[:3]"
   ]
  },
  {
   "cell_type": "code",
   "execution_count": 16,
   "id": "virtual-mattress",
   "metadata": {},
   "outputs": [
    {
     "data": {
      "text/plain": [
       "array([0, 0, 0])"
      ]
     },
     "execution_count": 16,
     "metadata": {},
     "output_type": "execute_result"
    }
   ],
   "source": [
    "batch_y[:3]"
   ]
  },
  {
   "cell_type": "code",
   "execution_count": 17,
   "id": "extensive-literacy",
   "metadata": {},
   "outputs": [
    {
     "data": {
      "text/plain": [
       "(64, 7, 1)"
      ]
     },
     "execution_count": 17,
     "metadata": {},
     "output_type": "execute_result"
    }
   ],
   "source": [
    "batch_x.shape"
   ]
  },
  {
   "cell_type": "code",
   "execution_count": 18,
   "id": "british-reception",
   "metadata": {},
   "outputs": [],
   "source": [
    "test_sequences = TimeseriesGenerator(X_test_sc, y_test, length=7, batch_size=64)"
   ]
  },
  {
   "cell_type": "code",
   "execution_count": 19,
   "id": "micro-marathon",
   "metadata": {},
   "outputs": [],
   "source": [
    "#I'm going to use a simple RNN to start\n",
    "model1 = Sequential()\n",
    "model1.add(SimpleRNN(8, input_shape = (7,1)))\n",
    "model1.add(Dense(20, activation = 'relu'))\n",
    "model1.add(Dense(1, activation = 'sigmoid'))"
   ]
  },
  {
   "cell_type": "code",
   "execution_count": 20,
   "id": "casual-march",
   "metadata": {},
   "outputs": [],
   "source": [
    "model1.compile(loss='bce', optimizer = 'adam', metrics=['acc'])"
   ]
  },
  {
   "cell_type": "code",
   "execution_count": 21,
   "id": "backed-minimum",
   "metadata": {},
   "outputs": [],
   "source": [
    "history1 = model1.fit(train_sequences, validation_data=test_sequences, epochs=30, verbose=0)"
   ]
  },
  {
   "cell_type": "code",
   "execution_count": 22,
   "id": "personalized-funds",
   "metadata": {},
   "outputs": [
    {
     "data": {
      "text/plain": [
       "[<matplotlib.lines.Line2D at 0x7fd0ad500b20>]"
      ]
     },
     "execution_count": 22,
     "metadata": {},
     "output_type": "execute_result"
    },
    {
     "data": {
      "image/png": "[encoded data removed]",
      "text/plain": [
       "<Figure size 432x288 with 1 Axes>"
      ]
     },
     "metadata": {
      "needs_background": "light"
     },
     "output_type": "display_data"
    }
   ],
   "source": [
    "#this ran quick, so that is nice. let's look at our accuracy\n",
    "plt.plot(history1.history['acc'])\n",
    "plt.plot(history1.history['val_acc'])"
   ]
  },
  {
   "cell_type": "markdown",
   "id": "infinite-potential",
   "metadata": {},
   "source": [
    "Well, we had really unbalanced classes going into this thing, so I didn't expect to get great results. Let me now switch to a regression problem instead, using the same target (but not lumped), and see how that does."
   ]
  },
  {
   "cell_type": "code",
   "execution_count": 23,
   "id": "featured-blast",
   "metadata": {},
   "outputs": [],
   "source": [
    "#I'll redefine X and y here\n",
    "#x is the same\n",
    "X = data_model[['fracs_per_day']]\n",
    "#y will just be the Dly_Cnt_Diff column\n",
    "y = data_model['Dly_Cnt_Diff']"
   ]
  },
  {
   "cell_type": "code",
   "execution_count": 24,
   "id": "creative-syndicate",
   "metadata": {},
   "outputs": [],
   "source": [
    "#splitting into train and test sets; remember to use shuffle=False\n",
    "X_train, X_test, y_train, y_test = train_test_split(X, y, shuffle=False)"
   ]
  },
  {
   "cell_type": "code",
   "execution_count": 25,
   "id": "ultimate-primary",
   "metadata": {},
   "outputs": [],
   "source": [
    "#now need to scale the data\n",
    "sscaler = StandardScaler()"
   ]
  },
  {
   "cell_type": "code",
   "execution_count": 26,
   "id": "attempted-familiar",
   "metadata": {},
   "outputs": [],
   "source": [
    "X_train_sc = sscaler.fit_transform(X_train)\n",
    "X_test_sc = sscaler.transform(X_test)"
   ]
  },
  {
   "cell_type": "code",
   "execution_count": 27,
   "id": "thick-government",
   "metadata": {},
   "outputs": [],
   "source": [
    "train_sequences = TimeseriesGenerator(X_train_sc, y_train, length=7, batch_size=64)\n",
    "test_sequences = TimeseriesGenerator(X_test_sc, y_test, length=7, batch_size=64)"
   ]
  },
  {
   "cell_type": "code",
   "execution_count": 28,
   "id": "important-ceremony",
   "metadata": {},
   "outputs": [
    {
     "data": {
      "text/plain": [
       "(1207, 1)"
      ]
     },
     "execution_count": 28,
     "metadata": {},
     "output_type": "execute_result"
    }
   ],
   "source": [
    "X_train_sc.shape"
   ]
  },
  {
   "cell_type": "code",
   "execution_count": 29,
   "id": "accessory-train",
   "metadata": {},
   "outputs": [],
   "source": [
    "batch_x, batch_y = train_sequences[0]"
   ]
  },
  {
   "cell_type": "code",
   "execution_count": 30,
   "id": "historic-estimate",
   "metadata": {},
   "outputs": [
    {
     "data": {
      "text/plain": [
       "array([[[-0.44622721],\n",
       "        [-0.59640043],\n",
       "        [ 0.68007192],\n",
       "        [ 0.68007192],\n",
       "        [ 0.68007192],\n",
       "        [ 0.75515852],\n",
       "        [ 0.75515852]]])"
      ]
     },
     "execution_count": 30,
     "metadata": {},
     "output_type": "execute_result"
    }
   ],
   "source": [
    "batch_x[:1]"
   ]
  },
  {
   "cell_type": "code",
   "execution_count": 31,
   "id": "controlling-swift",
   "metadata": {},
   "outputs": [
    {
     "data": {
      "text/plain": [
       "array([0.])"
      ]
     },
     "execution_count": 31,
     "metadata": {},
     "output_type": "execute_result"
    }
   ],
   "source": [
    "batch_y[:1]"
   ]
  },
  {
   "cell_type": "code",
   "execution_count": 32,
   "id": "medium-expansion",
   "metadata": {},
   "outputs": [
    {
     "data": {
      "text/plain": [
       "(64, 7, 1)"
      ]
     },
     "execution_count": 32,
     "metadata": {},
     "output_type": "execute_result"
    }
   ],
   "source": [
    "batch_x.shape"
   ]
  },
  {
   "cell_type": "code",
   "execution_count": 33,
   "id": "liked-gazette",
   "metadata": {},
   "outputs": [],
   "source": [
    "#I'm going to use a simple RNN to start\n",
    "model2 = Sequential()\n",
    "model2.add(SimpleRNN(8, input_shape = (7,1)))\n",
    "model2.add(Dense(20, activation = 'relu'))\n",
    "model2.add(Dense(1))"
   ]
  },
  {
   "cell_type": "code",
   "execution_count": 34,
   "id": "smooth-wholesale",
   "metadata": {},
   "outputs": [],
   "source": [
    "model2.compile(loss='mae', optimizer = 'adam', metrics=['acc', 'mse'])"
   ]
  },
  {
   "cell_type": "code",
   "execution_count": 35,
   "id": "small-enough",
   "metadata": {},
   "outputs": [],
   "source": [
    "history2 = model2.fit(train_sequences, validation_data=test_sequences, epochs=30, verbose=0)"
   ]
  },
  {
   "cell_type": "code",
   "execution_count": 36,
   "id": "collected-chuck",
   "metadata": {},
   "outputs": [
    {
     "data": {
      "text/plain": [
       "[<matplotlib.lines.Line2D at 0x7fd0af54fa90>]"
      ]
     },
     "execution_count": 36,
     "metadata": {},
     "output_type": "execute_result"
    },
    {
     "data": {
      "image/png": "[encoded data removed]",
      "text/plain": [
       "<Figure size 432x288 with 1 Axes>"
      ]
     },
     "metadata": {
      "needs_background": "light"
     },
     "output_type": "display_data"
    }
   ],
   "source": [
    "#let's look at our accuracy\n",
    "plt.plot(history2.history['acc'], label='accuracy')\n",
    "plt.plot(history2.history['val_acc'], label = 'val_accuracy')"
   ]
  },
  {
   "cell_type": "code",
   "execution_count": 37,
   "id": "undefined-connectivity",
   "metadata": {},
   "outputs": [
    {
     "data": {
      "image/png": "[encoded data removed]",
      "text/plain": [
       "<Figure size 432x288 with 1 Axes>"
      ]
     },
     "metadata": {
      "needs_background": "light"
     },
     "output_type": "display_data"
    }
   ],
   "source": [
    "#let's look at our loss/mse\n",
    "plt.plot(history2.history['mse'], label='mse')\n",
    "plt.plot(history2.history['val_mse'], label='val_mse')\n",
    "plt.legend();"
   ]
  },
  {
   "cell_type": "markdown",
   "id": "prostate-executive",
   "metadata": {},
   "source": [
    "This is doing about as good as our simple mean rmse that we ran prior to doing the ARIMA model. Recall that our rmse using the simple mean was 0.4. So, we'll keep going and try to get a better result with different model architecture."
   ]
  },
  {
   "cell_type": "code",
   "execution_count": 38,
   "id": "isolated-makeup",
   "metadata": {},
   "outputs": [],
   "source": [
    "#I'm going to use a GRU now to see if this makes any difference\n",
    "model3 = Sequential()\n",
    "model3.add(GRU(8, input_shape = (7,1)))\n",
    "model3.add(Dense(20, activation = 'relu'))\n",
    "model3.add(Dense(1))\n",
    "\n",
    "model3.compile(loss='mae', optimizer = 'adam', metrics=['acc', 'mse'])\n",
    "history3 = model3.fit(train_sequences, validation_data=test_sequences, epochs=30, verbose=0)"
   ]
  },
  {
   "cell_type": "code",
   "execution_count": 39,
   "id": "eastern-diary",
   "metadata": {},
   "outputs": [
    {
     "data": {
      "text/plain": [
       "[<matplotlib.lines.Line2D at 0x7fd0b26c8070>]"
      ]
     },
     "execution_count": 39,
     "metadata": {},
     "output_type": "execute_result"
    },
    {
     "data": {
      "image/png": "[encoded data removed]",
      "text/plain": [
       "<Figure size 432x288 with 1 Axes>"
      ]
     },
     "metadata": {
      "needs_background": "light"
     },
     "output_type": "display_data"
    }
   ],
   "source": [
    "#let's look at our accuracy\n",
    "plt.plot(history3.history['acc'], label='accuracy')\n",
    "plt.plot(history3.history['val_acc'], label = 'val_accuracy')"
   ]
  },
  {
   "cell_type": "code",
   "execution_count": 40,
   "id": "quarterly-flashing",
   "metadata": {},
   "outputs": [
    {
     "data": {
      "image/png": "[encoded data removed]",
      "text/plain": [
       "<Figure size 432x288 with 1 Axes>"
      ]
     },
     "metadata": {
      "needs_background": "light"
     },
     "output_type": "display_data"
    }
   ],
   "source": [
    "#let's look at our loss/mse\n",
    "plt.plot(history3.history['mse'], label='mse')\n",
    "plt.plot(history3.history['val_mse'], label='val_mse')\n",
    "plt.legend();"
   ]
  },
  {
   "cell_type": "code",
   "execution_count": 41,
   "id": "average-india",
   "metadata": {},
   "outputs": [],
   "source": [
    "#it did about the same; let's make the model more complicated\n",
    "#I'm going to use multiple GRUs now to see if this makes any difference\n",
    "model4 = Sequential()\n",
    "model4.add(GRU(8, input_shape = (7,1), return_sequences=True))\n",
    "model4.add(GRU(8, return_sequences=True))\n",
    "model4.add(GRU(8))\n",
    "model4.add(Dense(20, activation = 'relu'))\n",
    "model4.add(Dense(1))\n",
    "\n",
    "model4.compile(loss='mae', optimizer = 'adam', metrics=['acc', 'mse'])\n",
    "history4 = model4.fit(train_sequences, validation_data=test_sequences, epochs=30, verbose=0)"
   ]
  },
  {
   "cell_type": "code",
   "execution_count": 42,
   "id": "engaged-alabama",
   "metadata": {},
   "outputs": [
    {
     "data": {
      "text/plain": [
       "[<matplotlib.lines.Line2D at 0x7fd0ba21c910>]"
      ]
     },
     "execution_count": 42,
     "metadata": {},
     "output_type": "execute_result"
    },
    {
     "data": {
      "image/png": "[encoded data removed]",
      "text/plain": [
       "<Figure size 432x288 with 1 Axes>"
      ]
     },
     "metadata": {
      "needs_background": "light"
     },
     "output_type": "display_data"
    }
   ],
   "source": [
    "#let's look at our accuracy\n",
    "plt.plot(history4.history['acc'], label='accuracy')\n",
    "plt.plot(history4.history['val_acc'], label = 'val_accuracy')"
   ]
  },
  {
   "cell_type": "code",
   "execution_count": 43,
   "id": "duplicate-context",
   "metadata": {},
   "outputs": [
    {
     "data": {
      "image/png": "[encoded data removed]",
      "text/plain": [
       "<Figure size 432x288 with 1 Axes>"
      ]
     },
     "metadata": {
      "needs_background": "light"
     },
     "output_type": "display_data"
    }
   ],
   "source": [
    "#let's look at our loss/mse\n",
    "plt.plot(history4.history['mse'], label='mse')\n",
    "plt.plot(history4.history['val_mse'], label='val_mse')\n",
    "plt.legend();"
   ]
  },
  {
   "cell_type": "code",
   "execution_count": 44,
   "id": "durable-layout",
   "metadata": {},
   "outputs": [],
   "source": [
    "#it did the same; let's make the model more complicated\n",
    "#I'm going to use a GRU with dropout now to see if this makes any difference\n",
    "model5 = Sequential()\n",
    "model5.add(GRU(8, input_shape = (7,1), return_sequences=True))\n",
    "model5.add(GRU(8, return_sequences=True, dropout=0.2, recurrent_dropout=0.2))\n",
    "model5.add(GRU(8))\n",
    "model5.add(Dense(20, activation = 'relu'))\n",
    "model5.add(Dense(1))\n",
    "\n",
    "model5.compile(loss='mae', optimizer = 'adam', metrics=['acc', 'mse'])\n",
    "history5 = model5.fit(train_sequences, validation_data=test_sequences, epochs=30, verbose=0)"
   ]
  },
  {
   "cell_type": "code",
   "execution_count": 45,
   "id": "expired-tonight",
   "metadata": {},
   "outputs": [
    {
     "data": {
      "text/plain": [
       "[<matplotlib.lines.Line2D at 0x7fd0a163d430>]"
      ]
     },
     "execution_count": 45,
     "metadata": {},
     "output_type": "execute_result"
    },
    {
     "data": {
      "image/png": "[encoded data removed]",
      "text/plain": [
       "<Figure size 432x288 with 1 Axes>"
      ]
     },
     "metadata": {
      "needs_background": "light"
     },
     "output_type": "display_data"
    }
   ],
   "source": [
    "#let's look at our accuracy\n",
    "plt.plot(history5.history['acc'], label='accuracy')\n",
    "plt.plot(history5.history['val_acc'], label = 'val_accuracy')"
   ]
  },
  {
   "cell_type": "code",
   "execution_count": 46,
   "id": "armed-phone",
   "metadata": {},
   "outputs": [
    {
     "data": {
      "image/png": "[encoded data removed]",
      "text/plain": [
       "<Figure size 432x288 with 1 Axes>"
      ]
     },
     "metadata": {
      "needs_background": "light"
     },
     "output_type": "display_data"
    }
   ],
   "source": [
    "#let's look at our loss/mse\n",
    "plt.plot(history5.history['mse'], label='mse')\n",
    "plt.plot(history5.history['val_mse'], label='val_mse')\n",
    "plt.legend();"
   ]
  },
  {
   "cell_type": "code",
   "execution_count": 47,
   "id": "concrete-priority",
   "metadata": {},
   "outputs": [],
   "source": [
    "#it did the same; let's make the model more complicated\n",
    "#I'm going to use a GRU with dropout now to see if this makes any difference\n",
    "model6 = Sequential()\n",
    "model6.add(Bidirectional(GRU(8, input_shape = (7,1), return_sequences=True)))\n",
    "model6.add(GRU(8, return_sequences=True, dropout=0.2, recurrent_dropout=0.2))\n",
    "model6.add(GRU(8))\n",
    "model6.add(Dense(20, activation = 'relu'))\n",
    "model6.add(Dense(1))\n",
    "\n",
    "model6.compile(loss='mae', optimizer = 'adam', metrics=['acc', 'mse'])\n",
    "history6 = model6.fit(train_sequences, validation_data=test_sequences, epochs=30, verbose=0)"
   ]
  },
  {
   "cell_type": "code",
   "execution_count": 48,
   "id": "administrative-daisy",
   "metadata": {},
   "outputs": [
    {
     "data": {
      "text/plain": [
       "[<matplotlib.lines.Line2D at 0x7fd0ab6b89a0>]"
      ]
     },
     "execution_count": 48,
     "metadata": {},
     "output_type": "execute_result"
    },
    {
     "data": {
      "image/png": "[encoded data removed]",
      "text/plain": [
       "<Figure size 432x288 with 1 Axes>"
      ]
     },
     "metadata": {
      "needs_background": "light"
     },
     "output_type": "display_data"
    }
   ],
   "source": [
    "#let's look at our accuracy\n",
    "plt.plot(history6.history['acc'], label='accuracy')\n",
    "plt.plot(history6.history['val_acc'], label = 'val_accuracy')"
   ]
  },
  {
   "cell_type": "code",
   "execution_count": 49,
   "id": "higher-guyana",
   "metadata": {},
   "outputs": [
    {
     "data": {
      "image/png": "[encoded data removed]",
      "text/plain": [
       "<Figure size 432x288 with 1 Axes>"
      ]
     },
     "metadata": {
      "needs_background": "light"
     },
     "output_type": "display_data"
    }
   ],
   "source": [
    "#let's look at our loss/mse\n",
    "plt.plot(history6.history['mse'], label='mse')\n",
    "plt.plot(history6.history['val_mse'], label='val_mse')\n",
    "plt.legend();"
   ]
  },
  {
   "cell_type": "code",
   "execution_count": 50,
   "id": "binary-teens",
   "metadata": {},
   "outputs": [],
   "source": [
    "#it did the same; let's make the model more complicated\n",
    "#I'm going to use an LSTM now with dropout to see if this makes any difference\n",
    "model7 = Sequential()\n",
    "model7.add(Bidirectional(LSTM(8, input_shape = (7,1), return_sequences=True)))\n",
    "model7.add(LSTM(8, return_sequences=True, dropout=0.2, recurrent_dropout=0.2))\n",
    "model7.add(LSTM(8))\n",
    "model7.add(Dense(20, activation = 'relu'))\n",
    "model7.add(Dense(1))\n",
    "\n",
    "model7.compile(loss='mae', optimizer = 'adam', metrics=['acc', 'mse'])\n",
    "history7 = model7.fit(train_sequences, validation_data=test_sequences, epochs=30, verbose=0)"
   ]
  },
  {
   "cell_type": "code",
   "execution_count": 51,
   "id": "timely-zambia",
   "metadata": {},
   "outputs": [
    {
     "data": {
      "text/plain": [
       "[<matplotlib.lines.Line2D at 0x7fd0972e5b50>]"
      ]
     },
     "execution_count": 51,
     "metadata": {},
     "output_type": "execute_result"
    },
    {
     "data": {
      "image/png": "[encoded data removed]",
      "text/plain": [
       "<Figure size 432x288 with 1 Axes>"
      ]
     },
     "metadata": {
      "needs_background": "light"
     },
     "output_type": "display_data"
    }
   ],
   "source": [
    "#let's look at our accuracy\n",
    "plt.plot(history7.history['acc'], label='accuracy')\n",
    "plt.plot(history7.history['val_acc'], label = 'val_accuracy')"
   ]
  },
  {
   "cell_type": "code",
   "execution_count": 52,
   "id": "elder-mount",
   "metadata": {},
   "outputs": [
    {
     "data": {
      "image/png": "[encoded data removed]",
      "text/plain": [
       "<Figure size 432x288 with 1 Axes>"
      ]
     },
     "metadata": {
      "needs_background": "light"
     },
     "output_type": "display_data"
    }
   ],
   "source": [
    "#let's look at our loss/mse\n",
    "plt.plot(history7.history['mse'], label='mse')\n",
    "plt.plot(history7.history['val_mse'], label='val_mse')\n",
    "plt.legend();"
   ]
  },
  {
   "cell_type": "markdown",
   "id": "shaped-assault",
   "metadata": {},
   "source": [
    "I'm going to try testing a few different features now with a basic model and see if I get anything different."
   ]
  },
  {
   "cell_type": "code",
   "execution_count": 54,
   "id": "undefined-amsterdam",
   "metadata": {},
   "outputs": [],
   "source": [
    "X = data_model[['Rig_Count', 'WTI_Spot_Price', 'volume_per_day', 'avg_volh2o_per_ft']]\n",
    "#y will be the same\n",
    "y = data_model['Dly_Cnt_Diff']"
   ]
  },
  {
   "cell_type": "code",
   "execution_count": 55,
   "id": "muslim-usage",
   "metadata": {},
   "outputs": [],
   "source": [
    "#split into train and test data\n",
    "X_train, X_test, y_train, y_test = train_test_split(X, y, shuffle=False)"
   ]
  },
  {
   "cell_type": "code",
   "execution_count": 56,
   "id": "joint-indonesian",
   "metadata": {},
   "outputs": [],
   "source": [
    "sscaler = StandardScaler()\n",
    "X_train_sc = sscaler.fit_transform(X_train)\n",
    "X_test_sc = sscaler.transform(X_test)"
   ]
  },
  {
   "cell_type": "code",
   "execution_count": 57,
   "id": "advance-forward",
   "metadata": {},
   "outputs": [],
   "source": [
    "#break up the data into 3-day stacks\n",
    "train_sequences = TimeseriesGenerator(X_train_sc, y_train, length=3, batch_size=64)"
   ]
  },
  {
   "cell_type": "code",
   "execution_count": 58,
   "id": "handmade-clone",
   "metadata": {},
   "outputs": [],
   "source": [
    "batch_x, batch_y = train_sequences[0]"
   ]
  },
  {
   "cell_type": "code",
   "execution_count": 59,
   "id": "other-radio",
   "metadata": {},
   "outputs": [
    {
     "data": {
      "text/plain": [
       "array([[[ 0.85265453, -1.58644214, -0.79573962, -1.7798988 ],\n",
       "        [ 0.85265453, -1.58644214, -0.929386  , -1.63081953],\n",
       "        [ 0.85265453, -1.61728604, -0.25686165, -2.14269738]],\n",
       "\n",
       "       [[ 0.85265453, -1.58644214, -0.929386  , -1.63081953],\n",
       "        [ 0.85265453, -1.61728604, -0.25686165, -2.14269738],\n",
       "        [ 0.85265453, -1.69825128, -0.25686165, -2.14269738]],\n",
       "\n",
       "       [[ 0.85265453, -1.61728604, -0.25686165, -2.14269738],\n",
       "        [ 0.85265453, -1.69825128, -0.25686165, -2.14269738],\n",
       "        [ 0.85265453, -1.89102566, -0.19705072, -2.20739147]]])"
      ]
     },
     "execution_count": 59,
     "metadata": {},
     "output_type": "execute_result"
    }
   ],
   "source": [
    "batch_x[:3]"
   ]
  },
  {
   "cell_type": "code",
   "execution_count": 60,
   "id": "previous-gardening",
   "metadata": {},
   "outputs": [
    {
     "data": {
      "text/plain": [
       "(64, 3, 4)"
      ]
     },
     "execution_count": 60,
     "metadata": {},
     "output_type": "execute_result"
    }
   ],
   "source": [
    "batch_x.shape"
   ]
  },
  {
   "cell_type": "code",
   "execution_count": 61,
   "id": "hungarian-acquisition",
   "metadata": {},
   "outputs": [],
   "source": [
    "test_sequences = TimeseriesGenerator(X_test_sc, y_test, length=3, batch_size=64)"
   ]
  },
  {
   "cell_type": "code",
   "execution_count": 62,
   "id": "uniform-assignment",
   "metadata": {},
   "outputs": [],
   "source": [
    "#I'm going to use multiple GRUs\n",
    "model9 = Sequential()\n",
    "model9.add(GRU(8, input_shape = (3,4), return_sequences=True))\n",
    "model9.add(GRU(8, return_sequences=True))\n",
    "model9.add(GRU(8))\n",
    "model9.add(Dense(20, activation = 'relu'))\n",
    "model9.add(Dense(1))\n",
    "\n",
    "model9.compile(loss='mae', optimizer = 'adam', metrics=['acc', 'mse'])\n",
    "history9 = model9.fit(train_sequences, validation_data=test_sequences, epochs=30, verbose=0)"
   ]
  },
  {
   "cell_type": "code",
   "execution_count": 63,
   "id": "insured-friendly",
   "metadata": {},
   "outputs": [
    {
     "data": {
      "text/plain": [
       "[<matplotlib.lines.Line2D at 0x7fd07d745970>]"
      ]
     },
     "execution_count": 63,
     "metadata": {},
     "output_type": "execute_result"
    },
    {
     "data": {
      "image/png": "[encoded data removed]",
      "text/plain": [
       "<Figure size 432x288 with 1 Axes>"
      ]
     },
     "metadata": {
      "needs_background": "light"
     },
     "output_type": "display_data"
    }
   ],
   "source": [
    "#let's look at our accuracy\n",
    "plt.plot(history9.history['acc'], label='accuracy')\n",
    "plt.plot(history9.history['val_acc'], label = 'val_accuracy')"
   ]
  },
  {
   "cell_type": "code",
   "execution_count": 64,
   "id": "further-secret",
   "metadata": {},
   "outputs": [
    {
     "data": {
      "image/png": "[encoded data removed]",
      "text/plain": [
       "<Figure size 432x288 with 1 Axes>"
      ]
     },
     "metadata": {
      "needs_background": "light"
     },
     "output_type": "display_data"
    }
   ],
   "source": [
    "#let's look at our loss/mse\n",
    "plt.plot(history9.history['mse'], label='mse')\n",
    "plt.plot(history9.history['val_mse'], label='val_mse')\n",
    "plt.legend();"
   ]
  },
  {
   "cell_type": "markdown",
   "id": "proper-municipality",
   "metadata": {},
   "source": [
    "Okay, this did the same. I'm going to try using a different target now. Same X features."
   ]
  },
  {
   "cell_type": "code",
   "execution_count": 65,
   "id": "serial-plenty",
   "metadata": {},
   "outputs": [],
   "source": [
    "X = data_model[['Rig_Count', 'WTI_Spot_Price', 'volume_per_day', 'avg_volh2o_per_ft']]\n",
    "#y will be the daily_sum column\n",
    "y = data_model['Daily_Sum']"
   ]
  },
  {
   "cell_type": "code",
   "execution_count": 66,
   "id": "alternative-draft",
   "metadata": {},
   "outputs": [],
   "source": [
    "#split into train and test data\n",
    "X_train, X_test, y_train, y_test = train_test_split(X, y, shuffle=False)"
   ]
  },
  {
   "cell_type": "code",
   "execution_count": 67,
   "id": "collected-danish",
   "metadata": {},
   "outputs": [],
   "source": [
    "sscaler = StandardScaler()\n",
    "X_train_sc = sscaler.fit_transform(X_train)\n",
    "X_test_sc = sscaler.transform(X_test)"
   ]
  },
  {
   "cell_type": "code",
   "execution_count": 68,
   "id": "broad-collar",
   "metadata": {},
   "outputs": [],
   "source": [
    "#break up the data into 3-day stacks\n",
    "train_sequences = TimeseriesGenerator(X_train_sc, y_train, length=3, batch_size=64)"
   ]
  },
  {
   "cell_type": "code",
   "execution_count": 69,
   "id": "amino-doctrine",
   "metadata": {},
   "outputs": [
    {
     "data": {
      "text/plain": [
       "(64, 3, 4)"
      ]
     },
     "execution_count": 69,
     "metadata": {},
     "output_type": "execute_result"
    }
   ],
   "source": [
    "batch_x, batch_y = train_sequences[0]\n",
    "batch_x.shape"
   ]
  },
  {
   "cell_type": "code",
   "execution_count": 70,
   "id": "tutorial-rebate",
   "metadata": {},
   "outputs": [],
   "source": [
    "test_sequences = TimeseriesGenerator(X_test_sc, y_test, length=3, batch_size=64)"
   ]
  },
  {
   "cell_type": "code",
   "execution_count": 71,
   "id": "aware-classics",
   "metadata": {},
   "outputs": [],
   "source": [
    "#I'm going to use multiple GRUs\n",
    "model10 = Sequential()\n",
    "model10.add(GRU(8, input_shape = (3,4), return_sequences=True))\n",
    "model10.add(GRU(20, return_sequences=True))\n",
    "model10.add(GRU(10))\n",
    "model10.add(Dense(20, activation = 'relu'))\n",
    "model10.add(Dense(1))\n",
    "\n",
    "model10.compile(loss='mae', optimizer = 'adam', metrics=['acc', 'mse'])\n",
    "history10 = model10.fit(train_sequences, validation_data=test_sequences, epochs=30, verbose=0)"
   ]
  },
  {
   "cell_type": "code",
   "execution_count": 72,
   "id": "sound-cemetery",
   "metadata": {},
   "outputs": [
    {
     "data": {
      "text/plain": [
       "[<matplotlib.lines.Line2D at 0x7fd08539a3d0>]"
      ]
     },
     "execution_count": 72,
     "metadata": {},
     "output_type": "execute_result"
    },
    {
     "data": {
      "image/png": "[encoded data removed]",
      "text/plain": [
       "<Figure size 432x288 with 1 Axes>"
      ]
     },
     "metadata": {
      "needs_background": "light"
     },
     "output_type": "display_data"
    }
   ],
   "source": [
    "#let's look at our accuracy\n",
    "plt.plot(history10.history['acc'], label='accuracy')\n",
    "plt.plot(history10.history['val_acc'], label = 'val_accuracy')"
   ]
  },
  {
   "cell_type": "code",
   "execution_count": 73,
   "id": "beginning-hawaii",
   "metadata": {},
   "outputs": [
    {
     "data": {
      "image/png": "[encoded data removed]",
      "text/plain": [
       "<Figure size 432x288 with 1 Axes>"
      ]
     },
     "metadata": {
      "needs_background": "light"
     },
     "output_type": "display_data"
    }
   ],
   "source": [
    "#let's look at our loss/mse\n",
    "plt.plot(history10.history['mse'], label='mse')\n",
    "plt.plot(history10.history['val_mse'], label='val_mse')\n",
    "plt.legend();"
   ]
  },
  {
   "cell_type": "code",
   "execution_count": 74,
   "id": "simplified-aurora",
   "metadata": {},
   "outputs": [
    {
     "data": {
      "text/plain": [
       "array([0.3054681, 0.3054681, 0.3054681, ..., 0.3054681, 0.3054681,\n",
       "       0.3054681])"
      ]
     },
     "execution_count": 74,
     "metadata": {},
     "output_type": "execute_result"
    }
   ],
   "source": [
    "#let me make a quick baseline model so we can assess how this model did\n",
    "mean_y_train_array = np.full_like(y_train, y_train.mean())\n",
    "mean_y_train_array"
   ]
  },
  {
   "cell_type": "code",
   "execution_count": 75,
   "id": "compound-pacific",
   "metadata": {},
   "outputs": [
    {
     "data": {
      "text/plain": [
       "1.7632969586758556"
      ]
     },
     "execution_count": 75,
     "metadata": {},
     "output_type": "execute_result"
    }
   ],
   "source": [
    "mean_squared_error(y_train, mean_y_train_array, squared=False)"
   ]
  },
  {
   "cell_type": "code",
   "execution_count": 76,
   "id": "moral-documentary",
   "metadata": {},
   "outputs": [],
   "source": [
    "mean_y_test_array = np.full_like(y_test, y_test.mean())"
   ]
  },
  {
   "cell_type": "code",
   "execution_count": 77,
   "id": "chubby-guidance",
   "metadata": {},
   "outputs": [
    {
     "data": {
      "text/plain": [
       "1.2378104935320362"
      ]
     },
     "execution_count": 77,
     "metadata": {},
     "output_type": "execute_result"
    }
   ],
   "source": [
    "mean_squared_error(y_test, mean_y_test_array, squared=False)"
   ]
  },
  {
   "cell_type": "markdown",
   "id": "norman-wireless",
   "metadata": {},
   "source": [
    "This did worse than a simple mean model. I'm going to try a smaller time range and see how that does."
   ]
  },
  {
   "cell_type": "code",
   "execution_count": 78,
   "id": "miniature-effectiveness",
   "metadata": {},
   "outputs": [],
   "source": [
    "data_small = data_model.loc['10-1-2017':'3-31-2020',]"
   ]
  },
  {
   "cell_type": "code",
   "execution_count": 79,
   "id": "stylish-charm",
   "metadata": {},
   "outputs": [
    {
     "data": {
      "text/html": [
       "<div>\n",
       "<style scoped>\n",
       "    .dataframe tbody tr th:only-of-type {\n",
       "        vertical-align: middle;\n",
       "    }\n",
       "\n",
       "    .dataframe tbody tr th {\n",
       "        vertical-align: top;\n",
       "    }\n",
       "\n",
       "    .dataframe thead th {\n",
       "        text-align: right;\n",
       "    }\n",
       "</style>\n",
       "<table border=\"1\" class=\"dataframe\">\n",
       "  <thead>\n",
       "    <tr style=\"text-align: right;\">\n",
       "      <th></th>\n",
       "      <th>Daily_Avg</th>\n",
       "      <th>Daily_Sum</th>\n",
       "      <th>Daily_Count</th>\n",
       "      <th>Dly_Cnt_Diff</th>\n",
       "      <th>Rig_Count</th>\n",
       "      <th>WTI_Spot_Price</th>\n",
       "      <th>Brent_Spot_Price</th>\n",
       "      <th>fracs_per_day</th>\n",
       "      <th>volume_per_day</th>\n",
       "      <th>avg_volh2o_per_ft</th>\n",
       "    </tr>\n",
       "  </thead>\n",
       "  <tbody>\n",
       "    <tr>\n",
       "      <th>2017-10-01</th>\n",
       "      <td>0.0</td>\n",
       "      <td>0.0</td>\n",
       "      <td>0</td>\n",
       "      <td>0.0</td>\n",
       "      <td>27.0</td>\n",
       "      <td>51.67</td>\n",
       "      <td>57.02</td>\n",
       "      <td>47.0</td>\n",
       "      <td>2.651121e+07</td>\n",
       "      <td>2057.055001</td>\n",
       "    </tr>\n",
       "    <tr>\n",
       "      <th>2017-10-02</th>\n",
       "      <td>0.0</td>\n",
       "      <td>0.0</td>\n",
       "      <td>0</td>\n",
       "      <td>0.0</td>\n",
       "      <td>27.0</td>\n",
       "      <td>50.59</td>\n",
       "      <td>55.67</td>\n",
       "      <td>46.0</td>\n",
       "      <td>2.490001e+07</td>\n",
       "      <td>2055.337718</td>\n",
       "    </tr>\n",
       "    <tr>\n",
       "      <th>2017-10-03</th>\n",
       "      <td>0.0</td>\n",
       "      <td>0.0</td>\n",
       "      <td>0</td>\n",
       "      <td>0.0</td>\n",
       "      <td>27.0</td>\n",
       "      <td>50.44</td>\n",
       "      <td>56.12</td>\n",
       "      <td>46.0</td>\n",
       "      <td>2.490001e+07</td>\n",
       "      <td>2055.337718</td>\n",
       "    </tr>\n",
       "    <tr>\n",
       "      <th>2017-10-04</th>\n",
       "      <td>0.0</td>\n",
       "      <td>0.0</td>\n",
       "      <td>0</td>\n",
       "      <td>0.0</td>\n",
       "      <td>27.0</td>\n",
       "      <td>50.00</td>\n",
       "      <td>56.00</td>\n",
       "      <td>23.0</td>\n",
       "      <td>1.212874e+07</td>\n",
       "      <td>1868.106876</td>\n",
       "    </tr>\n",
       "    <tr>\n",
       "      <th>2017-10-05</th>\n",
       "      <td>0.0</td>\n",
       "      <td>0.0</td>\n",
       "      <td>0</td>\n",
       "      <td>0.0</td>\n",
       "      <td>27.0</td>\n",
       "      <td>50.79</td>\n",
       "      <td>57.09</td>\n",
       "      <td>19.0</td>\n",
       "      <td>1.072558e+07</td>\n",
       "      <td>1911.134559</td>\n",
       "    </tr>\n",
       "    <tr>\n",
       "      <th>...</th>\n",
       "      <td>...</td>\n",
       "      <td>...</td>\n",
       "      <td>...</td>\n",
       "      <td>...</td>\n",
       "      <td>...</td>\n",
       "      <td>...</td>\n",
       "      <td>...</td>\n",
       "      <td>...</td>\n",
       "      <td>...</td>\n",
       "      <td>...</td>\n",
       "    </tr>\n",
       "    <tr>\n",
       "      <th>2020-03-27</th>\n",
       "      <td>0.0</td>\n",
       "      <td>0.0</td>\n",
       "      <td>0</td>\n",
       "      <td>-1.0</td>\n",
       "      <td>33.0</td>\n",
       "      <td>15.48</td>\n",
       "      <td>22.39</td>\n",
       "      <td>33.0</td>\n",
       "      <td>1.874334e+07</td>\n",
       "      <td>2329.799570</td>\n",
       "    </tr>\n",
       "    <tr>\n",
       "      <th>2020-03-28</th>\n",
       "      <td>0.0</td>\n",
       "      <td>0.0</td>\n",
       "      <td>0</td>\n",
       "      <td>0.0</td>\n",
       "      <td>30.0</td>\n",
       "      <td>15.48</td>\n",
       "      <td>22.39</td>\n",
       "      <td>33.0</td>\n",
       "      <td>1.874334e+07</td>\n",
       "      <td>2329.799570</td>\n",
       "    </tr>\n",
       "    <tr>\n",
       "      <th>2020-03-29</th>\n",
       "      <td>0.0</td>\n",
       "      <td>0.0</td>\n",
       "      <td>0</td>\n",
       "      <td>0.0</td>\n",
       "      <td>30.0</td>\n",
       "      <td>15.48</td>\n",
       "      <td>22.39</td>\n",
       "      <td>33.0</td>\n",
       "      <td>1.874334e+07</td>\n",
       "      <td>2329.799570</td>\n",
       "    </tr>\n",
       "    <tr>\n",
       "      <th>2020-03-30</th>\n",
       "      <td>0.0</td>\n",
       "      <td>0.0</td>\n",
       "      <td>0</td>\n",
       "      <td>0.0</td>\n",
       "      <td>30.0</td>\n",
       "      <td>14.10</td>\n",
       "      <td>19.19</td>\n",
       "      <td>33.0</td>\n",
       "      <td>1.874334e+07</td>\n",
       "      <td>2329.799570</td>\n",
       "    </tr>\n",
       "    <tr>\n",
       "      <th>2020-03-31</th>\n",
       "      <td>0.0</td>\n",
       "      <td>0.0</td>\n",
       "      <td>0</td>\n",
       "      <td>0.0</td>\n",
       "      <td>30.0</td>\n",
       "      <td>20.51</td>\n",
       "      <td>14.85</td>\n",
       "      <td>32.0</td>\n",
       "      <td>1.814802e+07</td>\n",
       "      <td>2335.660695</td>\n",
       "    </tr>\n",
       "  </tbody>\n",
       "</table>\n",
       "<p>871 rows × 10 columns</p>\n",
       "</div>"
      ],
      "text/plain": [
       "            Daily_Avg  Daily_Sum  Daily_Count  Dly_Cnt_Diff  Rig_Count  \\\n",
       "2017-10-01        0.0        0.0            0           0.0       27.0   \n",
       "2017-10-02        0.0        0.0            0           0.0       27.0   \n",
       "2017-10-03        0.0        0.0            0           0.0       27.0   \n",
       "2017-10-04        0.0        0.0            0           0.0       27.0   \n",
       "2017-10-05        0.0        0.0            0           0.0       27.0   \n",
       "...               ...        ...          ...           ...        ...   \n",
       "2020-03-27        0.0        0.0            0          -1.0       33.0   \n",
       "2020-03-28        0.0        0.0            0           0.0       30.0   \n",
       "2020-03-29        0.0        0.0            0           0.0       30.0   \n",
       "2020-03-30        0.0        0.0            0           0.0       30.0   \n",
       "2020-03-31        0.0        0.0            0           0.0       30.0   \n",
       "\n",
       "            WTI_Spot_Price  Brent_Spot_Price  fracs_per_day  volume_per_day  \\\n",
       "2017-10-01           51.67             57.02           47.0    2.651121e+07   \n",
       "2017-10-02           50.59             55.67           46.0    2.490001e+07   \n",
       "2017-10-03           50.44             56.12           46.0    2.490001e+07   \n",
       "2017-10-04           50.00             56.00           23.0    1.212874e+07   \n",
       "2017-10-05           50.79             57.09           19.0    1.072558e+07   \n",
       "...                    ...               ...            ...             ...   \n",
       "2020-03-27           15.48             22.39           33.0    1.874334e+07   \n",
       "2020-03-28           15.48             22.39           33.0    1.874334e+07   \n",
       "2020-03-29           15.48             22.39           33.0    1.874334e+07   \n",
       "2020-03-30           14.10             19.19           33.0    1.874334e+07   \n",
       "2020-03-31           20.51             14.85           32.0    1.814802e+07   \n",
       "\n",
       "            avg_volh2o_per_ft  \n",
       "2017-10-01        2057.055001  \n",
       "2017-10-02        2055.337718  \n",
       "2017-10-03        2055.337718  \n",
       "2017-10-04        1868.106876  \n",
       "2017-10-05        1911.134559  \n",
       "...                       ...  \n",
       "2020-03-27        2329.799570  \n",
       "2020-03-28        2329.799570  \n",
       "2020-03-29        2329.799570  \n",
       "2020-03-30        2329.799570  \n",
       "2020-03-31        2335.660695  \n",
       "\n",
       "[871 rows x 10 columns]"
      ]
     },
     "execution_count": 79,
     "metadata": {},
     "output_type": "execute_result"
    }
   ],
   "source": [
    "data_small"
   ]
  },
  {
   "cell_type": "code",
   "execution_count": 81,
   "id": "confidential-reasoning",
   "metadata": {},
   "outputs": [],
   "source": [
    "X = data_small[['Rig_Count', 'WTI_Spot_Price', 'volume_per_day', 'avg_volh2o_per_ft']]\n",
    "#y will be the daily_sum column\n",
    "y = data_small['Daily_Sum']"
   ]
  },
  {
   "cell_type": "code",
   "execution_count": 82,
   "id": "talented-amount",
   "metadata": {},
   "outputs": [],
   "source": [
    "#split into train and test data\n",
    "X_train, X_test, y_train, y_test = train_test_split(X, y, shuffle=False)"
   ]
  },
  {
   "cell_type": "code",
   "execution_count": 83,
   "id": "editorial-shareware",
   "metadata": {},
   "outputs": [],
   "source": [
    "sscaler = StandardScaler()\n",
    "X_train_sc = sscaler.fit_transform(X_train)\n",
    "X_test_sc = sscaler.transform(X_test)"
   ]
  },
  {
   "cell_type": "code",
   "execution_count": 84,
   "id": "indonesian-colombia",
   "metadata": {},
   "outputs": [],
   "source": [
    "#break up the data into 3-day stacks\n",
    "train_sequences = TimeseriesGenerator(X_train_sc, y_train, length=3, batch_size=64)"
   ]
  },
  {
   "cell_type": "code",
   "execution_count": 85,
   "id": "stock-candidate",
   "metadata": {},
   "outputs": [
    {
     "data": {
      "text/plain": [
       "(64, 3, 4)"
      ]
     },
     "execution_count": 85,
     "metadata": {},
     "output_type": "execute_result"
    }
   ],
   "source": [
    "batch_x, batch_y = train_sequences[0]\n",
    "batch_x.shape"
   ]
  },
  {
   "cell_type": "code",
   "execution_count": 86,
   "id": "civilian-plaintiff",
   "metadata": {},
   "outputs": [],
   "source": [
    "test_sequences = TimeseriesGenerator(X_test_sc, y_test, length=3, batch_size=64)"
   ]
  },
  {
   "cell_type": "code",
   "execution_count": 87,
   "id": "worst-denver",
   "metadata": {},
   "outputs": [],
   "source": [
    "#I'm going to use multiple GRUs\n",
    "model11 = Sequential()\n",
    "model11.add(GRU(10, input_shape = (3,4), return_sequences=True))\n",
    "model11.add(GRU(50, return_sequences=True))\n",
    "model11.add(GRU(100))\n",
    "model11.add(Dense(20, activation = 'relu'))\n",
    "model11.add(Dense(1))\n",
    "\n",
    "model11.compile(loss='mae', optimizer = 'adam', metrics=['acc', 'mse'])\n",
    "history11 = model11.fit(train_sequences, validation_data=test_sequences, epochs=30, verbose=0)"
   ]
  },
  {
   "cell_type": "code",
   "execution_count": 88,
   "id": "incoming-handbook",
   "metadata": {},
   "outputs": [
    {
     "data": {
      "image/png": "[encoded data removed]",
      "text/plain": [
       "<Figure size 432x288 with 1 Axes>"
      ]
     },
     "metadata": {
      "needs_background": "light"
     },
     "output_type": "display_data"
    }
   ],
   "source": [
    "#let's look at our accuracy\n",
    "plt.plot(history11.history['acc'], label='accuracy')\n",
    "plt.plot(history11.history['val_acc'], label = 'val_accuracy')\n",
    "plt.legend();"
   ]
  },
  {
   "cell_type": "code",
   "execution_count": 89,
   "id": "settled-charger",
   "metadata": {},
   "outputs": [
    {
     "data": {
      "image/png": "[encoded data removed]",
      "text/plain": [
       "<Figure size 432x288 with 1 Axes>"
      ]
     },
     "metadata": {
      "needs_background": "light"
     },
     "output_type": "display_data"
    }
   ],
   "source": [
    "#let's look at our loss/mse\n",
    "plt.plot(history11.history['mse'], label='mse')\n",
    "plt.plot(history11.history['val_mse'], label='val_mse')\n",
    "plt.legend();"
   ]
  },
  {
   "cell_type": "code",
   "execution_count": null,
   "id": "incorrect-winner",
   "metadata": {},
   "outputs": [],
   "source": []
  },
  {
   "cell_type": "code",
   "execution_count": 90,
   "id": "complimentary-glossary",
   "metadata": {},
   "outputs": [],
   "source": [
    "#I'm going to use multiple GRUs\n",
    "model12 = Sequential()\n",
    "model12.add(GRU(10, input_shape = (3,4), return_sequences=True))\n",
    "model12.add(GRU(50, return_sequences=True, dropout=0.2, recurrent_dropout=0.2))\n",
    "model12.add(GRU(100, dropout=0.2, recurrent_dropout=0.2))\n",
    "model12.add(Dense(20, activation = 'relu'))\n",
    "model12.add(Dense(1))\n",
    "\n",
    "model12.compile(loss='mae', optimizer = 'adam', metrics=['acc', 'mse'])\n",
    "history12 = model12.fit(train_sequences, validation_data=test_sequences, epochs=50, verbose=0)"
   ]
  },
  {
   "cell_type": "code",
   "execution_count": 91,
   "id": "capital-ethernet",
   "metadata": {},
   "outputs": [
    {
     "data": {
      "image/png": "[encoded data removed]",
      "text/plain": [
       "<Figure size 432x288 with 1 Axes>"
      ]
     },
     "metadata": {
      "needs_background": "light"
     },
     "output_type": "display_data"
    }
   ],
   "source": [
    "#let's look at our accuracy\n",
    "plt.plot(history12.history['acc'], label='accuracy')\n",
    "plt.plot(history12.history['val_acc'], label = 'val_accuracy')\n",
    "plt.legend();"
   ]
  },
  {
   "cell_type": "code",
   "execution_count": 92,
   "id": "hollywood-prerequisite",
   "metadata": {},
   "outputs": [
    {
     "data": {
      "image/png": "[encoded data removed]",
      "text/plain": [
       "<Figure size 432x288 with 1 Axes>"
      ]
     },
     "metadata": {
      "needs_background": "light"
     },
     "output_type": "display_data"
    }
   ],
   "source": [
    "#let's look at our loss/mse\n",
    "plt.plot(history12.history['mse'], label='mse')\n",
    "plt.plot(history12.history['val_mse'], label='val_mse')\n",
    "plt.legend();"
   ]
  },
  {
   "cell_type": "markdown",
   "id": "discrete-discharge",
   "metadata": {},
   "source": [
    "What if I resamples to weekly using the smaller time range. I wonder if that would do better."
   ]
  },
  {
   "cell_type": "code",
   "execution_count": 93,
   "id": "indian-beads",
   "metadata": {},
   "outputs": [
    {
     "data": {
      "text/html": [
       "<div>\n",
       "<style scoped>\n",
       "    .dataframe tbody tr th:only-of-type {\n",
       "        vertical-align: middle;\n",
       "    }\n",
       "\n",
       "    .dataframe tbody tr th {\n",
       "        vertical-align: top;\n",
       "    }\n",
       "\n",
       "    .dataframe thead th {\n",
       "        text-align: right;\n",
       "    }\n",
       "</style>\n",
       "<table border=\"1\" class=\"dataframe\">\n",
       "  <thead>\n",
       "    <tr style=\"text-align: right;\">\n",
       "      <th></th>\n",
       "      <th>Daily_Avg</th>\n",
       "      <th>Daily_Sum</th>\n",
       "      <th>Daily_Count</th>\n",
       "      <th>Dly_Cnt_Diff</th>\n",
       "      <th>Rig_Count</th>\n",
       "      <th>WTI_Spot_Price</th>\n",
       "      <th>Brent_Spot_Price</th>\n",
       "      <th>fracs_per_day</th>\n",
       "      <th>volume_per_day</th>\n",
       "      <th>avg_volh2o_per_ft</th>\n",
       "    </tr>\n",
       "  </thead>\n",
       "  <tbody>\n",
       "    <tr>\n",
       "      <th>2017-10-01</th>\n",
       "      <td>0.000000</td>\n",
       "      <td>0.000000</td>\n",
       "      <td>0.000000</td>\n",
       "      <td>0.0</td>\n",
       "      <td>27.000000</td>\n",
       "      <td>51.670000</td>\n",
       "      <td>57.020000</td>\n",
       "      <td>47.000000</td>\n",
       "      <td>2.651121e+07</td>\n",
       "      <td>2057.055001</td>\n",
       "    </tr>\n",
       "    <tr>\n",
       "      <th>2017-10-08</th>\n",
       "      <td>0.000000</td>\n",
       "      <td>0.000000</td>\n",
       "      <td>0.000000</td>\n",
       "      <td>0.0</td>\n",
       "      <td>27.571429</td>\n",
       "      <td>49.977143</td>\n",
       "      <td>55.911429</td>\n",
       "      <td>27.142857</td>\n",
       "      <td>1.480486e+07</td>\n",
       "      <td>1940.390559</td>\n",
       "    </tr>\n",
       "    <tr>\n",
       "      <th>2017-10-15</th>\n",
       "      <td>0.000000</td>\n",
       "      <td>0.000000</td>\n",
       "      <td>0.000000</td>\n",
       "      <td>0.0</td>\n",
       "      <td>29.857143</td>\n",
       "      <td>50.958571</td>\n",
       "      <td>56.392857</td>\n",
       "      <td>16.142857</td>\n",
       "      <td>9.249819e+06</td>\n",
       "      <td>1928.475138</td>\n",
       "    </tr>\n",
       "    <tr>\n",
       "      <th>2017-10-22</th>\n",
       "      <td>0.000000</td>\n",
       "      <td>0.000000</td>\n",
       "      <td>0.000000</td>\n",
       "      <td>0.0</td>\n",
       "      <td>32.285714</td>\n",
       "      <td>51.708571</td>\n",
       "      <td>57.808571</td>\n",
       "      <td>14.714286</td>\n",
       "      <td>7.058174e+06</td>\n",
       "      <td>2132.500242</td>\n",
       "    </tr>\n",
       "    <tr>\n",
       "      <th>2017-10-29</th>\n",
       "      <td>0.000000</td>\n",
       "      <td>0.000000</td>\n",
       "      <td>0.000000</td>\n",
       "      <td>0.0</td>\n",
       "      <td>33.857143</td>\n",
       "      <td>52.910000</td>\n",
       "      <td>59.025714</td>\n",
       "      <td>13.142857</td>\n",
       "      <td>6.712036e+06</td>\n",
       "      <td>2241.499288</td>\n",
       "    </tr>\n",
       "    <tr>\n",
       "      <th>...</th>\n",
       "      <td>...</td>\n",
       "      <td>...</td>\n",
       "      <td>...</td>\n",
       "      <td>...</td>\n",
       "      <td>...</td>\n",
       "      <td>...</td>\n",
       "      <td>...</td>\n",
       "      <td>...</td>\n",
       "      <td>...</td>\n",
       "      <td>...</td>\n",
       "    </tr>\n",
       "    <tr>\n",
       "      <th>2020-03-08</th>\n",
       "      <td>0.000000</td>\n",
       "      <td>0.000000</td>\n",
       "      <td>0.000000</td>\n",
       "      <td>0.0</td>\n",
       "      <td>32.714286</td>\n",
       "      <td>44.307143</td>\n",
       "      <td>49.244286</td>\n",
       "      <td>28.000000</td>\n",
       "      <td>2.196417e+07</td>\n",
       "      <td>2541.374936</td>\n",
       "    </tr>\n",
       "    <tr>\n",
       "      <th>2020-03-15</th>\n",
       "      <td>0.000000</td>\n",
       "      <td>0.000000</td>\n",
       "      <td>0.000000</td>\n",
       "      <td>0.0</td>\n",
       "      <td>32.000000</td>\n",
       "      <td>32.195714</td>\n",
       "      <td>33.302857</td>\n",
       "      <td>30.571429</td>\n",
       "      <td>2.360722e+07</td>\n",
       "      <td>2545.060663</td>\n",
       "    </tr>\n",
       "    <tr>\n",
       "      <th>2020-03-22</th>\n",
       "      <td>0.000000</td>\n",
       "      <td>0.000000</td>\n",
       "      <td>0.000000</td>\n",
       "      <td>0.0</td>\n",
       "      <td>32.285714</td>\n",
       "      <td>22.847143</td>\n",
       "      <td>25.624286</td>\n",
       "      <td>32.000000</td>\n",
       "      <td>2.262417e+07</td>\n",
       "      <td>2586.057358</td>\n",
       "    </tr>\n",
       "    <tr>\n",
       "      <th>2020-03-29</th>\n",
       "      <td>0.271429</td>\n",
       "      <td>0.271429</td>\n",
       "      <td>0.142857</td>\n",
       "      <td>0.0</td>\n",
       "      <td>32.142857</td>\n",
       "      <td>18.307143</td>\n",
       "      <td>23.512857</td>\n",
       "      <td>33.000000</td>\n",
       "      <td>1.900354e+07</td>\n",
       "      <td>2374.692438</td>\n",
       "    </tr>\n",
       "    <tr>\n",
       "      <th>2020-04-05</th>\n",
       "      <td>0.000000</td>\n",
       "      <td>0.000000</td>\n",
       "      <td>0.000000</td>\n",
       "      <td>0.0</td>\n",
       "      <td>30.000000</td>\n",
       "      <td>17.305000</td>\n",
       "      <td>17.020000</td>\n",
       "      <td>32.500000</td>\n",
       "      <td>1.844568e+07</td>\n",
       "      <td>2332.730132</td>\n",
       "    </tr>\n",
       "  </tbody>\n",
       "</table>\n",
       "<p>132 rows × 10 columns</p>\n",
       "</div>"
      ],
      "text/plain": [
       "            Daily_Avg  Daily_Sum  Daily_Count  Dly_Cnt_Diff  Rig_Count  \\\n",
       "2017-10-01   0.000000   0.000000     0.000000           0.0  27.000000   \n",
       "2017-10-08   0.000000   0.000000     0.000000           0.0  27.571429   \n",
       "2017-10-15   0.000000   0.000000     0.000000           0.0  29.857143   \n",
       "2017-10-22   0.000000   0.000000     0.000000           0.0  32.285714   \n",
       "2017-10-29   0.000000   0.000000     0.000000           0.0  33.857143   \n",
       "...               ...        ...          ...           ...        ...   \n",
       "2020-03-08   0.000000   0.000000     0.000000           0.0  32.714286   \n",
       "2020-03-15   0.000000   0.000000     0.000000           0.0  32.000000   \n",
       "2020-03-22   0.000000   0.000000     0.000000           0.0  32.285714   \n",
       "2020-03-29   0.271429   0.271429     0.142857           0.0  32.142857   \n",
       "2020-04-05   0.000000   0.000000     0.000000           0.0  30.000000   \n",
       "\n",
       "            WTI_Spot_Price  Brent_Spot_Price  fracs_per_day  volume_per_day  \\\n",
       "2017-10-01       51.670000         57.020000      47.000000    2.651121e+07   \n",
       "2017-10-08       49.977143         55.911429      27.142857    1.480486e+07   \n",
       "2017-10-15       50.958571         56.392857      16.142857    9.249819e+06   \n",
       "2017-10-22       51.708571         57.808571      14.714286    7.058174e+06   \n",
       "2017-10-29       52.910000         59.025714      13.142857    6.712036e+06   \n",
       "...                    ...               ...            ...             ...   \n",
       "2020-03-08       44.307143         49.244286      28.000000    2.196417e+07   \n",
       "2020-03-15       32.195714         33.302857      30.571429    2.360722e+07   \n",
       "2020-03-22       22.847143         25.624286      32.000000    2.262417e+07   \n",
       "2020-03-29       18.307143         23.512857      33.000000    1.900354e+07   \n",
       "2020-04-05       17.305000         17.020000      32.500000    1.844568e+07   \n",
       "\n",
       "            avg_volh2o_per_ft  \n",
       "2017-10-01        2057.055001  \n",
       "2017-10-08        1940.390559  \n",
       "2017-10-15        1928.475138  \n",
       "2017-10-22        2132.500242  \n",
       "2017-10-29        2241.499288  \n",
       "...                       ...  \n",
       "2020-03-08        2541.374936  \n",
       "2020-03-15        2545.060663  \n",
       "2020-03-22        2586.057358  \n",
       "2020-03-29        2374.692438  \n",
       "2020-04-05        2332.730132  \n",
       "\n",
       "[132 rows x 10 columns]"
      ]
     },
     "execution_count": 93,
     "metadata": {},
     "output_type": "execute_result"
    }
   ],
   "source": [
    "weekly_data_small = data_small.resample('W').mean()\n",
    "weekly_data_small"
   ]
  },
  {
   "cell_type": "code",
   "execution_count": 94,
   "id": "touched-procurement",
   "metadata": {},
   "outputs": [],
   "source": [
    "X = weekly_data_small[['Rig_Count', 'WTI_Spot_Price', 'volume_per_day', 'avg_volh2o_per_ft']]\n",
    "#y will be the daily_sum column\n",
    "y = weekly_data_small['Daily_Sum']"
   ]
  },
  {
   "cell_type": "code",
   "execution_count": 95,
   "id": "challenging-diagnosis",
   "metadata": {},
   "outputs": [],
   "source": [
    "#split into train and test data\n",
    "X_train, X_test, y_train, y_test = train_test_split(X, y, shuffle=False)"
   ]
  },
  {
   "cell_type": "code",
   "execution_count": 96,
   "id": "raising-contractor",
   "metadata": {},
   "outputs": [
    {
     "data": {
      "text/plain": [
       "1.1714938470277203"
      ]
     },
     "execution_count": 96,
     "metadata": {},
     "output_type": "execute_result"
    }
   ],
   "source": [
    "#make a baseline model to compare against\n",
    "mean_y_train_array = np.full_like(y_train, y_train.mean())\n",
    "mean_squared_error(y_train, mean_y_train_array, squared=False)"
   ]
  },
  {
   "cell_type": "code",
   "execution_count": 97,
   "id": "stunning-passport",
   "metadata": {},
   "outputs": [
    {
     "data": {
      "text/plain": [
       "0.38621267862288555"
      ]
     },
     "execution_count": 97,
     "metadata": {},
     "output_type": "execute_result"
    }
   ],
   "source": [
    "mean_y_test_array = np.full_like(y_test, y_test.mean())\n",
    "mean_squared_error(y_test, mean_y_test_array, squared=False)"
   ]
  },
  {
   "cell_type": "code",
   "execution_count": 98,
   "id": "fleet-dublin",
   "metadata": {},
   "outputs": [],
   "source": [
    "#now set up the RNN\n",
    "sscaler = StandardScaler()\n",
    "X_train_sc = sscaler.fit_transform(X_train)\n",
    "X_test_sc = sscaler.transform(X_test)"
   ]
  },
  {
   "cell_type": "code",
   "execution_count": 99,
   "id": "supposed-voltage",
   "metadata": {},
   "outputs": [
    {
     "data": {
      "text/plain": [
       "(64, 3, 4)"
      ]
     },
     "execution_count": 99,
     "metadata": {},
     "output_type": "execute_result"
    }
   ],
   "source": [
    "#break up the data into 3-day stacks\n",
    "train_sequences = TimeseriesGenerator(X_train_sc, y_train, length=3, batch_size=64)\n",
    "batch_x, batch_y = train_sequences[0]\n",
    "batch_x.shape"
   ]
  },
  {
   "cell_type": "code",
   "execution_count": 100,
   "id": "forward-notice",
   "metadata": {},
   "outputs": [],
   "source": [
    "test_sequences = TimeseriesGenerator(X_test_sc, y_test, length=3, batch_size=64)"
   ]
  },
  {
   "cell_type": "code",
   "execution_count": 101,
   "id": "protecting-garden",
   "metadata": {},
   "outputs": [],
   "source": [
    "#I'm going to use multiple GRUs\n",
    "model13 = Sequential()\n",
    "model13.add(GRU(10, input_shape = (3,4), return_sequences=True))\n",
    "model13.add(GRU(50, return_sequences=True, dropout=0.2, recurrent_dropout=0.2))\n",
    "model13.add(GRU(100, dropout=0.2, recurrent_dropout=0.2))\n",
    "model13.add(Dense(20, activation = 'relu'))\n",
    "model13.add(Dense(1))\n",
    "\n",
    "model13.compile(loss='mae', optimizer = 'adam', metrics=['acc', 'mse'])\n",
    "history13 = model13.fit(train_sequences, validation_data=test_sequences, epochs=50, verbose=0)"
   ]
  },
  {
   "cell_type": "code",
   "execution_count": 102,
   "id": "centered-audience",
   "metadata": {},
   "outputs": [
    {
     "data": {
      "image/png": "[encoded data removed]",
      "text/plain": [
       "<Figure size 432x288 with 1 Axes>"
      ]
     },
     "metadata": {
      "needs_background": "light"
     },
     "output_type": "display_data"
    }
   ],
   "source": [
    "#let's look at our accuracy\n",
    "plt.plot(history13.history['acc'], label='accuracy')\n",
    "plt.plot(history13.history['val_acc'], label = 'val_accuracy')\n",
    "plt.legend();"
   ]
  },
  {
   "cell_type": "code",
   "execution_count": 103,
   "id": "engaging-buying",
   "metadata": {},
   "outputs": [
    {
     "data": {
      "image/png": "[encoded data removed]",
      "text/plain": [
       "<Figure size 432x288 with 1 Axes>"
      ]
     },
     "metadata": {
      "needs_background": "light"
     },
     "output_type": "display_data"
    }
   ],
   "source": [
    "#let's look at our loss/mse\n",
    "plt.plot(history13.history['mse'], label='mse')\n",
    "plt.plot(history13.history['val_mse'], label='val_mse')\n",
    "plt.legend();"
   ]
  },
  {
   "cell_type": "code",
   "execution_count": null,
   "id": "commercial-interview",
   "metadata": {},
   "outputs": [],
   "source": []
  },
  {
   "cell_type": "code",
   "execution_count": 104,
   "id": "civic-review",
   "metadata": {},
   "outputs": [],
   "source": [
    "#I'm going to use multiple GRUs\n",
    "model14 = Sequential()\n",
    "model14.add(GRU(10, input_shape = (3,4), return_sequences=True))\n",
    "model14.add(GRU(100, return_sequences=True, dropout=0.2, recurrent_dropout=0.2))\n",
    "model14.add(GRU(200, dropout=0.2, recurrent_dropout=0.2))\n",
    "model14.add(Dense(40, activation = 'relu'))\n",
    "model14.add(Dense(1))\n",
    "\n",
    "model14.compile(loss='mae', optimizer = 'adam', metrics=['acc', 'mse'])\n",
    "history14 = model14.fit(train_sequences, validation_data=test_sequences, epochs=30, verbose=0)"
   ]
  },
  {
   "cell_type": "code",
   "execution_count": 105,
   "id": "helpful-cookie",
   "metadata": {},
   "outputs": [
    {
     "data": {
      "image/png": "[encoded data removed]",
      "text/plain": [
       "<Figure size 432x288 with 1 Axes>"
      ]
     },
     "metadata": {
      "needs_background": "light"
     },
     "output_type": "display_data"
    }
   ],
   "source": [
    "#let's look at our accuracy\n",
    "plt.plot(history14.history['acc'], label='accuracy')\n",
    "plt.plot(history14.history['val_acc'], label = 'val_accuracy')\n",
    "plt.legend();"
   ]
  },
  {
   "cell_type": "code",
   "execution_count": 106,
   "id": "electric-classic",
   "metadata": {},
   "outputs": [
    {
     "data": {
      "image/png": "[encoded data removed]",
      "text/plain": [
       "<Figure size 432x288 with 1 Axes>"
      ]
     },
     "metadata": {
      "needs_background": "light"
     },
     "output_type": "display_data"
    }
   ],
   "source": [
    "#let's look at our loss/mse\n",
    "plt.plot(history14.history['mse'], label='mse')\n",
    "plt.plot(history14.history['val_mse'], label='val_mse')\n",
    "plt.legend();"
   ]
  },
  {
   "cell_type": "markdown",
   "id": "handy-avatar",
   "metadata": {},
   "source": [
    "check this paper out: https://www.sciencedirect.com/science/article/abs/pii/S0169207018300888"
   ]
  },
  {
   "cell_type": "markdown",
   "id": "nasty-webmaster",
   "metadata": {},
   "source": [
    "Now I'm going to model the Fasola data and see how that goes."
   ]
  },
  {
   "cell_type": "code",
   "execution_count": 107,
   "id": "comparable-attention",
   "metadata": {},
   "outputs": [
    {
     "data": {
      "text/html": [
       "<div>\n",
       "<style scoped>\n",
       "    .dataframe tbody tr th:only-of-type {\n",
       "        vertical-align: middle;\n",
       "    }\n",
       "\n",
       "    .dataframe tbody tr th {\n",
       "        vertical-align: top;\n",
       "    }\n",
       "\n",
       "    .dataframe thead th {\n",
       "        text-align: right;\n",
       "    }\n",
       "</style>\n",
       "<table border=\"1\" class=\"dataframe\">\n",
       "  <thead>\n",
       "    <tr style=\"text-align: right;\">\n",
       "      <th></th>\n",
       "      <th>Daily_Avg</th>\n",
       "      <th>Daily_Sum</th>\n",
       "      <th>Daily_Count</th>\n",
       "      <th>Rig_Count</th>\n",
       "      <th>WTI_Spot_Price</th>\n",
       "      <th>Brent_Spot_Price</th>\n",
       "      <th>fracs_per_day</th>\n",
       "      <th>volume_per_day</th>\n",
       "      <th>avg_volh2o_per_ft</th>\n",
       "      <th>APIs</th>\n",
       "    </tr>\n",
       "  </thead>\n",
       "  <tbody>\n",
       "    <tr>\n",
       "      <th>2016-01-01</th>\n",
       "      <td>0.0</td>\n",
       "      <td>0.0</td>\n",
       "      <td>0</td>\n",
       "      <td>33.0</td>\n",
       "      <td>37.13</td>\n",
       "      <td>36.61</td>\n",
       "      <td>9.0</td>\n",
       "      <td>5.080098e+06</td>\n",
       "      <td>1088.829502</td>\n",
       "      <td>[42255346090000, 42255346080000, 4225534610000...</td>\n",
       "    </tr>\n",
       "    <tr>\n",
       "      <th>2016-01-02</th>\n",
       "      <td>0.0</td>\n",
       "      <td>0.0</td>\n",
       "      <td>0</td>\n",
       "      <td>33.0</td>\n",
       "      <td>37.13</td>\n",
       "      <td>36.61</td>\n",
       "      <td>11.0</td>\n",
       "      <td>5.892634e+06</td>\n",
       "      <td>1044.749861</td>\n",
       "      <td>[42255346090000, 42255346080000, 4225534610000...</td>\n",
       "    </tr>\n",
       "    <tr>\n",
       "      <th>2016-01-03</th>\n",
       "      <td>0.0</td>\n",
       "      <td>0.0</td>\n",
       "      <td>0</td>\n",
       "      <td>33.0</td>\n",
       "      <td>37.13</td>\n",
       "      <td>36.61</td>\n",
       "      <td>9.0</td>\n",
       "      <td>4.539134e+06</td>\n",
       "      <td>1125.551135</td>\n",
       "      <td>[42255346090000, 42255346080000, 4225534610000...</td>\n",
       "    </tr>\n",
       "    <tr>\n",
       "      <th>2016-01-04</th>\n",
       "      <td>0.0</td>\n",
       "      <td>0.0</td>\n",
       "      <td>0</td>\n",
       "      <td>33.0</td>\n",
       "      <td>36.81</td>\n",
       "      <td>36.28</td>\n",
       "      <td>26.0</td>\n",
       "      <td>1.135010e+07</td>\n",
       "      <td>848.112281</td>\n",
       "      <td>[42255346090000, 42255346080000, 4225534610000...</td>\n",
       "    </tr>\n",
       "    <tr>\n",
       "      <th>2016-01-05</th>\n",
       "      <td>0.0</td>\n",
       "      <td>0.0</td>\n",
       "      <td>0</td>\n",
       "      <td>33.0</td>\n",
       "      <td>35.97</td>\n",
       "      <td>35.56</td>\n",
       "      <td>26.0</td>\n",
       "      <td>1.135010e+07</td>\n",
       "      <td>848.112281</td>\n",
       "      <td>[42255346090000, 42255346080000, 4225534610000...</td>\n",
       "    </tr>\n",
       "  </tbody>\n",
       "</table>\n",
       "</div>"
      ],
      "text/plain": [
       "            Daily_Avg  Daily_Sum  Daily_Count  Rig_Count  WTI_Spot_Price  \\\n",
       "2016-01-01        0.0        0.0            0       33.0           37.13   \n",
       "2016-01-02        0.0        0.0            0       33.0           37.13   \n",
       "2016-01-03        0.0        0.0            0       33.0           37.13   \n",
       "2016-01-04        0.0        0.0            0       33.0           36.81   \n",
       "2016-01-05        0.0        0.0            0       33.0           35.97   \n",
       "\n",
       "            Brent_Spot_Price  fracs_per_day  volume_per_day  \\\n",
       "2016-01-01             36.61            9.0    5.080098e+06   \n",
       "2016-01-02             36.61           11.0    5.892634e+06   \n",
       "2016-01-03             36.61            9.0    4.539134e+06   \n",
       "2016-01-04             36.28           26.0    1.135010e+07   \n",
       "2016-01-05             35.56           26.0    1.135010e+07   \n",
       "\n",
       "            avg_volh2o_per_ft  \\\n",
       "2016-01-01        1088.829502   \n",
       "2016-01-02        1044.749861   \n",
       "2016-01-03        1125.551135   \n",
       "2016-01-04         848.112281   \n",
       "2016-01-05         848.112281   \n",
       "\n",
       "                                                         APIs  \n",
       "2016-01-01  [42255346090000, 42255346080000, 4225534610000...  \n",
       "2016-01-02  [42255346090000, 42255346080000, 4225534610000...  \n",
       "2016-01-03  [42255346090000, 42255346080000, 4225534610000...  \n",
       "2016-01-04  [42255346090000, 42255346080000, 4225534610000...  \n",
       "2016-01-05  [42255346090000, 42255346080000, 4225534610000...  "
      ]
     },
     "execution_count": 107,
     "metadata": {},
     "output_type": "execute_result"
    }
   ],
   "source": [
    "fasola = pd.read_csv('oil_and_gas_data/data_for_modelling/fasola_data_ready_for_modelling.csv', index_col=0)\n",
    "fasola.head()"
   ]
  },
  {
   "cell_type": "code",
   "execution_count": 108,
   "id": "saved-glory",
   "metadata": {},
   "outputs": [
    {
     "name": "stdout",
     "output_type": "stream",
     "text": [
      "<class 'pandas.core.frame.DataFrame'>\n",
      "DatetimeIndex: 1859 entries, 2016-01-01 to 2021-02-01\n",
      "Data columns (total 10 columns):\n",
      " #   Column             Non-Null Count  Dtype  \n",
      "---  ------             --------------  -----  \n",
      " 0   Daily_Avg          1859 non-null   float64\n",
      " 1   Daily_Sum          1859 non-null   float64\n",
      " 2   Daily_Count        1859 non-null   int64  \n",
      " 3   Rig_Count          1760 non-null   float64\n",
      " 4   WTI_Spot_Price     1859 non-null   float64\n",
      " 5   Brent_Spot_Price   1859 non-null   float64\n",
      " 6   fracs_per_day      1801 non-null   float64\n",
      " 7   volume_per_day     1801 non-null   float64\n",
      " 8   avg_volh2o_per_ft  1695 non-null   float64\n",
      " 9   APIs               1801 non-null   object \n",
      "dtypes: float64(8), int64(1), object(1)\n",
      "memory usage: 159.8+ KB\n"
     ]
    }
   ],
   "source": [
    "fasola.index = pd.to_datetime(fasola.index)\n",
    "fasola.info()"
   ]
  },
  {
   "cell_type": "code",
   "execution_count": 109,
   "id": "funny-manor",
   "metadata": {},
   "outputs": [
    {
     "data": {
      "text/html": [
       "<div>\n",
       "<style scoped>\n",
       "    .dataframe tbody tr th:only-of-type {\n",
       "        vertical-align: middle;\n",
       "    }\n",
       "\n",
       "    .dataframe tbody tr th {\n",
       "        vertical-align: top;\n",
       "    }\n",
       "\n",
       "    .dataframe thead th {\n",
       "        text-align: right;\n",
       "    }\n",
       "</style>\n",
       "<table border=\"1\" class=\"dataframe\">\n",
       "  <thead>\n",
       "    <tr style=\"text-align: right;\">\n",
       "      <th></th>\n",
       "      <th>Daily_Avg</th>\n",
       "      <th>Daily_Sum</th>\n",
       "      <th>Daily_Count</th>\n",
       "      <th>Rig_Count</th>\n",
       "      <th>WTI_Spot_Price</th>\n",
       "      <th>Brent_Spot_Price</th>\n",
       "      <th>fracs_per_day</th>\n",
       "      <th>volume_per_day</th>\n",
       "      <th>avg_volh2o_per_ft</th>\n",
       "      <th>APIs</th>\n",
       "    </tr>\n",
       "  </thead>\n",
       "  <tbody>\n",
       "    <tr>\n",
       "      <th>2016-01-01</th>\n",
       "      <td>0.0</td>\n",
       "      <td>0.0</td>\n",
       "      <td>0</td>\n",
       "      <td>33.0</td>\n",
       "      <td>37.13</td>\n",
       "      <td>36.61</td>\n",
       "      <td>9.0</td>\n",
       "      <td>5.080098e+06</td>\n",
       "      <td>1088.829502</td>\n",
       "      <td>[42255346090000, 42255346080000, 4225534610000...</td>\n",
       "    </tr>\n",
       "    <tr>\n",
       "      <th>2016-01-02</th>\n",
       "      <td>0.0</td>\n",
       "      <td>0.0</td>\n",
       "      <td>0</td>\n",
       "      <td>33.0</td>\n",
       "      <td>37.13</td>\n",
       "      <td>36.61</td>\n",
       "      <td>11.0</td>\n",
       "      <td>5.892634e+06</td>\n",
       "      <td>1044.749861</td>\n",
       "      <td>[42255346090000, 42255346080000, 4225534610000...</td>\n",
       "    </tr>\n",
       "    <tr>\n",
       "      <th>2016-01-03</th>\n",
       "      <td>0.0</td>\n",
       "      <td>0.0</td>\n",
       "      <td>0</td>\n",
       "      <td>33.0</td>\n",
       "      <td>37.13</td>\n",
       "      <td>36.61</td>\n",
       "      <td>9.0</td>\n",
       "      <td>4.539134e+06</td>\n",
       "      <td>1125.551135</td>\n",
       "      <td>[42255346090000, 42255346080000, 4225534610000...</td>\n",
       "    </tr>\n",
       "    <tr>\n",
       "      <th>2016-01-04</th>\n",
       "      <td>0.0</td>\n",
       "      <td>0.0</td>\n",
       "      <td>0</td>\n",
       "      <td>33.0</td>\n",
       "      <td>36.81</td>\n",
       "      <td>36.28</td>\n",
       "      <td>26.0</td>\n",
       "      <td>1.135010e+07</td>\n",
       "      <td>848.112281</td>\n",
       "      <td>[42255346090000, 42255346080000, 4225534610000...</td>\n",
       "    </tr>\n",
       "    <tr>\n",
       "      <th>2016-01-05</th>\n",
       "      <td>0.0</td>\n",
       "      <td>0.0</td>\n",
       "      <td>0</td>\n",
       "      <td>33.0</td>\n",
       "      <td>35.97</td>\n",
       "      <td>35.56</td>\n",
       "      <td>26.0</td>\n",
       "      <td>1.135010e+07</td>\n",
       "      <td>848.112281</td>\n",
       "      <td>[42255346090000, 42255346080000, 4225534610000...</td>\n",
       "    </tr>\n",
       "  </tbody>\n",
       "</table>\n",
       "</div>"
      ],
      "text/plain": [
       "            Daily_Avg  Daily_Sum  Daily_Count  Rig_Count  WTI_Spot_Price  \\\n",
       "2016-01-01        0.0        0.0            0       33.0           37.13   \n",
       "2016-01-02        0.0        0.0            0       33.0           37.13   \n",
       "2016-01-03        0.0        0.0            0       33.0           37.13   \n",
       "2016-01-04        0.0        0.0            0       33.0           36.81   \n",
       "2016-01-05        0.0        0.0            0       33.0           35.97   \n",
       "\n",
       "            Brent_Spot_Price  fracs_per_day  volume_per_day  \\\n",
       "2016-01-01             36.61            9.0    5.080098e+06   \n",
       "2016-01-02             36.61           11.0    5.892634e+06   \n",
       "2016-01-03             36.61            9.0    4.539134e+06   \n",
       "2016-01-04             36.28           26.0    1.135010e+07   \n",
       "2016-01-05             35.56           26.0    1.135010e+07   \n",
       "\n",
       "            avg_volh2o_per_ft  \\\n",
       "2016-01-01        1088.829502   \n",
       "2016-01-02        1044.749861   \n",
       "2016-01-03        1125.551135   \n",
       "2016-01-04         848.112281   \n",
       "2016-01-05         848.112281   \n",
       "\n",
       "                                                         APIs  \n",
       "2016-01-01  [42255346090000, 42255346080000, 4225534610000...  \n",
       "2016-01-02  [42255346090000, 42255346080000, 4225534610000...  \n",
       "2016-01-03  [42255346090000, 42255346080000, 4225534610000...  \n",
       "2016-01-04  [42255346090000, 42255346080000, 4225534610000...  \n",
       "2016-01-05  [42255346090000, 42255346080000, 4225534610000...  "
      ]
     },
     "execution_count": 109,
     "metadata": {},
     "output_type": "execute_result"
    }
   ],
   "source": [
    "#drop the Nan's from the data\n",
    "fasola_model = fasola.dropna()\n",
    "fasola_model.head()"
   ]
  },
  {
   "cell_type": "code",
   "execution_count": 111,
   "id": "express-fifty",
   "metadata": {},
   "outputs": [
    {
     "data": {
      "text/html": [
       "<div>\n",
       "<style scoped>\n",
       "    .dataframe tbody tr th:only-of-type {\n",
       "        vertical-align: middle;\n",
       "    }\n",
       "\n",
       "    .dataframe tbody tr th {\n",
       "        vertical-align: top;\n",
       "    }\n",
       "\n",
       "    .dataframe thead th {\n",
       "        text-align: right;\n",
       "    }\n",
       "</style>\n",
       "<table border=\"1\" class=\"dataframe\">\n",
       "  <thead>\n",
       "    <tr style=\"text-align: right;\">\n",
       "      <th></th>\n",
       "      <th>Daily_Avg</th>\n",
       "      <th>Daily_Sum</th>\n",
       "      <th>Daily_Count</th>\n",
       "      <th>Rig_Count</th>\n",
       "      <th>WTI_Spot_Price</th>\n",
       "      <th>Brent_Spot_Price</th>\n",
       "      <th>fracs_per_day</th>\n",
       "      <th>volume_per_day</th>\n",
       "      <th>avg_volh2o_per_ft</th>\n",
       "      <th>APIs</th>\n",
       "    </tr>\n",
       "  </thead>\n",
       "  <tbody>\n",
       "    <tr>\n",
       "      <th>2017-01-01</th>\n",
       "      <td>0.000000</td>\n",
       "      <td>0.000000</td>\n",
       "      <td>0</td>\n",
       "      <td>24.0</td>\n",
       "      <td>53.75</td>\n",
       "      <td>54.96</td>\n",
       "      <td>9.0</td>\n",
       "      <td>7.562982e+06</td>\n",
       "      <td>1793.684306</td>\n",
       "      <td>[42255343990000, 42255344150000, 4225535062000...</td>\n",
       "    </tr>\n",
       "    <tr>\n",
       "      <th>2017-01-02</th>\n",
       "      <td>0.766226</td>\n",
       "      <td>2.298677</td>\n",
       "      <td>3</td>\n",
       "      <td>24.0</td>\n",
       "      <td>53.75</td>\n",
       "      <td>54.96</td>\n",
       "      <td>9.0</td>\n",
       "      <td>7.942106e+06</td>\n",
       "      <td>1721.140972</td>\n",
       "      <td>[42255343990000, 42255344150000, 4225535062000...</td>\n",
       "    </tr>\n",
       "    <tr>\n",
       "      <th>2017-01-03</th>\n",
       "      <td>0.792245</td>\n",
       "      <td>34.066545</td>\n",
       "      <td>43</td>\n",
       "      <td>24.0</td>\n",
       "      <td>52.36</td>\n",
       "      <td>55.05</td>\n",
       "      <td>9.0</td>\n",
       "      <td>7.942106e+06</td>\n",
       "      <td>1721.140972</td>\n",
       "      <td>[42255343990000, 42255344150000, 4225535062000...</td>\n",
       "    </tr>\n",
       "    <tr>\n",
       "      <th>2017-01-04</th>\n",
       "      <td>1.025187</td>\n",
       "      <td>10.251870</td>\n",
       "      <td>10</td>\n",
       "      <td>24.0</td>\n",
       "      <td>53.26</td>\n",
       "      <td>54.57</td>\n",
       "      <td>9.0</td>\n",
       "      <td>7.942106e+06</td>\n",
       "      <td>1721.140972</td>\n",
       "      <td>[42255343990000, 42255344150000, 4225535062000...</td>\n",
       "    </tr>\n",
       "    <tr>\n",
       "      <th>2017-01-05</th>\n",
       "      <td>1.600100</td>\n",
       "      <td>1.600100</td>\n",
       "      <td>1</td>\n",
       "      <td>24.0</td>\n",
       "      <td>53.77</td>\n",
       "      <td>54.99</td>\n",
       "      <td>9.0</td>\n",
       "      <td>7.942106e+06</td>\n",
       "      <td>1721.140972</td>\n",
       "      <td>[42255343990000, 42255344150000, 4225535062000...</td>\n",
       "    </tr>\n",
       "    <tr>\n",
       "      <th>...</th>\n",
       "      <td>...</td>\n",
       "      <td>...</td>\n",
       "      <td>...</td>\n",
       "      <td>...</td>\n",
       "      <td>...</td>\n",
       "      <td>...</td>\n",
       "      <td>...</td>\n",
       "      <td>...</td>\n",
       "      <td>...</td>\n",
       "      <td>...</td>\n",
       "    </tr>\n",
       "    <tr>\n",
       "      <th>2020-01-27</th>\n",
       "      <td>0.000000</td>\n",
       "      <td>0.000000</td>\n",
       "      <td>0</td>\n",
       "      <td>33.0</td>\n",
       "      <td>53.09</td>\n",
       "      <td>58.54</td>\n",
       "      <td>45.0</td>\n",
       "      <td>4.278683e+07</td>\n",
       "      <td>1642.821249</td>\n",
       "      <td>[42255361860000, 42255361850000, 4225536569000...</td>\n",
       "    </tr>\n",
       "    <tr>\n",
       "      <th>2020-01-28</th>\n",
       "      <td>1.900000</td>\n",
       "      <td>1.900000</td>\n",
       "      <td>1</td>\n",
       "      <td>33.0</td>\n",
       "      <td>53.33</td>\n",
       "      <td>59.37</td>\n",
       "      <td>46.0</td>\n",
       "      <td>4.433917e+07</td>\n",
       "      <td>1658.283946</td>\n",
       "      <td>[42255361860000, 42255361850000, 4225536569000...</td>\n",
       "    </tr>\n",
       "    <tr>\n",
       "      <th>2020-01-29</th>\n",
       "      <td>0.000000</td>\n",
       "      <td>0.000000</td>\n",
       "      <td>0</td>\n",
       "      <td>33.0</td>\n",
       "      <td>53.29</td>\n",
       "      <td>59.46</td>\n",
       "      <td>44.0</td>\n",
       "      <td>4.293038e+07</td>\n",
       "      <td>1624.508496</td>\n",
       "      <td>[42255361860000, 42255361850000, 4225536569000...</td>\n",
       "    </tr>\n",
       "    <tr>\n",
       "      <th>2020-01-30</th>\n",
       "      <td>0.000000</td>\n",
       "      <td>0.000000</td>\n",
       "      <td>0</td>\n",
       "      <td>33.0</td>\n",
       "      <td>52.19</td>\n",
       "      <td>57.72</td>\n",
       "      <td>46.0</td>\n",
       "      <td>4.500210e+07</td>\n",
       "      <td>1624.812672</td>\n",
       "      <td>[42255361860000, 42255361850000, 4225536556000...</td>\n",
       "    </tr>\n",
       "    <tr>\n",
       "      <th>2020-01-31</th>\n",
       "      <td>0.000000</td>\n",
       "      <td>0.000000</td>\n",
       "      <td>0</td>\n",
       "      <td>33.0</td>\n",
       "      <td>51.58</td>\n",
       "      <td>57.77</td>\n",
       "      <td>46.0</td>\n",
       "      <td>4.500210e+07</td>\n",
       "      <td>1624.812672</td>\n",
       "      <td>[42255361860000, 42255361850000, 4225536556000...</td>\n",
       "    </tr>\n",
       "  </tbody>\n",
       "</table>\n",
       "<p>1077 rows × 10 columns</p>\n",
       "</div>"
      ],
      "text/plain": [
       "            Daily_Avg  Daily_Sum  Daily_Count  Rig_Count  WTI_Spot_Price  \\\n",
       "2017-01-01   0.000000   0.000000            0       24.0           53.75   \n",
       "2017-01-02   0.766226   2.298677            3       24.0           53.75   \n",
       "2017-01-03   0.792245  34.066545           43       24.0           52.36   \n",
       "2017-01-04   1.025187  10.251870           10       24.0           53.26   \n",
       "2017-01-05   1.600100   1.600100            1       24.0           53.77   \n",
       "...               ...        ...          ...        ...             ...   \n",
       "2020-01-27   0.000000   0.000000            0       33.0           53.09   \n",
       "2020-01-28   1.900000   1.900000            1       33.0           53.33   \n",
       "2020-01-29   0.000000   0.000000            0       33.0           53.29   \n",
       "2020-01-30   0.000000   0.000000            0       33.0           52.19   \n",
       "2020-01-31   0.000000   0.000000            0       33.0           51.58   \n",
       "\n",
       "            Brent_Spot_Price  fracs_per_day  volume_per_day  \\\n",
       "2017-01-01             54.96            9.0    7.562982e+06   \n",
       "2017-01-02             54.96            9.0    7.942106e+06   \n",
       "2017-01-03             55.05            9.0    7.942106e+06   \n",
       "2017-01-04             54.57            9.0    7.942106e+06   \n",
       "2017-01-05             54.99            9.0    7.942106e+06   \n",
       "...                      ...            ...             ...   \n",
       "2020-01-27             58.54           45.0    4.278683e+07   \n",
       "2020-01-28             59.37           46.0    4.433917e+07   \n",
       "2020-01-29             59.46           44.0    4.293038e+07   \n",
       "2020-01-30             57.72           46.0    4.500210e+07   \n",
       "2020-01-31             57.77           46.0    4.500210e+07   \n",
       "\n",
       "            avg_volh2o_per_ft  \\\n",
       "2017-01-01        1793.684306   \n",
       "2017-01-02        1721.140972   \n",
       "2017-01-03        1721.140972   \n",
       "2017-01-04        1721.140972   \n",
       "2017-01-05        1721.140972   \n",
       "...                       ...   \n",
       "2020-01-27        1642.821249   \n",
       "2020-01-28        1658.283946   \n",
       "2020-01-29        1624.508496   \n",
       "2020-01-30        1624.812672   \n",
       "2020-01-31        1624.812672   \n",
       "\n",
       "                                                         APIs  \n",
       "2017-01-01  [42255343990000, 42255344150000, 4225535062000...  \n",
       "2017-01-02  [42255343990000, 42255344150000, 4225535062000...  \n",
       "2017-01-03  [42255343990000, 42255344150000, 4225535062000...  \n",
       "2017-01-04  [42255343990000, 42255344150000, 4225535062000...  \n",
       "2017-01-05  [42255343990000, 42255344150000, 4225535062000...  \n",
       "...                                                       ...  \n",
       "2020-01-27  [42255361860000, 42255361850000, 4225536569000...  \n",
       "2020-01-28  [42255361860000, 42255361850000, 4225536569000...  \n",
       "2020-01-29  [42255361860000, 42255361850000, 4225536569000...  \n",
       "2020-01-30  [42255361860000, 42255361850000, 4225536556000...  \n",
       "2020-01-31  [42255361860000, 42255361850000, 4225536556000...  \n",
       "\n",
       "[1077 rows x 10 columns]"
      ]
     },
     "execution_count": 111,
     "metadata": {},
     "output_type": "execute_result"
    }
   ],
   "source": [
    "#I'm going to model a large time range since these models tend to run fast\n",
    "#the Jan 31, 2020 cutoff is the last meaningful data before COVID started to impact activity\n",
    "fasola_model = fasola_model.loc['1-1-2017':'1-31-2020']\n",
    "fasola_model"
   ]
  },
  {
   "cell_type": "code",
   "execution_count": 112,
   "id": "abandoned-garlic",
   "metadata": {},
   "outputs": [],
   "source": [
    "X = fasola_model[['fracs_per_day','volume_per_day','avg_volh2o_per_ft']]\n",
    "#y will be the daily_sum column\n",
    "y = fasola_model['Daily_Sum']"
   ]
  },
  {
   "cell_type": "code",
   "execution_count": 113,
   "id": "compatible-bargain",
   "metadata": {},
   "outputs": [],
   "source": [
    "#split into train and test data; remember default is 75/25\n",
    "X_train, X_test, y_train, y_test = train_test_split(X, y, shuffle=False)"
   ]
  },
  {
   "cell_type": "code",
   "execution_count": 122,
   "id": "searching-engineering",
   "metadata": {},
   "outputs": [
    {
     "data": {
      "text/plain": [
       "6.721847536786381"
      ]
     },
     "execution_count": 122,
     "metadata": {},
     "output_type": "execute_result"
    }
   ],
   "source": [
    "#set up our null model\n",
    "mean_y_train_array = np.full_like(y_train, y_train.mean())\n",
    "mean_squared_error(y_train, mean_y_train_array, squared=False)"
   ]
  },
  {
   "cell_type": "code",
   "execution_count": 123,
   "id": "vocal-marathon",
   "metadata": {},
   "outputs": [
    {
     "data": {
      "text/plain": [
       "1.3249649424665666"
      ]
     },
     "execution_count": 123,
     "metadata": {},
     "output_type": "execute_result"
    }
   ],
   "source": [
    "mean_y_test_array = np.full_like(y_test, y_test.mean())\n",
    "mean_squared_error(y_test, mean_y_test_array, squared=False)"
   ]
  },
  {
   "cell_type": "code",
   "execution_count": 114,
   "id": "deluxe-progress",
   "metadata": {},
   "outputs": [],
   "source": [
    "sscaler = StandardScaler()\n",
    "X_train_sc = sscaler.fit_transform(X_train)\n",
    "X_test_sc = sscaler.transform(X_test)"
   ]
  },
  {
   "cell_type": "code",
   "execution_count": 115,
   "id": "solved-maple",
   "metadata": {},
   "outputs": [],
   "source": [
    "#break up the data into 7-day stacks\n",
    "train_sequences = TimeseriesGenerator(X_train_sc, y_train, length=7, batch_size=64)"
   ]
  },
  {
   "cell_type": "code",
   "execution_count": 116,
   "id": "hollywood-observation",
   "metadata": {},
   "outputs": [
    {
     "data": {
      "text/plain": [
       "(64, 7, 3)"
      ]
     },
     "execution_count": 116,
     "metadata": {},
     "output_type": "execute_result"
    }
   ],
   "source": [
    "batch_x, batch_y = train_sequences[0]\n",
    "batch_x.shape"
   ]
  },
  {
   "cell_type": "code",
   "execution_count": 117,
   "id": "former-textbook",
   "metadata": {},
   "outputs": [],
   "source": [
    "test_sequences = TimeseriesGenerator(X_test_sc, y_test, length=7, batch_size=64)"
   ]
  },
  {
   "cell_type": "code",
   "execution_count": 119,
   "id": "circular-pregnancy",
   "metadata": {},
   "outputs": [],
   "source": [
    "#I'm going to use multiple GRUs\n",
    "modelf1 = Sequential()\n",
    "modelf1.add(GRU(10, input_shape = (7,3), return_sequences=True))\n",
    "modelf1.add(GRU(50, return_sequences=True))\n",
    "modelf1.add(GRU(100))\n",
    "modelf1.add(Dense(20, activation = 'relu'))\n",
    "modelf1.add(Dense(1))\n",
    "\n",
    "modelf1.compile(loss='mae', optimizer = 'adam', metrics=['acc', 'mse'])\n",
    "historyf1 = modelf1.fit(train_sequences, validation_data=test_sequences, epochs=30, verbose=0)"
   ]
  },
  {
   "cell_type": "code",
   "execution_count": 120,
   "id": "crucial-germany",
   "metadata": {},
   "outputs": [
    {
     "data": {
      "image/png": "[encoded data removed]",
      "text/plain": [
       "<Figure size 432x288 with 1 Axes>"
      ]
     },
     "metadata": {
      "needs_background": "light"
     },
     "output_type": "display_data"
    }
   ],
   "source": [
    "#let's look at our accuracy\n",
    "plt.plot(historyf1.history['acc'], label='accuracy')\n",
    "plt.plot(historyf1.history['val_acc'], label = 'val_accuracy')\n",
    "plt.legend();"
   ]
  },
  {
   "cell_type": "code",
   "execution_count": 121,
   "id": "defined-costa",
   "metadata": {},
   "outputs": [
    {
     "data": {
      "image/png": "[encoded data removed]",
      "text/plain": [
       "<Figure size 432x288 with 1 Axes>"
      ]
     },
     "metadata": {
      "needs_background": "light"
     },
     "output_type": "display_data"
    }
   ],
   "source": [
    "#let's look at our loss/mse\n",
    "plt.plot(historyf1.history['mse'], label='mse')\n",
    "plt.plot(historyf1.history['val_mse'], label='val_mse')\n",
    "plt.legend();"
   ]
  },
  {
   "cell_type": "code",
   "execution_count": 124,
   "id": "endless-settlement",
   "metadata": {},
   "outputs": [
    {
     "data": {
      "text/plain": [
       "2017-01-01     0.000000\n",
       "2017-01-02     2.298677\n",
       "2017-01-03    34.066545\n",
       "2017-01-04    10.251870\n",
       "2017-01-05     1.600100\n",
       "                ...    \n",
       "2019-04-11     0.000000\n",
       "2019-04-12     0.000000\n",
       "2019-04-20     0.000000\n",
       "2019-04-21     1.400000\n",
       "2019-04-22     0.000000\n",
       "Name: Daily_Sum, Length: 807, dtype: float64"
      ]
     },
     "execution_count": 124,
     "metadata": {},
     "output_type": "execute_result"
    }
   ],
   "source": [
    "y_train"
   ]
  },
  {
   "cell_type": "code",
   "execution_count": 125,
   "id": "every-skill",
   "metadata": {},
   "outputs": [
    {
     "data": {
      "text/plain": [
       "2019-04-23    0.0\n",
       "2019-04-24    0.0\n",
       "2019-04-25    0.0\n",
       "2019-04-26    0.0\n",
       "2019-04-27    1.7\n",
       "             ... \n",
       "2020-01-27    0.0\n",
       "2020-01-28    1.9\n",
       "2020-01-29    0.0\n",
       "2020-01-30    0.0\n",
       "2020-01-31    0.0\n",
       "Name: Daily_Sum, Length: 270, dtype: float64"
      ]
     },
     "execution_count": 125,
     "metadata": {},
     "output_type": "execute_result"
    }
   ],
   "source": [
    "y_test"
   ]
  },
  {
   "cell_type": "markdown",
   "id": "powerful-malaysia",
   "metadata": {},
   "source": [
    "I'm going to try one more model, using dropout, to see if I can improve the delta between train and test results."
   ]
  },
  {
   "cell_type": "code",
   "execution_count": 126,
   "id": "changing-inventory",
   "metadata": {},
   "outputs": [],
   "source": [
    "#I'm going to use dropout with the multiple GRUs\n",
    "modelf2 = Sequential()\n",
    "modelf2.add(GRU(10, input_shape = (7,3), return_sequences=True))\n",
    "modelf2.add(GRU(50, return_sequences=True, dropout=0.2, recurrent_dropout=0.2))\n",
    "modelf2.add(GRU(100, dropout=0.2, recurrent_dropout=0.2))\n",
    "modelf2.add(Dense(20, activation = 'relu'))\n",
    "modelf2.add(Dense(1))\n",
    "\n",
    "modelf2.compile(loss='mae', optimizer = 'adam', metrics=['acc', 'mse'])\n",
    "historyf2 = modelf2.fit(train_sequences, validation_data=test_sequences, epochs=50, verbose=0)"
   ]
  },
  {
   "cell_type": "code",
   "execution_count": 127,
   "id": "alien-healthcare",
   "metadata": {},
   "outputs": [
    {
     "data": {
      "image/png": "[encoded data removed]",
      "text/plain": [
       "<Figure size 432x288 with 1 Axes>"
      ]
     },
     "metadata": {
      "needs_background": "light"
     },
     "output_type": "display_data"
    }
   ],
   "source": [
    "#let's look at our accuracy\n",
    "plt.plot(historyf2.history['acc'], label='accuracy')\n",
    "plt.plot(historyf2.history['val_acc'], label = 'val_accuracy')\n",
    "plt.legend();"
   ]
  },
  {
   "cell_type": "code",
   "execution_count": 128,
   "id": "respective-honor",
   "metadata": {},
   "outputs": [
    {
     "data": {
      "image/png": "[encoded data removed]",
      "text/plain": [
       "<Figure size 432x288 with 1 Axes>"
      ]
     },
     "metadata": {
      "needs_background": "light"
     },
     "output_type": "display_data"
    }
   ],
   "source": [
    "#let's look at our loss/mse\n",
    "plt.plot(historyf2.history['mse'], label='mse')\n",
    "plt.plot(historyf2.history['val_mse'], label='val_mse')\n",
    "plt.legend();"
   ]
  },
  {
   "cell_type": "markdown",
   "id": "novel-constitution",
   "metadata": {},
   "source": [
    "Now I'd like to try one last bit of modelling: I think Daily Average is proving to be the best target to model for, and I want to use the Weekly Average of my largest dataset: all three catalogs that go back to 2012. We'll see how it goes!"
   ]
  },
  {
   "cell_type": "code",
   "execution_count": 129,
   "id": "northern-humor",
   "metadata": {},
   "outputs": [],
   "source": [
    "mega_df = pd.read_csv('oil_and_gas_data/data_for_modelling/mega_data_ready_for_modelling.csv', index_col=0)"
   ]
  },
  {
   "cell_type": "code",
   "execution_count": 130,
   "id": "vanilla-material",
   "metadata": {},
   "outputs": [
    {
     "name": "stdout",
     "output_type": "stream",
     "text": [
      "<class 'pandas.core.frame.DataFrame'>\n",
      "Index: 2863 entries, 2012-03-02 to 2020-12-05\n",
      "Data columns (total 10 columns):\n",
      " #   Column             Non-Null Count  Dtype  \n",
      "---  ------             --------------  -----  \n",
      " 0   Daily_Sum          2863 non-null   float64\n",
      " 1   Daily_Avg          2863 non-null   float64\n",
      " 2   Daily_Count        2863 non-null   int64  \n",
      " 3   Rig_Count          2863 non-null   float64\n",
      " 4   WTI_Spot_Price     2863 non-null   float64\n",
      " 5   Brent_Spot_Price   2863 non-null   float64\n",
      " 6   fracs_per_day      2863 non-null   float64\n",
      " 7   volume_per_day     2863 non-null   float64\n",
      " 8   avg_volh2o_per_ft  2863 non-null   float64\n",
      " 9   APIs               2863 non-null   object \n",
      "dtypes: float64(8), int64(1), object(1)\n",
      "memory usage: 246.0+ KB\n"
     ]
    }
   ],
   "source": [
    "#first thing to do is drop na values\n",
    "mega_df = mega_df.dropna()\n",
    "mega_df.info()"
   ]
  },
  {
   "cell_type": "code",
   "execution_count": 131,
   "id": "overhead-cargo",
   "metadata": {},
   "outputs": [
    {
     "data": {
      "text/html": [
       "<div>\n",
       "<style scoped>\n",
       "    .dataframe tbody tr th:only-of-type {\n",
       "        vertical-align: middle;\n",
       "    }\n",
       "\n",
       "    .dataframe tbody tr th {\n",
       "        vertical-align: top;\n",
       "    }\n",
       "\n",
       "    .dataframe thead th {\n",
       "        text-align: right;\n",
       "    }\n",
       "</style>\n",
       "<table border=\"1\" class=\"dataframe\">\n",
       "  <thead>\n",
       "    <tr style=\"text-align: right;\">\n",
       "      <th></th>\n",
       "      <th>Daily_Sum</th>\n",
       "      <th>Daily_Avg</th>\n",
       "      <th>Daily_Count</th>\n",
       "      <th>Rig_Count</th>\n",
       "      <th>WTI_Spot_Price</th>\n",
       "      <th>Brent_Spot_Price</th>\n",
       "      <th>fracs_per_day</th>\n",
       "      <th>volume_per_day</th>\n",
       "      <th>avg_volh2o_per_ft</th>\n",
       "      <th>APIs</th>\n",
       "    </tr>\n",
       "  </thead>\n",
       "  <tbody>\n",
       "    <tr>\n",
       "      <th>2020-01-27</th>\n",
       "      <td>0.0</td>\n",
       "      <td>0.0</td>\n",
       "      <td>0</td>\n",
       "      <td>33.0</td>\n",
       "      <td>53.09</td>\n",
       "      <td>58.54</td>\n",
       "      <td>45.0</td>\n",
       "      <td>4.278683e+07</td>\n",
       "      <td>1642.821249</td>\n",
       "      <td>[42255361850000, 42255361860000, 4225536568000...</td>\n",
       "    </tr>\n",
       "    <tr>\n",
       "      <th>2020-01-28</th>\n",
       "      <td>1.9</td>\n",
       "      <td>1.9</td>\n",
       "      <td>1</td>\n",
       "      <td>33.0</td>\n",
       "      <td>53.33</td>\n",
       "      <td>59.37</td>\n",
       "      <td>46.0</td>\n",
       "      <td>4.433917e+07</td>\n",
       "      <td>1658.283946</td>\n",
       "      <td>[42255361850000, 42255361860000, 4225536568000...</td>\n",
       "    </tr>\n",
       "    <tr>\n",
       "      <th>2020-01-29</th>\n",
       "      <td>0.0</td>\n",
       "      <td>0.0</td>\n",
       "      <td>0</td>\n",
       "      <td>33.0</td>\n",
       "      <td>53.29</td>\n",
       "      <td>59.46</td>\n",
       "      <td>44.0</td>\n",
       "      <td>4.293038e+07</td>\n",
       "      <td>1624.508496</td>\n",
       "      <td>[42255361850000, 42255361860000, 4225536569000...</td>\n",
       "    </tr>\n",
       "    <tr>\n",
       "      <th>2020-01-30</th>\n",
       "      <td>0.0</td>\n",
       "      <td>0.0</td>\n",
       "      <td>0</td>\n",
       "      <td>33.0</td>\n",
       "      <td>52.19</td>\n",
       "      <td>57.72</td>\n",
       "      <td>46.0</td>\n",
       "      <td>4.500210e+07</td>\n",
       "      <td>1624.812672</td>\n",
       "      <td>[42255361850000, 42255361860000, 4225536559000...</td>\n",
       "    </tr>\n",
       "    <tr>\n",
       "      <th>2020-01-31</th>\n",
       "      <td>0.0</td>\n",
       "      <td>0.0</td>\n",
       "      <td>0</td>\n",
       "      <td>33.0</td>\n",
       "      <td>51.58</td>\n",
       "      <td>57.77</td>\n",
       "      <td>46.0</td>\n",
       "      <td>4.500210e+07</td>\n",
       "      <td>1624.812672</td>\n",
       "      <td>[42255361850000, 42255361860000, 4225536559000...</td>\n",
       "    </tr>\n",
       "  </tbody>\n",
       "</table>\n",
       "</div>"
      ],
      "text/plain": [
       "            Daily_Sum  Daily_Avg  Daily_Count  Rig_Count  WTI_Spot_Price  \\\n",
       "2020-01-27        0.0        0.0            0       33.0           53.09   \n",
       "2020-01-28        1.9        1.9            1       33.0           53.33   \n",
       "2020-01-29        0.0        0.0            0       33.0           53.29   \n",
       "2020-01-30        0.0        0.0            0       33.0           52.19   \n",
       "2020-01-31        0.0        0.0            0       33.0           51.58   \n",
       "\n",
       "            Brent_Spot_Price  fracs_per_day  volume_per_day  \\\n",
       "2020-01-27             58.54           45.0    4.278683e+07   \n",
       "2020-01-28             59.37           46.0    4.433917e+07   \n",
       "2020-01-29             59.46           44.0    4.293038e+07   \n",
       "2020-01-30             57.72           46.0    4.500210e+07   \n",
       "2020-01-31             57.77           46.0    4.500210e+07   \n",
       "\n",
       "            avg_volh2o_per_ft  \\\n",
       "2020-01-27        1642.821249   \n",
       "2020-01-28        1658.283946   \n",
       "2020-01-29        1624.508496   \n",
       "2020-01-30        1624.812672   \n",
       "2020-01-31        1624.812672   \n",
       "\n",
       "                                                         APIs  \n",
       "2020-01-27  [42255361850000, 42255361860000, 4225536568000...  \n",
       "2020-01-28  [42255361850000, 42255361860000, 4225536568000...  \n",
       "2020-01-29  [42255361850000, 42255361860000, 4225536569000...  \n",
       "2020-01-30  [42255361850000, 42255361860000, 4225536559000...  \n",
       "2020-01-31  [42255361850000, 42255361860000, 4225536559000...  "
      ]
     },
     "execution_count": 131,
     "metadata": {},
     "output_type": "execute_result"
    }
   ],
   "source": [
    "mega_df.index = pd.to_datetime(mega_df.index)\n",
    "mega_df = mega_df.loc[:'1-31-2020',]\n",
    "mega_df.tail()"
   ]
  },
  {
   "cell_type": "code",
   "execution_count": 132,
   "id": "downtown-ownership",
   "metadata": {},
   "outputs": [
    {
     "data": {
      "text/html": [
       "<div>\n",
       "<style scoped>\n",
       "    .dataframe tbody tr th:only-of-type {\n",
       "        vertical-align: middle;\n",
       "    }\n",
       "\n",
       "    .dataframe tbody tr th {\n",
       "        vertical-align: top;\n",
       "    }\n",
       "\n",
       "    .dataframe thead th {\n",
       "        text-align: right;\n",
       "    }\n",
       "</style>\n",
       "<table border=\"1\" class=\"dataframe\">\n",
       "  <thead>\n",
       "    <tr style=\"text-align: right;\">\n",
       "      <th></th>\n",
       "      <th>Daily_Sum</th>\n",
       "      <th>Daily_Avg</th>\n",
       "      <th>Daily_Count</th>\n",
       "      <th>Rig_Count</th>\n",
       "      <th>WTI_Spot_Price</th>\n",
       "      <th>Brent_Spot_Price</th>\n",
       "      <th>fracs_per_day</th>\n",
       "      <th>volume_per_day</th>\n",
       "      <th>avg_volh2o_per_ft</th>\n",
       "    </tr>\n",
       "  </thead>\n",
       "  <tbody>\n",
       "    <tr>\n",
       "      <th>2012-03-04</th>\n",
       "      <td>0.0</td>\n",
       "      <td>0.0</td>\n",
       "      <td>0.0</td>\n",
       "      <td>101.000000</td>\n",
       "      <td>106.680000</td>\n",
       "      <td>125.930000</td>\n",
       "      <td>8.0</td>\n",
       "      <td>6.358212e+06</td>\n",
       "      <td>602.103409</td>\n",
       "    </tr>\n",
       "    <tr>\n",
       "      <th>2012-03-11</th>\n",
       "      <td>0.0</td>\n",
       "      <td>0.0</td>\n",
       "      <td>0.0</td>\n",
       "      <td>101.000000</td>\n",
       "      <td>105.705000</td>\n",
       "      <td>125.855000</td>\n",
       "      <td>8.0</td>\n",
       "      <td>6.358212e+06</td>\n",
       "      <td>602.103409</td>\n",
       "    </tr>\n",
       "    <tr>\n",
       "      <th>2012-03-25</th>\n",
       "      <td>0.0</td>\n",
       "      <td>0.0</td>\n",
       "      <td>0.0</td>\n",
       "      <td>101.000000</td>\n",
       "      <td>106.430000</td>\n",
       "      <td>125.210000</td>\n",
       "      <td>1.0</td>\n",
       "      <td>9.870840e+05</td>\n",
       "      <td>373.895455</td>\n",
       "    </tr>\n",
       "    <tr>\n",
       "      <th>2012-04-01</th>\n",
       "      <td>0.0</td>\n",
       "      <td>0.0</td>\n",
       "      <td>0.0</td>\n",
       "      <td>101.000000</td>\n",
       "      <td>107.070000</td>\n",
       "      <td>125.850000</td>\n",
       "      <td>1.0</td>\n",
       "      <td>9.870840e+05</td>\n",
       "      <td>373.895455</td>\n",
       "    </tr>\n",
       "    <tr>\n",
       "      <th>2012-06-03</th>\n",
       "      <td>0.0</td>\n",
       "      <td>0.0</td>\n",
       "      <td>0.0</td>\n",
       "      <td>98.666667</td>\n",
       "      <td>85.761667</td>\n",
       "      <td>101.858333</td>\n",
       "      <td>1.0</td>\n",
       "      <td>8.432639e+05</td>\n",
       "      <td>1117.963447</td>\n",
       "    </tr>\n",
       "  </tbody>\n",
       "</table>\n",
       "</div>"
      ],
      "text/plain": [
       "            Daily_Sum  Daily_Avg  Daily_Count   Rig_Count  WTI_Spot_Price  \\\n",
       "2012-03-04        0.0        0.0          0.0  101.000000      106.680000   \n",
       "2012-03-11        0.0        0.0          0.0  101.000000      105.705000   \n",
       "2012-03-25        0.0        0.0          0.0  101.000000      106.430000   \n",
       "2012-04-01        0.0        0.0          0.0  101.000000      107.070000   \n",
       "2012-06-03        0.0        0.0          0.0   98.666667       85.761667   \n",
       "\n",
       "            Brent_Spot_Price  fracs_per_day  volume_per_day  avg_volh2o_per_ft  \n",
       "2012-03-04        125.930000            8.0    6.358212e+06         602.103409  \n",
       "2012-03-11        125.855000            8.0    6.358212e+06         602.103409  \n",
       "2012-03-25        125.210000            1.0    9.870840e+05         373.895455  \n",
       "2012-04-01        125.850000            1.0    9.870840e+05         373.895455  \n",
       "2012-06-03        101.858333            1.0    8.432639e+05        1117.963447  "
      ]
     },
     "execution_count": 132,
     "metadata": {},
     "output_type": "execute_result"
    }
   ],
   "source": [
    "#time to resample to Weekly averages\n",
    "mega_df_weekly = mega_df.resample('W').mean()\n",
    "mega_df_weekly.dropna(inplace=True)\n",
    "mega_df_weekly.head()"
   ]
  },
  {
   "cell_type": "code",
   "execution_count": 133,
   "id": "distinct-gamma",
   "metadata": {},
   "outputs": [],
   "source": [
    "#define my X and y \n",
    "X = mega_df_weekly[['avg_volh2o_per_ft']]\n",
    "y = mega_df_weekly['Daily_Avg']"
   ]
  },
  {
   "cell_type": "code",
   "execution_count": 134,
   "id": "hawaiian-bryan",
   "metadata": {},
   "outputs": [],
   "source": [
    "#splitting into train and test sets; remember to use shuffle=False\n",
    "X_train, X_test, y_train, y_test = train_test_split(X, y, shuffle=False)"
   ]
  },
  {
   "cell_type": "code",
   "execution_count": 135,
   "id": "healthy-cooperation",
   "metadata": {},
   "outputs": [],
   "source": [
    "#now need to scale the data\n",
    "sscaler = StandardScaler()\n",
    "X_train_sc = sscaler.fit_transform(X_train)\n",
    "X_test_sc = sscaler.transform(X_test)"
   ]
  },
  {
   "cell_type": "code",
   "execution_count": 136,
   "id": "manual-harvest",
   "metadata": {},
   "outputs": [],
   "source": [
    "train_sequences = TimeseriesGenerator(X_train_sc, y_train, length=7, batch_size=64)\n",
    "test_sequences = TimeseriesGenerator(X_test_sc, y_test, length=7, batch_size=64)"
   ]
  },
  {
   "cell_type": "code",
   "execution_count": 137,
   "id": "announced-better",
   "metadata": {},
   "outputs": [
    {
     "data": {
      "text/plain": [
       "(289, 1)"
      ]
     },
     "execution_count": 137,
     "metadata": {},
     "output_type": "execute_result"
    }
   ],
   "source": [
    "X_train_sc.shape"
   ]
  },
  {
   "cell_type": "code",
   "execution_count": 138,
   "id": "received-formation",
   "metadata": {},
   "outputs": [
    {
     "data": {
      "text/plain": [
       "(64, 7, 1)"
      ]
     },
     "execution_count": 138,
     "metadata": {},
     "output_type": "execute_result"
    }
   ],
   "source": [
    "batch_x, batch_y = train_sequences[0]\n",
    "batch_x.shape"
   ]
  },
  {
   "cell_type": "code",
   "execution_count": 139,
   "id": "marine-trace",
   "metadata": {},
   "outputs": [],
   "source": [
    "#I'm going to use multiple GRUs\n",
    "modelm1 = Sequential()\n",
    "modelm1.add(GRU(10, input_shape = (7,1), return_sequences=True))\n",
    "modelm1.add(GRU(50, return_sequences=True, dropout=0.2, recurrent_dropout=0.2))\n",
    "modelm1.add(GRU(100, dropout=0.2, recurrent_dropout=0.2))\n",
    "modelm1.add(Dense(20, activation = 'relu'))\n",
    "modelm1.add(Dense(1))\n",
    "\n",
    "modelm1.compile(loss='mae', optimizer = 'adam', metrics=['acc', 'mse'])\n",
    "historym1 = modelm1.fit(train_sequences, validation_data=test_sequences, epochs=50, verbose=0)"
   ]
  },
  {
   "cell_type": "code",
   "execution_count": 140,
   "id": "fifth-distance",
   "metadata": {},
   "outputs": [
    {
     "data": {
      "image/png": "[encoded data removed]",
      "text/plain": [
       "<Figure size 432x288 with 1 Axes>"
      ]
     },
     "metadata": {
      "needs_background": "light"
     },
     "output_type": "display_data"
    }
   ],
   "source": [
    "#let's look at our accuracy\n",
    "plt.plot(historym1.history['acc'], label='accuracy')\n",
    "plt.plot(historym1.history['val_acc'], label = 'val_accuracy')\n",
    "plt.legend();"
   ]
  },
  {
   "cell_type": "code",
   "execution_count": 141,
   "id": "incorrect-promotion",
   "metadata": {},
   "outputs": [
    {
     "data": {
      "image/png": "[encoded data removed]",
      "text/plain": [
       "<Figure size 432x288 with 1 Axes>"
      ]
     },
     "metadata": {
      "needs_background": "light"
     },
     "output_type": "display_data"
    }
   ],
   "source": [
    "#let's look at our mse\n",
    "plt.plot(historym1.history['mse'], label='mse')\n",
    "plt.plot(historym1.history['val_mse'], label='val_mse')\n",
    "plt.legend();"
   ]
  },
  {
   "cell_type": "code",
   "execution_count": 142,
   "id": "homeless-nitrogen",
   "metadata": {},
   "outputs": [
    {
     "data": {
      "text/plain": [
       "0.24662795519027217"
      ]
     },
     "execution_count": 142,
     "metadata": {},
     "output_type": "execute_result"
    }
   ],
   "source": [
    "#I need to set up a null/baseline model to compare to\n",
    "mean_y_train_array = np.full_like(y_train, y_train.mean())\n",
    "mean_squared_error(y_train, mean_y_train_array, squared=False)"
   ]
  },
  {
   "cell_type": "code",
   "execution_count": 143,
   "id": "relevant-boards",
   "metadata": {},
   "outputs": [
    {
     "data": {
      "text/plain": [
       "0.3379607320070323"
      ]
     },
     "execution_count": 143,
     "metadata": {},
     "output_type": "execute_result"
    }
   ],
   "source": [
    "mean_y_test_array = np.full_like(y_test, y_test.mean())\n",
    "mean_squared_error(y_test, mean_y_test_array, squared=False)"
   ]
  },
  {
   "cell_type": "markdown",
   "id": "quiet-gamma",
   "metadata": {},
   "source": [
    "I think I have a model that beat the nulls! The accuracy isn't great, but the rmse values look really good! What if I make my model a little simpler? How does that do?"
   ]
  },
  {
   "cell_type": "code",
   "execution_count": 146,
   "id": "exposed-trail",
   "metadata": {},
   "outputs": [],
   "source": [
    "#I'm going to use one less GRU layer and then drop the epochs down to 30\n",
    "modelm2 = Sequential()\n",
    "modelm2.add(GRU(10, input_shape = (7,1), return_sequences=True))\n",
    "modelm2.add(GRU(100, dropout=0.2, recurrent_dropout=0.2))\n",
    "modelm2.add(Dense(20, activation = 'relu'))\n",
    "modelm2.add(Dense(1))\n",
    "\n",
    "modelm2.compile(loss='mae', optimizer = 'adam', metrics=['acc', 'mse'])\n",
    "historym2 = modelm2.fit(train_sequences, validation_data=test_sequences, epochs=30, verbose=0)"
   ]
  },
  {
   "cell_type": "code",
   "execution_count": 147,
   "id": "healthy-police",
   "metadata": {},
   "outputs": [
    {
     "data": {
      "image/png": "[encoded data removed]",
      "text/plain": [
       "<Figure size 432x288 with 1 Axes>"
      ]
     },
     "metadata": {
      "needs_background": "light"
     },
     "output_type": "display_data"
    }
   ],
   "source": [
    "#let's look at our accuracy\n",
    "plt.plot(historym2.history['acc'], label='accuracy')\n",
    "plt.plot(historym2.history['val_acc'], label = 'val_accuracy')\n",
    "plt.legend();"
   ]
  },
  {
   "cell_type": "code",
   "execution_count": 149,
   "id": "dated-bedroom",
   "metadata": {},
   "outputs": [
    {
     "data": {
      "image/png": "[encoded data removed]",
      "text/plain": [
       "<Figure size 432x288 with 1 Axes>"
      ]
     },
     "metadata": {
      "needs_background": "light"
     },
     "output_type": "display_data"
    }
   ],
   "source": [
    "#let's look at our mse\n",
    "plt.plot(historym2.history['mse'], label='mse')\n",
    "plt.plot(historym2.history['val_mse'], label='val_mse')\n",
    "plt.legend();"
   ]
  },
  {
   "cell_type": "markdown",
   "id": "identical-curtis",
   "metadata": {},
   "source": [
    "It looks like this simpler model performed more/less the same."
   ]
  },
  {
   "cell_type": "markdown",
   "id": "brutal-passing",
   "metadata": {},
   "source": [
    "Now I'd like to try modelling the volume_per_day feature with the same one from above and see how that performs."
   ]
  },
  {
   "cell_type": "code",
   "execution_count": 150,
   "id": "colonial-saint",
   "metadata": {},
   "outputs": [],
   "source": [
    "#define my X and y \n",
    "X = mega_df_weekly[['volume_per_day','avg_volh2o_per_ft']]\n",
    "y = mega_df_weekly['Daily_Avg']"
   ]
  },
  {
   "cell_type": "code",
   "execution_count": 151,
   "id": "recent-region",
   "metadata": {},
   "outputs": [],
   "source": [
    "#splitting into train and test sets; remember to use shuffle=False\n",
    "X_train, X_test, y_train, y_test = train_test_split(X, y, shuffle=False)"
   ]
  },
  {
   "cell_type": "code",
   "execution_count": 152,
   "id": "portable-bridge",
   "metadata": {},
   "outputs": [],
   "source": [
    "#now need to scale the data\n",
    "sscaler = StandardScaler()\n",
    "X_train_sc = sscaler.fit_transform(X_train)\n",
    "X_test_sc = sscaler.transform(X_test)"
   ]
  },
  {
   "cell_type": "code",
   "execution_count": 153,
   "id": "english-census",
   "metadata": {},
   "outputs": [],
   "source": [
    "train_sequences = TimeseriesGenerator(X_train_sc, y_train, length=7, batch_size=64)\n",
    "test_sequences = TimeseriesGenerator(X_test_sc, y_test, length=7, batch_size=64)"
   ]
  },
  {
   "cell_type": "code",
   "execution_count": 154,
   "id": "sought-strike",
   "metadata": {},
   "outputs": [
    {
     "data": {
      "text/plain": [
       "(64, 7, 2)"
      ]
     },
     "execution_count": 154,
     "metadata": {},
     "output_type": "execute_result"
    }
   ],
   "source": [
    "batch_x, batch_y = train_sequences[0]\n",
    "batch_x.shape"
   ]
  },
  {
   "cell_type": "code",
   "execution_count": 155,
   "id": "introductory-istanbul",
   "metadata": {},
   "outputs": [],
   "source": [
    "#I'm going to use multiple GRUs\n",
    "modelm3 = Sequential()\n",
    "modelm3.add(GRU(10, input_shape = (7,2), return_sequences=True))\n",
    "modelm3.add(GRU(50, return_sequences=True, dropout=0.2, recurrent_dropout=0.2))\n",
    "modelm3.add(GRU(100, dropout=0.2, recurrent_dropout=0.2))\n",
    "modelm3.add(Dense(20, activation = 'relu'))\n",
    "modelm3.add(Dense(1))\n",
    "\n",
    "modelm3.compile(loss='mae', optimizer = 'adam', metrics=['acc', 'mse'])\n",
    "historym3 = modelm3.fit(train_sequences, validation_data=test_sequences, epochs=50, verbose=0)"
   ]
  },
  {
   "cell_type": "code",
   "execution_count": 156,
   "id": "wired-receptor",
   "metadata": {},
   "outputs": [
    {
     "data": {
      "image/png": "[encoded data removed]",
      "text/plain": [
       "<Figure size 432x288 with 1 Axes>"
      ]
     },
     "metadata": {
      "needs_background": "light"
     },
     "output_type": "display_data"
    }
   ],
   "source": [
    "#let's look at our accuracy\n",
    "plt.plot(historym3.history['acc'], label='accuracy')\n",
    "plt.plot(historym3.history['val_acc'], label = 'val_accuracy')\n",
    "plt.legend();"
   ]
  },
  {
   "cell_type": "code",
   "execution_count": 157,
   "id": "weekly-workstation",
   "metadata": {},
   "outputs": [
    {
     "data": {
      "image/png": "[encoded data removed]",
      "text/plain": [
       "<Figure size 432x288 with 1 Axes>"
      ]
     },
     "metadata": {
      "needs_background": "light"
     },
     "output_type": "display_data"
    }
   ],
   "source": [
    "#let's look at our mse\n",
    "plt.plot(historym3.history['mse'], label='mse')\n",
    "plt.plot(historym3.history['val_mse'], label='val_mse')\n",
    "plt.legend();"
   ]
  },
  {
   "cell_type": "markdown",
   "id": "arctic-scout",
   "metadata": {},
   "source": [
    "Recall that our null train rmse was 0.25 and null test rmse was 0.34 (both using the mean), so again, this model beat the null models."
   ]
  },
  {
   "cell_type": "markdown",
   "id": "fiscal-insight",
   "metadata": {},
   "source": [
    "Now I'd like to add in the fracs_per_day data with the other features and see how that does."
   ]
  },
  {
   "cell_type": "code",
   "execution_count": 159,
   "id": "double-amount",
   "metadata": {},
   "outputs": [],
   "source": [
    "#define my X and y \n",
    "X = mega_df_weekly[['fracs_per_day','volume_per_day','avg_volh2o_per_ft']]\n",
    "y = mega_df_weekly['Daily_Avg']"
   ]
  },
  {
   "cell_type": "code",
   "execution_count": 160,
   "id": "assigned-waste",
   "metadata": {},
   "outputs": [],
   "source": [
    "#splitting into train and test sets; remember to use shuffle=False\n",
    "X_train, X_test, y_train, y_test = train_test_split(X, y, shuffle=False)"
   ]
  },
  {
   "cell_type": "code",
   "execution_count": 161,
   "id": "extreme-eligibility",
   "metadata": {},
   "outputs": [],
   "source": [
    "#now need to scale the data\n",
    "sscaler = StandardScaler()\n",
    "X_train_sc = sscaler.fit_transform(X_train)\n",
    "X_test_sc = sscaler.transform(X_test)"
   ]
  },
  {
   "cell_type": "code",
   "execution_count": 162,
   "id": "suspected-shelter",
   "metadata": {},
   "outputs": [],
   "source": [
    "train_sequences = TimeseriesGenerator(X_train_sc, y_train, length=7, batch_size=64)\n",
    "test_sequences = TimeseriesGenerator(X_test_sc, y_test, length=7, batch_size=64)"
   ]
  },
  {
   "cell_type": "code",
   "execution_count": 163,
   "id": "cutting-package",
   "metadata": {},
   "outputs": [
    {
     "data": {
      "text/plain": [
       "(64, 7, 3)"
      ]
     },
     "execution_count": 163,
     "metadata": {},
     "output_type": "execute_result"
    }
   ],
   "source": [
    "batch_x, batch_y = train_sequences[0]\n",
    "batch_x.shape"
   ]
  },
  {
   "cell_type": "code",
   "execution_count": 164,
   "id": "invalid-shipping",
   "metadata": {},
   "outputs": [],
   "source": [
    "#I'm going to use multiple GRUs like before, but I want to try more epochs\n",
    "modelm4 = Sequential()\n",
    "modelm4.add(GRU(10, input_shape = (7,3), return_sequences=True))\n",
    "modelm4.add(GRU(50, return_sequences=True, dropout=0.2, recurrent_dropout=0.2))\n",
    "modelm4.add(GRU(100, dropout=0.2, recurrent_dropout=0.2))\n",
    "modelm4.add(Dense(20, activation = 'relu'))\n",
    "modelm4.add(Dense(1))\n",
    "\n",
    "modelm4.compile(loss='mae', optimizer = 'adam', metrics=['acc', 'mse'])\n",
    "historym4 = modelm4.fit(train_sequences, validation_data=test_sequences, epochs=60, verbose=0)"
   ]
  },
  {
   "cell_type": "code",
   "execution_count": 165,
   "id": "referenced-queensland",
   "metadata": {},
   "outputs": [
    {
     "data": {
      "image/png": "[encoded data removed]",
      "text/plain": [
       "<Figure size 432x288 with 1 Axes>"
      ]
     },
     "metadata": {
      "needs_background": "light"
     },
     "output_type": "display_data"
    }
   ],
   "source": [
    "#let's look at our accuracy\n",
    "plt.plot(historym4.history['acc'], label='accuracy')\n",
    "plt.plot(historym4.history['val_acc'], label = 'val_accuracy')\n",
    "plt.legend();"
   ]
  },
  {
   "cell_type": "code",
   "execution_count": 166,
   "id": "egyptian-subdivision",
   "metadata": {},
   "outputs": [
    {
     "data": {
      "image/png": "[encoded data removed]",
      "text/plain": [
       "<Figure size 432x288 with 1 Axes>"
      ]
     },
     "metadata": {
      "needs_background": "light"
     },
     "output_type": "display_data"
    }
   ],
   "source": [
    "#let's look at our mse\n",
    "plt.plot(historym4.history['mse'], label='mse')\n",
    "plt.plot(historym4.history['val_mse'], label='val_mse')\n",
    "plt.legend();"
   ]
  },
  {
   "cell_type": "markdown",
   "id": "banner-apparatus",
   "metadata": {},
   "source": [
    "I think this model actually got down to a lower val rmse (down to ~0.15), which is the best yet. The extra epochs didn't really help though."
   ]
  },
  {
   "cell_type": "markdown",
   "id": "certified-relevance",
   "metadata": {},
   "source": [
    "Now I want to try adding in the rig count feature and see how that affects the model."
   ]
  },
  {
   "cell_type": "code",
   "execution_count": 167,
   "id": "bottom-commander",
   "metadata": {},
   "outputs": [],
   "source": [
    "#define my X and y \n",
    "X = mega_df_weekly[['fracs_per_day','volume_per_day','avg_volh2o_per_ft', 'Rig_Count']]\n",
    "y = mega_df_weekly['Daily_Avg']"
   ]
  },
  {
   "cell_type": "code",
   "execution_count": 168,
   "id": "threaded-burden",
   "metadata": {},
   "outputs": [],
   "source": [
    "#splitting into train and test sets; remember to use shuffle=False\n",
    "X_train, X_test, y_train, y_test = train_test_split(X, y, shuffle=False)"
   ]
  },
  {
   "cell_type": "code",
   "execution_count": 169,
   "id": "improving-while",
   "metadata": {},
   "outputs": [],
   "source": [
    "#now need to scale the data\n",
    "sscaler = StandardScaler()\n",
    "X_train_sc = sscaler.fit_transform(X_train)\n",
    "X_test_sc = sscaler.transform(X_test)"
   ]
  },
  {
   "cell_type": "code",
   "execution_count": 170,
   "id": "affected-starter",
   "metadata": {},
   "outputs": [],
   "source": [
    "train_sequences = TimeseriesGenerator(X_train_sc, y_train, length=7, batch_size=64)\n",
    "test_sequences = TimeseriesGenerator(X_test_sc, y_test, length=7, batch_size=64)"
   ]
  },
  {
   "cell_type": "code",
   "execution_count": 171,
   "id": "another-tackle",
   "metadata": {},
   "outputs": [
    {
     "data": {
      "text/plain": [
       "(64, 7, 4)"
      ]
     },
     "execution_count": 171,
     "metadata": {},
     "output_type": "execute_result"
    }
   ],
   "source": [
    "batch_x, batch_y = train_sequences[0]\n",
    "batch_x.shape"
   ]
  },
  {
   "cell_type": "code",
   "execution_count": 175,
   "id": "renewable-modern",
   "metadata": {},
   "outputs": [],
   "source": [
    "#I'm going to use multiple GRUs like before\n",
    "modelm5 = Sequential()\n",
    "modelm5.add(GRU(10, input_shape = (7,4), return_sequences=True))\n",
    "modelm5.add(GRU(50, return_sequences=True, dropout=0.2, recurrent_dropout=0.2))\n",
    "modelm5.add(GRU(100, dropout=0.2, recurrent_dropout=0.2))\n",
    "modelm5.add(Dense(20, activation = 'relu'))\n",
    "modelm5.add(Dense(1))\n",
    "\n",
    "modelm5.compile(loss='mae', optimizer = 'adam', metrics=['acc', 'mse'])\n",
    "historym5 = modelm5.fit(train_sequences, validation_data=test_sequences, epochs=50, verbose=0)"
   ]
  },
  {
   "cell_type": "code",
   "execution_count": 176,
   "id": "blessed-evanescence",
   "metadata": {},
   "outputs": [
    {
     "data": {
      "image/png": "[encoded data removed]",
      "text/plain": [
       "<Figure size 432x288 with 1 Axes>"
      ]
     },
     "metadata": {
      "needs_background": "light"
     },
     "output_type": "display_data"
    }
   ],
   "source": [
    "#let's look at our accuracy\n",
    "plt.plot(historym5.history['acc'], label='accuracy')\n",
    "plt.plot(historym5.history['val_acc'], label = 'val_accuracy')\n",
    "plt.legend();"
   ]
  },
  {
   "cell_type": "code",
   "execution_count": 177,
   "id": "collectible-allah",
   "metadata": {},
   "outputs": [
    {
     "data": {
      "image/png": "[encoded data removed]",
      "text/plain": [
       "<Figure size 432x288 with 1 Axes>"
      ]
     },
     "metadata": {
      "needs_background": "light"
     },
     "output_type": "display_data"
    }
   ],
   "source": [
    "#let's look at our mse\n",
    "plt.plot(historym5.history['mse'], label='mse')\n",
    "plt.plot(historym5.history['val_mse'], label='val_mse')\n",
    "plt.legend();"
   ]
  },
  {
   "cell_type": "markdown",
   "id": "phantom-corruption",
   "metadata": {},
   "source": [
    "Wow, that gave me some different results, that actually improved my model a little bit! And it seems like the first 10 epochs were the best, then deviated after that. Our train and test rmse values improved a bit. "
   ]
  },
  {
   "cell_type": "markdown",
   "id": "statistical-transaction",
   "metadata": {},
   "source": [
    "Since we seem to be improving wtih each feature, I'm going to add the last two in there, which are the WTI and Brent Spot Prices. We'll see how that goes."
   ]
  },
  {
   "cell_type": "code",
   "execution_count": 178,
   "id": "vital-omega",
   "metadata": {},
   "outputs": [],
   "source": [
    "#define my X and y \n",
    "X = mega_df_weekly[['fracs_per_day','volume_per_day','avg_volh2o_per_ft', 'Rig_Count', 'WTI_Spot_Price', 'Brent_Spot_Price']]\n",
    "y = mega_df_weekly['Daily_Avg']"
   ]
  },
  {
   "cell_type": "code",
   "execution_count": 179,
   "id": "light-telescope",
   "metadata": {},
   "outputs": [],
   "source": [
    "#splitting into train and test sets; remember to use shuffle=False\n",
    "X_train, X_test, y_train, y_test = train_test_split(X, y, shuffle=False)"
   ]
  },
  {
   "cell_type": "code",
   "execution_count": 180,
   "id": "efficient-dynamics",
   "metadata": {},
   "outputs": [],
   "source": [
    "#now need to scale the data\n",
    "sscaler = StandardScaler()\n",
    "X_train_sc = sscaler.fit_transform(X_train)\n",
    "X_test_sc = sscaler.transform(X_test)"
   ]
  },
  {
   "cell_type": "code",
   "execution_count": 181,
   "id": "corrected-portfolio",
   "metadata": {},
   "outputs": [],
   "source": [
    "train_sequences = TimeseriesGenerator(X_train_sc, y_train, length=7, batch_size=64)\n",
    "test_sequences = TimeseriesGenerator(X_test_sc, y_test, length=7, batch_size=64)"
   ]
  },
  {
   "cell_type": "code",
   "execution_count": 182,
   "id": "instant-sculpture",
   "metadata": {},
   "outputs": [
    {
     "data": {
      "text/plain": [
       "(64, 7, 6)"
      ]
     },
     "execution_count": 182,
     "metadata": {},
     "output_type": "execute_result"
    }
   ],
   "source": [
    "batch_x, batch_y = train_sequences[0]\n",
    "batch_x.shape"
   ]
  },
  {
   "cell_type": "code",
   "execution_count": 183,
   "id": "wicked-secondary",
   "metadata": {},
   "outputs": [],
   "source": [
    "#I'm going to use multiple GRUs like before, but I want to try more epochs\n",
    "modelm6 = Sequential()\n",
    "modelm6.add(GRU(10, input_shape = (7,6), return_sequences=True))\n",
    "modelm6.add(GRU(50, return_sequences=True, dropout=0.2, recurrent_dropout=0.2))\n",
    "modelm6.add(GRU(100, dropout=0.2, recurrent_dropout=0.2))\n",
    "modelm6.add(Dense(20, activation = 'relu'))\n",
    "modelm6.add(Dense(1))\n",
    "\n",
    "modelm6.compile(loss='mae', optimizer = 'adam', metrics=['acc', 'mse'])\n",
    "historym6 = modelm6.fit(train_sequences, validation_data=test_sequences, epochs=50, verbose=0)"
   ]
  },
  {
   "cell_type": "code",
   "execution_count": 184,
   "id": "sharing-noise",
   "metadata": {},
   "outputs": [
    {
     "data": {
      "image/png": "[encoded data removed]",
      "text/plain": [
       "<Figure size 432x288 with 1 Axes>"
      ]
     },
     "metadata": {
      "needs_background": "light"
     },
     "output_type": "display_data"
    }
   ],
   "source": [
    "#let's look at our accuracy\n",
    "plt.plot(historym6.history['acc'], label='accuracy')\n",
    "plt.plot(historym6.history['val_acc'], label = 'val_accuracy')\n",
    "plt.legend();"
   ]
  },
  {
   "cell_type": "code",
   "execution_count": 185,
   "id": "creative-vacuum",
   "metadata": {},
   "outputs": [
    {
     "data": {
      "image/png": "[encoded data removed]",
      "text/plain": [
       "<Figure size 432x288 with 1 Axes>"
      ]
     },
     "metadata": {
      "needs_background": "light"
     },
     "output_type": "display_data"
    }
   ],
   "source": [
    "#let's look at our mse\n",
    "plt.plot(historym6.history['mse'], label='mse')\n",
    "plt.plot(historym6.history['val_mse'], label='val_mse')\n",
    "plt.legend();"
   ]
  },
  {
   "cell_type": "markdown",
   "id": "flexible-switch",
   "metadata": {},
   "source": [
    "Well that model didn't do nearly as well! I'm going to try again, with just WTI price and see what that does."
   ]
  },
  {
   "cell_type": "code",
   "execution_count": 186,
   "id": "western-leonard",
   "metadata": {},
   "outputs": [],
   "source": [
    "#define my X and y \n",
    "X = mega_df_weekly[['fracs_per_day','volume_per_day','avg_volh2o_per_ft', 'Rig_Count', 'WTI_Spot_Price']]\n",
    "y = mega_df_weekly['Daily_Avg']"
   ]
  },
  {
   "cell_type": "code",
   "execution_count": 187,
   "id": "rocky-alarm",
   "metadata": {},
   "outputs": [],
   "source": [
    "#splitting into train and test sets; remember to use shuffle=False\n",
    "X_train, X_test, y_train, y_test = train_test_split(X, y, shuffle=False)"
   ]
  },
  {
   "cell_type": "code",
   "execution_count": 188,
   "id": "altered-deadline",
   "metadata": {},
   "outputs": [],
   "source": [
    "#now need to scale the data\n",
    "sscaler = StandardScaler()\n",
    "X_train_sc = sscaler.fit_transform(X_train)\n",
    "X_test_sc = sscaler.transform(X_test)"
   ]
  },
  {
   "cell_type": "code",
   "execution_count": 189,
   "id": "outstanding-williams",
   "metadata": {},
   "outputs": [],
   "source": [
    "train_sequences = TimeseriesGenerator(X_train_sc, y_train, length=7, batch_size=64)\n",
    "test_sequences = TimeseriesGenerator(X_test_sc, y_test, length=7, batch_size=64)"
   ]
  },
  {
   "cell_type": "code",
   "execution_count": 190,
   "id": "modern-thompson",
   "metadata": {},
   "outputs": [
    {
     "data": {
      "text/plain": [
       "(64, 7, 5)"
      ]
     },
     "execution_count": 190,
     "metadata": {},
     "output_type": "execute_result"
    }
   ],
   "source": [
    "batch_x, batch_y = train_sequences[0]\n",
    "batch_x.shape"
   ]
  },
  {
   "cell_type": "code",
   "execution_count": 191,
   "id": "derived-square",
   "metadata": {},
   "outputs": [],
   "source": [
    "#I'm going to use multiple GRUs like before, but I want to try more epochs\n",
    "modelm7 = Sequential()\n",
    "modelm7.add(GRU(10, input_shape = (7,5), return_sequences=True))\n",
    "modelm7.add(GRU(50, return_sequences=True, dropout=0.2, recurrent_dropout=0.2))\n",
    "modelm7.add(GRU(100, dropout=0.2, recurrent_dropout=0.2))\n",
    "modelm7.add(Dense(20, activation = 'relu'))\n",
    "modelm7.add(Dense(1))\n",
    "\n",
    "modelm7.compile(loss='mae', optimizer = 'adam', metrics=['acc', 'mse'])\n",
    "historym7 = modelm7.fit(train_sequences, validation_data=test_sequences, epochs=50, verbose=0)"
   ]
  },
  {
   "cell_type": "code",
   "execution_count": 192,
   "id": "alpha-electricity",
   "metadata": {},
   "outputs": [
    {
     "data": {
      "image/png": "[encoded data removed]",
      "text/plain": [
       "<Figure size 432x288 with 1 Axes>"
      ]
     },
     "metadata": {
      "needs_background": "light"
     },
     "output_type": "display_data"
    }
   ],
   "source": [
    "#let's look at our accuracy\n",
    "plt.plot(historym7.history['acc'], label='accuracy')\n",
    "plt.plot(historym7.history['val_acc'], label = 'val_accuracy')\n",
    "plt.legend();"
   ]
  },
  {
   "cell_type": "code",
   "execution_count": 193,
   "id": "monetary-liberty",
   "metadata": {},
   "outputs": [
    {
     "data": {
      "image/png": "[encoded data removed]",
      "text/plain": [
       "<Figure size 432x288 with 1 Axes>"
      ]
     },
     "metadata": {
      "needs_background": "light"
     },
     "output_type": "display_data"
    }
   ],
   "source": [
    "#let's look at our mse\n",
    "plt.plot(historym7.history['mse'], label='mse')\n",
    "plt.plot(historym7.history['val_mse'], label='val_mse')\n",
    "plt.legend();"
   ]
  },
  {
   "cell_type": "markdown",
   "id": "adjusted-style",
   "metadata": {},
   "source": [
    "Now I'd like to try using a Conv1D layer and see if that improves my model at all."
   ]
  },
  {
   "cell_type": "code",
   "execution_count": 211,
   "id": "democratic-growth",
   "metadata": {},
   "outputs": [],
   "source": [
    "#I'm going to use multiple GRUs like before, but I want to try Conv1D\n",
    "modelm8 = Sequential()\n",
    "modelm8.add(GRU(10, input_shape = (7,5), return_sequences=True))\n",
    "modelm8.add(GRU(50, return_sequences=True, dropout=0.2, recurrent_dropout=0.2))\n",
    "modelm8.add(GRU(100, return_sequences=True, dropout=0.2, recurrent_dropout=0.2))\n",
    "#Conv1D: 64- #nodes, #7 = filter size 7 time steps\n",
    "modelm8.add(Conv1D(64, 7, activation = 'relu'))\n",
    "#MaxPooling: 4 is size for pooling\n",
    "modelm8.add(MaxPooling1D(pool_size=2, strides=1, padding='same'))\n",
    "modelm8.add(Dense(20, activation = 'relu'))\n",
    "modelm8.add(Dense(1))\n",
    "\n",
    "modelm8.compile(loss='mae', optimizer = 'adam', metrics=['acc', 'mse'])\n",
    "historym8 = modelm8.fit(train_sequences, validation_data=test_sequences, epochs=50, verbose=0)"
   ]
  },
  {
   "cell_type": "code",
   "execution_count": 212,
   "id": "lucky-logan",
   "metadata": {},
   "outputs": [
    {
     "data": {
      "text/plain": [
       "[<matplotlib.lines.Line2D at 0x7fcfefdcfeb0>]"
      ]
     },
     "execution_count": 212,
     "metadata": {},
     "output_type": "execute_result"
    },
    {
     "data": {
      "image/png": "[encoded data removed]",
      "text/plain": [
       "<Figure size 432x288 with 1 Axes>"
      ]
     },
     "metadata": {
      "needs_background": "light"
     },
     "output_type": "display_data"
    }
   ],
   "source": [
    "#let's look at our accuracy\n",
    "plt.plot(historym8.history['acc'], label='accuracy')\n",
    "plt.plot(historym8.history['val_acc'], label = 'val_accuracy')"
   ]
  },
  {
   "cell_type": "code",
   "execution_count": 213,
   "id": "satellite-burns",
   "metadata": {},
   "outputs": [
    {
     "data": {
      "image/png": "[encoded data removed]",
      "text/plain": [
       "<Figure size 432x288 with 1 Axes>"
      ]
     },
     "metadata": {
      "needs_background": "light"
     },
     "output_type": "display_data"
    }
   ],
   "source": [
    "#let's look at our loss/mse\n",
    "plt.plot(historym8.history['mse'], label='mse')\n",
    "plt.plot(historym8.history['val_mse'], label='val_mse')\n",
    "plt.legend();"
   ]
  },
  {
   "cell_type": "markdown",
   "id": "photographic-cause",
   "metadata": {},
   "source": [
    "Well I think can conclude that my best models so far are these last few. The rmse's are the lowest I've seen with the RNN. I think this is a combination of using all of my data (a much bigger time range than before) and using the best target, Daily Average Magnitude. From this last bit of modelling, I've also found that the most important features to use for predicting are Total Volume injected/day, Avg Volume of water injected/ft of lateral, the # of fracs going on per day, and the WTI Spot Price (a key indicator of activity level). "
   ]
  },
  {
   "cell_type": "code",
   "execution_count": null,
   "id": "relevant-fluid",
   "metadata": {},
   "outputs": [],
   "source": []
  },
  {
   "cell_type": "code",
   "execution_count": null,
   "id": "varying-lindsay",
   "metadata": {},
   "outputs": [],
   "source": []
  }
 ],
 "metadata": {
  "kernelspec": {
   "display_name": "Python 3",
   "language": "python",
   "name": "python3"
  },
  "language_info": {
   "codemirror_mode": {
    "name": "ipython",
    "version": 3
   },
   "file_extension": ".py",
   "mimetype": "text/x-python",
   "name": "python",
   "nbconvert_exporter": "python",
   "pygments_lexer": "ipython3",
   "version": "3.8.5"
  }
 },
 "nbformat": 4,
 "nbformat_minor": 5
}
