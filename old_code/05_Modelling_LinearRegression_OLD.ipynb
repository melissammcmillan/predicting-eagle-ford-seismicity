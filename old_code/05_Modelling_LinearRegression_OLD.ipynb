{
 "cells": [
  {
   "cell_type": "markdown",
   "id": "young-short",
   "metadata": {},
   "source": [
    "### Notebook 5 of Capstone Project: Modelling Using Linear Regression!"
   ]
  },
  {
   "cell_type": "markdown",
   "id": "imposed-detection",
   "metadata": {},
   "source": [
    "The goal of this notebook is to test correlations of features to daily seismicity."
   ]
  },
  {
   "cell_type": "code",
   "execution_count": 1,
   "id": "unnecessary-schema",
   "metadata": {},
   "outputs": [],
   "source": [
    "#the standard usual\n",
    "import pandas as pd\n",
    "import numpy as np\n",
    "import matplotlib.pyplot as plt\n",
    "import seaborn as sns\n",
    "\n",
    "#sklearn imports\n",
    "from sklearn.model_selection import train_test_split\n",
    "from sklearn.preprocessing import StandardScaler\n",
    "from sklearn.metrics import mean_squared_error, r2_score\n",
    "from sklearn.linear_model import LinearRegression"
   ]
  },
  {
   "cell_type": "code",
   "execution_count": 2,
   "id": "packed-education",
   "metadata": {},
   "outputs": [],
   "source": [
    "data = pd.read_csv('oil_and_gas_data/data_for_modelling/data_ready_for_modelling.csv', index_col=0)"
   ]
  },
  {
   "cell_type": "code",
   "execution_count": 3,
   "id": "worth-death",
   "metadata": {},
   "outputs": [],
   "source": [
    "data.index = pd.to_datetime(data.index)\n",
    "data = data.loc['1-1-2018':'4-1-2019',]"
   ]
  },
  {
   "cell_type": "code",
   "execution_count": 4,
   "id": "finished-ambassador",
   "metadata": {},
   "outputs": [
    {
     "data": {
      "text/html": [
       "<div>\n",
       "<style scoped>\n",
       "    .dataframe tbody tr th:only-of-type {\n",
       "        vertical-align: middle;\n",
       "    }\n",
       "\n",
       "    .dataframe tbody tr th {\n",
       "        vertical-align: top;\n",
       "    }\n",
       "\n",
       "    .dataframe thead th {\n",
       "        text-align: right;\n",
       "    }\n",
       "</style>\n",
       "<table border=\"1\" class=\"dataframe\">\n",
       "  <thead>\n",
       "    <tr style=\"text-align: right;\">\n",
       "      <th></th>\n",
       "      <th>Daily_Avg</th>\n",
       "      <th>Daily_Sum</th>\n",
       "      <th>Daily_Count</th>\n",
       "      <th>Dly_Cnt_Diff</th>\n",
       "      <th>Rig_Count</th>\n",
       "      <th>WTI_Spot_Price</th>\n",
       "      <th>Brent_Spot_Price</th>\n",
       "      <th>fracs_per_day</th>\n",
       "      <th>volume_per_day</th>\n",
       "      <th>avg_volh2o_per_ft</th>\n",
       "    </tr>\n",
       "  </thead>\n",
       "  <tbody>\n",
       "    <tr>\n",
       "      <th>2018-01-01</th>\n",
       "      <td>0.0</td>\n",
       "      <td>0.0</td>\n",
       "      <td>0</td>\n",
       "      <td>0.0</td>\n",
       "      <td>29.0</td>\n",
       "      <td>60.46</td>\n",
       "      <td>66.73</td>\n",
       "      <td>11.0</td>\n",
       "      <td>9.756934e+06</td>\n",
       "      <td>2296.189464</td>\n",
       "    </tr>\n",
       "    <tr>\n",
       "      <th>2018-01-02</th>\n",
       "      <td>0.0</td>\n",
       "      <td>0.0</td>\n",
       "      <td>0</td>\n",
       "      <td>0.0</td>\n",
       "      <td>29.0</td>\n",
       "      <td>60.37</td>\n",
       "      <td>66.65</td>\n",
       "      <td>10.0</td>\n",
       "      <td>9.153045e+06</td>\n",
       "      <td>2342.811706</td>\n",
       "    </tr>\n",
       "    <tr>\n",
       "      <th>2018-01-03</th>\n",
       "      <td>1.9</td>\n",
       "      <td>1.9</td>\n",
       "      <td>1</td>\n",
       "      <td>1.0</td>\n",
       "      <td>29.0</td>\n",
       "      <td>61.61</td>\n",
       "      <td>67.85</td>\n",
       "      <td>9.0</td>\n",
       "      <td>8.132097e+06</td>\n",
       "      <td>2237.885860</td>\n",
       "    </tr>\n",
       "    <tr>\n",
       "      <th>2018-01-04</th>\n",
       "      <td>0.0</td>\n",
       "      <td>0.0</td>\n",
       "      <td>0</td>\n",
       "      <td>-1.0</td>\n",
       "      <td>29.0</td>\n",
       "      <td>61.98</td>\n",
       "      <td>68.73</td>\n",
       "      <td>9.0</td>\n",
       "      <td>8.132097e+06</td>\n",
       "      <td>2237.885860</td>\n",
       "    </tr>\n",
       "    <tr>\n",
       "      <th>2018-01-05</th>\n",
       "      <td>0.0</td>\n",
       "      <td>0.0</td>\n",
       "      <td>0</td>\n",
       "      <td>0.0</td>\n",
       "      <td>29.0</td>\n",
       "      <td>61.49</td>\n",
       "      <td>68.01</td>\n",
       "      <td>11.0</td>\n",
       "      <td>1.037330e+07</td>\n",
       "      <td>2351.808369</td>\n",
       "    </tr>\n",
       "    <tr>\n",
       "      <th>...</th>\n",
       "      <td>...</td>\n",
       "      <td>...</td>\n",
       "      <td>...</td>\n",
       "      <td>...</td>\n",
       "      <td>...</td>\n",
       "      <td>...</td>\n",
       "      <td>...</td>\n",
       "      <td>...</td>\n",
       "      <td>...</td>\n",
       "      <td>...</td>\n",
       "    </tr>\n",
       "    <tr>\n",
       "      <th>2019-03-28</th>\n",
       "      <td>0.0</td>\n",
       "      <td>0.0</td>\n",
       "      <td>0</td>\n",
       "      <td>0.0</td>\n",
       "      <td>32.0</td>\n",
       "      <td>59.29</td>\n",
       "      <td>66.08</td>\n",
       "      <td>23.0</td>\n",
       "      <td>1.861699e+07</td>\n",
       "      <td>2614.097670</td>\n",
       "    </tr>\n",
       "    <tr>\n",
       "      <th>2019-03-29</th>\n",
       "      <td>0.0</td>\n",
       "      <td>0.0</td>\n",
       "      <td>0</td>\n",
       "      <td>0.0</td>\n",
       "      <td>32.0</td>\n",
       "      <td>60.19</td>\n",
       "      <td>67.93</td>\n",
       "      <td>26.0</td>\n",
       "      <td>2.113339e+07</td>\n",
       "      <td>2556.464154</td>\n",
       "    </tr>\n",
       "    <tr>\n",
       "      <th>2019-03-30</th>\n",
       "      <td>1.7</td>\n",
       "      <td>1.7</td>\n",
       "      <td>1</td>\n",
       "      <td>1.0</td>\n",
       "      <td>31.0</td>\n",
       "      <td>60.19</td>\n",
       "      <td>67.93</td>\n",
       "      <td>25.0</td>\n",
       "      <td>2.095261e+07</td>\n",
       "      <td>2508.160674</td>\n",
       "    </tr>\n",
       "    <tr>\n",
       "      <th>2019-03-31</th>\n",
       "      <td>1.4</td>\n",
       "      <td>1.4</td>\n",
       "      <td>1</td>\n",
       "      <td>0.0</td>\n",
       "      <td>31.0</td>\n",
       "      <td>60.19</td>\n",
       "      <td>67.93</td>\n",
       "      <td>25.0</td>\n",
       "      <td>1.823890e+07</td>\n",
       "      <td>2658.873856</td>\n",
       "    </tr>\n",
       "    <tr>\n",
       "      <th>2019-04-01</th>\n",
       "      <td>0.0</td>\n",
       "      <td>0.0</td>\n",
       "      <td>0</td>\n",
       "      <td>-1.0</td>\n",
       "      <td>31.0</td>\n",
       "      <td>61.59</td>\n",
       "      <td>69.08</td>\n",
       "      <td>22.0</td>\n",
       "      <td>1.773551e+07</td>\n",
       "      <td>2629.441634</td>\n",
       "    </tr>\n",
       "  </tbody>\n",
       "</table>\n",
       "<p>456 rows × 10 columns</p>\n",
       "</div>"
      ],
      "text/plain": [
       "            Daily_Avg  Daily_Sum  Daily_Count  Dly_Cnt_Diff  Rig_Count  \\\n",
       "2018-01-01        0.0        0.0            0           0.0       29.0   \n",
       "2018-01-02        0.0        0.0            0           0.0       29.0   \n",
       "2018-01-03        1.9        1.9            1           1.0       29.0   \n",
       "2018-01-04        0.0        0.0            0          -1.0       29.0   \n",
       "2018-01-05        0.0        0.0            0           0.0       29.0   \n",
       "...               ...        ...          ...           ...        ...   \n",
       "2019-03-28        0.0        0.0            0           0.0       32.0   \n",
       "2019-03-29        0.0        0.0            0           0.0       32.0   \n",
       "2019-03-30        1.7        1.7            1           1.0       31.0   \n",
       "2019-03-31        1.4        1.4            1           0.0       31.0   \n",
       "2019-04-01        0.0        0.0            0          -1.0       31.0   \n",
       "\n",
       "            WTI_Spot_Price  Brent_Spot_Price  fracs_per_day  volume_per_day  \\\n",
       "2018-01-01           60.46             66.73           11.0    9.756934e+06   \n",
       "2018-01-02           60.37             66.65           10.0    9.153045e+06   \n",
       "2018-01-03           61.61             67.85            9.0    8.132097e+06   \n",
       "2018-01-04           61.98             68.73            9.0    8.132097e+06   \n",
       "2018-01-05           61.49             68.01           11.0    1.037330e+07   \n",
       "...                    ...               ...            ...             ...   \n",
       "2019-03-28           59.29             66.08           23.0    1.861699e+07   \n",
       "2019-03-29           60.19             67.93           26.0    2.113339e+07   \n",
       "2019-03-30           60.19             67.93           25.0    2.095261e+07   \n",
       "2019-03-31           60.19             67.93           25.0    1.823890e+07   \n",
       "2019-04-01           61.59             69.08           22.0    1.773551e+07   \n",
       "\n",
       "            avg_volh2o_per_ft  \n",
       "2018-01-01        2296.189464  \n",
       "2018-01-02        2342.811706  \n",
       "2018-01-03        2237.885860  \n",
       "2018-01-04        2237.885860  \n",
       "2018-01-05        2351.808369  \n",
       "...                       ...  \n",
       "2019-03-28        2614.097670  \n",
       "2019-03-29        2556.464154  \n",
       "2019-03-30        2508.160674  \n",
       "2019-03-31        2658.873856  \n",
       "2019-04-01        2629.441634  \n",
       "\n",
       "[456 rows x 10 columns]"
      ]
     },
     "execution_count": 4,
     "metadata": {},
     "output_type": "execute_result"
    }
   ],
   "source": [
    "data"
   ]
  },
  {
   "cell_type": "code",
   "execution_count": 5,
   "id": "quantitative-optics",
   "metadata": {},
   "outputs": [],
   "source": [
    "#my training set is going to be for date range 1/1/2018-12/31/2018 and test will be for 1/1/2019-4/1/2019\n",
    "data_train = data.loc['1-1-2018':'1-1-2019',]\n",
    "data_test = data.loc['1-1-2019':,]"
   ]
  },
  {
   "cell_type": "code",
   "execution_count": 6,
   "id": "colored-individual",
   "metadata": {},
   "outputs": [
    {
     "name": "stderr",
     "output_type": "stream",
     "text": [
      "<ipython-input-6-7297e0ade6ed>:3: SettingWithCopyWarning: \n",
      "A value is trying to be set on a copy of a slice from a DataFrame.\n",
      "Try using .loc[row_indexer,col_indexer] = value instead\n",
      "\n",
      "See the caveats in the documentation: https://pandas.pydata.org/pandas-docs/stable/user_guide/indexing.html#returning-a-view-versus-a-copy\n",
      "  data_train['Date'] = data_train.index\n",
      "<ipython-input-6-7297e0ade6ed>:4: SettingWithCopyWarning: \n",
      "A value is trying to be set on a copy of a slice from a DataFrame.\n",
      "Try using .loc[row_indexer,col_indexer] = value instead\n",
      "\n",
      "See the caveats in the documentation: https://pandas.pydata.org/pandas-docs/stable/user_guide/indexing.html#returning-a-view-versus-a-copy\n",
      "  data_test['Date'] = data_test.index\n",
      "/Users/melissamcmillan/opt/anaconda3/envs/timer/lib/python3.8/site-packages/pandas/core/frame.py:4167: SettingWithCopyWarning: \n",
      "A value is trying to be set on a copy of a slice from a DataFrame\n",
      "\n",
      "See the caveats in the documentation: https://pandas.pydata.org/pandas-docs/stable/user_guide/indexing.html#returning-a-view-versus-a-copy\n",
      "  return super().drop(\n"
     ]
    }
   ],
   "source": [
    "#I'm also going to not use the index as a date time column for this exercise. I'm going\n",
    "#to set that as its own column and then reset the index\n",
    "data_train['Date'] = data_train.index\n",
    "data_test['Date'] = data_test.index\n",
    "data_train.reset_index(inplace=True)\n",
    "data_test.reset_index(inplace=True)\n",
    "data_train.drop('index', axis=1, inplace=True)\n",
    "data_test.drop('index', axis=1, inplace=True)"
   ]
  },
  {
   "cell_type": "code",
   "execution_count": 7,
   "id": "elementary-marking",
   "metadata": {},
   "outputs": [],
   "source": [
    "X_train = data_train[['fracs_per_day', 'volume_per_day', 'avg_volh2o_per_ft']]\n",
    "y_train = data_train['Daily_Sum']\n",
    "X_test = data_test[['fracs_per_day', 'volume_per_day', 'avg_volh2o_per_ft']]\n",
    "y_test = data_test['Daily_Sum']"
   ]
  },
  {
   "cell_type": "code",
   "execution_count": 8,
   "id": "concrete-healing",
   "metadata": {},
   "outputs": [],
   "source": [
    "def evaluate_model(x, y_true, y_pred):\n",
    "    r2 = r2_score(y_true, y_pred)\n",
    "    rmse = mean_squared_error(y_true, y_pred, squared = False)\n",
    "    print(f'r2 = {r2}')\n",
    "    print(f'rmse = {rmse}')"
   ]
  },
  {
   "cell_type": "code",
   "execution_count": 9,
   "id": "sharp-luther",
   "metadata": {},
   "outputs": [
    {
     "data": {
      "text/plain": [
       "LinearRegression()"
      ]
     },
     "execution_count": 9,
     "metadata": {},
     "output_type": "execute_result"
    }
   ],
   "source": [
    "lr = LinearRegression()\n",
    "lr.fit(X_train, y_train)"
   ]
  },
  {
   "cell_type": "code",
   "execution_count": 10,
   "id": "attached-withdrawal",
   "metadata": {},
   "outputs": [],
   "source": [
    "#I need to make a null model\n",
    "mean_y_train_array = np.full_like(y_train, y_train.mean())\n",
    "mean_y_test_array = np.full_like(y_test, y_test.mean())"
   ]
  },
  {
   "cell_type": "code",
   "execution_count": 11,
   "id": "unlike-tutorial",
   "metadata": {},
   "outputs": [
    {
     "data": {
      "text/plain": [
       "2.7565273165533752"
      ]
     },
     "execution_count": 11,
     "metadata": {},
     "output_type": "execute_result"
    }
   ],
   "source": [
    "#rmse will be null for train set\n",
    "mean_squared_error(y_train, mean_y_train_array, squared = False)"
   ]
  },
  {
   "cell_type": "code",
   "execution_count": 12,
   "id": "genuine-shadow",
   "metadata": {},
   "outputs": [
    {
     "data": {
      "text/plain": [
       "2.402892432470482"
      ]
     },
     "execution_count": 12,
     "metadata": {},
     "output_type": "execute_result"
    }
   ],
   "source": [
    "#rmse will be null for test set\n",
    "mean_squared_error(y_test, mean_y_test_array, squared = False)"
   ]
  },
  {
   "cell_type": "code",
   "execution_count": 13,
   "id": "threatened-summit",
   "metadata": {},
   "outputs": [
    {
     "name": "stdout",
     "output_type": "stream",
     "text": [
      "r2 = 0.010168356778792909\n",
      "rmse = 2.742476831091624\n"
     ]
    }
   ],
   "source": [
    "#now make predictions for train data from the model\n",
    "y_train_pred = lr.predict(X_train)\n",
    "evaluate_model(X_train, y_train, y_train_pred)"
   ]
  },
  {
   "cell_type": "code",
   "execution_count": 14,
   "id": "featured-logistics",
   "metadata": {},
   "outputs": [
    {
     "name": "stdout",
     "output_type": "stream",
     "text": [
      "r2 = -0.03495338537497439\n",
      "rmse = 2.4445263581483982\n"
     ]
    }
   ],
   "source": [
    "#now make predictions for test data from the model\n",
    "y_test_pred = lr.predict(X_test)\n",
    "evaluate_model(X_test, y_test, y_test_pred)"
   ]
  },
  {
   "cell_type": "markdown",
   "id": "marine-ratio",
   "metadata": {},
   "source": [
    "Well those results aren't so great. I'm going to try using just the injection per ft feature."
   ]
  },
  {
   "cell_type": "code",
   "execution_count": 15,
   "id": "derived-annex",
   "metadata": {},
   "outputs": [],
   "source": [
    "X_train = data_train[['avg_volh2o_per_ft']]\n",
    "y_train = data_train['Daily_Sum']\n",
    "X_test = data_test[['avg_volh2o_per_ft']]\n",
    "y_test = data_test['Daily_Sum']"
   ]
  },
  {
   "cell_type": "code",
   "execution_count": 16,
   "id": "secure-windows",
   "metadata": {},
   "outputs": [
    {
     "data": {
      "text/plain": [
       "LinearRegression()"
      ]
     },
     "execution_count": 16,
     "metadata": {},
     "output_type": "execute_result"
    }
   ],
   "source": [
    "lr2 = LinearRegression()\n",
    "lr2.fit(X_train, y_train)"
   ]
  },
  {
   "cell_type": "code",
   "execution_count": 17,
   "id": "buried-virginia",
   "metadata": {},
   "outputs": [
    {
     "name": "stdout",
     "output_type": "stream",
     "text": [
      "r2 = 0.0076553867446967905\n",
      "rmse = 2.7459559042807697\n"
     ]
    }
   ],
   "source": [
    "#now make predictions for train data from the model\n",
    "y_train_pred = lr2.predict(X_train)\n",
    "evaluate_model(X_train, y_train, y_train_pred)"
   ]
  },
  {
   "cell_type": "code",
   "execution_count": 18,
   "id": "sophisticated-distance",
   "metadata": {},
   "outputs": [
    {
     "name": "stdout",
     "output_type": "stream",
     "text": [
      "r2 = -0.07341475586134605\n",
      "rmse = 2.4895342770604434\n"
     ]
    }
   ],
   "source": [
    "#now make predictions for train data from the model\n",
    "y_test_pred = lr2.predict(X_test)\n",
    "evaluate_model(X_test, y_test, y_test_pred)"
   ]
  },
  {
   "cell_type": "markdown",
   "id": "characteristic-latter",
   "metadata": {},
   "source": [
    "Well that didn't improve much at all."
   ]
  },
  {
   "cell_type": "code",
   "execution_count": 19,
   "id": "rubber-leadership",
   "metadata": {},
   "outputs": [],
   "source": [
    "test_df = data[['Daily_Sum','fracs_per_day', 'volume_per_day', 'avg_volh2o_per_ft']]"
   ]
  },
  {
   "cell_type": "code",
   "execution_count": 20,
   "id": "printable-white",
   "metadata": {},
   "outputs": [
    {
     "data": {
      "image/png": "[encoded data removed]",
      "text/plain": [
       "<Figure size 720x720 with 14 Axes>"
      ]
     },
     "metadata": {
      "needs_background": "light"
     },
     "output_type": "display_data"
    }
   ],
   "source": [
    "sns.pairplot(test_df, corner = True);"
   ]
  },
  {
   "cell_type": "code",
   "execution_count": 21,
   "id": "respective-tourist",
   "metadata": {},
   "outputs": [],
   "source": [
    "test_df = test_df[test_df['Daily_Sum'] != 0]"
   ]
  },
  {
   "cell_type": "code",
   "execution_count": 22,
   "id": "respective-university",
   "metadata": {},
   "outputs": [
    {
     "data": {
      "image/png": "[encoded data removed]",
      "text/plain": [
       "<Figure size 720x720 with 14 Axes>"
      ]
     },
     "metadata": {
      "needs_background": "light"
     },
     "output_type": "display_data"
    }
   ],
   "source": [
    "sns.pairplot(test_df, corner = True);"
   ]
  },
  {
   "cell_type": "markdown",
   "id": "advance-bailey",
   "metadata": {},
   "source": [
    "Now I'm going to run Linear Regression the Fasola data as see how that differs."
   ]
  },
  {
   "cell_type": "code",
   "execution_count": 64,
   "id": "living-anaheim",
   "metadata": {},
   "outputs": [],
   "source": [
    "fasola = pd.read_csv('oil_and_gas_data/data_for_modelling/fasola_data_ready_for_modelling.csv', index_col=0)"
   ]
  },
  {
   "cell_type": "code",
   "execution_count": 65,
   "id": "dental-poster",
   "metadata": {},
   "outputs": [
    {
     "data": {
      "text/html": [
       "<div>\n",
       "<style scoped>\n",
       "    .dataframe tbody tr th:only-of-type {\n",
       "        vertical-align: middle;\n",
       "    }\n",
       "\n",
       "    .dataframe tbody tr th {\n",
       "        vertical-align: top;\n",
       "    }\n",
       "\n",
       "    .dataframe thead th {\n",
       "        text-align: right;\n",
       "    }\n",
       "</style>\n",
       "<table border=\"1\" class=\"dataframe\">\n",
       "  <thead>\n",
       "    <tr style=\"text-align: right;\">\n",
       "      <th></th>\n",
       "      <th>Daily_Avg</th>\n",
       "      <th>Daily_Sum</th>\n",
       "      <th>Daily_Count</th>\n",
       "      <th>Rig_Count</th>\n",
       "      <th>WTI_Spot_Price</th>\n",
       "      <th>Brent_Spot_Price</th>\n",
       "      <th>fracs_per_day</th>\n",
       "      <th>volume_per_day</th>\n",
       "      <th>avg_volh2o_per_ft</th>\n",
       "      <th>APIs</th>\n",
       "    </tr>\n",
       "  </thead>\n",
       "  <tbody>\n",
       "    <tr>\n",
       "      <th>2016-01-01</th>\n",
       "      <td>0.0</td>\n",
       "      <td>0.0</td>\n",
       "      <td>0</td>\n",
       "      <td>33.0</td>\n",
       "      <td>37.13</td>\n",
       "      <td>36.61</td>\n",
       "      <td>9.0</td>\n",
       "      <td>5.080098e+06</td>\n",
       "      <td>1088.829502</td>\n",
       "      <td>[42255346090000, 42255346080000, 4225534610000...</td>\n",
       "    </tr>\n",
       "    <tr>\n",
       "      <th>2016-01-02</th>\n",
       "      <td>0.0</td>\n",
       "      <td>0.0</td>\n",
       "      <td>0</td>\n",
       "      <td>33.0</td>\n",
       "      <td>37.13</td>\n",
       "      <td>36.61</td>\n",
       "      <td>11.0</td>\n",
       "      <td>5.892634e+06</td>\n",
       "      <td>1044.749861</td>\n",
       "      <td>[42255346090000, 42255346080000, 4225534610000...</td>\n",
       "    </tr>\n",
       "    <tr>\n",
       "      <th>2016-01-03</th>\n",
       "      <td>0.0</td>\n",
       "      <td>0.0</td>\n",
       "      <td>0</td>\n",
       "      <td>33.0</td>\n",
       "      <td>37.13</td>\n",
       "      <td>36.61</td>\n",
       "      <td>9.0</td>\n",
       "      <td>4.539134e+06</td>\n",
       "      <td>1125.551135</td>\n",
       "      <td>[42255346090000, 42255346080000, 4225534610000...</td>\n",
       "    </tr>\n",
       "    <tr>\n",
       "      <th>2016-01-04</th>\n",
       "      <td>0.0</td>\n",
       "      <td>0.0</td>\n",
       "      <td>0</td>\n",
       "      <td>33.0</td>\n",
       "      <td>36.81</td>\n",
       "      <td>36.28</td>\n",
       "      <td>26.0</td>\n",
       "      <td>1.135010e+07</td>\n",
       "      <td>848.112281</td>\n",
       "      <td>[42255346090000, 42255346080000, 4225534610000...</td>\n",
       "    </tr>\n",
       "    <tr>\n",
       "      <th>2016-01-05</th>\n",
       "      <td>0.0</td>\n",
       "      <td>0.0</td>\n",
       "      <td>0</td>\n",
       "      <td>33.0</td>\n",
       "      <td>35.97</td>\n",
       "      <td>35.56</td>\n",
       "      <td>26.0</td>\n",
       "      <td>1.135010e+07</td>\n",
       "      <td>848.112281</td>\n",
       "      <td>[42255346090000, 42255346080000, 4225534610000...</td>\n",
       "    </tr>\n",
       "    <tr>\n",
       "      <th>...</th>\n",
       "      <td>...</td>\n",
       "      <td>...</td>\n",
       "      <td>...</td>\n",
       "      <td>...</td>\n",
       "      <td>...</td>\n",
       "      <td>...</td>\n",
       "      <td>...</td>\n",
       "      <td>...</td>\n",
       "      <td>...</td>\n",
       "      <td>...</td>\n",
       "    </tr>\n",
       "    <tr>\n",
       "      <th>2021-01-28</th>\n",
       "      <td>0.0</td>\n",
       "      <td>0.0</td>\n",
       "      <td>0</td>\n",
       "      <td>12.0</td>\n",
       "      <td>52.26</td>\n",
       "      <td>54.87</td>\n",
       "      <td>NaN</td>\n",
       "      <td>NaN</td>\n",
       "      <td>NaN</td>\n",
       "      <td>NaN</td>\n",
       "    </tr>\n",
       "    <tr>\n",
       "      <th>2021-01-29</th>\n",
       "      <td>0.0</td>\n",
       "      <td>0.0</td>\n",
       "      <td>0</td>\n",
       "      <td>12.0</td>\n",
       "      <td>52.16</td>\n",
       "      <td>55.25</td>\n",
       "      <td>NaN</td>\n",
       "      <td>NaN</td>\n",
       "      <td>NaN</td>\n",
       "      <td>NaN</td>\n",
       "    </tr>\n",
       "    <tr>\n",
       "      <th>2021-01-30</th>\n",
       "      <td>0.0</td>\n",
       "      <td>0.0</td>\n",
       "      <td>0</td>\n",
       "      <td>12.0</td>\n",
       "      <td>52.16</td>\n",
       "      <td>55.25</td>\n",
       "      <td>NaN</td>\n",
       "      <td>NaN</td>\n",
       "      <td>NaN</td>\n",
       "      <td>NaN</td>\n",
       "    </tr>\n",
       "    <tr>\n",
       "      <th>2021-01-31</th>\n",
       "      <td>0.0</td>\n",
       "      <td>0.0</td>\n",
       "      <td>0</td>\n",
       "      <td>12.0</td>\n",
       "      <td>52.16</td>\n",
       "      <td>55.25</td>\n",
       "      <td>NaN</td>\n",
       "      <td>NaN</td>\n",
       "      <td>NaN</td>\n",
       "      <td>NaN</td>\n",
       "    </tr>\n",
       "    <tr>\n",
       "      <th>2021-02-01</th>\n",
       "      <td>0.0</td>\n",
       "      <td>0.0</td>\n",
       "      <td>0</td>\n",
       "      <td>NaN</td>\n",
       "      <td>53.55</td>\n",
       "      <td>56.42</td>\n",
       "      <td>NaN</td>\n",
       "      <td>NaN</td>\n",
       "      <td>NaN</td>\n",
       "      <td>NaN</td>\n",
       "    </tr>\n",
       "  </tbody>\n",
       "</table>\n",
       "<p>1859 rows × 10 columns</p>\n",
       "</div>"
      ],
      "text/plain": [
       "            Daily_Avg  Daily_Sum  Daily_Count  Rig_Count  WTI_Spot_Price  \\\n",
       "2016-01-01        0.0        0.0            0       33.0           37.13   \n",
       "2016-01-02        0.0        0.0            0       33.0           37.13   \n",
       "2016-01-03        0.0        0.0            0       33.0           37.13   \n",
       "2016-01-04        0.0        0.0            0       33.0           36.81   \n",
       "2016-01-05        0.0        0.0            0       33.0           35.97   \n",
       "...               ...        ...          ...        ...             ...   \n",
       "2021-01-28        0.0        0.0            0       12.0           52.26   \n",
       "2021-01-29        0.0        0.0            0       12.0           52.16   \n",
       "2021-01-30        0.0        0.0            0       12.0           52.16   \n",
       "2021-01-31        0.0        0.0            0       12.0           52.16   \n",
       "2021-02-01        0.0        0.0            0        NaN           53.55   \n",
       "\n",
       "            Brent_Spot_Price  fracs_per_day  volume_per_day  \\\n",
       "2016-01-01             36.61            9.0    5.080098e+06   \n",
       "2016-01-02             36.61           11.0    5.892634e+06   \n",
       "2016-01-03             36.61            9.0    4.539134e+06   \n",
       "2016-01-04             36.28           26.0    1.135010e+07   \n",
       "2016-01-05             35.56           26.0    1.135010e+07   \n",
       "...                      ...            ...             ...   \n",
       "2021-01-28             54.87            NaN             NaN   \n",
       "2021-01-29             55.25            NaN             NaN   \n",
       "2021-01-30             55.25            NaN             NaN   \n",
       "2021-01-31             55.25            NaN             NaN   \n",
       "2021-02-01             56.42            NaN             NaN   \n",
       "\n",
       "            avg_volh2o_per_ft  \\\n",
       "2016-01-01        1088.829502   \n",
       "2016-01-02        1044.749861   \n",
       "2016-01-03        1125.551135   \n",
       "2016-01-04         848.112281   \n",
       "2016-01-05         848.112281   \n",
       "...                       ...   \n",
       "2021-01-28                NaN   \n",
       "2021-01-29                NaN   \n",
       "2021-01-30                NaN   \n",
       "2021-01-31                NaN   \n",
       "2021-02-01                NaN   \n",
       "\n",
       "                                                         APIs  \n",
       "2016-01-01  [42255346090000, 42255346080000, 4225534610000...  \n",
       "2016-01-02  [42255346090000, 42255346080000, 4225534610000...  \n",
       "2016-01-03  [42255346090000, 42255346080000, 4225534610000...  \n",
       "2016-01-04  [42255346090000, 42255346080000, 4225534610000...  \n",
       "2016-01-05  [42255346090000, 42255346080000, 4225534610000...  \n",
       "...                                                       ...  \n",
       "2021-01-28                                                NaN  \n",
       "2021-01-29                                                NaN  \n",
       "2021-01-30                                                NaN  \n",
       "2021-01-31                                                NaN  \n",
       "2021-02-01                                                NaN  \n",
       "\n",
       "[1859 rows x 10 columns]"
      ]
     },
     "execution_count": 65,
     "metadata": {},
     "output_type": "execute_result"
    }
   ],
   "source": [
    "fasola"
   ]
  },
  {
   "cell_type": "code",
   "execution_count": 66,
   "id": "expanded-crisis",
   "metadata": {},
   "outputs": [],
   "source": [
    "#I'm going to use a wide range here\n",
    "fasola.index = pd.to_datetime(fasola.index)"
   ]
  },
  {
   "cell_type": "code",
   "execution_count": 67,
   "id": "fatal-bahamas",
   "metadata": {},
   "outputs": [
    {
     "data": {
      "text/html": [
       "<div>\n",
       "<style scoped>\n",
       "    .dataframe tbody tr th:only-of-type {\n",
       "        vertical-align: middle;\n",
       "    }\n",
       "\n",
       "    .dataframe tbody tr th {\n",
       "        vertical-align: top;\n",
       "    }\n",
       "\n",
       "    .dataframe thead th {\n",
       "        text-align: right;\n",
       "    }\n",
       "</style>\n",
       "<table border=\"1\" class=\"dataframe\">\n",
       "  <thead>\n",
       "    <tr style=\"text-align: right;\">\n",
       "      <th></th>\n",
       "      <th>Daily_Avg</th>\n",
       "      <th>Daily_Sum</th>\n",
       "      <th>Daily_Count</th>\n",
       "      <th>Rig_Count</th>\n",
       "      <th>WTI_Spot_Price</th>\n",
       "      <th>Brent_Spot_Price</th>\n",
       "      <th>fracs_per_day</th>\n",
       "      <th>volume_per_day</th>\n",
       "      <th>avg_volh2o_per_ft</th>\n",
       "      <th>APIs</th>\n",
       "    </tr>\n",
       "  </thead>\n",
       "  <tbody>\n",
       "    <tr>\n",
       "      <th>2016-01-01</th>\n",
       "      <td>0.0</td>\n",
       "      <td>0.0</td>\n",
       "      <td>0</td>\n",
       "      <td>33.0</td>\n",
       "      <td>37.13</td>\n",
       "      <td>36.61</td>\n",
       "      <td>9.0</td>\n",
       "      <td>5.080098e+06</td>\n",
       "      <td>1088.829502</td>\n",
       "      <td>[42255346090000, 42255346080000, 4225534610000...</td>\n",
       "    </tr>\n",
       "    <tr>\n",
       "      <th>2016-01-02</th>\n",
       "      <td>0.0</td>\n",
       "      <td>0.0</td>\n",
       "      <td>0</td>\n",
       "      <td>33.0</td>\n",
       "      <td>37.13</td>\n",
       "      <td>36.61</td>\n",
       "      <td>11.0</td>\n",
       "      <td>5.892634e+06</td>\n",
       "      <td>1044.749861</td>\n",
       "      <td>[42255346090000, 42255346080000, 4225534610000...</td>\n",
       "    </tr>\n",
       "    <tr>\n",
       "      <th>2016-01-03</th>\n",
       "      <td>0.0</td>\n",
       "      <td>0.0</td>\n",
       "      <td>0</td>\n",
       "      <td>33.0</td>\n",
       "      <td>37.13</td>\n",
       "      <td>36.61</td>\n",
       "      <td>9.0</td>\n",
       "      <td>4.539134e+06</td>\n",
       "      <td>1125.551135</td>\n",
       "      <td>[42255346090000, 42255346080000, 4225534610000...</td>\n",
       "    </tr>\n",
       "    <tr>\n",
       "      <th>2016-01-04</th>\n",
       "      <td>0.0</td>\n",
       "      <td>0.0</td>\n",
       "      <td>0</td>\n",
       "      <td>33.0</td>\n",
       "      <td>36.81</td>\n",
       "      <td>36.28</td>\n",
       "      <td>26.0</td>\n",
       "      <td>1.135010e+07</td>\n",
       "      <td>848.112281</td>\n",
       "      <td>[42255346090000, 42255346080000, 4225534610000...</td>\n",
       "    </tr>\n",
       "    <tr>\n",
       "      <th>2016-01-05</th>\n",
       "      <td>0.0</td>\n",
       "      <td>0.0</td>\n",
       "      <td>0</td>\n",
       "      <td>33.0</td>\n",
       "      <td>35.97</td>\n",
       "      <td>35.56</td>\n",
       "      <td>26.0</td>\n",
       "      <td>1.135010e+07</td>\n",
       "      <td>848.112281</td>\n",
       "      <td>[42255346090000, 42255346080000, 4225534610000...</td>\n",
       "    </tr>\n",
       "    <tr>\n",
       "      <th>...</th>\n",
       "      <td>...</td>\n",
       "      <td>...</td>\n",
       "      <td>...</td>\n",
       "      <td>...</td>\n",
       "      <td>...</td>\n",
       "      <td>...</td>\n",
       "      <td>...</td>\n",
       "      <td>...</td>\n",
       "      <td>...</td>\n",
       "      <td>...</td>\n",
       "    </tr>\n",
       "    <tr>\n",
       "      <th>2021-01-28</th>\n",
       "      <td>0.0</td>\n",
       "      <td>0.0</td>\n",
       "      <td>0</td>\n",
       "      <td>12.0</td>\n",
       "      <td>52.26</td>\n",
       "      <td>54.87</td>\n",
       "      <td>NaN</td>\n",
       "      <td>NaN</td>\n",
       "      <td>NaN</td>\n",
       "      <td>NaN</td>\n",
       "    </tr>\n",
       "    <tr>\n",
       "      <th>2021-01-29</th>\n",
       "      <td>0.0</td>\n",
       "      <td>0.0</td>\n",
       "      <td>0</td>\n",
       "      <td>12.0</td>\n",
       "      <td>52.16</td>\n",
       "      <td>55.25</td>\n",
       "      <td>NaN</td>\n",
       "      <td>NaN</td>\n",
       "      <td>NaN</td>\n",
       "      <td>NaN</td>\n",
       "    </tr>\n",
       "    <tr>\n",
       "      <th>2021-01-30</th>\n",
       "      <td>0.0</td>\n",
       "      <td>0.0</td>\n",
       "      <td>0</td>\n",
       "      <td>12.0</td>\n",
       "      <td>52.16</td>\n",
       "      <td>55.25</td>\n",
       "      <td>NaN</td>\n",
       "      <td>NaN</td>\n",
       "      <td>NaN</td>\n",
       "      <td>NaN</td>\n",
       "    </tr>\n",
       "    <tr>\n",
       "      <th>2021-01-31</th>\n",
       "      <td>0.0</td>\n",
       "      <td>0.0</td>\n",
       "      <td>0</td>\n",
       "      <td>12.0</td>\n",
       "      <td>52.16</td>\n",
       "      <td>55.25</td>\n",
       "      <td>NaN</td>\n",
       "      <td>NaN</td>\n",
       "      <td>NaN</td>\n",
       "      <td>NaN</td>\n",
       "    </tr>\n",
       "    <tr>\n",
       "      <th>2021-02-01</th>\n",
       "      <td>0.0</td>\n",
       "      <td>0.0</td>\n",
       "      <td>0</td>\n",
       "      <td>NaN</td>\n",
       "      <td>53.55</td>\n",
       "      <td>56.42</td>\n",
       "      <td>NaN</td>\n",
       "      <td>NaN</td>\n",
       "      <td>NaN</td>\n",
       "      <td>NaN</td>\n",
       "    </tr>\n",
       "  </tbody>\n",
       "</table>\n",
       "<p>1859 rows × 10 columns</p>\n",
       "</div>"
      ],
      "text/plain": [
       "            Daily_Avg  Daily_Sum  Daily_Count  Rig_Count  WTI_Spot_Price  \\\n",
       "2016-01-01        0.0        0.0            0       33.0           37.13   \n",
       "2016-01-02        0.0        0.0            0       33.0           37.13   \n",
       "2016-01-03        0.0        0.0            0       33.0           37.13   \n",
       "2016-01-04        0.0        0.0            0       33.0           36.81   \n",
       "2016-01-05        0.0        0.0            0       33.0           35.97   \n",
       "...               ...        ...          ...        ...             ...   \n",
       "2021-01-28        0.0        0.0            0       12.0           52.26   \n",
       "2021-01-29        0.0        0.0            0       12.0           52.16   \n",
       "2021-01-30        0.0        0.0            0       12.0           52.16   \n",
       "2021-01-31        0.0        0.0            0       12.0           52.16   \n",
       "2021-02-01        0.0        0.0            0        NaN           53.55   \n",
       "\n",
       "            Brent_Spot_Price  fracs_per_day  volume_per_day  \\\n",
       "2016-01-01             36.61            9.0    5.080098e+06   \n",
       "2016-01-02             36.61           11.0    5.892634e+06   \n",
       "2016-01-03             36.61            9.0    4.539134e+06   \n",
       "2016-01-04             36.28           26.0    1.135010e+07   \n",
       "2016-01-05             35.56           26.0    1.135010e+07   \n",
       "...                      ...            ...             ...   \n",
       "2021-01-28             54.87            NaN             NaN   \n",
       "2021-01-29             55.25            NaN             NaN   \n",
       "2021-01-30             55.25            NaN             NaN   \n",
       "2021-01-31             55.25            NaN             NaN   \n",
       "2021-02-01             56.42            NaN             NaN   \n",
       "\n",
       "            avg_volh2o_per_ft  \\\n",
       "2016-01-01        1088.829502   \n",
       "2016-01-02        1044.749861   \n",
       "2016-01-03        1125.551135   \n",
       "2016-01-04         848.112281   \n",
       "2016-01-05         848.112281   \n",
       "...                       ...   \n",
       "2021-01-28                NaN   \n",
       "2021-01-29                NaN   \n",
       "2021-01-30                NaN   \n",
       "2021-01-31                NaN   \n",
       "2021-02-01                NaN   \n",
       "\n",
       "                                                         APIs  \n",
       "2016-01-01  [42255346090000, 42255346080000, 4225534610000...  \n",
       "2016-01-02  [42255346090000, 42255346080000, 4225534610000...  \n",
       "2016-01-03  [42255346090000, 42255346080000, 4225534610000...  \n",
       "2016-01-04  [42255346090000, 42255346080000, 4225534610000...  \n",
       "2016-01-05  [42255346090000, 42255346080000, 4225534610000...  \n",
       "...                                                       ...  \n",
       "2021-01-28                                                NaN  \n",
       "2021-01-29                                                NaN  \n",
       "2021-01-30                                                NaN  \n",
       "2021-01-31                                                NaN  \n",
       "2021-02-01                                                NaN  \n",
       "\n",
       "[1859 rows x 10 columns]"
      ]
     },
     "execution_count": 67,
     "metadata": {},
     "output_type": "execute_result"
    }
   ],
   "source": [
    "fasola"
   ]
  },
  {
   "cell_type": "code",
   "execution_count": 68,
   "id": "pending-mileage",
   "metadata": {},
   "outputs": [],
   "source": [
    "#my training set is going to be for date range 1/1/2018-12/31/2018 and test will be for 1/1/2019-4/1/2019\n",
    "fas_train = fasola.loc['1-1-2018':'12-31-2018',]\n",
    "fas_test = fasola.loc['1-1-2019':'4-1-2019',]"
   ]
  },
  {
   "cell_type": "code",
   "execution_count": 31,
   "id": "successful-dimension",
   "metadata": {},
   "outputs": [
    {
     "name": "stderr",
     "output_type": "stream",
     "text": [
      "<ipython-input-31-5397367e776c>:3: SettingWithCopyWarning: \n",
      "A value is trying to be set on a copy of a slice from a DataFrame.\n",
      "Try using .loc[row_indexer,col_indexer] = value instead\n",
      "\n",
      "See the caveats in the documentation: https://pandas.pydata.org/pandas-docs/stable/user_guide/indexing.html#returning-a-view-versus-a-copy\n",
      "  fas_train['Date'] = fas_train.index\n",
      "<ipython-input-31-5397367e776c>:4: SettingWithCopyWarning: \n",
      "A value is trying to be set on a copy of a slice from a DataFrame.\n",
      "Try using .loc[row_indexer,col_indexer] = value instead\n",
      "\n",
      "See the caveats in the documentation: https://pandas.pydata.org/pandas-docs/stable/user_guide/indexing.html#returning-a-view-versus-a-copy\n",
      "  fas_test['Date'] = fas_test.index\n",
      "/Users/melissamcmillan/opt/anaconda3/envs/timer/lib/python3.8/site-packages/pandas/core/frame.py:4167: SettingWithCopyWarning: \n",
      "A value is trying to be set on a copy of a slice from a DataFrame\n",
      "\n",
      "See the caveats in the documentation: https://pandas.pydata.org/pandas-docs/stable/user_guide/indexing.html#returning-a-view-versus-a-copy\n",
      "  return super().drop(\n"
     ]
    }
   ],
   "source": [
    "#I'm also going to not use the index as a date time column for this exercise. I'm going\n",
    "#to set that as its own column and then reset the index\n",
    "fas_train['Date'] = fas_train.index\n",
    "fas_test['Date'] = fas_test.index\n",
    "fas_train.reset_index(inplace=True)\n",
    "fas_test.reset_index(inplace=True)\n",
    "fas_train.drop('index', axis=1, inplace=True)\n",
    "fas_test.drop('index', axis=1, inplace=True)"
   ]
  },
  {
   "cell_type": "code",
   "execution_count": 32,
   "id": "continent-ethnic",
   "metadata": {},
   "outputs": [],
   "source": [
    "X_train = fas_train[['fracs_per_day', 'volume_per_day', 'avg_volh2o_per_ft']]\n",
    "y_train = fas_train['Daily_Sum']\n",
    "X_test = fas_test[['fracs_per_day', 'volume_per_day', 'avg_volh2o_per_ft']]\n",
    "y_test = fas_test['Daily_Sum']"
   ]
  },
  {
   "cell_type": "code",
   "execution_count": 33,
   "id": "separated-sodium",
   "metadata": {},
   "outputs": [
    {
     "data": {
      "text/plain": [
       "LinearRegression()"
      ]
     },
     "execution_count": 33,
     "metadata": {},
     "output_type": "execute_result"
    }
   ],
   "source": [
    "lr = LinearRegression()\n",
    "lr.fit(X_train, y_train)"
   ]
  },
  {
   "cell_type": "code",
   "execution_count": 34,
   "id": "durable-sydney",
   "metadata": {},
   "outputs": [],
   "source": [
    "#I need to make a null model\n",
    "mean_y_train_array = np.full_like(y_train, y_train.mean())\n",
    "mean_y_test_array = np.full_like(y_test, y_test.mean())"
   ]
  },
  {
   "cell_type": "code",
   "execution_count": 35,
   "id": "technological-album",
   "metadata": {},
   "outputs": [
    {
     "data": {
      "text/plain": [
       "9.081649965713828"
      ]
     },
     "execution_count": 35,
     "metadata": {},
     "output_type": "execute_result"
    }
   ],
   "source": [
    "#rmse will be null for train set\n",
    "mean_squared_error(y_train, mean_y_train_array, squared = False)"
   ]
  },
  {
   "cell_type": "code",
   "execution_count": 36,
   "id": "academic-solomon",
   "metadata": {},
   "outputs": [
    {
     "data": {
      "text/plain": [
       "2.402892432470482"
      ]
     },
     "execution_count": 36,
     "metadata": {},
     "output_type": "execute_result"
    }
   ],
   "source": [
    "#rmse will be null for test set\n",
    "mean_squared_error(y_test, mean_y_test_array, squared = False)"
   ]
  },
  {
   "cell_type": "code",
   "execution_count": 37,
   "id": "posted-peace",
   "metadata": {},
   "outputs": [
    {
     "name": "stdout",
     "output_type": "stream",
     "text": [
      "r2 = 0.008174426678346891\n",
      "rmse = 9.044455157297817\n"
     ]
    }
   ],
   "source": [
    "#now make predictions for train data from the model\n",
    "y_train_pred = lr.predict(X_train)\n",
    "evaluate_model(X_train, y_train, y_train_pred)"
   ]
  },
  {
   "cell_type": "code",
   "execution_count": 38,
   "id": "buried-young",
   "metadata": {},
   "outputs": [
    {
     "name": "stdout",
     "output_type": "stream",
     "text": [
      "r2 = -0.5016417851687174\n",
      "rmse = 2.944540295760314\n"
     ]
    }
   ],
   "source": [
    "#now make predictions for test data from the model\n",
    "y_test_pred = lr.predict(X_test)\n",
    "evaluate_model(X_test, y_test, y_test_pred)"
   ]
  },
  {
   "cell_type": "code",
   "execution_count": 39,
   "id": "variable-bhutan",
   "metadata": {},
   "outputs": [],
   "source": [
    "test_df = fasola[['Daily_Sum','fracs_per_day', 'volume_per_day', 'avg_volh2o_per_ft']]"
   ]
  },
  {
   "cell_type": "code",
   "execution_count": 40,
   "id": "formal-collect",
   "metadata": {},
   "outputs": [
    {
     "data": {
      "image/png": "[encoded data removed]",
      "text/plain": [
       "<Figure size 720x720 with 14 Axes>"
      ]
     },
     "metadata": {
      "needs_background": "light"
     },
     "output_type": "display_data"
    }
   ],
   "source": [
    "sns.pairplot(test_df, corner = True);"
   ]
  },
  {
   "cell_type": "code",
   "execution_count": 69,
   "id": "entire-guidance",
   "metadata": {},
   "outputs": [],
   "source": [
    "#again, these do not look good. I wonder if it's my time range. I'm going to try that.\n",
    "fasola2 = fasola.loc['4-1-2017':'1-31-2020',]"
   ]
  },
  {
   "cell_type": "code",
   "execution_count": 70,
   "id": "noted-retention",
   "metadata": {},
   "outputs": [
    {
     "data": {
      "text/html": [
       "<div>\n",
       "<style scoped>\n",
       "    .dataframe tbody tr th:only-of-type {\n",
       "        vertical-align: middle;\n",
       "    }\n",
       "\n",
       "    .dataframe tbody tr th {\n",
       "        vertical-align: top;\n",
       "    }\n",
       "\n",
       "    .dataframe thead th {\n",
       "        text-align: right;\n",
       "    }\n",
       "</style>\n",
       "<table border=\"1\" class=\"dataframe\">\n",
       "  <thead>\n",
       "    <tr style=\"text-align: right;\">\n",
       "      <th></th>\n",
       "      <th>Daily_Avg</th>\n",
       "      <th>Daily_Sum</th>\n",
       "      <th>Daily_Count</th>\n",
       "      <th>Rig_Count</th>\n",
       "      <th>WTI_Spot_Price</th>\n",
       "      <th>Brent_Spot_Price</th>\n",
       "      <th>fracs_per_day</th>\n",
       "      <th>volume_per_day</th>\n",
       "      <th>avg_volh2o_per_ft</th>\n",
       "      <th>APIs</th>\n",
       "    </tr>\n",
       "  </thead>\n",
       "  <tbody>\n",
       "    <tr>\n",
       "      <th>2017-04-01</th>\n",
       "      <td>0.000000</td>\n",
       "      <td>0.000000</td>\n",
       "      <td>0</td>\n",
       "      <td>32.0</td>\n",
       "      <td>50.54</td>\n",
       "      <td>52.20</td>\n",
       "      <td>16.0</td>\n",
       "      <td>1.161522e+07</td>\n",
       "      <td>1688.148260</td>\n",
       "      <td>[42255348920000, 42255348880000, 4225534887000...</td>\n",
       "    </tr>\n",
       "    <tr>\n",
       "      <th>2017-04-02</th>\n",
       "      <td>0.525577</td>\n",
       "      <td>0.525577</td>\n",
       "      <td>1</td>\n",
       "      <td>32.0</td>\n",
       "      <td>50.54</td>\n",
       "      <td>52.20</td>\n",
       "      <td>18.0</td>\n",
       "      <td>1.282951e+07</td>\n",
       "      <td>1647.239205</td>\n",
       "      <td>[42255348920000, 42255348880000, 4225534887000...</td>\n",
       "    </tr>\n",
       "    <tr>\n",
       "      <th>2017-04-03</th>\n",
       "      <td>0.000000</td>\n",
       "      <td>0.000000</td>\n",
       "      <td>0</td>\n",
       "      <td>32.0</td>\n",
       "      <td>50.25</td>\n",
       "      <td>52.04</td>\n",
       "      <td>14.0</td>\n",
       "      <td>1.098515e+07</td>\n",
       "      <td>1768.567397</td>\n",
       "      <td>[42255352780000, 42255352810000, 4225535282000...</td>\n",
       "    </tr>\n",
       "    <tr>\n",
       "      <th>2017-04-04</th>\n",
       "      <td>0.740810</td>\n",
       "      <td>0.740810</td>\n",
       "      <td>1</td>\n",
       "      <td>32.0</td>\n",
       "      <td>50.99</td>\n",
       "      <td>53.08</td>\n",
       "      <td>13.0</td>\n",
       "      <td>1.015108e+07</td>\n",
       "      <td>1770.947436</td>\n",
       "      <td>[42255352780000, 42255352810000, 4225535282000...</td>\n",
       "    </tr>\n",
       "    <tr>\n",
       "      <th>2017-04-05</th>\n",
       "      <td>0.000000</td>\n",
       "      <td>0.000000</td>\n",
       "      <td>0</td>\n",
       "      <td>32.0</td>\n",
       "      <td>51.14</td>\n",
       "      <td>53.41</td>\n",
       "      <td>11.0</td>\n",
       "      <td>8.490292e+06</td>\n",
       "      <td>1721.203891</td>\n",
       "      <td>[42255352780000, 42255352800000, 4225535279000...</td>\n",
       "    </tr>\n",
       "    <tr>\n",
       "      <th>...</th>\n",
       "      <td>...</td>\n",
       "      <td>...</td>\n",
       "      <td>...</td>\n",
       "      <td>...</td>\n",
       "      <td>...</td>\n",
       "      <td>...</td>\n",
       "      <td>...</td>\n",
       "      <td>...</td>\n",
       "      <td>...</td>\n",
       "      <td>...</td>\n",
       "    </tr>\n",
       "    <tr>\n",
       "      <th>2020-01-27</th>\n",
       "      <td>0.000000</td>\n",
       "      <td>0.000000</td>\n",
       "      <td>0</td>\n",
       "      <td>33.0</td>\n",
       "      <td>53.09</td>\n",
       "      <td>58.54</td>\n",
       "      <td>45.0</td>\n",
       "      <td>4.278683e+07</td>\n",
       "      <td>1642.821249</td>\n",
       "      <td>[42255361860000, 42255361850000, 4225536569000...</td>\n",
       "    </tr>\n",
       "    <tr>\n",
       "      <th>2020-01-28</th>\n",
       "      <td>1.900000</td>\n",
       "      <td>1.900000</td>\n",
       "      <td>1</td>\n",
       "      <td>33.0</td>\n",
       "      <td>53.33</td>\n",
       "      <td>59.37</td>\n",
       "      <td>46.0</td>\n",
       "      <td>4.433917e+07</td>\n",
       "      <td>1658.283946</td>\n",
       "      <td>[42255361860000, 42255361850000, 4225536569000...</td>\n",
       "    </tr>\n",
       "    <tr>\n",
       "      <th>2020-01-29</th>\n",
       "      <td>0.000000</td>\n",
       "      <td>0.000000</td>\n",
       "      <td>0</td>\n",
       "      <td>33.0</td>\n",
       "      <td>53.29</td>\n",
       "      <td>59.46</td>\n",
       "      <td>44.0</td>\n",
       "      <td>4.293038e+07</td>\n",
       "      <td>1624.508496</td>\n",
       "      <td>[42255361860000, 42255361850000, 4225536569000...</td>\n",
       "    </tr>\n",
       "    <tr>\n",
       "      <th>2020-01-30</th>\n",
       "      <td>0.000000</td>\n",
       "      <td>0.000000</td>\n",
       "      <td>0</td>\n",
       "      <td>33.0</td>\n",
       "      <td>52.19</td>\n",
       "      <td>57.72</td>\n",
       "      <td>46.0</td>\n",
       "      <td>4.500210e+07</td>\n",
       "      <td>1624.812672</td>\n",
       "      <td>[42255361860000, 42255361850000, 4225536556000...</td>\n",
       "    </tr>\n",
       "    <tr>\n",
       "      <th>2020-01-31</th>\n",
       "      <td>0.000000</td>\n",
       "      <td>0.000000</td>\n",
       "      <td>0</td>\n",
       "      <td>33.0</td>\n",
       "      <td>51.58</td>\n",
       "      <td>57.77</td>\n",
       "      <td>46.0</td>\n",
       "      <td>4.500210e+07</td>\n",
       "      <td>1624.812672</td>\n",
       "      <td>[42255361860000, 42255361850000, 4225536556000...</td>\n",
       "    </tr>\n",
       "  </tbody>\n",
       "</table>\n",
       "<p>1036 rows × 10 columns</p>\n",
       "</div>"
      ],
      "text/plain": [
       "            Daily_Avg  Daily_Sum  Daily_Count  Rig_Count  WTI_Spot_Price  \\\n",
       "2017-04-01   0.000000   0.000000            0       32.0           50.54   \n",
       "2017-04-02   0.525577   0.525577            1       32.0           50.54   \n",
       "2017-04-03   0.000000   0.000000            0       32.0           50.25   \n",
       "2017-04-04   0.740810   0.740810            1       32.0           50.99   \n",
       "2017-04-05   0.000000   0.000000            0       32.0           51.14   \n",
       "...               ...        ...          ...        ...             ...   \n",
       "2020-01-27   0.000000   0.000000            0       33.0           53.09   \n",
       "2020-01-28   1.900000   1.900000            1       33.0           53.33   \n",
       "2020-01-29   0.000000   0.000000            0       33.0           53.29   \n",
       "2020-01-30   0.000000   0.000000            0       33.0           52.19   \n",
       "2020-01-31   0.000000   0.000000            0       33.0           51.58   \n",
       "\n",
       "            Brent_Spot_Price  fracs_per_day  volume_per_day  \\\n",
       "2017-04-01             52.20           16.0    1.161522e+07   \n",
       "2017-04-02             52.20           18.0    1.282951e+07   \n",
       "2017-04-03             52.04           14.0    1.098515e+07   \n",
       "2017-04-04             53.08           13.0    1.015108e+07   \n",
       "2017-04-05             53.41           11.0    8.490292e+06   \n",
       "...                      ...            ...             ...   \n",
       "2020-01-27             58.54           45.0    4.278683e+07   \n",
       "2020-01-28             59.37           46.0    4.433917e+07   \n",
       "2020-01-29             59.46           44.0    4.293038e+07   \n",
       "2020-01-30             57.72           46.0    4.500210e+07   \n",
       "2020-01-31             57.77           46.0    4.500210e+07   \n",
       "\n",
       "            avg_volh2o_per_ft  \\\n",
       "2017-04-01        1688.148260   \n",
       "2017-04-02        1647.239205   \n",
       "2017-04-03        1768.567397   \n",
       "2017-04-04        1770.947436   \n",
       "2017-04-05        1721.203891   \n",
       "...                       ...   \n",
       "2020-01-27        1642.821249   \n",
       "2020-01-28        1658.283946   \n",
       "2020-01-29        1624.508496   \n",
       "2020-01-30        1624.812672   \n",
       "2020-01-31        1624.812672   \n",
       "\n",
       "                                                         APIs  \n",
       "2017-04-01  [42255348920000, 42255348880000, 4225534887000...  \n",
       "2017-04-02  [42255348920000, 42255348880000, 4225534887000...  \n",
       "2017-04-03  [42255352780000, 42255352810000, 4225535282000...  \n",
       "2017-04-04  [42255352780000, 42255352810000, 4225535282000...  \n",
       "2017-04-05  [42255352780000, 42255352800000, 4225535279000...  \n",
       "...                                                       ...  \n",
       "2020-01-27  [42255361860000, 42255361850000, 4225536569000...  \n",
       "2020-01-28  [42255361860000, 42255361850000, 4225536569000...  \n",
       "2020-01-29  [42255361860000, 42255361850000, 4225536569000...  \n",
       "2020-01-30  [42255361860000, 42255361850000, 4225536556000...  \n",
       "2020-01-31  [42255361860000, 42255361850000, 4225536556000...  \n",
       "\n",
       "[1036 rows x 10 columns]"
      ]
     },
     "execution_count": 70,
     "metadata": {},
     "output_type": "execute_result"
    }
   ],
   "source": [
    "fasola2"
   ]
  },
  {
   "cell_type": "code",
   "execution_count": 71,
   "id": "specified-vacation",
   "metadata": {},
   "outputs": [],
   "source": [
    "#my training set is going to be for date range 1/1/2018-12/31/2018 and test will be for 1/1/2019-4/1/2019\n",
    "fas2_train = fasola2.loc['4-1-2017':'9-30-2019',]\n",
    "fas2_test = fasola2.loc['10-1-2019':,]"
   ]
  },
  {
   "cell_type": "code",
   "execution_count": 72,
   "id": "graduate-institute",
   "metadata": {},
   "outputs": [
    {
     "name": "stderr",
     "output_type": "stream",
     "text": [
      "<ipython-input-72-b67aeb869573>:3: SettingWithCopyWarning: \n",
      "A value is trying to be set on a copy of a slice from a DataFrame.\n",
      "Try using .loc[row_indexer,col_indexer] = value instead\n",
      "\n",
      "See the caveats in the documentation: https://pandas.pydata.org/pandas-docs/stable/user_guide/indexing.html#returning-a-view-versus-a-copy\n",
      "  fas2_train['Date'] = fas2_train.index\n",
      "<ipython-input-72-b67aeb869573>:4: SettingWithCopyWarning: \n",
      "A value is trying to be set on a copy of a slice from a DataFrame.\n",
      "Try using .loc[row_indexer,col_indexer] = value instead\n",
      "\n",
      "See the caveats in the documentation: https://pandas.pydata.org/pandas-docs/stable/user_guide/indexing.html#returning-a-view-versus-a-copy\n",
      "  fas2_test['Date'] = fas2_test.index\n",
      "/Users/melissamcmillan/opt/anaconda3/envs/timer/lib/python3.8/site-packages/pandas/core/frame.py:4167: SettingWithCopyWarning: \n",
      "A value is trying to be set on a copy of a slice from a DataFrame\n",
      "\n",
      "See the caveats in the documentation: https://pandas.pydata.org/pandas-docs/stable/user_guide/indexing.html#returning-a-view-versus-a-copy\n",
      "  return super().drop(\n"
     ]
    }
   ],
   "source": [
    "#I'm also going to not use the index as a date time column for this exercise. I'm going\n",
    "#to set that as its own column and then reset the index\n",
    "fas2_train['Date'] = fas2_train.index\n",
    "fas2_test['Date'] = fas2_test.index\n",
    "fas2_train.reset_index(inplace=True)\n",
    "fas2_test.reset_index(inplace=True)\n",
    "fas2_train.drop('index', axis=1, inplace=True)\n",
    "fas2_test.drop('index', axis=1, inplace=True)"
   ]
  },
  {
   "cell_type": "code",
   "execution_count": 73,
   "id": "golden-waste",
   "metadata": {},
   "outputs": [],
   "source": [
    "X_train = fas2_train[['fracs_per_day', 'volume_per_day', 'avg_volh2o_per_ft']]\n",
    "y_train = fas2_train['Daily_Sum']\n",
    "X_test = fas2_test[['fracs_per_day', 'volume_per_day', 'avg_volh2o_per_ft']]\n",
    "y_test = fas2_test['Daily_Sum']"
   ]
  },
  {
   "cell_type": "code",
   "execution_count": 74,
   "id": "maritime-berlin",
   "metadata": {},
   "outputs": [
    {
     "data": {
      "text/plain": [
       "LinearRegression()"
      ]
     },
     "execution_count": 74,
     "metadata": {},
     "output_type": "execute_result"
    }
   ],
   "source": [
    "lr = LinearRegression()\n",
    "lr.fit(X_train, y_train)"
   ]
  },
  {
   "cell_type": "code",
   "execution_count": 75,
   "id": "tested-resort",
   "metadata": {},
   "outputs": [],
   "source": [
    "#I need to make a null model\n",
    "mean_y_train_array = np.full_like(y_train, y_train.mean())\n",
    "mean_y_test_array = np.full_like(y_test, y_test.mean())"
   ]
  },
  {
   "cell_type": "code",
   "execution_count": 76,
   "id": "mental-lounge",
   "metadata": {},
   "outputs": [
    {
     "data": {
      "text/plain": [
       "6.242931962426201"
      ]
     },
     "execution_count": 76,
     "metadata": {},
     "output_type": "execute_result"
    }
   ],
   "source": [
    "#rmse will be null for train set\n",
    "mean_squared_error(y_train, mean_y_train_array, squared = False)"
   ]
  },
  {
   "cell_type": "code",
   "execution_count": 77,
   "id": "demographic-folder",
   "metadata": {},
   "outputs": [
    {
     "data": {
      "text/plain": [
       "1.1968252891246136"
      ]
     },
     "execution_count": 77,
     "metadata": {},
     "output_type": "execute_result"
    }
   ],
   "source": [
    "#rmse will be null for test set\n",
    "mean_squared_error(y_test, mean_y_test_array, squared = False)"
   ]
  },
  {
   "cell_type": "code",
   "execution_count": 78,
   "id": "optical-warrior",
   "metadata": {},
   "outputs": [
    {
     "name": "stdout",
     "output_type": "stream",
     "text": [
      "r2 = 0.011991047921596554\n",
      "rmse = 6.205389431270401\n"
     ]
    }
   ],
   "source": [
    "#now make predictions for train data from the model\n",
    "y_train_pred = lr.predict(X_train)\n",
    "evaluate_model(X_train, y_train, y_train_pred)"
   ]
  },
  {
   "cell_type": "code",
   "execution_count": 79,
   "id": "ordered-paragraph",
   "metadata": {},
   "outputs": [
    {
     "name": "stdout",
     "output_type": "stream",
     "text": [
      "r2 = -1.4236298218952692\n",
      "rmse = 1.8632189869402804\n"
     ]
    }
   ],
   "source": [
    "#now make predictions for test data from the model\n",
    "y_test_pred = lr.predict(X_test)\n",
    "evaluate_model(X_test, y_test, y_test_pred)"
   ]
  },
  {
   "cell_type": "code",
   "execution_count": 122,
   "id": "strategic-lincoln",
   "metadata": {},
   "outputs": [],
   "source": [
    "test_df = fasola2[['Daily_Sum','fracs_per_day', 'volume_per_day', 'avg_volh2o_per_ft']]"
   ]
  },
  {
   "cell_type": "code",
   "execution_count": 123,
   "id": "passive-hopkins",
   "metadata": {},
   "outputs": [
    {
     "name": "stdout",
     "output_type": "stream",
     "text": [
      "<class 'pandas.core.frame.DataFrame'>\n",
      "DatetimeIndex: 1036 entries, 2017-04-01 to 2020-01-31\n",
      "Data columns (total 4 columns):\n",
      " #   Column             Non-Null Count  Dtype  \n",
      "---  ------             --------------  -----  \n",
      " 0   Daily_Sum          1036 non-null   float64\n",
      " 1   fracs_per_day      1036 non-null   float64\n",
      " 2   volume_per_day     1036 non-null   float64\n",
      " 3   avg_volh2o_per_ft  1036 non-null   float64\n",
      "dtypes: float64(4)\n",
      "memory usage: 80.5 KB\n"
     ]
    }
   ],
   "source": [
    "test_df.info()"
   ]
  },
  {
   "cell_type": "code",
   "execution_count": 81,
   "id": "reverse-knowing",
   "metadata": {},
   "outputs": [
    {
     "data": {
      "image/png": "[encoded data removed]",
      "text/plain": [
       "<Figure size 720x720 with 14 Axes>"
      ]
     },
     "metadata": {
      "needs_background": "light"
     },
     "output_type": "display_data"
    }
   ],
   "source": [
    "sns.pairplot(test_df, corner = True);"
   ]
  },
  {
   "cell_type": "code",
   "execution_count": 82,
   "id": "vertical-conference",
   "metadata": {},
   "outputs": [],
   "source": [
    "test_df2 = test_df[test_df['Daily_Sum'] != 0]"
   ]
  },
  {
   "cell_type": "code",
   "execution_count": 83,
   "id": "increasing-chicken",
   "metadata": {},
   "outputs": [
    {
     "name": "stdout",
     "output_type": "stream",
     "text": [
      "<class 'pandas.core.frame.DataFrame'>\n",
      "DatetimeIndex: 322 entries, 2017-04-02 to 2020-01-28\n",
      "Data columns (total 4 columns):\n",
      " #   Column             Non-Null Count  Dtype  \n",
      "---  ------             --------------  -----  \n",
      " 0   Daily_Sum          322 non-null    float64\n",
      " 1   fracs_per_day      322 non-null    float64\n",
      " 2   volume_per_day     322 non-null    float64\n",
      " 3   avg_volh2o_per_ft  322 non-null    float64\n",
      "dtypes: float64(4)\n",
      "memory usage: 12.6 KB\n"
     ]
    }
   ],
   "source": [
    "test_df2.info()"
   ]
  },
  {
   "cell_type": "code",
   "execution_count": 84,
   "id": "thousand-press",
   "metadata": {},
   "outputs": [
    {
     "data": {
      "image/png": "[encoded data removed]",
      "text/plain": [
       "<Figure size 720x720 with 14 Axes>"
      ]
     },
     "metadata": {
      "needs_background": "light"
     },
     "output_type": "display_data"
    }
   ],
   "source": [
    "sns.pairplot(test_df2, corner = True);"
   ]
  },
  {
   "cell_type": "code",
   "execution_count": 85,
   "id": "gentle-access",
   "metadata": {},
   "outputs": [
    {
     "data": {
      "text/html": [
       "<div>\n",
       "<style scoped>\n",
       "    .dataframe tbody tr th:only-of-type {\n",
       "        vertical-align: middle;\n",
       "    }\n",
       "\n",
       "    .dataframe tbody tr th {\n",
       "        vertical-align: top;\n",
       "    }\n",
       "\n",
       "    .dataframe thead th {\n",
       "        text-align: right;\n",
       "    }\n",
       "</style>\n",
       "<table border=\"1\" class=\"dataframe\">\n",
       "  <thead>\n",
       "    <tr style=\"text-align: right;\">\n",
       "      <th></th>\n",
       "      <th>Daily_Avg</th>\n",
       "      <th>Daily_Sum</th>\n",
       "      <th>Daily_Count</th>\n",
       "      <th>Rig_Count</th>\n",
       "      <th>WTI_Spot_Price</th>\n",
       "      <th>Brent_Spot_Price</th>\n",
       "      <th>fracs_per_day</th>\n",
       "      <th>volume_per_day</th>\n",
       "      <th>avg_volh2o_per_ft</th>\n",
       "      <th>APIs</th>\n",
       "    </tr>\n",
       "  </thead>\n",
       "  <tbody>\n",
       "    <tr>\n",
       "      <th>2016-01-01</th>\n",
       "      <td>0.0</td>\n",
       "      <td>0.0</td>\n",
       "      <td>0</td>\n",
       "      <td>33.0</td>\n",
       "      <td>37.13</td>\n",
       "      <td>36.61</td>\n",
       "      <td>9.0</td>\n",
       "      <td>5.080098e+06</td>\n",
       "      <td>1088.829502</td>\n",
       "      <td>[42255346090000, 42255346080000, 4225534610000...</td>\n",
       "    </tr>\n",
       "    <tr>\n",
       "      <th>2016-01-02</th>\n",
       "      <td>0.0</td>\n",
       "      <td>0.0</td>\n",
       "      <td>0</td>\n",
       "      <td>33.0</td>\n",
       "      <td>37.13</td>\n",
       "      <td>36.61</td>\n",
       "      <td>11.0</td>\n",
       "      <td>5.892634e+06</td>\n",
       "      <td>1044.749861</td>\n",
       "      <td>[42255346090000, 42255346080000, 4225534610000...</td>\n",
       "    </tr>\n",
       "    <tr>\n",
       "      <th>2016-01-03</th>\n",
       "      <td>0.0</td>\n",
       "      <td>0.0</td>\n",
       "      <td>0</td>\n",
       "      <td>33.0</td>\n",
       "      <td>37.13</td>\n",
       "      <td>36.61</td>\n",
       "      <td>9.0</td>\n",
       "      <td>4.539134e+06</td>\n",
       "      <td>1125.551135</td>\n",
       "      <td>[42255346090000, 42255346080000, 4225534610000...</td>\n",
       "    </tr>\n",
       "    <tr>\n",
       "      <th>2016-01-04</th>\n",
       "      <td>0.0</td>\n",
       "      <td>0.0</td>\n",
       "      <td>0</td>\n",
       "      <td>33.0</td>\n",
       "      <td>36.81</td>\n",
       "      <td>36.28</td>\n",
       "      <td>26.0</td>\n",
       "      <td>1.135010e+07</td>\n",
       "      <td>848.112281</td>\n",
       "      <td>[42255346090000, 42255346080000, 4225534610000...</td>\n",
       "    </tr>\n",
       "    <tr>\n",
       "      <th>2016-01-05</th>\n",
       "      <td>0.0</td>\n",
       "      <td>0.0</td>\n",
       "      <td>0</td>\n",
       "      <td>33.0</td>\n",
       "      <td>35.97</td>\n",
       "      <td>35.56</td>\n",
       "      <td>26.0</td>\n",
       "      <td>1.135010e+07</td>\n",
       "      <td>848.112281</td>\n",
       "      <td>[42255346090000, 42255346080000, 4225534610000...</td>\n",
       "    </tr>\n",
       "    <tr>\n",
       "      <th>...</th>\n",
       "      <td>...</td>\n",
       "      <td>...</td>\n",
       "      <td>...</td>\n",
       "      <td>...</td>\n",
       "      <td>...</td>\n",
       "      <td>...</td>\n",
       "      <td>...</td>\n",
       "      <td>...</td>\n",
       "      <td>...</td>\n",
       "      <td>...</td>\n",
       "    </tr>\n",
       "    <tr>\n",
       "      <th>2021-01-28</th>\n",
       "      <td>0.0</td>\n",
       "      <td>0.0</td>\n",
       "      <td>0</td>\n",
       "      <td>12.0</td>\n",
       "      <td>52.26</td>\n",
       "      <td>54.87</td>\n",
       "      <td>NaN</td>\n",
       "      <td>NaN</td>\n",
       "      <td>NaN</td>\n",
       "      <td>NaN</td>\n",
       "    </tr>\n",
       "    <tr>\n",
       "      <th>2021-01-29</th>\n",
       "      <td>0.0</td>\n",
       "      <td>0.0</td>\n",
       "      <td>0</td>\n",
       "      <td>12.0</td>\n",
       "      <td>52.16</td>\n",
       "      <td>55.25</td>\n",
       "      <td>NaN</td>\n",
       "      <td>NaN</td>\n",
       "      <td>NaN</td>\n",
       "      <td>NaN</td>\n",
       "    </tr>\n",
       "    <tr>\n",
       "      <th>2021-01-30</th>\n",
       "      <td>0.0</td>\n",
       "      <td>0.0</td>\n",
       "      <td>0</td>\n",
       "      <td>12.0</td>\n",
       "      <td>52.16</td>\n",
       "      <td>55.25</td>\n",
       "      <td>NaN</td>\n",
       "      <td>NaN</td>\n",
       "      <td>NaN</td>\n",
       "      <td>NaN</td>\n",
       "    </tr>\n",
       "    <tr>\n",
       "      <th>2021-01-31</th>\n",
       "      <td>0.0</td>\n",
       "      <td>0.0</td>\n",
       "      <td>0</td>\n",
       "      <td>12.0</td>\n",
       "      <td>52.16</td>\n",
       "      <td>55.25</td>\n",
       "      <td>NaN</td>\n",
       "      <td>NaN</td>\n",
       "      <td>NaN</td>\n",
       "      <td>NaN</td>\n",
       "    </tr>\n",
       "    <tr>\n",
       "      <th>2021-02-01</th>\n",
       "      <td>0.0</td>\n",
       "      <td>0.0</td>\n",
       "      <td>0</td>\n",
       "      <td>NaN</td>\n",
       "      <td>53.55</td>\n",
       "      <td>56.42</td>\n",
       "      <td>NaN</td>\n",
       "      <td>NaN</td>\n",
       "      <td>NaN</td>\n",
       "      <td>NaN</td>\n",
       "    </tr>\n",
       "  </tbody>\n",
       "</table>\n",
       "<p>1859 rows × 10 columns</p>\n",
       "</div>"
      ],
      "text/plain": [
       "            Daily_Avg  Daily_Sum  Daily_Count  Rig_Count  WTI_Spot_Price  \\\n",
       "2016-01-01        0.0        0.0            0       33.0           37.13   \n",
       "2016-01-02        0.0        0.0            0       33.0           37.13   \n",
       "2016-01-03        0.0        0.0            0       33.0           37.13   \n",
       "2016-01-04        0.0        0.0            0       33.0           36.81   \n",
       "2016-01-05        0.0        0.0            0       33.0           35.97   \n",
       "...               ...        ...          ...        ...             ...   \n",
       "2021-01-28        0.0        0.0            0       12.0           52.26   \n",
       "2021-01-29        0.0        0.0            0       12.0           52.16   \n",
       "2021-01-30        0.0        0.0            0       12.0           52.16   \n",
       "2021-01-31        0.0        0.0            0       12.0           52.16   \n",
       "2021-02-01        0.0        0.0            0        NaN           53.55   \n",
       "\n",
       "            Brent_Spot_Price  fracs_per_day  volume_per_day  \\\n",
       "2016-01-01             36.61            9.0    5.080098e+06   \n",
       "2016-01-02             36.61           11.0    5.892634e+06   \n",
       "2016-01-03             36.61            9.0    4.539134e+06   \n",
       "2016-01-04             36.28           26.0    1.135010e+07   \n",
       "2016-01-05             35.56           26.0    1.135010e+07   \n",
       "...                      ...            ...             ...   \n",
       "2021-01-28             54.87            NaN             NaN   \n",
       "2021-01-29             55.25            NaN             NaN   \n",
       "2021-01-30             55.25            NaN             NaN   \n",
       "2021-01-31             55.25            NaN             NaN   \n",
       "2021-02-01             56.42            NaN             NaN   \n",
       "\n",
       "            avg_volh2o_per_ft  \\\n",
       "2016-01-01        1088.829502   \n",
       "2016-01-02        1044.749861   \n",
       "2016-01-03        1125.551135   \n",
       "2016-01-04         848.112281   \n",
       "2016-01-05         848.112281   \n",
       "...                       ...   \n",
       "2021-01-28                NaN   \n",
       "2021-01-29                NaN   \n",
       "2021-01-30                NaN   \n",
       "2021-01-31                NaN   \n",
       "2021-02-01                NaN   \n",
       "\n",
       "                                                         APIs  \n",
       "2016-01-01  [42255346090000, 42255346080000, 4225534610000...  \n",
       "2016-01-02  [42255346090000, 42255346080000, 4225534610000...  \n",
       "2016-01-03  [42255346090000, 42255346080000, 4225534610000...  \n",
       "2016-01-04  [42255346090000, 42255346080000, 4225534610000...  \n",
       "2016-01-05  [42255346090000, 42255346080000, 4225534610000...  \n",
       "...                                                       ...  \n",
       "2021-01-28                                                NaN  \n",
       "2021-01-29                                                NaN  \n",
       "2021-01-30                                                NaN  \n",
       "2021-01-31                                                NaN  \n",
       "2021-02-01                                                NaN  \n",
       "\n",
       "[1859 rows x 10 columns]"
      ]
     },
     "execution_count": 85,
     "metadata": {},
     "output_type": "execute_result"
    }
   ],
   "source": [
    "fasola"
   ]
  },
  {
   "cell_type": "code",
   "execution_count": 86,
   "id": "irish-crest",
   "metadata": {},
   "outputs": [
    {
     "data": {
      "text/plain": [
       "<AxesSubplot:>"
      ]
     },
     "execution_count": 86,
     "metadata": {},
     "output_type": "execute_result"
    },
    {
     "data": {
      "image/png": "[encoded data removed]",
      "text/plain": [
       "<Figure size 432x288 with 1 Axes>"
      ]
     },
     "metadata": {
      "needs_background": "light"
     },
     "output_type": "display_data"
    }
   ],
   "source": [
    "fasola['Daily_Count'].plot()"
   ]
  },
  {
   "cell_type": "code",
   "execution_count": 87,
   "id": "abstract-branch",
   "metadata": {},
   "outputs": [
    {
     "data": {
      "text/plain": [
       "<AxesSubplot:>"
      ]
     },
     "execution_count": 87,
     "metadata": {},
     "output_type": "execute_result"
    },
    {
     "data": {
      "image/png": "[encoded data removed]",
      "text/plain": [
       "<Figure size 432x288 with 1 Axes>"
      ]
     },
     "metadata": {
      "needs_background": "light"
     },
     "output_type": "display_data"
    }
   ],
   "source": [
    "fasola['Daily_Sum'].plot()"
   ]
  },
  {
   "cell_type": "markdown",
   "id": "pharmaceutical-murray",
   "metadata": {},
   "source": [
    "I wonder if I resample to weekly if I get any better results."
   ]
  },
  {
   "cell_type": "code",
   "execution_count": 89,
   "id": "cellular-aquatic",
   "metadata": {},
   "outputs": [
    {
     "data": {
      "text/html": [
       "<div>\n",
       "<style scoped>\n",
       "    .dataframe tbody tr th:only-of-type {\n",
       "        vertical-align: middle;\n",
       "    }\n",
       "\n",
       "    .dataframe tbody tr th {\n",
       "        vertical-align: top;\n",
       "    }\n",
       "\n",
       "    .dataframe thead th {\n",
       "        text-align: right;\n",
       "    }\n",
       "</style>\n",
       "<table border=\"1\" class=\"dataframe\">\n",
       "  <thead>\n",
       "    <tr style=\"text-align: right;\">\n",
       "      <th></th>\n",
       "      <th>Daily_Avg</th>\n",
       "      <th>Daily_Sum</th>\n",
       "      <th>Daily_Count</th>\n",
       "      <th>Rig_Count</th>\n",
       "      <th>WTI_Spot_Price</th>\n",
       "      <th>Brent_Spot_Price</th>\n",
       "      <th>fracs_per_day</th>\n",
       "      <th>volume_per_day</th>\n",
       "      <th>avg_volh2o_per_ft</th>\n",
       "    </tr>\n",
       "  </thead>\n",
       "  <tbody>\n",
       "    <tr>\n",
       "      <th>2016-01-03</th>\n",
       "      <td>0.000000</td>\n",
       "      <td>0.000000</td>\n",
       "      <td>0.000000</td>\n",
       "      <td>33.000000</td>\n",
       "      <td>37.130000</td>\n",
       "      <td>36.610000</td>\n",
       "      <td>9.666667</td>\n",
       "      <td>5.170622e+06</td>\n",
       "      <td>1086.376832</td>\n",
       "    </tr>\n",
       "    <tr>\n",
       "      <th>2016-01-10</th>\n",
       "      <td>0.000000</td>\n",
       "      <td>0.000000</td>\n",
       "      <td>0.000000</td>\n",
       "      <td>33.000000</td>\n",
       "      <td>34.234286</td>\n",
       "      <td>33.472857</td>\n",
       "      <td>26.571429</td>\n",
       "      <td>1.235401e+07</td>\n",
       "      <td>825.894278</td>\n",
       "    </tr>\n",
       "    <tr>\n",
       "      <th>2016-01-17</th>\n",
       "      <td>0.136829</td>\n",
       "      <td>0.136829</td>\n",
       "      <td>0.142857</td>\n",
       "      <td>33.000000</td>\n",
       "      <td>30.261429</td>\n",
       "      <td>29.014286</td>\n",
       "      <td>24.285714</td>\n",
       "      <td>1.620145e+07</td>\n",
       "      <td>1014.034459</td>\n",
       "    </tr>\n",
       "    <tr>\n",
       "      <th>2016-01-24</th>\n",
       "      <td>0.000000</td>\n",
       "      <td>0.000000</td>\n",
       "      <td>0.000000</td>\n",
       "      <td>33.000000</td>\n",
       "      <td>30.051429</td>\n",
       "      <td>28.528571</td>\n",
       "      <td>87.571429</td>\n",
       "      <td>7.169845e+07</td>\n",
       "      <td>1488.242188</td>\n",
       "    </tr>\n",
       "    <tr>\n",
       "      <th>2016-01-31</th>\n",
       "      <td>0.000000</td>\n",
       "      <td>0.000000</td>\n",
       "      <td>0.000000</td>\n",
       "      <td>33.571429</td>\n",
       "      <td>32.337143</td>\n",
       "      <td>32.145714</td>\n",
       "      <td>35.714286</td>\n",
       "      <td>2.944738e+07</td>\n",
       "      <td>1148.266959</td>\n",
       "    </tr>\n",
       "    <tr>\n",
       "      <th>...</th>\n",
       "      <td>...</td>\n",
       "      <td>...</td>\n",
       "      <td>...</td>\n",
       "      <td>...</td>\n",
       "      <td>...</td>\n",
       "      <td>...</td>\n",
       "      <td>...</td>\n",
       "      <td>...</td>\n",
       "      <td>...</td>\n",
       "    </tr>\n",
       "    <tr>\n",
       "      <th>2021-01-10</th>\n",
       "      <td>0.000000</td>\n",
       "      <td>0.000000</td>\n",
       "      <td>0.000000</td>\n",
       "      <td>11.000000</td>\n",
       "      <td>50.678571</td>\n",
       "      <td>53.937143</td>\n",
       "      <td>NaN</td>\n",
       "      <td>NaN</td>\n",
       "      <td>NaN</td>\n",
       "    </tr>\n",
       "    <tr>\n",
       "      <th>2021-01-17</th>\n",
       "      <td>0.214286</td>\n",
       "      <td>0.214286</td>\n",
       "      <td>0.142857</td>\n",
       "      <td>11.000000</td>\n",
       "      <td>52.608571</td>\n",
       "      <td>55.214286</td>\n",
       "      <td>NaN</td>\n",
       "      <td>NaN</td>\n",
       "      <td>NaN</td>\n",
       "    </tr>\n",
       "    <tr>\n",
       "      <th>2021-01-24</th>\n",
       "      <td>0.000000</td>\n",
       "      <td>0.000000</td>\n",
       "      <td>0.000000</td>\n",
       "      <td>11.285714</td>\n",
       "      <td>52.588571</td>\n",
       "      <td>55.227143</td>\n",
       "      <td>NaN</td>\n",
       "      <td>NaN</td>\n",
       "      <td>NaN</td>\n",
       "    </tr>\n",
       "    <tr>\n",
       "      <th>2021-01-31</th>\n",
       "      <td>0.000000</td>\n",
       "      <td>0.000000</td>\n",
       "      <td>0.000000</td>\n",
       "      <td>12.000000</td>\n",
       "      <td>52.420000</td>\n",
       "      <td>55.198571</td>\n",
       "      <td>NaN</td>\n",
       "      <td>NaN</td>\n",
       "      <td>NaN</td>\n",
       "    </tr>\n",
       "    <tr>\n",
       "      <th>2021-02-07</th>\n",
       "      <td>0.000000</td>\n",
       "      <td>0.000000</td>\n",
       "      <td>0.000000</td>\n",
       "      <td>NaN</td>\n",
       "      <td>53.550000</td>\n",
       "      <td>56.420000</td>\n",
       "      <td>NaN</td>\n",
       "      <td>NaN</td>\n",
       "      <td>NaN</td>\n",
       "    </tr>\n",
       "  </tbody>\n",
       "</table>\n",
       "<p>267 rows × 9 columns</p>\n",
       "</div>"
      ],
      "text/plain": [
       "            Daily_Avg  Daily_Sum  Daily_Count  Rig_Count  WTI_Spot_Price  \\\n",
       "2016-01-03   0.000000   0.000000     0.000000  33.000000       37.130000   \n",
       "2016-01-10   0.000000   0.000000     0.000000  33.000000       34.234286   \n",
       "2016-01-17   0.136829   0.136829     0.142857  33.000000       30.261429   \n",
       "2016-01-24   0.000000   0.000000     0.000000  33.000000       30.051429   \n",
       "2016-01-31   0.000000   0.000000     0.000000  33.571429       32.337143   \n",
       "...               ...        ...          ...        ...             ...   \n",
       "2021-01-10   0.000000   0.000000     0.000000  11.000000       50.678571   \n",
       "2021-01-17   0.214286   0.214286     0.142857  11.000000       52.608571   \n",
       "2021-01-24   0.000000   0.000000     0.000000  11.285714       52.588571   \n",
       "2021-01-31   0.000000   0.000000     0.000000  12.000000       52.420000   \n",
       "2021-02-07   0.000000   0.000000     0.000000        NaN       53.550000   \n",
       "\n",
       "            Brent_Spot_Price  fracs_per_day  volume_per_day  avg_volh2o_per_ft  \n",
       "2016-01-03         36.610000       9.666667    5.170622e+06        1086.376832  \n",
       "2016-01-10         33.472857      26.571429    1.235401e+07         825.894278  \n",
       "2016-01-17         29.014286      24.285714    1.620145e+07        1014.034459  \n",
       "2016-01-24         28.528571      87.571429    7.169845e+07        1488.242188  \n",
       "2016-01-31         32.145714      35.714286    2.944738e+07        1148.266959  \n",
       "...                      ...            ...             ...                ...  \n",
       "2021-01-10         53.937143            NaN             NaN                NaN  \n",
       "2021-01-17         55.214286            NaN             NaN                NaN  \n",
       "2021-01-24         55.227143            NaN             NaN                NaN  \n",
       "2021-01-31         55.198571            NaN             NaN                NaN  \n",
       "2021-02-07         56.420000            NaN             NaN                NaN  \n",
       "\n",
       "[267 rows x 9 columns]"
      ]
     },
     "execution_count": 89,
     "metadata": {},
     "output_type": "execute_result"
    }
   ],
   "source": [
    "fasola_weekly = fasola.resample('W').mean()\n",
    "fasola_weekly"
   ]
  },
  {
   "cell_type": "code",
   "execution_count": 99,
   "id": "fifty-server",
   "metadata": {},
   "outputs": [
    {
     "data": {
      "text/html": [
       "<div>\n",
       "<style scoped>\n",
       "    .dataframe tbody tr th:only-of-type {\n",
       "        vertical-align: middle;\n",
       "    }\n",
       "\n",
       "    .dataframe tbody tr th {\n",
       "        vertical-align: top;\n",
       "    }\n",
       "\n",
       "    .dataframe thead th {\n",
       "        text-align: right;\n",
       "    }\n",
       "</style>\n",
       "<table border=\"1\" class=\"dataframe\">\n",
       "  <thead>\n",
       "    <tr style=\"text-align: right;\">\n",
       "      <th></th>\n",
       "      <th>Daily_Avg</th>\n",
       "      <th>Daily_Sum</th>\n",
       "      <th>Daily_Count</th>\n",
       "      <th>Rig_Count</th>\n",
       "      <th>WTI_Spot_Price</th>\n",
       "      <th>Brent_Spot_Price</th>\n",
       "      <th>fracs_per_day</th>\n",
       "      <th>volume_per_day</th>\n",
       "      <th>avg_volh2o_per_ft</th>\n",
       "    </tr>\n",
       "  </thead>\n",
       "  <tbody>\n",
       "    <tr>\n",
       "      <th>2020-09-27</th>\n",
       "      <td>0.528571</td>\n",
       "      <td>0.528571</td>\n",
       "      <td>0.285714</td>\n",
       "      <td>8.000000</td>\n",
       "      <td>39.860000</td>\n",
       "      <td>40.895714</td>\n",
       "      <td>6.142857</td>\n",
       "      <td>8.188620e+06</td>\n",
       "      <td>2346.492950</td>\n",
       "    </tr>\n",
       "    <tr>\n",
       "      <th>2020-10-04</th>\n",
       "      <td>0.000000</td>\n",
       "      <td>0.000000</td>\n",
       "      <td>0.000000</td>\n",
       "      <td>8.285714</td>\n",
       "      <td>38.394286</td>\n",
       "      <td>39.424286</td>\n",
       "      <td>6.000000</td>\n",
       "      <td>7.095686e+06</td>\n",
       "      <td>2679.670861</td>\n",
       "    </tr>\n",
       "    <tr>\n",
       "      <th>2020-10-11</th>\n",
       "      <td>0.000000</td>\n",
       "      <td>0.000000</td>\n",
       "      <td>0.000000</td>\n",
       "      <td>9.571429</td>\n",
       "      <td>40.260000</td>\n",
       "      <td>41.222857</td>\n",
       "      <td>5.571429</td>\n",
       "      <td>4.898786e+06</td>\n",
       "      <td>2980.053485</td>\n",
       "    </tr>\n",
       "    <tr>\n",
       "      <th>2020-10-18</th>\n",
       "      <td>0.000000</td>\n",
       "      <td>0.000000</td>\n",
       "      <td>0.000000</td>\n",
       "      <td>11.000000</td>\n",
       "      <td>40.435714</td>\n",
       "      <td>41.325714</td>\n",
       "      <td>5.000000</td>\n",
       "      <td>4.313777e+06</td>\n",
       "      <td>2864.981524</td>\n",
       "    </tr>\n",
       "    <tr>\n",
       "      <th>2020-10-25</th>\n",
       "      <td>0.000000</td>\n",
       "      <td>0.000000</td>\n",
       "      <td>0.000000</td>\n",
       "      <td>11.000000</td>\n",
       "      <td>40.227143</td>\n",
       "      <td>40.915714</td>\n",
       "      <td>6.285714</td>\n",
       "      <td>5.794101e+06</td>\n",
       "      <td>2712.556536</td>\n",
       "    </tr>\n",
       "    <tr>\n",
       "      <th>2020-11-01</th>\n",
       "      <td>0.000000</td>\n",
       "      <td>0.000000</td>\n",
       "      <td>0.000000</td>\n",
       "      <td>11.285714</td>\n",
       "      <td>36.837143</td>\n",
       "      <td>37.455714</td>\n",
       "      <td>6.857143</td>\n",
       "      <td>6.359969e+06</td>\n",
       "      <td>2184.051082</td>\n",
       "    </tr>\n",
       "    <tr>\n",
       "      <th>2020-11-08</th>\n",
       "      <td>0.385714</td>\n",
       "      <td>0.771429</td>\n",
       "      <td>0.285714</td>\n",
       "      <td>12.285714</td>\n",
       "      <td>37.497143</td>\n",
       "      <td>38.477143</td>\n",
       "      <td>5.714286</td>\n",
       "      <td>6.693523e+06</td>\n",
       "      <td>2781.003324</td>\n",
       "    </tr>\n",
       "    <tr>\n",
       "      <th>2020-11-15</th>\n",
       "      <td>0.000000</td>\n",
       "      <td>0.000000</td>\n",
       "      <td>0.000000</td>\n",
       "      <td>12.714286</td>\n",
       "      <td>40.450000</td>\n",
       "      <td>41.767143</td>\n",
       "      <td>5.285714</td>\n",
       "      <td>6.832814e+06</td>\n",
       "      <td>2949.377840</td>\n",
       "    </tr>\n",
       "    <tr>\n",
       "      <th>2020-11-22</th>\n",
       "      <td>0.000000</td>\n",
       "      <td>0.000000</td>\n",
       "      <td>0.000000</td>\n",
       "      <td>12.000000</td>\n",
       "      <td>41.651429</td>\n",
       "      <td>43.231429</td>\n",
       "      <td>4.714286</td>\n",
       "      <td>5.706328e+06</td>\n",
       "      <td>2314.419138</td>\n",
       "    </tr>\n",
       "    <tr>\n",
       "      <th>2020-11-29</th>\n",
       "      <td>0.000000</td>\n",
       "      <td>0.000000</td>\n",
       "      <td>0.000000</td>\n",
       "      <td>11.000000</td>\n",
       "      <td>45.074286</td>\n",
       "      <td>46.555714</td>\n",
       "      <td>4.142857</td>\n",
       "      <td>5.781034e+06</td>\n",
       "      <td>2602.904945</td>\n",
       "    </tr>\n",
       "    <tr>\n",
       "      <th>2020-12-06</th>\n",
       "      <td>0.000000</td>\n",
       "      <td>0.000000</td>\n",
       "      <td>0.000000</td>\n",
       "      <td>11.000000</td>\n",
       "      <td>45.615714</td>\n",
       "      <td>48.191429</td>\n",
       "      <td>2.833333</td>\n",
       "      <td>4.001731e+06</td>\n",
       "      <td>2722.208314</td>\n",
       "    </tr>\n",
       "    <tr>\n",
       "      <th>2020-12-13</th>\n",
       "      <td>0.528571</td>\n",
       "      <td>0.528571</td>\n",
       "      <td>0.285714</td>\n",
       "      <td>11.000000</td>\n",
       "      <td>46.195714</td>\n",
       "      <td>49.520000</td>\n",
       "      <td>NaN</td>\n",
       "      <td>NaN</td>\n",
       "      <td>NaN</td>\n",
       "    </tr>\n",
       "    <tr>\n",
       "      <th>2020-12-20</th>\n",
       "      <td>0.200000</td>\n",
       "      <td>0.200000</td>\n",
       "      <td>0.142857</td>\n",
       "      <td>11.000000</td>\n",
       "      <td>48.274286</td>\n",
       "      <td>51.368571</td>\n",
       "      <td>NaN</td>\n",
       "      <td>NaN</td>\n",
       "      <td>NaN</td>\n",
       "    </tr>\n",
       "    <tr>\n",
       "      <th>2020-12-27</th>\n",
       "      <td>0.000000</td>\n",
       "      <td>0.000000</td>\n",
       "      <td>0.000000</td>\n",
       "      <td>NaN</td>\n",
       "      <td>47.924286</td>\n",
       "      <td>50.722857</td>\n",
       "      <td>NaN</td>\n",
       "      <td>NaN</td>\n",
       "      <td>NaN</td>\n",
       "    </tr>\n",
       "    <tr>\n",
       "      <th>2021-01-03</th>\n",
       "      <td>1.371429</td>\n",
       "      <td>1.714286</td>\n",
       "      <td>0.714286</td>\n",
       "      <td>11.000000</td>\n",
       "      <td>48.141429</td>\n",
       "      <td>50.991429</td>\n",
       "      <td>NaN</td>\n",
       "      <td>NaN</td>\n",
       "      <td>NaN</td>\n",
       "    </tr>\n",
       "    <tr>\n",
       "      <th>2021-01-10</th>\n",
       "      <td>0.000000</td>\n",
       "      <td>0.000000</td>\n",
       "      <td>0.000000</td>\n",
       "      <td>11.000000</td>\n",
       "      <td>50.678571</td>\n",
       "      <td>53.937143</td>\n",
       "      <td>NaN</td>\n",
       "      <td>NaN</td>\n",
       "      <td>NaN</td>\n",
       "    </tr>\n",
       "    <tr>\n",
       "      <th>2021-01-17</th>\n",
       "      <td>0.214286</td>\n",
       "      <td>0.214286</td>\n",
       "      <td>0.142857</td>\n",
       "      <td>11.000000</td>\n",
       "      <td>52.608571</td>\n",
       "      <td>55.214286</td>\n",
       "      <td>NaN</td>\n",
       "      <td>NaN</td>\n",
       "      <td>NaN</td>\n",
       "    </tr>\n",
       "    <tr>\n",
       "      <th>2021-01-24</th>\n",
       "      <td>0.000000</td>\n",
       "      <td>0.000000</td>\n",
       "      <td>0.000000</td>\n",
       "      <td>11.285714</td>\n",
       "      <td>52.588571</td>\n",
       "      <td>55.227143</td>\n",
       "      <td>NaN</td>\n",
       "      <td>NaN</td>\n",
       "      <td>NaN</td>\n",
       "    </tr>\n",
       "    <tr>\n",
       "      <th>2021-01-31</th>\n",
       "      <td>0.000000</td>\n",
       "      <td>0.000000</td>\n",
       "      <td>0.000000</td>\n",
       "      <td>12.000000</td>\n",
       "      <td>52.420000</td>\n",
       "      <td>55.198571</td>\n",
       "      <td>NaN</td>\n",
       "      <td>NaN</td>\n",
       "      <td>NaN</td>\n",
       "    </tr>\n",
       "    <tr>\n",
       "      <th>2021-02-07</th>\n",
       "      <td>0.000000</td>\n",
       "      <td>0.000000</td>\n",
       "      <td>0.000000</td>\n",
       "      <td>NaN</td>\n",
       "      <td>53.550000</td>\n",
       "      <td>56.420000</td>\n",
       "      <td>NaN</td>\n",
       "      <td>NaN</td>\n",
       "      <td>NaN</td>\n",
       "    </tr>\n",
       "  </tbody>\n",
       "</table>\n",
       "</div>"
      ],
      "text/plain": [
       "            Daily_Avg  Daily_Sum  Daily_Count  Rig_Count  WTI_Spot_Price  \\\n",
       "2020-09-27   0.528571   0.528571     0.285714   8.000000       39.860000   \n",
       "2020-10-04   0.000000   0.000000     0.000000   8.285714       38.394286   \n",
       "2020-10-11   0.000000   0.000000     0.000000   9.571429       40.260000   \n",
       "2020-10-18   0.000000   0.000000     0.000000  11.000000       40.435714   \n",
       "2020-10-25   0.000000   0.000000     0.000000  11.000000       40.227143   \n",
       "2020-11-01   0.000000   0.000000     0.000000  11.285714       36.837143   \n",
       "2020-11-08   0.385714   0.771429     0.285714  12.285714       37.497143   \n",
       "2020-11-15   0.000000   0.000000     0.000000  12.714286       40.450000   \n",
       "2020-11-22   0.000000   0.000000     0.000000  12.000000       41.651429   \n",
       "2020-11-29   0.000000   0.000000     0.000000  11.000000       45.074286   \n",
       "2020-12-06   0.000000   0.000000     0.000000  11.000000       45.615714   \n",
       "2020-12-13   0.528571   0.528571     0.285714  11.000000       46.195714   \n",
       "2020-12-20   0.200000   0.200000     0.142857  11.000000       48.274286   \n",
       "2020-12-27   0.000000   0.000000     0.000000        NaN       47.924286   \n",
       "2021-01-03   1.371429   1.714286     0.714286  11.000000       48.141429   \n",
       "2021-01-10   0.000000   0.000000     0.000000  11.000000       50.678571   \n",
       "2021-01-17   0.214286   0.214286     0.142857  11.000000       52.608571   \n",
       "2021-01-24   0.000000   0.000000     0.000000  11.285714       52.588571   \n",
       "2021-01-31   0.000000   0.000000     0.000000  12.000000       52.420000   \n",
       "2021-02-07   0.000000   0.000000     0.000000        NaN       53.550000   \n",
       "\n",
       "            Brent_Spot_Price  fracs_per_day  volume_per_day  avg_volh2o_per_ft  \n",
       "2020-09-27         40.895714       6.142857    8.188620e+06        2346.492950  \n",
       "2020-10-04         39.424286       6.000000    7.095686e+06        2679.670861  \n",
       "2020-10-11         41.222857       5.571429    4.898786e+06        2980.053485  \n",
       "2020-10-18         41.325714       5.000000    4.313777e+06        2864.981524  \n",
       "2020-10-25         40.915714       6.285714    5.794101e+06        2712.556536  \n",
       "2020-11-01         37.455714       6.857143    6.359969e+06        2184.051082  \n",
       "2020-11-08         38.477143       5.714286    6.693523e+06        2781.003324  \n",
       "2020-11-15         41.767143       5.285714    6.832814e+06        2949.377840  \n",
       "2020-11-22         43.231429       4.714286    5.706328e+06        2314.419138  \n",
       "2020-11-29         46.555714       4.142857    5.781034e+06        2602.904945  \n",
       "2020-12-06         48.191429       2.833333    4.001731e+06        2722.208314  \n",
       "2020-12-13         49.520000            NaN             NaN                NaN  \n",
       "2020-12-20         51.368571            NaN             NaN                NaN  \n",
       "2020-12-27         50.722857            NaN             NaN                NaN  \n",
       "2021-01-03         50.991429            NaN             NaN                NaN  \n",
       "2021-01-10         53.937143            NaN             NaN                NaN  \n",
       "2021-01-17         55.214286            NaN             NaN                NaN  \n",
       "2021-01-24         55.227143            NaN             NaN                NaN  \n",
       "2021-01-31         55.198571            NaN             NaN                NaN  \n",
       "2021-02-07         56.420000            NaN             NaN                NaN  "
      ]
     },
     "execution_count": 99,
     "metadata": {},
     "output_type": "execute_result"
    }
   ],
   "source": [
    "fasola_weekly.tail(20)"
   ]
  },
  {
   "cell_type": "code",
   "execution_count": 109,
   "id": "funded-usage",
   "metadata": {},
   "outputs": [],
   "source": [
    "#set the widest date range\n",
    "fas_train_weekly = fasola_weekly.loc['1-3-2016':'12-31-2018',]\n",
    "fas_test_weekly = fasola_weekly.loc['1-1-2019':'11-29-2020',]"
   ]
  },
  {
   "cell_type": "code",
   "execution_count": 112,
   "id": "coordinate-advocate",
   "metadata": {},
   "outputs": [
    {
     "name": "stderr",
     "output_type": "stream",
     "text": [
      "<ipython-input-112-a1b7761cfd11>:1: SettingWithCopyWarning: \n",
      "A value is trying to be set on a copy of a slice from a DataFrame\n",
      "\n",
      "See the caveats in the documentation: https://pandas.pydata.org/pandas-docs/stable/user_guide/indexing.html#returning-a-view-versus-a-copy\n",
      "  fas_test_weekly.dropna(inplace=True)\n"
     ]
    }
   ],
   "source": [
    "fas_test_weekly.dropna(inplace=True)"
   ]
  },
  {
   "cell_type": "code",
   "execution_count": 113,
   "id": "enabling-pepper",
   "metadata": {},
   "outputs": [
    {
     "data": {
      "text/plain": [
       "Daily_Avg            0\n",
       "Daily_Sum            0\n",
       "Daily_Count          0\n",
       "Rig_Count            0\n",
       "WTI_Spot_Price       0\n",
       "Brent_Spot_Price     0\n",
       "fracs_per_day        0\n",
       "volume_per_day       0\n",
       "avg_volh2o_per_ft    0\n",
       "dtype: int64"
      ]
     },
     "execution_count": 113,
     "metadata": {},
     "output_type": "execute_result"
    }
   ],
   "source": [
    "fas_test_weekly.isna().sum()"
   ]
  },
  {
   "cell_type": "code",
   "execution_count": 114,
   "id": "fluid-vulnerability",
   "metadata": {},
   "outputs": [
    {
     "name": "stderr",
     "output_type": "stream",
     "text": [
      "<ipython-input-114-cc99cd5a7be4>:1: SettingWithCopyWarning: \n",
      "A value is trying to be set on a copy of a slice from a DataFrame.\n",
      "Try using .loc[row_indexer,col_indexer] = value instead\n",
      "\n",
      "See the caveats in the documentation: https://pandas.pydata.org/pandas-docs/stable/user_guide/indexing.html#returning-a-view-versus-a-copy\n",
      "  fas_train_weekly['Date'] = fas_train_weekly.index\n",
      "<ipython-input-114-cc99cd5a7be4>:2: SettingWithCopyWarning: \n",
      "A value is trying to be set on a copy of a slice from a DataFrame.\n",
      "Try using .loc[row_indexer,col_indexer] = value instead\n",
      "\n",
      "See the caveats in the documentation: https://pandas.pydata.org/pandas-docs/stable/user_guide/indexing.html#returning-a-view-versus-a-copy\n",
      "  fas_test_weekly['Date'] = fas_test_weekly.index\n",
      "/Users/melissamcmillan/opt/anaconda3/envs/timer/lib/python3.8/site-packages/pandas/core/frame.py:4167: SettingWithCopyWarning: \n",
      "A value is trying to be set on a copy of a slice from a DataFrame\n",
      "\n",
      "See the caveats in the documentation: https://pandas.pydata.org/pandas-docs/stable/user_guide/indexing.html#returning-a-view-versus-a-copy\n",
      "  return super().drop(\n"
     ]
    }
   ],
   "source": [
    "fas_train_weekly['Date'] = fas_train_weekly.index\n",
    "fas_test_weekly['Date'] = fas_test_weekly.index\n",
    "fas_train_weekly.reset_index(inplace=True)\n",
    "fas_test_weekly.reset_index(inplace=True)\n",
    "fas_train_weekly.drop('index', axis=1, inplace=True)\n",
    "fas_test_weekly.drop('index', axis=1, inplace=True)"
   ]
  },
  {
   "cell_type": "code",
   "execution_count": 115,
   "id": "imperial-board",
   "metadata": {},
   "outputs": [],
   "source": [
    "X_train = fas_train_weekly[['fracs_per_day', 'volume_per_day', 'avg_volh2o_per_ft']]\n",
    "y_train = fas_train_weekly['Daily_Sum']\n",
    "X_test = fas_test_weekly[['fracs_per_day', 'volume_per_day', 'avg_volh2o_per_ft']]\n",
    "y_test = fas_test_weekly['Daily_Sum']"
   ]
  },
  {
   "cell_type": "code",
   "execution_count": 116,
   "id": "manufactured-strain",
   "metadata": {},
   "outputs": [
    {
     "data": {
      "text/plain": [
       "LinearRegression()"
      ]
     },
     "execution_count": 116,
     "metadata": {},
     "output_type": "execute_result"
    }
   ],
   "source": [
    "lr = LinearRegression()\n",
    "lr.fit(X_train, y_train)"
   ]
  },
  {
   "cell_type": "code",
   "execution_count": 117,
   "id": "sticky-image",
   "metadata": {},
   "outputs": [],
   "source": [
    "#I need to make a null model\n",
    "mean_y_train_array = np.full_like(y_train, y_train.mean())\n",
    "mean_y_test_array = np.full_like(y_test, y_test.mean())"
   ]
  },
  {
   "cell_type": "code",
   "execution_count": 118,
   "id": "simple-hunger",
   "metadata": {},
   "outputs": [
    {
     "data": {
      "text/plain": [
       "3.3397421367588382"
      ]
     },
     "execution_count": 118,
     "metadata": {},
     "output_type": "execute_result"
    }
   ],
   "source": [
    "#rmse will be null for train set\n",
    "mean_squared_error(y_train, mean_y_train_array, squared = False)"
   ]
  },
  {
   "cell_type": "code",
   "execution_count": 119,
   "id": "beginning-frontier",
   "metadata": {},
   "outputs": [
    {
     "data": {
      "text/plain": [
       "0.9560072929592038"
      ]
     },
     "execution_count": 119,
     "metadata": {},
     "output_type": "execute_result"
    }
   ],
   "source": [
    "#rmse will be null for test set\n",
    "mean_squared_error(y_test, mean_y_test_array, squared = False)"
   ]
  },
  {
   "cell_type": "code",
   "execution_count": 120,
   "id": "consolidated-liberia",
   "metadata": {},
   "outputs": [
    {
     "name": "stdout",
     "output_type": "stream",
     "text": [
      "r2 = 0.03666597869812527\n",
      "rmse = 3.2779429073365196\n"
     ]
    }
   ],
   "source": [
    "#now make predictions for train data from the model\n",
    "y_train_pred = lr.predict(X_train)\n",
    "evaluate_model(X_train, y_train, y_train_pred)"
   ]
  },
  {
   "cell_type": "code",
   "execution_count": 121,
   "id": "dried-pitch",
   "metadata": {},
   "outputs": [
    {
     "name": "stdout",
     "output_type": "stream",
     "text": [
      "r2 = -4.6291190881258055\n",
      "rmse = 2.268200404822756\n"
     ]
    }
   ],
   "source": [
    "#now make predictions for test data from the model\n",
    "y_test_pred = lr.predict(X_test)\n",
    "evaluate_model(X_test, y_test, y_test_pred)"
   ]
  },
  {
   "cell_type": "markdown",
   "id": "sustainable-accountability",
   "metadata": {},
   "source": [
    "Now I'd like to model my mega dataset and see if the results differ at all."
   ]
  },
  {
   "cell_type": "code",
   "execution_count": 124,
   "id": "distinguished-mounting",
   "metadata": {},
   "outputs": [],
   "source": [
    "mega_df = pd.read_csv('oil_and_gas_data/data_for_modelling/mega_data_ready_for_modelling.csv', index_col=0)"
   ]
  },
  {
   "cell_type": "code",
   "execution_count": 125,
   "id": "polish-demonstration",
   "metadata": {},
   "outputs": [
    {
     "name": "stdout",
     "output_type": "stream",
     "text": [
      "<class 'pandas.core.frame.DataFrame'>\n",
      "Index: 2863 entries, 2012-03-02 to 2020-12-05\n",
      "Data columns (total 10 columns):\n",
      " #   Column             Non-Null Count  Dtype  \n",
      "---  ------             --------------  -----  \n",
      " 0   Daily_Sum          2863 non-null   float64\n",
      " 1   Daily_Avg          2863 non-null   float64\n",
      " 2   Daily_Count        2863 non-null   int64  \n",
      " 3   Rig_Count          2863 non-null   float64\n",
      " 4   WTI_Spot_Price     2863 non-null   float64\n",
      " 5   Brent_Spot_Price   2863 non-null   float64\n",
      " 6   fracs_per_day      2863 non-null   float64\n",
      " 7   volume_per_day     2863 non-null   float64\n",
      " 8   avg_volh2o_per_ft  2863 non-null   float64\n",
      " 9   APIs               2863 non-null   object \n",
      "dtypes: float64(8), int64(1), object(1)\n",
      "memory usage: 246.0+ KB\n"
     ]
    }
   ],
   "source": [
    "#first thing to do is drop na values\n",
    "mega_df = mega_df.dropna()\n",
    "mega_df.info()"
   ]
  },
  {
   "cell_type": "code",
   "execution_count": 126,
   "id": "crude-holiday",
   "metadata": {},
   "outputs": [
    {
     "data": {
      "text/html": [
       "<div>\n",
       "<style scoped>\n",
       "    .dataframe tbody tr th:only-of-type {\n",
       "        vertical-align: middle;\n",
       "    }\n",
       "\n",
       "    .dataframe tbody tr th {\n",
       "        vertical-align: top;\n",
       "    }\n",
       "\n",
       "    .dataframe thead th {\n",
       "        text-align: right;\n",
       "    }\n",
       "</style>\n",
       "<table border=\"1\" class=\"dataframe\">\n",
       "  <thead>\n",
       "    <tr style=\"text-align: right;\">\n",
       "      <th></th>\n",
       "      <th>Daily_Sum</th>\n",
       "      <th>Daily_Avg</th>\n",
       "      <th>Daily_Count</th>\n",
       "      <th>Rig_Count</th>\n",
       "      <th>WTI_Spot_Price</th>\n",
       "      <th>Brent_Spot_Price</th>\n",
       "      <th>fracs_per_day</th>\n",
       "      <th>volume_per_day</th>\n",
       "      <th>avg_volh2o_per_ft</th>\n",
       "      <th>APIs</th>\n",
       "    </tr>\n",
       "  </thead>\n",
       "  <tbody>\n",
       "    <tr>\n",
       "      <th>2020-01-27</th>\n",
       "      <td>0.0</td>\n",
       "      <td>0.0</td>\n",
       "      <td>0</td>\n",
       "      <td>33.0</td>\n",
       "      <td>53.09</td>\n",
       "      <td>58.54</td>\n",
       "      <td>45.0</td>\n",
       "      <td>4.278683e+07</td>\n",
       "      <td>1642.821249</td>\n",
       "      <td>[42255361850000, 42255361860000, 4225536568000...</td>\n",
       "    </tr>\n",
       "    <tr>\n",
       "      <th>2020-01-28</th>\n",
       "      <td>1.9</td>\n",
       "      <td>1.9</td>\n",
       "      <td>1</td>\n",
       "      <td>33.0</td>\n",
       "      <td>53.33</td>\n",
       "      <td>59.37</td>\n",
       "      <td>46.0</td>\n",
       "      <td>4.433917e+07</td>\n",
       "      <td>1658.283946</td>\n",
       "      <td>[42255361850000, 42255361860000, 4225536568000...</td>\n",
       "    </tr>\n",
       "    <tr>\n",
       "      <th>2020-01-29</th>\n",
       "      <td>0.0</td>\n",
       "      <td>0.0</td>\n",
       "      <td>0</td>\n",
       "      <td>33.0</td>\n",
       "      <td>53.29</td>\n",
       "      <td>59.46</td>\n",
       "      <td>44.0</td>\n",
       "      <td>4.293038e+07</td>\n",
       "      <td>1624.508496</td>\n",
       "      <td>[42255361850000, 42255361860000, 4225536569000...</td>\n",
       "    </tr>\n",
       "    <tr>\n",
       "      <th>2020-01-30</th>\n",
       "      <td>0.0</td>\n",
       "      <td>0.0</td>\n",
       "      <td>0</td>\n",
       "      <td>33.0</td>\n",
       "      <td>52.19</td>\n",
       "      <td>57.72</td>\n",
       "      <td>46.0</td>\n",
       "      <td>4.500210e+07</td>\n",
       "      <td>1624.812672</td>\n",
       "      <td>[42255361850000, 42255361860000, 4225536559000...</td>\n",
       "    </tr>\n",
       "    <tr>\n",
       "      <th>2020-01-31</th>\n",
       "      <td>0.0</td>\n",
       "      <td>0.0</td>\n",
       "      <td>0</td>\n",
       "      <td>33.0</td>\n",
       "      <td>51.58</td>\n",
       "      <td>57.77</td>\n",
       "      <td>46.0</td>\n",
       "      <td>4.500210e+07</td>\n",
       "      <td>1624.812672</td>\n",
       "      <td>[42255361850000, 42255361860000, 4225536559000...</td>\n",
       "    </tr>\n",
       "  </tbody>\n",
       "</table>\n",
       "</div>"
      ],
      "text/plain": [
       "            Daily_Sum  Daily_Avg  Daily_Count  Rig_Count  WTI_Spot_Price  \\\n",
       "2020-01-27        0.0        0.0            0       33.0           53.09   \n",
       "2020-01-28        1.9        1.9            1       33.0           53.33   \n",
       "2020-01-29        0.0        0.0            0       33.0           53.29   \n",
       "2020-01-30        0.0        0.0            0       33.0           52.19   \n",
       "2020-01-31        0.0        0.0            0       33.0           51.58   \n",
       "\n",
       "            Brent_Spot_Price  fracs_per_day  volume_per_day  \\\n",
       "2020-01-27             58.54           45.0    4.278683e+07   \n",
       "2020-01-28             59.37           46.0    4.433917e+07   \n",
       "2020-01-29             59.46           44.0    4.293038e+07   \n",
       "2020-01-30             57.72           46.0    4.500210e+07   \n",
       "2020-01-31             57.77           46.0    4.500210e+07   \n",
       "\n",
       "            avg_volh2o_per_ft  \\\n",
       "2020-01-27        1642.821249   \n",
       "2020-01-28        1658.283946   \n",
       "2020-01-29        1624.508496   \n",
       "2020-01-30        1624.812672   \n",
       "2020-01-31        1624.812672   \n",
       "\n",
       "                                                         APIs  \n",
       "2020-01-27  [42255361850000, 42255361860000, 4225536568000...  \n",
       "2020-01-28  [42255361850000, 42255361860000, 4225536568000...  \n",
       "2020-01-29  [42255361850000, 42255361860000, 4225536569000...  \n",
       "2020-01-30  [42255361850000, 42255361860000, 4225536559000...  \n",
       "2020-01-31  [42255361850000, 42255361860000, 4225536559000...  "
      ]
     },
     "execution_count": 126,
     "metadata": {},
     "output_type": "execute_result"
    }
   ],
   "source": [
    "mega_df.index = pd.to_datetime(mega_df.index)\n",
    "mega_df = mega_df.loc[:'1-31-2020',]\n",
    "mega_df.tail()"
   ]
  },
  {
   "cell_type": "code",
   "execution_count": 127,
   "id": "unable-surname",
   "metadata": {},
   "outputs": [
    {
     "data": {
      "text/html": [
       "<div>\n",
       "<style scoped>\n",
       "    .dataframe tbody tr th:only-of-type {\n",
       "        vertical-align: middle;\n",
       "    }\n",
       "\n",
       "    .dataframe tbody tr th {\n",
       "        vertical-align: top;\n",
       "    }\n",
       "\n",
       "    .dataframe thead th {\n",
       "        text-align: right;\n",
       "    }\n",
       "</style>\n",
       "<table border=\"1\" class=\"dataframe\">\n",
       "  <thead>\n",
       "    <tr style=\"text-align: right;\">\n",
       "      <th></th>\n",
       "      <th>Daily_Sum</th>\n",
       "      <th>Daily_Avg</th>\n",
       "      <th>Daily_Count</th>\n",
       "      <th>Rig_Count</th>\n",
       "      <th>WTI_Spot_Price</th>\n",
       "      <th>Brent_Spot_Price</th>\n",
       "      <th>fracs_per_day</th>\n",
       "      <th>volume_per_day</th>\n",
       "      <th>avg_volh2o_per_ft</th>\n",
       "    </tr>\n",
       "  </thead>\n",
       "  <tbody>\n",
       "    <tr>\n",
       "      <th>2012-03-04</th>\n",
       "      <td>0.0</td>\n",
       "      <td>0.0</td>\n",
       "      <td>0.0</td>\n",
       "      <td>101.000000</td>\n",
       "      <td>106.680000</td>\n",
       "      <td>125.930000</td>\n",
       "      <td>8.0</td>\n",
       "      <td>6.358212e+06</td>\n",
       "      <td>602.103409</td>\n",
       "    </tr>\n",
       "    <tr>\n",
       "      <th>2012-03-11</th>\n",
       "      <td>0.0</td>\n",
       "      <td>0.0</td>\n",
       "      <td>0.0</td>\n",
       "      <td>101.000000</td>\n",
       "      <td>105.705000</td>\n",
       "      <td>125.855000</td>\n",
       "      <td>8.0</td>\n",
       "      <td>6.358212e+06</td>\n",
       "      <td>602.103409</td>\n",
       "    </tr>\n",
       "    <tr>\n",
       "      <th>2012-03-25</th>\n",
       "      <td>0.0</td>\n",
       "      <td>0.0</td>\n",
       "      <td>0.0</td>\n",
       "      <td>101.000000</td>\n",
       "      <td>106.430000</td>\n",
       "      <td>125.210000</td>\n",
       "      <td>1.0</td>\n",
       "      <td>9.870840e+05</td>\n",
       "      <td>373.895455</td>\n",
       "    </tr>\n",
       "    <tr>\n",
       "      <th>2012-04-01</th>\n",
       "      <td>0.0</td>\n",
       "      <td>0.0</td>\n",
       "      <td>0.0</td>\n",
       "      <td>101.000000</td>\n",
       "      <td>107.070000</td>\n",
       "      <td>125.850000</td>\n",
       "      <td>1.0</td>\n",
       "      <td>9.870840e+05</td>\n",
       "      <td>373.895455</td>\n",
       "    </tr>\n",
       "    <tr>\n",
       "      <th>2012-06-03</th>\n",
       "      <td>0.0</td>\n",
       "      <td>0.0</td>\n",
       "      <td>0.0</td>\n",
       "      <td>98.666667</td>\n",
       "      <td>85.761667</td>\n",
       "      <td>101.858333</td>\n",
       "      <td>1.0</td>\n",
       "      <td>8.432639e+05</td>\n",
       "      <td>1117.963447</td>\n",
       "    </tr>\n",
       "  </tbody>\n",
       "</table>\n",
       "</div>"
      ],
      "text/plain": [
       "            Daily_Sum  Daily_Avg  Daily_Count   Rig_Count  WTI_Spot_Price  \\\n",
       "2012-03-04        0.0        0.0          0.0  101.000000      106.680000   \n",
       "2012-03-11        0.0        0.0          0.0  101.000000      105.705000   \n",
       "2012-03-25        0.0        0.0          0.0  101.000000      106.430000   \n",
       "2012-04-01        0.0        0.0          0.0  101.000000      107.070000   \n",
       "2012-06-03        0.0        0.0          0.0   98.666667       85.761667   \n",
       "\n",
       "            Brent_Spot_Price  fracs_per_day  volume_per_day  avg_volh2o_per_ft  \n",
       "2012-03-04        125.930000            8.0    6.358212e+06         602.103409  \n",
       "2012-03-11        125.855000            8.0    6.358212e+06         602.103409  \n",
       "2012-03-25        125.210000            1.0    9.870840e+05         373.895455  \n",
       "2012-04-01        125.850000            1.0    9.870840e+05         373.895455  \n",
       "2012-06-03        101.858333            1.0    8.432639e+05        1117.963447  "
      ]
     },
     "execution_count": 127,
     "metadata": {},
     "output_type": "execute_result"
    }
   ],
   "source": [
    "#time to resample to Weekly averages\n",
    "mega_df_weekly = mega_df.resample('W').mean()\n",
    "mega_df_weekly.dropna(inplace=True)\n",
    "mega_df_weekly.head()"
   ]
  },
  {
   "cell_type": "code",
   "execution_count": 150,
   "id": "civilian-coordinator",
   "metadata": {},
   "outputs": [],
   "source": [
    "X = mega_df_weekly[['fracs_per_day', 'volume_per_day', 'avg_volh2o_per_ft']]\n",
    "y = mega_df_weekly['Daily_Avg']"
   ]
  },
  {
   "cell_type": "code",
   "execution_count": 151,
   "id": "rubber-ethiopia",
   "metadata": {},
   "outputs": [],
   "source": [
    "#splitting into train and test sets; remember to use shuffle=False\n",
    "X_train, X_test, y_train, y_test = train_test_split(X, y, shuffle=False)"
   ]
  },
  {
   "cell_type": "code",
   "execution_count": 152,
   "id": "optical-constraint",
   "metadata": {},
   "outputs": [
    {
     "data": {
      "text/html": [
       "<div>\n",
       "<style scoped>\n",
       "    .dataframe tbody tr th:only-of-type {\n",
       "        vertical-align: middle;\n",
       "    }\n",
       "\n",
       "    .dataframe tbody tr th {\n",
       "        vertical-align: top;\n",
       "    }\n",
       "\n",
       "    .dataframe thead th {\n",
       "        text-align: right;\n",
       "    }\n",
       "</style>\n",
       "<table border=\"1\" class=\"dataframe\">\n",
       "  <thead>\n",
       "    <tr style=\"text-align: right;\">\n",
       "      <th></th>\n",
       "      <th>fracs_per_day</th>\n",
       "      <th>volume_per_day</th>\n",
       "      <th>avg_volh2o_per_ft</th>\n",
       "    </tr>\n",
       "  </thead>\n",
       "  <tbody>\n",
       "    <tr>\n",
       "      <th>2012-03-04</th>\n",
       "      <td>8.0</td>\n",
       "      <td>6358212.0</td>\n",
       "      <td>602.103409</td>\n",
       "    </tr>\n",
       "    <tr>\n",
       "      <th>2012-03-11</th>\n",
       "      <td>8.0</td>\n",
       "      <td>6358212.0</td>\n",
       "      <td>602.103409</td>\n",
       "    </tr>\n",
       "  </tbody>\n",
       "</table>\n",
       "</div>"
      ],
      "text/plain": [
       "            fracs_per_day  volume_per_day  avg_volh2o_per_ft\n",
       "2012-03-04            8.0       6358212.0         602.103409\n",
       "2012-03-11            8.0       6358212.0         602.103409"
      ]
     },
     "execution_count": 152,
     "metadata": {},
     "output_type": "execute_result"
    }
   ],
   "source": [
    "X_train.head(2)"
   ]
  },
  {
   "cell_type": "code",
   "execution_count": 153,
   "id": "sorted-credit",
   "metadata": {},
   "outputs": [
    {
     "data": {
      "text/plain": [
       "(289, 3)"
      ]
     },
     "execution_count": 153,
     "metadata": {},
     "output_type": "execute_result"
    }
   ],
   "source": [
    "X_train.shape"
   ]
  },
  {
   "cell_type": "code",
   "execution_count": 154,
   "id": "through-rebate",
   "metadata": {},
   "outputs": [
    {
     "data": {
      "text/plain": [
       "(289,)"
      ]
     },
     "execution_count": 154,
     "metadata": {},
     "output_type": "execute_result"
    }
   ],
   "source": [
    "y_train.shape"
   ]
  },
  {
   "cell_type": "code",
   "execution_count": 155,
   "id": "prerequisite-factor",
   "metadata": {},
   "outputs": [
    {
     "data": {
      "text/plain": [
       "LinearRegression()"
      ]
     },
     "execution_count": 155,
     "metadata": {},
     "output_type": "execute_result"
    }
   ],
   "source": [
    "lr = LinearRegression()\n",
    "lr.fit(X_train, y_train)"
   ]
  },
  {
   "cell_type": "code",
   "execution_count": 156,
   "id": "wrong-platinum",
   "metadata": {},
   "outputs": [],
   "source": [
    "#I need to make a null model\n",
    "mean_y_train_array = np.full_like(y_train, y_train.mean())\n",
    "mean_y_test_array = np.full_like(y_test, y_test.mean())"
   ]
  },
  {
   "cell_type": "code",
   "execution_count": 157,
   "id": "swedish-patio",
   "metadata": {},
   "outputs": [
    {
     "data": {
      "text/plain": [
       "0.24662795519027217"
      ]
     },
     "execution_count": 157,
     "metadata": {},
     "output_type": "execute_result"
    }
   ],
   "source": [
    "#rmse will be null for train set\n",
    "mean_squared_error(y_train, mean_y_train_array, squared = False)"
   ]
  },
  {
   "cell_type": "code",
   "execution_count": 158,
   "id": "artistic-infrastructure",
   "metadata": {},
   "outputs": [
    {
     "data": {
      "text/plain": [
       "0.3379607320070323"
      ]
     },
     "execution_count": 158,
     "metadata": {},
     "output_type": "execute_result"
    }
   ],
   "source": [
    "#rmse will be null for test set\n",
    "mean_squared_error(y_test, mean_y_test_array, squared = False)"
   ]
  },
  {
   "cell_type": "code",
   "execution_count": 159,
   "id": "caring-sweden",
   "metadata": {},
   "outputs": [
    {
     "name": "stdout",
     "output_type": "stream",
     "text": [
      "r2 = 0.2320421709881103\n",
      "rmse = 0.21612797693733687\n"
     ]
    }
   ],
   "source": [
    "#now make predictions for train data from the model\n",
    "y_train_pred = lr.predict(X_train)\n",
    "evaluate_model(X_train, y_train, y_train_pred)"
   ]
  },
  {
   "cell_type": "code",
   "execution_count": 160,
   "id": "generous-hormone",
   "metadata": {},
   "outputs": [
    {
     "name": "stdout",
     "output_type": "stream",
     "text": [
      "r2 = -0.19415825124777664\n",
      "rmse = 0.3693152013811405\n"
     ]
    }
   ],
   "source": [
    "#now make predictions for test data from the model\n",
    "y_test_pred = lr.predict(X_test)\n",
    "evaluate_model(X_test, y_test, y_test_pred)"
   ]
  },
  {
   "cell_type": "code",
   "execution_count": 161,
   "id": "lyric-cannon",
   "metadata": {},
   "outputs": [],
   "source": [
    "test_df = mega_df_weekly[['Daily_Avg','fracs_per_day', 'volume_per_day', 'avg_volh2o_per_ft']]"
   ]
  },
  {
   "cell_type": "code",
   "execution_count": 162,
   "id": "valid-pillow",
   "metadata": {},
   "outputs": [
    {
     "data": {
      "image/png": "[encoded data removed]",
      "text/plain": [
       "<Figure size 720x720 with 14 Axes>"
      ]
     },
     "metadata": {
      "needs_background": "light"
     },
     "output_type": "display_data"
    }
   ],
   "source": [
    "sns.pairplot(test_df, corner = True);"
   ]
  },
  {
   "cell_type": "code",
   "execution_count": 163,
   "id": "simple-grace",
   "metadata": {},
   "outputs": [],
   "source": [
    "test_df2 = test_df[test_df['Daily_Avg'] != 0]"
   ]
  },
  {
   "cell_type": "code",
   "execution_count": 164,
   "id": "electrical-background",
   "metadata": {},
   "outputs": [
    {
     "data": {
      "image/png": "[encoded data removed]",
      "text/plain": [
       "<Figure size 720x720 with 14 Axes>"
      ]
     },
     "metadata": {
      "needs_background": "light"
     },
     "output_type": "display_data"
    }
   ],
   "source": [
    "sns.pairplot(test_df2, corner = True);"
   ]
  },
  {
   "cell_type": "code",
   "execution_count": null,
   "id": "representative-physics",
   "metadata": {},
   "outputs": [],
   "source": []
  },
  {
   "cell_type": "code",
   "execution_count": null,
   "id": "national-discovery",
   "metadata": {},
   "outputs": [],
   "source": []
  },
  {
   "cell_type": "code",
   "execution_count": null,
   "id": "foster-auction",
   "metadata": {},
   "outputs": [],
   "source": []
  },
  {
   "cell_type": "code",
   "execution_count": null,
   "id": "domestic-supply",
   "metadata": {},
   "outputs": [],
   "source": []
  },
  {
   "cell_type": "code",
   "execution_count": null,
   "id": "maritime-newspaper",
   "metadata": {},
   "outputs": [],
   "source": []
  }
 ],
 "metadata": {
  "kernelspec": {
   "display_name": "Python 3",
   "language": "python",
   "name": "python3"
  },
  "language_info": {
   "codemirror_mode": {
    "name": "ipython",
    "version": 3
   },
   "file_extension": ".py",
   "mimetype": "text/x-python",
   "name": "python",
   "nbconvert_exporter": "python",
   "pygments_lexer": "ipython3",
   "version": "3.8.5"
  }
 },
 "nbformat": 4,
 "nbformat_minor": 5
}
